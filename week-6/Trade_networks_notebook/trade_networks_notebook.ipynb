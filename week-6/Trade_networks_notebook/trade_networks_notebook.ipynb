{
 "cells": [
  {
   "attachments": {},
   "cell_type": "markdown",
   "metadata": {
    "id": "mZ6RtZIkhRU7"
   },
   "source": [
    "### DSTA\n",
    "\n",
    "\n",
    "#### Chapter II - International Trade Networks and World Trade Web\n",
    "\n",
    "##### This lab notebook is taken from the notebook for Ch. 2 of Caldarelli-Cheesa's textbook (CC).\n",
    "\n",
    "There is only one question, which is about visualising the trade network rooted in the UK.\n",
    "\n",
    "Please see the [class repo](https://github.com/ale66/learn-datascience/tree/main/week-6/Trade_networks_notebook) for a local image of the data.\n"
   ]
  },
  {
   "cell_type": "markdown",
   "source": [
    "### Downloading the datasets from Comtrade\n",
    "\n",
    "#### Starting from the [Comtrade](http://comtrade.un.org/) web site it is possible to download the datasets related to the International Trade.\n",
    "\n",
    "#### Starting from the [Express Selection](http://comtrade.un.org/db/dqQuickQuery.aspx) interface that you can reach through the path:\n",
    "* comtrade.un.org/Legacy Annual\n",
    "* data/Data Query/Express Selection\n",
    "\n",
    "#### It is possible to get Comtrade data related to 'Total' transactions ('Import' and 'Export') among 'All' countries for a specific year, in our case 2003.\n",
    "\n",
    "#### (For specific products, instead of total put the code. For example 93 for Arms)"
   ],
   "metadata": {
    "collapsed": false
   }
  },
  {
   "cell_type": "code",
   "execution_count": null,
   "metadata": {
    "colab": {
     "base_uri": "https://localhost:8080/",
     "height": 971
    },
    "id": "WwUldxWYhRVA",
    "outputId": "c1dc7ae3-8963-41cc-a77c-b56dd631ecc0",
    "pycharm": {
     "is_executing": true
    }
   },
   "outputs": [],
   "source": [
    "from IPython.display import Image\n",
    "\n",
    "FILE = './imgs/comtrade-2024-land.png'\n",
    "Image(filename=FILE)"
   ]
  },
  {
   "cell_type": "code",
   "execution_count": null,
   "metadata": {
    "colab": {
     "base_uri": "https://localhost:8080/",
     "height": 722
    },
    "id": "3IeDiiJUhRVC",
    "outputId": "897dd45f-0eaa-4e08-d87e-b7ee9009fe3a",
    "pycharm": {
     "is_executing": true
    }
   },
   "outputs": [],
   "source": [
    "FILE2 = './imgs/comtrade-2024-search.png'\n",
    "Image(filename=FILE2)"
   ]
  },
  {
   "attachments": {},
   "cell_type": "markdown",
   "metadata": {
    "id": "TX_rBxPHhRVC"
   },
   "source": [
    "#### From the class repo all CSV files for 2003 can be obtained through the link 'Direct Download'"
   ]
  },
  {
   "attachments": {},
   "cell_type": "markdown",
   "metadata": {
    "id": "kJuYwSHEhRVC"
   },
   "source": []
  },
  {
   "cell_type": "code",
   "execution_count": 22,
   "metadata": {
    "colab": {
     "base_uri": "https://localhost:8080/"
    },
    "id": "kb7tNtohhRVD",
    "outputId": "307c2513-f7fc-44eb-a884-c267115d7bd2"
   },
   "outputs": [],
   "source": [
    "# uncomment for lin/colab execution:\n",
    "# %ls data/comtrade_trade*\n",
    "\n",
    "# uncomment for win execution\n",
    "# !dir data/comtrade_trade*"
   ]
  },
  {
   "attachments": {},
   "cell_type": "markdown",
   "metadata": {
    "id": "dfL89ltWhRVD"
   },
   "source": [
    "### Check the data file"
   ]
  },
  {
   "cell_type": "code",
   "execution_count": null,
   "metadata": {
    "colab": {
     "base_uri": "https://localhost:8080/"
    },
    "id": "nrth652ZhRVE",
    "outputId": "72da313f-ab73-4005-ee93-ed7d7768770c",
    "pycharm": {
     "is_executing": true
    }
   },
   "outputs": [],
   "source": [
    "# lin/colab only command!\n",
    "!head data/comtrade_trade_data_2003_product_09.csv"
   ]
  },
  {
   "attachments": {},
   "cell_type": "markdown",
   "metadata": {
    "id": "dfrN2MSchRVE"
   },
   "source": [
    "### Special 'Country codes' to be exluded when loading data"
   ]
  },
  {
   "attachments": {},
   "cell_type": "markdown",
   "metadata": {
    "id": "0lGzdJrOhRVE"
   },
   "source": [
    "* 472\tAfrica CAMEU region, nes\n",
    "* 899\tAreas, nes\n",
    "* 471\tCACM, nes\n",
    "* 129\tCaribbean, nes\n",
    "* 221\tEastern Europe, nes\n",
    "* 97\t EU-27\n",
    "* 697\tEurope EFTA, nes\n",
    "* 492\tEurope EU, nes\n",
    "* 838\tFree Zones\n",
    "* 473\tLAIA, nes\n",
    "* 536\tNeutral Zone\n",
    "* 637\tNorth America and Central America, nes\n",
    "* 290\tNorthern Africa, nes\n",
    "* 527\tOceania, nes\n",
    "* 577\tOther Africa, nes\n",
    "* 490\tOther Asia, nes\n",
    "* 568\tOther Europe, nes\n",
    "* 636\tRest of America, nes\n",
    "* 839\tSpecial Categories\n",
    "* 879\tWestern Asia, nes\n",
    "* 0      World\n"
   ]
  },
  {
   "attachments": {},
   "cell_type": "markdown",
   "metadata": {
    "id": "mDUfSEN3hRVF"
   },
   "source": [
    "## Network Symmetrisation"
   ]
  },
  {
   "cell_type": "code",
   "execution_count": 24,
   "metadata": {
    "id": "-u_Od78LmBOm"
   },
   "outputs": [],
   "source": [
    "# Import packages\n",
    "import networkx as nx\n",
    "import numpy as np\n",
    "from matplotlib import pyplot as plt"
   ]
  },
  {
   "cell_type": "code",
   "execution_count": 25,
   "metadata": {
    "id": "wml9jWpdhRVF"
   },
   "outputs": [],
   "source": [
    "def net_symmetrisation(\n",
    "    input_file: str,\n",
    "        excluded_countries: list[int]\n",
    ") -> nx.DiGraph:\n",
    "    \"\"\"\n",
    "    Network symmetrisation: Described in section 2.3 of\n",
    "    chapter 2 in Caldarelli's book.\n",
    "\n",
    "    :param input_file: Input file path.\n",
    "    :param excluded_countries: List of integers indicating\n",
    "    codes of countries to be excluded.\n",
    "\n",
    "    :return: The symmetrised directed graph.\n",
    "    \"\"\"\n",
    "    dir_graph = nx.DiGraph()\n",
    "\n",
    "    # Column Indexes\n",
    "    reporter_pos = 1\n",
    "    partner_pos = 3\n",
    "    flow_code_pos = 2\n",
    "    value_pos = 9\n",
    "\n",
    "    # Parse file and create directed graph\n",
    "    dic_trade_flows = {}\n",
    "    hfile = open(input_file,'r')\n",
    "\n",
    "    # Skip the first row (data header)\n",
    "    _ = hfile.readline()\n",
    "    lines = hfile.readlines()\n",
    "\n",
    "    for l in lines:\n",
    "        l_split = l.split(',')\n",
    "\n",
    "        # the following is to prevent parsing lines without data\n",
    "        if len(l_split) < 2:\n",
    "            continue\n",
    "\n",
    "        reporter = int(l_split[reporter_pos])\n",
    "        partner = int(l_split[partner_pos])\n",
    "        flow_code = int(l_split[flow_code_pos])\n",
    "        value = float(l_split[value_pos])\n",
    "\n",
    "        if any([\n",
    "            reporter in excluded_countries,\n",
    "            partner in excluded_countries,\n",
    "            reporter == partner\n",
    "            ]):\n",
    "            continue\n",
    "\n",
    "        # Flow code = 1: Import | Flow code = 2: Export\n",
    "        # Aggregation: export i -> j is not equal to import j -> i\n",
    "        # Therefore: Export ij = (Export ij + Import ji) / 2\n",
    "        if flow_code == 1 and value > 0.0:\n",
    "            if (partner, reporter, 2) in dic_trade_flows:\n",
    "                dir_graph[partner][reporter]['weight'] = \\\n",
    "                 (dir_graph[partner][reporter]['weight'] + value) / 2.0\n",
    "\n",
    "            else:\n",
    "                dir_graph.add_edge(partner, reporter, weight=value)\n",
    "\n",
    "                # This is to mark the existence of the link\n",
    "                dic_trade_flows[(partner, reporter, 1)] = value\n",
    "\n",
    "        elif flow_code == 2 and value > 0.0:\n",
    "            if  (reporter, partner, 1) in dic_trade_flows:\n",
    "                dir_graph[reporter][partner]['weight'] = \\\n",
    "                 (dir_graph[reporter][partner]['weight'] + value) / 2.0\n",
    "\n",
    "            else:\n",
    "                dir_graph.add_edge(reporter, partner, weight=value)\n",
    "\n",
    "                # This is to mark the existence of the link\n",
    "                dic_trade_flows[(reporter, partner, 2)] = value\n",
    "        else:\n",
    "            print (\"trade flow not present\\n\")\n",
    "\n",
    "    hfile.close()\n",
    "    return dir_graph"
   ]
  },
  {
   "attachments": {},
   "cell_type": "markdown",
   "metadata": {
    "id": "PpOwYdD5hRVF"
   },
   "source": [
    "## Generate the aggregate network\n",
    "### Q1. Generate an undirected  trade network for UK using country code: 826"
   ]
  },
  {
   "cell_type": "code",
   "execution_count": null,
   "metadata": {
    "colab": {
     "base_uri": "https://localhost:8080/",
     "height": 620
    },
    "id": "vtW_g4B4hRVF",
    "outputId": "1fac16c2-a8d3-4cdf-f859-b543151bd283",
    "pycharm": {
     "is_executing": true
    }
   },
   "outputs": [],
   "source": [
    "# Countries to be excluded\n",
    "excluded_codes = [\n",
    "    472, 899, 471, 129, 221, 97, 697, 492, 838, 473,\n",
    "    536, 637, 290, 527, 577, 490, 568, 636, 839, 879, 0\n",
    "    ]\n",
    "\n",
    "# This is the magic command to have the graphic embedded\n",
    "# in the notebook\n",
    "%pylab inline\n",
    "\n",
    "total_data_csv = \"data/comtrade_trade_data_total_2003.csv\"\n",
    "graph = net_symmetrisation(total_data_csv, excluded_codes)\n",
    "\n",
    "print(\"number of nodes\", graph.number_of_nodes())\n",
    "print(\"number of edges\", graph.number_of_edges())\n",
    "\n",
    "# Create graph for the UK - UK country code is 826\n",
    "uk_code = 826\n",
    "uk_graph = nx.Graph()\n",
    "uk_graph.add_nodes_from([uk_code])\n",
    "\n",
    "# Create edges and add them\n",
    "edges = [(uk_code, key) for key in graph.__getitem__(uk_code)]\n",
    "uk_graph.add_edges_from(edges)\n",
    "nx.draw(uk_graph, with_labels=True)"
   ]
  },
  {
   "attachments": {},
   "cell_type": "markdown",
   "metadata": {
    "id": "QIHafhJ6hRVG"
   },
   "source": [
    "## Reciprocity"
   ]
  },
  {
   "attachments": {},
   "cell_type": "markdown",
   "metadata": {
    "id": "WK-4d2bvhRVG"
   },
   "source": [
    "We can define both the reciprocity in the unweighted case as:\n",
    "$$r=\\frac{L^\\leftrightarrow}{L}$$\n",
    "where $${L^\\leftrightarrow}$$ is the number of reciprocated links that for a connected network ammounts to $$2L-N(N-1)$$\n"
   ]
  },
  {
   "cell_type": "code",
   "execution_count": null,
   "metadata": {
    "colab": {
     "base_uri": "https://localhost:8080/"
    },
    "id": "i1pNBehdhRVG",
    "outputId": "7c29e32d-2e3a-4324-d103-5b96f6e31eb9",
    "pycharm": {
     "is_executing": true
    }
   },
   "outputs": [],
   "source": [
    "# Unweighted case\n",
    "N = graph.number_of_nodes()\n",
    "L = graph.number_of_edges()\n",
    "\n",
    "r = float((2*L - N*(N - 1))) / L\n",
    "print(round(r, 4))"
   ]
  },
  {
   "attachments": {},
   "cell_type": "markdown",
   "metadata": {
    "id": "9s3cTXzChRVH"
   },
   "source": [
    "In the weighted case the formula changes in:\n",
    "\n",
    "$$r=\\frac{W^\\leftrightarrow}{W}$$\n",
    "\n",
    "where \n",
    "\n",
    "$$W^\\leftrightarrow=\\sum_i\\sum_{j\\neq i}w^\\leftrightarrow_{ij}$$ \n",
    "\n",
    "is the sum of the reciprocated weights with \n",
    "\n",
    "$$w^\\leftrightarrow_{ij}=min[w_{ij},w_{ji}]=w^\\leftrightarrow_{ji}$$\n",
    "\n",
    "and $$W=\\sum_i\\sum_{j\\neq i}w_{ij}.$$"
   ]
  },
  {
   "cell_type": "code",
   "execution_count": null,
   "metadata": {
    "colab": {
     "base_uri": "https://localhost:8080/"
    },
    "id": "GJjnz6MDhRVH",
    "outputId": "7f9d3b39-28c8-4b2b-fa70-536f3de215fc",
    "pycharm": {
     "is_executing": true
    }
   },
   "outputs": [],
   "source": [
    "# Weighted case\n",
    "W = 0\n",
    "W_rep = 0\n",
    "\n",
    "for n in graph.nodes():\n",
    "    for e in graph.out_edges(n, data=True):\n",
    "        W += e[2]['weight']\n",
    "        if graph.has_edge(e[1], e[0]):\n",
    "            W_rep += min([\n",
    "                graph[e[0]][e[1]]['weight'],\n",
    "                graph[e[1]][e[0]]['weight']\n",
    "            ])\n",
    "\n",
    "print(W, W_rep, W_rep / W)"
   ]
  },
  {
   "cell_type": "code",
   "execution_count": null,
   "metadata": {
    "colab": {
     "base_uri": "https://localhost:8080/",
     "height": 534
    },
    "id": "T1rqxpSEFZKt",
    "outputId": "9892c231-bd41-48d5-931e-1902cbcd7c74",
    "pycharm": {
     "is_executing": true
    }
   },
   "outputs": [],
   "source": [
    "# Assortativity with neighbor nodes degree\n",
    "list_knn = []\n",
    "\n",
    "for n in graph.nodes():\n",
    "    degree = 0\n",
    "\n",
    "    for nn in graph.neighbors(n):\n",
    "        degree += graph.degree(nn)\n",
    "    list_knn.append(degree / len(list(graph.neighbors(n))))\n",
    "\n",
    "# plot the histogram\n",
    "plt.hist(list_knn, bins=12)\n",
    "plt.xlabel(\"Average Neighbor Degree\")\n",
    "plt.ylabel(\"Number of Countries\")\n",
    "plt.title(\"Histogram of Average Neighbor Degree\")\n",
    "plt.show()"
   ]
  },
  {
   "cell_type": "code",
   "execution_count": null,
   "metadata": {
    "colab": {
     "base_uri": "https://localhost:8080/"
    },
    "id": "hm2y7VDShRVH",
    "outputId": "9fc70040-0ab2-40fd-a77c-44e9e164f0f4",
    "pycharm": {
     "is_executing": true
    }
   },
   "outputs": [],
   "source": [
    "# Basic Pearson correlation coefficient for the graph\n",
    "r = nx.degree_assortativity_coefficient(graph)\n",
    "print(round(r, 4))"
   ]
  },
  {
   "attachments": {},
   "cell_type": "markdown",
   "metadata": {
    "id": "sKfBiyNahRVI"
   },
   "source": [
    "### To compute the weighted version of the assortativity Networkx has extra parameters and also the possibility to decide for 'out' or 'in' degree correlations both for the source and target nodes (the default is x='out', y='in')"
   ]
  },
  {
   "cell_type": "code",
   "execution_count": null,
   "metadata": {
    "colab": {
     "base_uri": "https://localhost:8080/"
    },
    "id": "oxneN_QvhRVI",
    "outputId": "2b54633f-1b2c-4343-f2da-eb444f9376d6",
    "pycharm": {
     "is_executing": true
    }
   },
   "outputs": [],
   "source": [
    "# Weighted version\n",
    "r = nx.degree_pearson_correlation_coefficient(\n",
    "    graph, weight='weight', x='out', y='out'\n",
    "    )\n",
    "\n",
    "print(round(r, 4))"
   ]
  },
  {
   "attachments": {},
   "cell_type": "markdown",
   "metadata": {
    "id": "Fc13So-RhRVJ"
   },
   "source": [
    "## Density and Strength (in and out)"
   ]
  },
  {
   "attachments": {},
   "cell_type": "markdown",
   "metadata": {
    "id": "efU9JBWDhRVJ"
   },
   "source": [
    "### Load Product Networks"
   ]
  },
  {
   "cell_type": "code",
   "execution_count": 32,
   "metadata": {
    "id": "0r-nfLmdhRVJ"
   },
   "outputs": [],
   "source": [
    "product_nets_dict = {}\n",
    "commodity_codes = [\n",
    "    '09','10','27','29','30','39','52',\n",
    "    '71','72','84','85','87','90','93'\n",
    "    ]\n",
    "\n",
    "for c in commodity_codes:\n",
    "    csv_file = \"data/comtrade_trade_data_2003_product_\" + c + \".csv\"\n",
    "    product_nets_dict[c] = net_symmetrisation(csv_file, excluded_codes)\n",
    "\n",
    "# Recreate symmetrised directed graph\n",
    "total_data_csv = \"data/comtrade_trade_data_total_2003.csv\"\n",
    "aggr_graph = net_symmetrisation(total_data_csv, excluded_codes)"
   ]
  },
  {
   "attachments": {},
   "cell_type": "markdown",
   "metadata": {
    "id": "bw1pa16OhRVK"
   },
   "source": [
    "### Rescale the weighted ajacency aggregate matrix\n",
    "$$w_{ij}^{tot}=\\frac{ w_{ij}^{tot} }{ \\sum_{hk}w_{hk}^{tot} }$$"
   ]
  },
  {
   "cell_type": "code",
   "execution_count": 33,
   "metadata": {
    "id": "2Q2rdde2hRVK"
   },
   "outputs": [],
   "source": [
    "# Rescale the weights\n",
    "w_tot = 0.0\n",
    "\n",
    "for u, v, d  in aggr_graph.edges(data=True):\n",
    "    w_tot += d['weight']\n",
    "\n",
    "for u, v, d in aggr_graph.edges(data=True):\n",
    "    d['weight'] = d['weight'] / w_tot"
   ]
  },
  {
   "attachments": {},
   "cell_type": "markdown",
   "metadata": {
    "id": "QIuo06yVhRVK"
   },
   "source": [
    "#### Rescale the weighted adjacency product matrices\n",
    "\n",
    "$$w_{ij}^c=\\frac{w_{ij}^c}{\\sum_{hk}w_{hk}^c}$$"
   ]
  },
  {
   "cell_type": "code",
   "execution_count": 34,
   "metadata": {
    "id": "ckapq3F9hRVK"
   },
   "outputs": [],
   "source": [
    "# Rescale the weights for the products\n",
    "for c in commodity_codes:\n",
    "    l_p = []\n",
    "    w_tot = 0.0\n",
    "\n",
    "    for u, v, d in product_nets_dict[c].edges(data=True):\n",
    "        w_tot += d['weight']\n",
    "\n",
    "    for u,v,d in product_nets_dict[c].edges(data=True):\n",
    "        d['weight'] = d['weight'] / w_tot"
   ]
  },
  {
   "attachments": {},
   "cell_type": "markdown",
   "metadata": {
    "id": "P6eHZytkhRVK"
   },
   "source": [
    "#### Generate the table with the quantities\n",
    "\n",
    "Here a rather cumbersome code computes the *densities* defined as follows:\n",
    "\n",
    "for each relationship $w_{ij}$ we compute its fraction of the import, $\\frac{NS_{in}}{ND_{in}}$, divided by its fraction of the export, $\\frac{NS_{out}}{ND_{out}}$.\n",
    "\n",
    "No need to go over the code line-by-line."
   ]
  },
  {
   "cell_type": "code",
   "execution_count": null,
   "metadata": {
    "colab": {
     "base_uri": "https://localhost:8080/"
    },
    "id": "EdFTYhllhRVK",
    "outputId": "4c271390-cce7-4942-ce14-81254f7afe7b",
    "scrolled": true,
    "pycharm": {
     "is_executing": true
    }
   },
   "outputs": [],
   "source": [
    "aggr_n_edges = aggr_graph.number_of_edges()\n",
    "aggr_n_nodes = aggr_graph.number_of_nodes()\n",
    "density_aggregate = aggr_n_edges / (aggr_n_nodes * (aggr_n_nodes - 1.0))\n",
    "\n",
    "w_agg = []\n",
    "NS_in = []\n",
    "NS_out = []\n",
    "\n",
    "for u, v, d in aggr_graph.edges(data=True):\n",
    "    w_agg.append(d['weight'])\n",
    "\n",
    "for n in aggr_graph.nodes():\n",
    "    if aggr_graph.in_degree(n) > 0:\n",
    "\n",
    "        incoming_weight_sum = aggr_graph.in_degree(n, weight='weight')\n",
    "        incoming_degree = aggr_graph.in_degree(n)\n",
    "\n",
    "        NS_in.append(incoming_weight_sum / incoming_degree)\n",
    "\n",
    "    if aggr_graph.out_degree(n) > 0:\n",
    "\n",
    "        outcoming_weight_sum = aggr_graph.out_degree(n, weight='weight')\n",
    "        outcoming_degree = aggr_graph.out_degree(n)\n",
    "\n",
    "        NS_out.append(outcoming_weight_sum / outcoming_degree)\n",
    "\n",
    "for c in commodity_codes:\n",
    "    n_edges = product_nets_dict[c].number_of_edges()\n",
    "    n_nodes = product_nets_dict[c].number_of_nodes()\n",
    "\n",
    "    density_commodity = n_edges / (n_nodes * (n_nodes - 1.0))\n",
    "\n",
    "    w_c = []\n",
    "    NS_c_in = []\n",
    "    NS_c_out = []\n",
    "\n",
    "    for u, v, d  in product_nets_dict[c].edges(data=True):\n",
    "        w_c.append(d['weight'])\n",
    "\n",
    "    for n in product_nets_dict[c].nodes():\n",
    "        if product_nets_dict[c].in_degree(n) > 0:\n",
    "\n",
    "            incoming_weight_sum = product_nets_dict[c].in_degree(n, weight='weight')\n",
    "            incoming_degree = product_nets_dict[c].in_degree(n)\n",
    "\n",
    "            NS_c_in.append(incoming_weight_sum / incoming_degree)\n",
    "\n",
    "        if product_nets_dict[c].out_degree(n) > 0:\n",
    "\n",
    "            outcoming_weight_sum = product_nets_dict[c].out_degree(n, weight='weight')\n",
    "            outcoming_degree = product_nets_dict[c].out_degree(n)\n",
    "\n",
    "            NS_c_out.append(outcoming_weight_sum / outcoming_degree)\n",
    "\n",
    "    print(c, str(round(density_commodity / density_aggregate, 4)) + \" & \" + \\\n",
    "          str(round(np.mean(w_c) / np.mean(w_agg), 4)) + \" & \" + \\\n",
    "          str(round(np.mean(NS_c_in) / np.mean(NS_in), 4)) + \" & \" + \\\n",
    "          str(round(np.mean(NS_c_out) / np.mean(NS_out), 4)))\n"
   ]
  },
  {
   "attachments": {},
   "cell_type": "markdown",
   "metadata": {
    "id": "PpAXVvUUhRVK"
   },
   "source": [
    "#### Balassa's Revealed Comparative Advantage\n",
    "\n",
    "\n",
    "Please see the formula on the textbook and read the code to understand how it has been implemented.\n",
    "\n",
    "Let's begin by setting up a specific country and product."
   ]
  },
  {
   "cell_type": "code",
   "execution_count": 36,
   "metadata": {},
   "outputs": [],
   "source": [
    "# Arms & ammunition\n",
    "product = '93'\n",
    "\n",
    "# contry Republic of Serbia\n",
    "country = 381"
   ]
  },
  {
   "cell_type": "code",
   "execution_count": null,
   "metadata": {
    "colab": {
     "base_uri": "https://localhost:8080/"
    },
    "id": "vKJHhf5FhRVL",
    "outputId": "9890bd15-6a8c-41ac-81ee-cd347582bc85",
    "pycharm": {
     "is_executing": true
    }
   },
   "outputs": [],
   "source": [
    "def rev_comp_advantage(c_code: int, p_code: str) -> float:\n",
    "    \"\"\"\n",
    "    :param c_code: A country code\n",
    "    :param p_code: A product code\n",
    "\n",
    "    :return rca_cp: Revealed Comparative Advantage for\n",
    "    the input country - product pair\n",
    "    \"\"\"\n",
    "    # Country c product p export value\n",
    "    x_cp = product_nets_dict[p_code].out_degree(c_code, weight='weight')\n",
    "\n",
    "    # Country total export value\n",
    "    x_c = aggr_graph.out_degree(c_code, weight='weight')\n",
    "\n",
    "    # Total product p export value\n",
    "    x_p = 0.0\n",
    "    for node in product_nets_dict[p_code].nodes():\n",
    "        x_p += product_nets_dict[p_code].out_degree(node, weight='weight')\n",
    "\n",
    "    # Total exports\n",
    "    x_tot = 0.0\n",
    "    for node in aggr_graph.nodes():\n",
    "        x_tot += aggr_graph.out_degree(node, weight='weight')\n",
    "\n",
    "    rca_cp = (x_cp / x_c) / (x_p / x_tot)\n",
    "    return round(rca_cp, 4)\n",
    "\n",
    "\n",
    "print(rev_comp_advantage(country, product))"
   ]
  },
  {
   "attachments": {},
   "cell_type": "markdown",
   "metadata": {
    "id": "lhLDbC9yhRVL"
   },
   "source": [
    "### Bipartite Networks"
   ]
  },
  {
   "attachments": {},
   "cell_type": "markdown",
   "metadata": {
    "id": "XzgEIESahRVL"
   },
   "source": [
    "#### Define the country-product matrix"
   ]
  },
  {
   "cell_type": "code",
   "execution_count": null,
   "metadata": {
    "colab": {
     "base_uri": "https://localhost:8080/"
    },
    "id": "wHYD8eGWhRVL",
    "outputId": "f0ea6e9b-dda2-4109-81b2-1d2e936ef761",
    "pycharm": {
     "is_executing": true
    }
   },
   "outputs": [],
   "source": [
    "num_countries = aggr_graph.number_of_nodes()\n",
    "num_products = len(commodity_codes)\n",
    "\n",
    "# Generate array indices\n",
    "country_index = {}\n",
    "i = 0\n",
    "\n",
    "for c in aggr_graph.nodes():\n",
    "    country_index[c] = i\n",
    "    i += 1\n",
    "\n",
    "M = np.zeros((num_countries, num_products))\n",
    "\n",
    "for pos_p, p in enumerate(commodity_codes):\n",
    "    for c in product_nets_dict[p].nodes():\n",
    "\n",
    "        if rev_comp_advantage(c, p) > 1.0:\n",
    "            M[country_index[c]][pos_p] = 1.0\n",
    "\n",
    "    print(\"\\r\")\n",
    "\n",
    "C = np.dot(M, M.transpose())\n",
    "P = np.dot(M.transpose(), M)\n",
    "\n",
    "print(C)\n",
    "print(P)"
   ]
  }
 ],
 "metadata": {
  "colab": {
   "provenance": []
  },
  "kernelspec": {
   "display_name": "Python 3",
   "language": "python",
   "name": "python3"
  },
  "language_info": {
   "codemirror_mode": {
    "name": "ipython",
    "version": 3
   },
   "file_extension": ".py",
   "mimetype": "text/x-python",
   "name": "python",
   "nbconvert_exporter": "python",
   "pygments_lexer": "ipython3",
   "version": "3.13.3"
  }
 },
 "nbformat": 4,
 "nbformat_minor": 0
}