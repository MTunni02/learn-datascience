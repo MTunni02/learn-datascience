{
 "cells": [
  {
   "cell_type": "markdown",
   "metadata": {
    "collapsed": false
   },
   "source": [
    "## Singular-value decomposition\n",
    "\n",
    "### Implementation and appplication\n",
    "\n",
    "This notebook i) introduces the main practical aspects of computing the SVD of rectangular matrices, ii) runs examples applications and iii) shows a visual assessment of the error introduced by matrix decomposition."
   ]
  },
  {
   "cell_type": "markdown",
   "metadata": {
    "collapsed": false
   },
   "source": [
    "#### SVD example\n",
    "\n",
    "Today SVD is available from the `scipy` Python module, namely `scipy.linalg.svd`.\n",
    "\n",
    "Let's see how it works on our example activity matrix. "
   ]
  },
  {
   "cell_type": "markdown",
   "metadata": {},
   "source": [
    "![](https://github.com/ale66/learn-datascience/blob/main/week-1/notation_maths/imgs/activity_matrix.png?raw=true)\n"
   ]
  },
  {
   "cell_type": "markdown",
   "metadata": {},
   "source": [
    "$\\mathbf{A} = \\begin{pmatrix}\n",
    "1 & 1 & 1 & 0 & 0 \\\\\n",
    "3 & 3 & 3 & 0 & 0 \\\\\n",
    "4 & 4 & 4 & 0 & 0 \\\\\n",
    "5 & 5 & 5 & 0 & 0 \\\\\n",
    "0 & 0 & 0 & 4 & 4 \\\\\n",
    "0 & 0 & 0 & 5 & 5 \\\\\n",
    "0 & 0 & 0 & 2 & 2\n",
    "\\end{pmatrix}$"
   ]
  },
  {
   "cell_type": "markdown",
   "metadata": {
    "collapsed": false
   },
   "source": [
    "#### Import modules and prepare data"
   ]
  },
  {
   "cell_type": "code",
   "execution_count": 21,
   "metadata": {
    "collapsed": false,
    "pycharm": {
     "name": "#%%\n"
    }
   },
   "outputs": [],
   "source": [
    "import numpy as np\n"
   ]
  },
  {
   "cell_type": "code",
   "execution_count": 22,
   "metadata": {},
   "outputs": [],
   "source": [
    "m = 7\n",
    "n = 5\n",
    "\n",
    "A = np.array([[1,1,1,0,0],\n",
    "     [3,3,3,0,0], \n",
    "     [4,4,4,0,0], \n",
    "     [5,5,5,0,0], \n",
    "     [0,0,0,4,4], \n",
    "     [0,0,0,5,5], \n",
    "     [0,0,0,2,2]\n",
    "     ],\n",
    "     dtype=int\n",
    "    )\n"
   ]
  },
  {
   "cell_type": "code",
   "execution_count": 23,
   "metadata": {},
   "outputs": [],
   "source": [
    "from scipy.linalg import svd"
   ]
  },
  {
   "cell_type": "markdown",
   "metadata": {},
   "source": [
    "Now, the `numpy` function performs the SVD decomposition $A = U D V^T$. \n"
   ]
  },
  {
   "cell_type": "code",
   "execution_count": 24,
   "metadata": {
    "collapsed": false,
    "pycharm": {
     "name": "#%%\n"
    }
   },
   "outputs": [],
   "source": [
    "# Check scipy documentation\n",
    "U, singular_vals, V_t = svd(A)"
   ]
  },
  {
   "cell_type": "markdown",
   "metadata": {},
   "source": [
    "The second element is not a diagonal matrix, but a vector of singular values; so we will create D below"
   ]
  },
  {
   "cell_type": "markdown",
   "metadata": {
    "collapsed": false
   },
   "source": [
    "##### Let's visualise the result"
   ]
  },
  {
   "cell_type": "code",
   "execution_count": null,
   "metadata": {
    "collapsed": false,
    "pycharm": {
     "name": "#%%\n"
    }
   },
   "outputs": [],
   "source": [
    "# notice the Numpy piecewise division\n",
    "U_truncated = np.trunc(U * 100) / 100\n",
    "\n",
    "print(f'U (truncated to 2 decimals)=\\n{U_truncated}')\n"
   ]
  },
  {
   "cell_type": "markdown",
   "metadata": {},
   "source": [
    "Let's build the central matrix, which has the same shape as the original matrix. \n",
    "\n",
    "Some rows might be zero: the respective eigenvalue was zero."
   ]
  },
  {
   "cell_type": "code",
   "execution_count": null,
   "metadata": {
    "collapsed": false,
    "pycharm": {
     "name": "#%%\n",
     "is_executing": true
    }
   },
   "outputs": [],
   "source": [
    "# put the singular values into the diagonal\n",
    "D = np.zeros((m, n), dtype=float)\n",
    "\n",
    "for i in range(min(m, n)):\n",
    "    D[i,i] = singular_vals[i]\n",
    "\n",
    "print(D.shape)\n",
    "\n",
    "D_truncated = np.trunc(D * 1000) / 1000\n",
    "\n",
    "print(f'D (truncated to 3 decimals)=\\n{D_truncated}')"
   ]
  },
  {
   "cell_type": "code",
   "execution_count": null,
   "metadata": {
    "collapsed": false,
    "pycharm": {
     "name": "#%%\n",
     "is_executing": true
    }
   },
   "outputs": [],
   "source": [
    "V_t_truncated = np.trunc(V_t * 100) / 100\n",
    "\n",
    "print(f'V^T (truncated to 2 decimals)=\\n{V_t_truncated}')"
   ]
  },
  {
   "cell_type": "markdown",
   "metadata": {
    "collapsed": false
   },
   "source": [
    "#### How much numerical error was introduced?\n",
    "\n",
    "This is a tiny matrix of integeers, so we hope that the SVD decomposition will work well."
   ]
  },
  {
   "cell_type": "code",
   "execution_count": null,
   "metadata": {
    "pycharm": {
     "is_executing": true
    }
   },
   "outputs": [],
   "source": [
    "A_reconstructed = np.dot(U, np.dot(D, V_t))\n",
    "\n",
    "A_reconstructed_trunc = np.trunc(A_reconstructed * 1000) / 1000\n",
    "\n",
    "print(f'A_reconstructed (truncated to 3 decimals)=\\n{A_reconstructed_trunc}')\n"
   ]
  },
  {
   "cell_type": "markdown",
   "metadata": {},
   "source": [
    "### Value estimation (with the Moore-Penrose pseudo-inverse)\n",
    "\n",
    "Thanks to the SVD, the Moore-Penrose pseudo-inverse can be computed and deployed to estimate the values of the missing entries in the matrix A. "
   ]
  },
  {
   "cell_type": "markdown",
   "metadata": {},
   "source": [
    "Remember the basic steps:\n",
    "\n",
    "$A\\vec{x} = \\vec{v}$\n",
    "\n",
    "$A^+A\\vec{x} = A^+\\vec{v}$\n",
    "\n",
    "$I\\vec{x} \\approx A^+\\vec{v}$\n",
    "\n",
    "We compute $A^+\\vec{v}$ and use it for value estimantion."
   ]
  },
  {
   "cell_type": "markdown",
   "metadata": {},
   "source": [
    "Thanks to the SVD, $A^+$ has simplified formulation:\n",
    "\n",
    "$A^+ = VD^+U^T$\n",
    "\n",
    "Thankfully, we have $V^T$ and $U$ from before, whereas $D^+$ is easily extracted from $D$: \n",
    "\n",
    "for each non-zero element $d_{ii}=\\sqrt{\\lambda_i}$ put its inverse $\\frac{1}{\\sqrt{\\lambda_i}}$ in the same position of $D^+$. \n",
    "\n",
    "Then fill the rest with 0."
   ]
  },
  {
   "cell_type": "markdown",
   "metadata": {},
   "source": [
    "$\\mathbf{D^+} = \\begin{pmatrix}\n",
    "\\frac{1}{\\sqrt{\\sigma_1}} & 0 & 0 & 0 & 0 \\\\\n",
    "0 & \\frac{1}{\\sqrt{\\sigma_2}} & 0 & 0 & 0 \\\\\n",
    "0 & 0 & 0 & 0 & 0 \\\\\n",
    "0 & 0 & 0 & 0 & 0 \\\\\n",
    "0 & 0 & 0 & 0 & 0 \\\\\n",
    "0 & 0 & 0 & 0 & 0 \\\\\n",
    "0 & 0 & 0 & 0 & 0\n",
    "\\end{pmatrix}$"
   ]
  },
  {
   "cell_type": "code",
   "execution_count": 29,
   "metadata": {},
   "outputs": [],
   "source": [
    "# These assignments are not striclty necessary, but hopefully will increase readability\n",
    "U_t = U.T\n",
    "\n",
    "V = V_t.T"
   ]
  },
  {
   "cell_type": "code",
   "execution_count": 30,
   "metadata": {},
   "outputs": [],
   "source": [
    "# construct the D+ of D\n",
    "\n",
    "D_plus = np.zeros((n, m), dtype=float)\n",
    "\n",
    "for i in range(min(m, n)):\n",
    "    \n",
    "    # use condition '> 1e-6' to avoid big values.\n",
    "    if D[i,i] != 0:\n",
    "        D_plus[i,i] = 1 / D[i,i]\n"
   ]
  },
  {
   "cell_type": "code",
   "execution_count": 31,
   "metadata": {},
   "outputs": [],
   "source": [
    "# we are ready to compute the pseudo-inverse\n",
    "A_plus = np.dot(V, np.dot(D_plus, U_t))\n"
   ]
  },
  {
   "cell_type": "markdown",
   "metadata": {},
   "source": [
    "Now value estimation begins"
   ]
  },
  {
   "cell_type": "code",
   "execution_count": 31,
   "metadata": {},
   "outputs": [],
   "source": []
  },
  {
   "cell_type": "markdown",
   "metadata": {},
   "source": [
    "We have a new user, Julia, who has not rated any of the items yet. \n",
    "\n",
    "Let's deploy SVD to estimate her ratings.\n",
    "\n",
    "The regression/value estimation is formulated as:\n",
    "\n",
    "$\\hat{y} = a_0 + a_1 x$ \n",
    "\n",
    "such that the error function is minimized on the known data points:\n",
    "\n",
    "$\\sum_{i=1}^m (y_i - \\hat{y}_i)^2$ \n"
   ]
  },
  {
   "cell_type": "markdown",
   "metadata": {},
   "source": [
    "To do so, we seek to minimise \n",
    "\n",
    "$A\\vec{x} - v$\n"
   ]
  },
  {
   "cell_type": "markdown",
   "metadata": {},
   "source": [
    "Thanks to SVD, the solution is simply:\n",
    "    \n",
    "$\\vec{x} = A^+\\vec{v}$"
   ]
  },
  {
   "cell_type": "code",
   "execution_count": null,
   "metadata": {
    "pycharm": {
     "is_executing": true
    }
   },
   "outputs": [],
   "source": [
    "x = np.dot(A_plus, A[:, -1].T)\n",
    "\n",
    "print(x)"
   ]
  },
  {
   "cell_type": "markdown",
   "metadata": {},
   "source": [
    "### Image factorization with SVD\n",
    "\n",
    "We know look at SVD of images.\n",
    "\n",
    "Idea: after SVD, drop the singular values with value 0 or very close to 0 and keep a reduced version of the image which nonetheless should be recognisable. \n",
    "\n",
    "This can be interpreted as the highest-value singular values (and their eigenvectors) capturing what is essential in the image.\n",
    "\n",
    "But how many singular values should we keep?"
   ]
  },
  {
   "cell_type": "code",
   "execution_count": 33,
   "metadata": {},
   "outputs": [],
   "source": [
    "import matplotlib.pyplot as plt\n",
    "\n",
    "from sklearn.datasets import fetch_olivetti_faces"
   ]
  },
  {
   "cell_type": "code",
   "execution_count": null,
   "metadata": {
    "pycharm": {
     "is_executing": true
    }
   },
   "outputs": [],
   "source": [
    "faces = fetch_olivetti_faces(shuffle=True, random_state=42)\n",
    "\n",
    "dir(faces)"
   ]
  },
  {
   "cell_type": "code",
   "execution_count": 35,
   "metadata": {},
   "outputs": [],
   "source": [
    "olivetti_images = faces.images\n",
    "\n",
    "image = None"
   ]
  },
  {
   "cell_type": "code",
   "execution_count": 36,
   "metadata": {},
   "outputs": [],
   "source": [
    "# define the size of the image matrix\n",
    "# (64, 64) pixels\n",
    "IMG_SIZE = 64\n",
    "\n",
    "ROWS = 4\n",
    "\n",
    "COLS = 3"
   ]
  },
  {
   "cell_type": "markdown",
   "source": [
    "#### Plot a sample of original images"
   ],
   "metadata": {
    "collapsed": false
   }
  },
  {
   "cell_type": "code",
   "execution_count": null,
   "metadata": {
    "pycharm": {
     "is_executing": true
    }
   },
   "outputs": [],
   "source": [
    "fig, axes = plt.subplots(nrows=ROWS, ncols=COLS, figsize=(10, 14))\n",
    "\n",
    "for ax, img in zip(axes.flat, olivetti_images):\n",
    "    image = ax.imshow(img, cmap=\"gray\")\n",
    "    fig.suptitle(\"A selection of Olivetti Faces\", size=16)\n",
    "    ax.axis(\"off\")\n",
    "\n",
    "if image is not None:\n",
    "    fig.colorbar(image, ax=axes, orientation=\"horizontal\", shrink=0.99, aspect=40, pad=0.01)\n",
    "    \n",
    "plt.show()"
   ]
  },
  {
   "cell_type": "markdown",
   "source": [
    "#### Plot the same images reconstructed with SVD"
   ],
   "metadata": {
    "collapsed": false
   }
  },
  {
   "cell_type": "code",
   "execution_count": null,
   "metadata": {
    "pycharm": {
     "is_executing": true
    }
   },
   "outputs": [],
   "source": [
    "fig, axes = plt.subplots(nrows=ROWS, ncols=COLS, figsize=(10, 14))\n",
    "\n",
    "for ax, img in zip(axes.flat, olivetti_images):\n",
    "    U, singular_vals, V_t = np.linalg.svd(img, full_matrices=False)\n",
    "    \n",
    "    # put the singular values into the diagonal\n",
    "    D = np.zeros((IMG_SIZE, IMG_SIZE), dtype=float)\n",
    "\n",
    "    for i in range(IMG_SIZE):\n",
    "        D[i,i] = singular_vals[i]\n",
    "\n",
    "    img_reconstructed = np.dot(U, np.dot(D, V_t))\n",
    "    \n",
    "    image = img_reconstructed\n",
    "    image = ax.imshow(image, cmap=\"gray\")\n",
    "    fig.suptitle(\"SVD version of the Olivetti Faces\", size=16)\n",
    "    ax.axis(\"off\")\n",
    "\n",
    "if image is not None:\n",
    "    fig.colorbar(image, ax=axes, orientation=\"horizontal\", shrink=0.99, aspect=40, pad=0.01)\n",
    "    \n",
    "plt.show()"
   ]
  },
  {
   "cell_type": "markdown",
   "metadata": {},
   "source": [
    "#### Parameter tuning\n",
    "\n",
    "We can modify the code to reconstruct each image using only the *top-k* singular values.\n",
    "\n",
    "As $k< \\min\\{n,m\\}$ we achieve SVD compression."
   ]
  },
  {
   "cell_type": "code",
   "execution_count": 73,
   "metadata": {},
   "outputs": [],
   "source": [
    "# Starting number of singular values\n",
    "START_K = 20\n",
    "\n",
    "# Select image index (0 - 399)\n",
    "INDEX = 200\n",
    "\n",
    "# Plot grid rows\n",
    "ROWS = 6\n",
    "\n",
    "# Plot grid columns\n",
    "COLS = 3\n",
    "\n",
    "# Ending number of singular values\n",
    "END_K = START_K - (ROWS * COLS)"
   ]
  },
  {
   "cell_type": "code",
   "execution_count": null,
   "metadata": {
    "pycharm": {
     "is_executing": true
    }
   },
   "outputs": [],
   "source": [
    "# Get image from index\n",
    "img = olivetti_images[INDEX]\n",
    "\n",
    "# Create list of K values in descending order\n",
    "k_list = list(range(START_K, END_K, -1))\n",
    "\n",
    "# Init plot grid\n",
    "fig, axes = plt.subplots(nrows=ROWS, ncols=COLS, figsize=(12, 22))\n",
    "\n",
    "for ax, k in zip(axes.flat, k_list):\n",
    "\n",
    "    U, singular_vals, V_t = np.linalg.svd(img, full_matrices=False)\n",
    "\n",
    "    # Keep only top k singular values\n",
    "    U_k = U[:, :k]                   # First k columns of U\n",
    "    \n",
    "    D_k = np.diag(singular_vals[:k])  # Diagonal matrix of top k singular values\n",
    "    \n",
    "    V_t_k = V_t[:k, :]              # First k rows of V^T\n",
    "\n",
    "    # Reconstruct image using top-K components\n",
    "    img_reconstructed = np.dot(U_k, np.dot(D_k, V_t_k))\n",
    "\n",
    "    image = ax.imshow(img_reconstructed, cmap=\"gray\")\n",
    "    \n",
    "    ax.axis(\"off\")\n",
    "\n",
    "    ax.set_title(f\"{k} Singular Values\")\n",
    "\n",
    "fig.suptitle(f\"Olivetti Faces reconstructed with top K singular values\", size=16)\n",
    "\n",
    "if image is not None:\n",
    "    fig.colorbar(image, ax=axes, orientation=\"horizontal\", shrink=0.99, aspect=40, pad=0.01)\n",
    "\n",
    "plt.show()"
   ]
  }
 ],
 "metadata": {
  "anaconda-cloud": {},
  "colab": {
   "provenance": []
  },
  "kernelspec": {
   "display_name": "Python 3",
   "language": "python",
   "name": "python3"
  },
  "language_info": {
   "codemirror_mode": {
    "name": "ipython",
    "version": 3
   },
   "file_extension": ".py",
   "mimetype": "text/x-python",
   "name": "python",
   "nbconvert_exporter": "python",
   "pygments_lexer": "ipython3",
   "version": "3.13.3"
  }
 },
 "nbformat": 4,
 "nbformat_minor": 0
}