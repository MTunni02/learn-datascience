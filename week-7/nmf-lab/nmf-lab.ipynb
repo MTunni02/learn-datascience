{
 "cells": [
  {
   "cell_type": "markdown",
   "metadata": {
    "collapsed": false
   },
   "source": [
    "### Non-Negative Matrix Factorization\n",
    "\n",
    "A lab experience on NMF with the Olivetti Faces Dataset"
   ]
  },
  {
   "cell_type": "markdown",
   "metadata": {},
   "source": [
    "Code resources:\n",
    "- [Scikit Learn: Non-Negative Matrix Factorization (NMF)](https://scikit-learn.org/stable/modules/generated/sklearn.decomposition.NMF.html#nmf)\n",
    "- [Scikit Learn tutorial: Face dataset decompositions](https://scikit-learn.org/stable/auto_examples/decomposition/plot_faces_decomposition.html#sphx-glr-auto-examples-decomposition-plot-faces-decomposition-py)\n",
    "- [Geeks for Geeks: Face dataset decompositions in Scikit Learn](https://www.geeksforgeeks.org/faces-dataset-decompositions-in-scikit-learn/)"
   ]
  },
  {
   "cell_type": "markdown",
   "metadata": {
    "collapsed": false
   },
   "source": [
    "### Import libraries"
   ]
  },
  {
   "cell_type": "code",
   "execution_count": 21,
   "metadata": {
    "collapsed": false,
    "pycharm": {
     "name": "#%%\n"
    }
   },
   "outputs": [],
   "source": [
    "import numpy as np\n",
    "\n",
    "from matplotlib import pyplot as plt\n",
    "from sklearn.decomposition import NMF\n",
    "from sklearn.datasets import fetch_olivetti_faces"
   ]
  },
  {
   "cell_type": "markdown",
   "metadata": {
    "collapsed": false
   },
   "source": [
    "### Import and prepare data"
   ]
  },
  {
   "cell_type": "code",
   "execution_count": 22,
   "metadata": {},
   "outputs": [],
   "source": [
    "# for reproducibility\n",
    "RANDOM_STATE = 42"
   ]
  },
  {
   "cell_type": "code",
   "execution_count": 23,
   "metadata": {
    "collapsed": false,
    "pycharm": {
     "name": "#%%\n"
    }
   },
   "outputs": [],
   "source": [
    "# Fetch and store data object\n",
    "data_obj = fetch_olivetti_faces(shuffle=True, random_state=RANDOM_STATE)\n",
    "\n",
    "# Array with serialised (flattened) images\n",
    "flat_images = data_obj.data\n",
    "\n",
    "n_samples, n_features = flat_images.shape\n",
    "\n",
    "# Array with 2D images\n",
    "images = data_obj.images"
   ]
  },
  {
   "cell_type": "markdown",
   "metadata": {
    "collapsed": false
   },
   "source": [
    "### Plot settings"
   ]
  },
  {
   "cell_type": "code",
   "execution_count": 24,
   "metadata": {
    "collapsed": false,
    "pycharm": {
     "name": "#%%\n"
    }
   },
   "outputs": [],
   "source": [
    "# Plot grid rows\n",
    "ROWS = 6\n",
    "\n",
    "# Plot grid columns\n",
    "COLS = 6\n",
    "\n",
    "N_IMAGES = ROWS * COLS\n",
    "\n",
    "IMAGE_SHAPE = (64, 64)"
   ]
  },
  {
   "cell_type": "markdown",
   "metadata": {
    "collapsed": false
   },
   "source": [
    "### Plot sample of original images"
   ]
  },
  {
   "cell_type": "code",
   "execution_count": null,
   "metadata": {
    "collapsed": false,
    "pycharm": {
     "name": "#%%\n",
     "is_executing": true
    }
   },
   "outputs": [],
   "source": [
    "def plot_gallery(\n",
    "        title: str,\n",
    "        images_array: np.ndarray,\n",
    "        n_cols: int = COLS,\n",
    "        n_rows: int = ROWS,\n",
    "        image_shape: tuple = IMAGE_SHAPE\n",
    ") -> None:\n",
    "    \n",
    "    '''\n",
    "    Plot a sample of images from the Olivetti faces dataset.\n",
    "\n",
    "    :param title: Plot title\n",
    "    :param images_array: Array with flattened images\n",
    "    :param n_cols: Number of plot grid columns\n",
    "    :param n_rows: Number of plot grid rows\n",
    "    :param image_shape: Required image shape for plotting\n",
    "    '''\n",
    "    \n",
    "    # Init plot grid\n",
    "    fig, axes = plt.subplots(\n",
    "        nrows = n_rows, ncols=n_cols,\n",
    "        figsize = (2.0 * n_cols, 2.3 * n_rows),\n",
    "        facecolor = 'white',\n",
    "        constrained_layout = True\n",
    "    )\n",
    "\n",
    "    # Plot grid configuration\n",
    "    fig.set_constrained_layout_pads(w_pad=0.01, h_pad=0.02, hspace=0, wspace=0)\n",
    "    fig.set_edgecolor(\"black\")\n",
    "    fig.suptitle(title, size=16)\n",
    "\n",
    "    # Plot a sample of images\n",
    "    image = None  # Init image variable\n",
    "    \n",
    "    for ax, img in zip(axes.flat, images_array):\n",
    "        v_max = max(img.max(), -img.min())\n",
    "        \n",
    "        image = ax.imshow(\n",
    "            img.reshape(image_shape),\n",
    "            cmap=\"gray\", interpolation=\"nearest\",\n",
    "            vmin=-v_max, vmax=v_max\n",
    "        )\n",
    "\n",
    "        ax.axis(\"off\")\n",
    "\n",
    "    fig.colorbar(\n",
    "        image, ax=axes, orientation=\"horizontal\",\n",
    "        shrink=0.99, aspect=40, pad=0.01\n",
    "    )\n",
    "\n",
    "    plt.show()\n",
    "\n",
    "plot_gallery(\"A selection of Olivetti faces\", flat_images[:N_IMAGES])"
   ]
  },
  {
   "cell_type": "markdown",
   "metadata": {},
   "source": [
    "Set the dimensinality of the factorization\n",
    "\n",
    "This is a hyperparamenter and can be changed to see how it affects the results."
   ]
  },
  {
   "cell_type": "code",
   "execution_count": 26,
   "metadata": {},
   "outputs": [],
   "source": [
    "LATENT_FEATURES = 36"
   ]
  },
  {
   "cell_type": "code",
   "execution_count": null,
   "metadata": {
    "collapsed": false,
    "pycharm": {
     "name": "#%%\n",
     "is_executing": true
    }
   },
   "outputs": [],
   "source": [
    "# Init NMF model: Set number of components equal to image sample size for plotting\n",
    "nmf_model = NMF(\n",
    "    n_components = LATENT_FEATURES,\n",
    "    max_iter = 500,\n",
    "    tol = 0.001,\n",
    "    random_state = RANDOM_STATE,\n",
    "    # Lee-Seung's Multiplicative Update method (it's default but we notice it)\n",
    "    solver = 'mu'\n",
    ")\n",
    "\n",
    "# Fit model\n",
    "nmf_model.fit(flat_images)"
   ]
  },
  {
   "cell_type": "markdown",
   "metadata": {
    "collapsed": false
   },
   "source": [
    "### Get array H (basic facial features)"
   ]
  },
  {
   "cell_type": "code",
   "execution_count": null,
   "metadata": {
    "collapsed": false,
    "pycharm": {
     "name": "#%%\n",
     "is_executing": true
    }
   },
   "outputs": [],
   "source": [
    "H = nmf_model.components_\n",
    "\n",
    "H.shape"
   ]
  },
  {
   "cell_type": "markdown",
   "metadata": {
    "collapsed": false
   },
   "source": [
    "### Plot H"
   ]
  },
  {
   "cell_type": "code",
   "execution_count": null,
   "metadata": {
    "collapsed": false,
    "pycharm": {
     "name": "#%%\n",
     "is_executing": true
    }
   },
   "outputs": [],
   "source": [
    "# Make sure that n_rows * n_cols = LATENT_FEATURES\n",
    "plot_gallery(\n",
    "    f\"Latent features ({LATENT_FEATURES})\",\n",
    "    H, \n",
    "    n_cols = 6,\n",
    "    n_rows = 6\n",
    ")"
   ]
  },
  {
   "cell_type": "markdown",
   "metadata": {
    "collapsed": false
   },
   "source": [
    "### Get weights W (transformed images)"
   ]
  },
  {
   "cell_type": "code",
   "execution_count": null,
   "metadata": {
    "collapsed": false,
    "pycharm": {
     "name": "#%%\n",
     "is_executing": true
    }
   },
   "outputs": [],
   "source": [
    "# Array W\n",
    "W = nmf_model.transform(flat_images)\n",
    "\n",
    "W.shape"
   ]
  },
  {
   "cell_type": "markdown",
   "metadata": {
    "collapsed": false
   },
   "source": [
    "### Plot W"
   ]
  },
  {
   "cell_type": "code",
   "execution_count": null,
   "metadata": {
    "collapsed": false,
    "pycharm": {
     "name": "#%%\n",
     "is_executing": true
    }
   },
   "outputs": [],
   "source": [
    "plot_gallery(\"Transformed Images\", \n",
    "             W[:N_IMAGES], \n",
    "             image_shape=(6, 6)\n",
    ")"
   ]
  },
  {
   "cell_type": "markdown",
   "metadata": {
    "collapsed": false
   },
   "source": [
    "### Plot the re-constructed images"
   ]
  },
  {
   "cell_type": "code",
   "execution_count": null,
   "metadata": {
    "collapsed": false,
    "pycharm": {
     "name": "#%%\n",
     "is_executing": true
    }
   },
   "outputs": [],
   "source": [
    "reconstructed_images = np.dot(W, H)\n",
    "\n",
    "plot_gallery('Reconstructed Images', reconstructed_images[:N_IMAGES])"
   ]
  },
  {
   "cell_type": "markdown",
   "metadata": {},
   "source": [
    "Now work on the hyperparameters to find the threshold value that gives interpretable results but also a good reconstructed image."
   ]
  },
  {
   "cell_type": "markdown",
   "source": [
    "## Root Mean Squared Error"
   ],
   "metadata": {
    "collapsed": false
   }
  },
  {
   "cell_type": "code",
   "execution_count": null,
   "outputs": [],
   "source": [
    "np.sqrt(np.mean(np.power(flat_images - reconstructed_images, 2)))"
   ],
   "metadata": {
    "collapsed": false,
    "pycharm": {
     "name": "#%%\n"
    }
   }
  }
 ],
 "metadata": {
  "kernelspec": {
   "display_name": "Python 3",
   "language": "python",
   "name": "python3"
  },
  "language_info": {
   "codemirror_mode": {
    "name": "ipython",
    "version": 3
   },
   "file_extension": ".py",
   "mimetype": "text/x-python",
   "name": "python",
   "nbconvert_exporter": "python",
   "pygments_lexer": "ipython3",
   "version": "3.13.4"
  }
 },
 "nbformat": 4,
 "nbformat_minor": 0
}