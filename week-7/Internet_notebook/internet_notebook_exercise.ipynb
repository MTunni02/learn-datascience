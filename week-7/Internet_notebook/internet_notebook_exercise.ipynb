{
  "cells": [
    {
      "cell_type": "markdown",
      "metadata": {
        "id": "ubQ2ZY2VWGWu"
      },
      "source": [
        "\n",
        "## DSTA\n",
        "\n",
        "### Chapter III - The Internet Network\n",
        "\n",
        "#### This __exercise__ notebook is taken from the Python 2 notebook for Ch. 3 of Caldarelli-Cheesa's textbook (CC).\n"
      ]
    },
    {
      "cell_type": "code",
      "execution_count": null,
      "metadata": {
        "colab": {
          "base_uri": "https://localhost:8080/"
        },
        "id": "d3fMS_66WGWw",
        "outputId": "1ff27297-7bf9-4df6-f9da-558cdcd35a2e"
      },
      "outputs": [],
      "source": [
        "import networkx as nx\n",
        "\n",
        "import matplotlib.pyplot as plt"
      ]
    },
    {
      "cell_type": "markdown",
      "metadata": {
        "id": "t-hjMKGrWGWx"
      },
      "source": [
        "#### Network from SVG with the best node positioning"
      ]
    },
    {
      "cell_type": "code",
      "execution_count": null,
      "metadata": {
        "id": "8EJvzBJ-WGWy"
      },
      "outputs": [],
      "source": [
        "from bs4 import BeautifulSoup\n"
      ]
    },
    {
      "cell_type": "code",
      "execution_count": null,
      "metadata": {},
      "outputs": [],
      "source": [
        "DATFILE = \"./data/test_graph.dat\"\n"
      ]
    },
    {
      "cell_type": "code",
      "execution_count": null,
      "metadata": {
        "id": "09g9oUVpWGWy"
      },
      "outputs": [],
      "source": [
        "\n",
        "def Graph_from_SVG(stream):\n",
        "\n",
        "    G = nx.Graph()\n",
        "\n",
        "    attrs = {\n",
        "        \"line\" :  [\"x1\", \"y1\", \"x2\", \"y2\"]\n",
        "    }\n",
        "\n",
        "    op = open(stream, \"r\")\n",
        "\n",
        "    xml = op.read()\n",
        "\n",
        "    soup = BeautifulSoup(xml)\n",
        "\n",
        "    count = 0\n",
        "    node_diz = {}\n",
        "    pos = {}\n",
        "    \n",
        "    for attr in attrs.keys():\n",
        "        tmps = soup.findAll(attr)\n",
        "        for t in tmps:\n",
        "            node1=(t['x1'],t['y1'])\n",
        "            node2=(t['x2'],t['y2'])\n",
        "            if not node1 in node_diz:\n",
        "                node_diz[node1]=str(count)\n",
        "                pos[str(count)]=(float(node1[0]),float(node1[1]))\n",
        "                count+=1\n",
        "            if not node2 in node_diz:\n",
        "                node_diz[node2]=str(count)\n",
        "                pos[str(count)]=(float(node2[0]),float(node2[1]))\n",
        "                count+=1\n",
        "            G.add_edge(node_diz[node1],node_diz[node2])\n",
        "\n",
        "    #save the graph in an edge list format\n",
        "    nx.write_edgelist(G, DATFILE, data = False)\n",
        "\n",
        "    return G, pos\n",
        "\n"
      ]
    },
    {
      "cell_type": "markdown",
      "metadata": {
        "id": "iJ4Kcq6_WGWy"
      },
      "source": [
        "### Plotting the test Networks"
      ]
    },
    {
      "cell_type": "code",
      "execution_count": null,
      "metadata": {
        "colab": {
          "base_uri": "https://localhost:8080/",
          "height": 571
        },
        "id": "6dlSylLRWGWy",
        "outputId": "abcc41ca-c27b-4de5-dde5-7c4cfd7f8117"
      },
      "outputs": [],
      "source": [
        "# getting the network in the SVG format\n",
        "# NOTICE how the SVG file sits inside the imgs folder\n",
        "FILE = \"./imgs/test_graph.svg\"\n",
        "\n",
        "(G, pos) = Graph_from_SVG(FILE)\n",
        "\n",
        "#plot the optimal node distribution\n",
        "nx.draw(G, pos, node_size = 150, node_color='black')\n",
        "\n",
        "#save the graph on a figure file\n",
        "#savefig(\"./data/test_network_best.png\", dpi=200)\n"
      ]
    },
    {
      "cell_type": "markdown",
      "metadata": {
        "id": "okBDuDosWGWy"
      },
      "source": [
        "#### Degree Centrality"
      ]
    },
    {
      "cell_type": "code",
      "execution_count": null,
      "metadata": {
        "colab": {
          "base_uri": "https://localhost:8080/"
        },
        "id": "ZkIpH0uJWGWy",
        "outputId": "150c5d24-27e2-48b0-f245-c5dcfb7aa972"
      },
      "outputs": [],
      "source": [
        "degree_centrality = nx.degree(G)\n",
        "\n",
        "print (degree_centrality)\n"
      ]
    },
    {
      "cell_type": "code",
      "execution_count": null,
      "metadata": {
        "colab": {
          "base_uri": "https://localhost:8080/",
          "height": 406
        },
        "id": "tvjtlhGCWGWz",
        "outputId": "764ab1dd-ed0e-4796-b7a9-711bffab29a9"
      },
      "outputs": [],
      "source": [
        "l = []\n",
        "\n",
        "res = degree_centrality\n",
        "\n",
        "for n in G.nodes():\n",
        "    l.append(res[n])\n",
        "\n",
        "nx.draw_networkx_edges(G, pos)\n",
        "for n in G.nodes():\n",
        "    list_nodes = [n]\n",
        "    color = str( (res[n]-min(l))/float((max(l)-min(l))) )\n",
        "    nx.draw_networkx_nodes(G, {n:pos[n]}, [n], node_size = 100, \\\n",
        "    node_color = color)"
      ]
    },
    {
      "cell_type": "markdown",
      "metadata": {
        "id": "Pf68iZEAWGWz"
      },
      "source": [
        "#### Define a function that calculates the distance from a root node"
      ]
    },
    {
      "cell_type": "code",
      "execution_count": null,
      "metadata": {
        "id": "RCzEaIC9WGWz"
      },
      "outputs": [],
      "source": [
        "def node_distance(G, root_node):\n",
        "    queue = []\n",
        "    list_distances = []\n",
        "    queue.append(root_node)\n",
        "\n",
        "    # reset the old keys\n",
        "    if 'distance' in G.nodes[root_node]:\n",
        "        for n in G.nodes():\n",
        "            del G.nodes[n]['distance']\n",
        "\n",
        "    G.nodes[root_node][\"distance\"] = 0\n",
        "\n",
        "    # now...\n",
        "    while len(queue):\n",
        "        working_node = queue.pop(0)\n",
        "\n",
        "        for n in G.neighbors(working_node):\n",
        "\n",
        "            if len(G.nodes[n]) == 0:\n",
        "\n",
        "                G.nodes[n][\"distance\"] = G.nodes[working_node] \\\n",
        "                [\"distance\"]+1\n",
        "                \n",
        "                queue.append(n)\n",
        "\n",
        "    for n in G.nodes():\n",
        "        list_distances.append(((root_node,n), G.nodes[n][\"distance\"]))\n",
        "\n",
        "    return list_distances"
      ]
    },
    {
      "cell_type": "markdown",
      "metadata": {
        "id": "1GDR61clWGWz"
      },
      "source": [
        "#### Closeness Centrality"
      ]
    },
    {
      "cell_type": "code",
      "execution_count": null,
      "metadata": {
        "colab": {
          "base_uri": "https://localhost:8080/",
          "height": 406
        },
        "id": "ZdnvMV3nWGW0",
        "outputId": "05f9f7c5-3869-45b9-c896-d2e0d6ef7cc3"
      },
      "outputs": [],
      "source": [
        "norm = 0.0\n",
        "diz_c = {}\n",
        "l_values = []\n",
        "\n",
        "for n in G.nodes():\n",
        "    l = node_distance(G,n)\n",
        "\n",
        "    ave_length = 0\n",
        "\n",
        "    for path in l:\n",
        "        ave_length += float(path[1])/(G.number_of_nodes()-1-0)\n",
        "\n",
        "    norm += 1/ave_length\n",
        "\n",
        "    diz_c[n] = 1/ave_length\n",
        "\n",
        "    l_values.append(diz_c[n])\n",
        "\n",
        "#visualization\n",
        "nx.draw_networkx_edges(G, pos)\n",
        "for n in G.nodes():\n",
        "\n",
        "    list_nodes = [n]\n",
        "\n",
        "    color = str((diz_c[n]-min(l_values))/(max(l_values)- \\\n",
        "                                          min(l_values)))\n",
        "    \n",
        "    nx.draw_networkx_nodes(G, {n:pos[n]}, [n], node_size = \\\n",
        "                           100, node_color = color)\n",
        "\n",
        "#savefig(\"./data/closeness_200.png\",dpi=200)"
      ]
    },
    {
      "cell_type": "markdown",
      "metadata": {},
      "source": [
        "Notice how lighter colors indicate higher closeness centrality."
      ]
    },
    {
      "cell_type": "markdown",
      "metadata": {
        "id": "MvHzwDF-WGW0"
      },
      "source": [
        "## Q1. Take the adjacency matrix and plot closeness centrality"
      ]
    },
    {
      "cell_type": "code",
      "execution_count": null,
      "metadata": {
        "id": "SxUEiuTIWGW0"
      },
      "outputs": [],
      "source": [
        "# Preparation phase\n",
        "norm = 0.0\n",
        "\n",
        "diz_c = {}\n",
        "\n",
        "l_values = []\n",
        "\n",
        "adjacency_matrix = [\n",
        "                    [0,1,0,1],\n",
        "                    [1,0,1,1],\n",
        "                    [0,1,0,0],\n",
        "                    [1,1,0,0],\n",
        "                    ]\n"
      ]
    },
    {
      "cell_type": "code",
      "execution_count": null,
      "metadata": {},
      "outputs": [],
      "source": [
        "# Your solution here..."
      ]
    },
    {
      "cell_type": "markdown",
      "metadata": {
        "id": "IRDwiV79WGW0"
      },
      "source": [
        "#### Betweenness Centrality"
      ]
    },
    {
      "cell_type": "code",
      "execution_count": null,
      "metadata": {
        "colab": {
          "base_uri": "https://localhost:8080/"
        },
        "id": "u1HxDGaAWGW0",
        "outputId": "08233257-477a-4f3e-df57-71e83c9dcabc"
      },
      "outputs": [],
      "source": [
        "list_of_nodes = list(G.nodes())\n",
        "\n",
        "num_of_nodes = G.number_of_nodes()\n",
        "\n",
        "bc = {} #we will need this dictionary later on\n",
        "\n",
        "for i in range(0, num_of_nodes-1):\n",
        "    for j in range(i+1, num_of_nodes):\n",
        "        print(list_of_nodes[i])\n",
        "        print(list_of_nodes[j])\n",
        "        paths = nx.all_shortest_paths(G,source = list_of_nodes[i], \\\n",
        "                                    target = list_of_nodes[j])\n",
        "        count = 0.0\n",
        "        \n",
        "        path_diz = {}\n",
        "        \n",
        "        for p in paths:\n",
        "            #print p\n",
        "            count += 1.0\n",
        "            for n in p[1:-1]:\n",
        "                if not n in path_diz:\n",
        "                    path_diz[n] = 0.0\n",
        "                path_diz[n] += 1.0\n",
        "\n",
        "        for n in path_diz.keys():\n",
        "            path_diz[n] = path_diz[n]/count\n",
        "\n",
        "            if not n in bc:\n",
        "                bc[n] = 0.0\n",
        "\n",
        "            bc[n] += path_diz[n]"
      ]
    },
    {
      "cell_type": "code",
      "execution_count": null,
      "metadata": {
        "colab": {
          "base_uri": "https://localhost:8080/",
          "height": 406
        },
        "id": "HM26Y-QeWGW0",
        "outputId": "c9c35dd2-c137-4272-91ed-ad0c922f27ff"
      },
      "outputs": [],
      "source": [
        "#visualization\n",
        "l = []\n",
        "res = bc\n",
        "\n",
        "for n in G.nodes():\n",
        "    if not n in res:\n",
        "        res[n] = 0.0\n",
        "\n",
        "    l.append(res[n])\n",
        "\n",
        "nx.draw_networkx_edges(G, pos)\n",
        "\n",
        "for n in G.nodes():\n",
        "    list_nodes = [n]\n",
        "    color = str( (res[n]-min(l))/(max(l)-min(l)) )\n",
        "\n",
        "    nx.draw_networkx_nodes(G, {n:pos[n]}, [n], node_size = 100, node_color = color)\n",
        "\n",
        "#savefig(\"./data/betweenness_200.png\",dpi=200)"
      ]
    },
    {
      "cell_type": "markdown",
      "metadata": {
        "id": "w2pf7a63WGW0"
      },
      "source": [
        "#### Eigenvector Centrality"
      ]
    },
    {
      "cell_type": "code",
      "execution_count": null,
      "metadata": {
        "colab": {
          "base_uri": "https://localhost:8080/",
          "height": 406
        },
        "id": "OXr_8N0fWGW0",
        "outputId": "fd154fdc-571c-4d65-de7f-1d12c5375cf1"
      },
      "outputs": [],
      "source": [
        "#networkx eigenvector centrality\n",
        "centrality = nx.eigenvector_centrality_numpy(G)\n",
        "\n",
        "#visualization\n",
        "l = []\n",
        "res = centrality\n",
        "\n",
        "for n in G.nodes():\n",
        "    if not n in res:\n",
        "        res[n] = 0.0\n",
        "\n",
        "    l.append(res[n])\n",
        "\n",
        "nx.draw_networkx_edges(G, pos)\n",
        "\n",
        "for n in G.nodes():\n",
        "    list_nodes = [n]\n",
        "    color = str( (res[n]-min(l))/(max(l)-min(l)) )\n",
        "\n",
        "    nx.draw_networkx_nodes(G, {n:pos[n]}, [n], node_size = 100, node_color = color)\n",
        "\n",
        "#savefig(\"eigenvetor_200.png\",dpi=200)\n"
      ]
    },
    {
      "cell_type": "markdown",
      "metadata": {
        "id": "7-5SWP9PWGW1"
      },
      "source": [
        "#### Computing the Giant Connected Component"
      ]
    },
    {
      "cell_type": "code",
      "execution_count": null,
      "metadata": {
        "colab": {
          "base_uri": "https://localhost:8080/",
          "height": 516
        },
        "id": "tSOs9HsIWGW1",
        "outputId": "1f1312ab-f423-42bf-fa27-3f75b70129db"
      },
      "outputs": [],
      "source": [
        "#Generating the test graph with two components\n",
        "\n",
        "G_test = nx.Graph()\n",
        "\n",
        "G_test.add_edges_from([('A','B'),('A','C'),('C','D'),('C','E'),\n",
        "                       ('D','F'), ('D','H'),('D','G'),('E','G'),\n",
        "                       ('E','I')])\n",
        "#disconnetted node\n",
        "G_test.add_node('X')\n",
        "\n",
        "nx.draw(G_test, label=True)\n",
        "\n",
        "#savefig(\"components_200.png\",dpi=200)"
      ]
    },
    {
      "cell_type": "markdown",
      "metadata": {
        "id": "0W8g24poWGW1"
      },
      "source": [
        "#### Giant Component through a Breadth First Search"
      ]
    },
    {
      "cell_type": "code",
      "execution_count": null,
      "metadata": {
        "colab": {
          "base_uri": "https://localhost:8080/"
        },
        "id": "pf4MCIgXWGW1",
        "outputId": "ddbfe603-b782-4a78-b778-14dd4c96ea30"
      },
      "outputs": [],
      "source": [
        "def giant_component_size(G_input):\n",
        "\n",
        "    G = G_input.copy()\n",
        "\n",
        "    components = []\n",
        "    #print(G)\n",
        "    \n",
        "    node_list = list(G.nodes())\n",
        "    #print(node_list.type)\n",
        "\n",
        "    while len(node_list) != 0:\n",
        "        #print(list(node_list))\n",
        "        #print(node_list[0])\n",
        "        root_node = node_list[0]\n",
        "        component_list = []\n",
        "        component_list.append(root_node)\n",
        "        queue = []\n",
        "\n",
        "        queue.append(root_node)\n",
        "\n",
        "        G.nodes[root_node][\"visited\"] = True\n",
        "\n",
        "        while len(queue):\n",
        "\n",
        "            working_node = queue.pop(0)\n",
        "\n",
        "            for n in G.neighbors(working_node):\n",
        "\n",
        "                #check if any node attribute exists\n",
        "                if len(G.nodes[n])==0:\n",
        "                    G.nodes[n][\"visited\"] = True\n",
        "                    queue.append(n)\n",
        "                    component_list.append(n)\n",
        "\n",
        "        components.append((len(component_list), component_list))\n",
        "\n",
        "        #remove the nodes of the component just discovered\n",
        "        for i in component_list: node_list.remove(i)\n",
        "\n",
        "    components.sort(reverse=True)\n",
        "\n",
        "    GiantComponent = components[0][1]\n",
        "    SizeGiantComponent = components[0][0]\n",
        "\n",
        "    return GiantComponent,len(components)\n"
      ]
    },
    {
      "cell_type": "code",
      "execution_count": null,
      "metadata": {},
      "outputs": [],
      "source": [
        "\n",
        "GCC, num_components = giant_component_size(G_test)\n",
        "\n",
        "print (\"Giant Connected Component:\" ,GCC)\n",
        "\n",
        "print (\"Number of components:\", num_components)"
      ]
    },
    {
      "cell_type": "markdown",
      "metadata": {
        "id": "r7wJQa2uWGW1"
      },
      "source": [
        "### Q2. Use networkx built in function to calculate Giant Component and the list of edges."
      ]
    },
    {
      "cell_type": "code",
      "execution_count": null,
      "metadata": {},
      "outputs": [],
      "source": [
        "# Your solution here..."
      ]
    },
    {
      "cell_type": "markdown",
      "metadata": {
        "id": "H0rbyKlrWGW1"
      },
      "source": [
        "### Q3. Do the same as Q2. for a given adjacency matrix."
      ]
    },
    {
      "cell_type": "code",
      "execution_count": null,
      "metadata": {},
      "outputs": [],
      "source": [
        "adjacency_matrix = [\n",
        "                    [0,1,0,1],\n",
        "                    [1,0,1,1],\n",
        "                    [0,1,0,0],\n",
        "                    [1,1,0,0],\n",
        "                    ]\n"
      ]
    },
    {
      "cell_type": "code",
      "execution_count": null,
      "metadata": {
        "id": "6HKKgG7xWGW1"
      },
      "outputs": [],
      "source": [
        "# Your solution here..."
      ]
    }
  ],
  "metadata": {
    "colab": {
      "provenance": []
    },
    "kernelspec": {
      "display_name": "Python 3",
      "language": "python",
      "name": "python3"
    },
    "language_info": {
      "codemirror_mode": {
        "name": "ipython",
        "version": 3
      },
      "file_extension": ".py",
      "mimetype": "text/x-python",
      "name": "python",
      "nbconvert_exporter": "python",
      "pygments_lexer": "ipython3",
      "version": "3.12.4"
    }
  },
  "nbformat": 4,
  "nbformat_minor": 0
}
