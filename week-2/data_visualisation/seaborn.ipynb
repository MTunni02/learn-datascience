{
 "cells": [
  {
   "cell_type": "raw",
   "metadata": {},
   "source": [
    "---\n",
    "title: Visualising the Iris dataset with Seaborn\n",
    "lang: en\n",
    "author: AM\n",
    "format:\n",
    "  html:\n",
    "    code-fold: false\n",
    "---"
   ],
   "id": "cfbc628f"
  },
  {
   "cell_type": "markdown",
   "metadata": {},
   "source": [
    "# Load packages"
   ],
   "id": "3ebfb078"
  },
  {
   "cell_type": "code",
   "execution_count": 8,
   "outputs": [],
   "source": [
    "import seaborn as sns\n",
    "import pandas as pd\n",
    "from matplotlib import pyplot as plt\n",
    "from sklearn.datasets import load_iris"
   ],
   "metadata": {
    "collapsed": false,
    "pycharm": {
     "name": "#%%\n"
    }
   }
  },
  {
   "cell_type": "markdown",
   "source": [
    "# Load Iris from sklearn and rename columns\n",
    "URL for sklearn load_iris: [load_iris documentation](https://scikit-learn.org/stable/modules/generated/sklearn.datasets.load_iris.html)\n",
    "More info for sklearn load_iris: [load_iris metadata](https://scikit-learn.org/stable/modules/generated/sklearn.datasets.load_iris.html)"
   ],
   "metadata": {
    "collapsed": false,
    "pycharm": {
     "name": "#%% md\n"
    }
   }
  },
  {
   "cell_type": "code",
   "metadata": {},
   "source": [
    "# Dictionary with column renaming\n",
    "renaming_dict = {\n",
    "    \"sepal length (cm)\": \"SepalLengthCm\",\n",
    "    \"sepal width (cm)\": \"SepalWidthCm\",\n",
    "    \"petal length (cm)\": \"PetalLengthCm\",\n",
    "    \"petal width (cm)\": \"PetalWidthCm\"\n",
    "}\n",
    "\n",
    "# Check load_iris documentation\n",
    "iris_df, iris_y = load_iris(return_X_y=True, as_frame=True)\n",
    "iris_df = iris_df.rename(columns=renaming_dict)"
   ],
   "id": "0327aa15",
   "execution_count": 9,
   "outputs": []
  },
  {
   "cell_type": "markdown",
   "source": [
    "# Remap class names from integers to strings"
   ],
   "metadata": {
    "collapsed": false,
    "pycharm": {
     "name": "#%% md\n"
    }
   }
  },
  {
   "cell_type": "markdown",
   "source": [
    "Pandas Series map documentation: [pandas.Series.map](https://pandas.pydata.org/pandas-docs/stable/reference/api/pandas.Series.map.html)"
   ],
   "metadata": {
    "collapsed": false,
    "pycharm": {
     "name": "#%% md\n"
    }
   }
  },
  {
   "cell_type": "code",
   "execution_count": null,
   "outputs": [],
   "source": [
    "# Class mapping dictionary\n",
    "class_mapper = {\n",
    "    0: \"Iris-setosa\",\n",
    "    1: \"Iris-versicolor\",\n",
    "    2: \"Iris-virginica\"\n",
    "}\n",
    "\n",
    "iris_df[\"Species\"] = iris_y.map(class_mapper)\n",
    "iris_df"
   ],
   "metadata": {
    "collapsed": false,
    "pycharm": {
     "name": "#%%\n",
     "is_executing": true
    }
   }
  },
  {
   "cell_type": "markdown",
   "source": [
    "# Seaborn useful documentation:\n",
    "[Seaborn histogram](https://seaborn.pydata.org/generated/seaborn.histplot.html)\n",
    "[Seaborn FacetGrid](https://seaborn.pydata.org/generated/seaborn.FacetGrid.html)\n",
    "[Seaborn FacetGrid: map_dataframe](https://seaborn.pydata.org/generated/seaborn.FacetGrid.map_dataframe.html)\n",
    "[Seaborn PairGrid](https://seaborn.pydata.org/generated/seaborn.PairGrid.html)"
   ],
   "metadata": {
    "collapsed": false,
    "pycharm": {
     "name": "#%% md\n"
    }
   }
  },
  {
   "cell_type": "markdown",
   "metadata": {},
   "source": [
    "# Plot sepal-length in stacked bars\n",
    "\n",
    "The `hue` parameter controls class separation\n"
   ],
   "id": "a89f9bd6"
  },
  {
   "cell_type": "code",
   "metadata": {
    "pycharm": {
     "is_executing": true
    }
   },
   "source": [
    "sns.histplot(data=iris_df,  x=\"SepalLengthCm\", hue=iris_df[\"Species\"], multiple=\"stack\")\n",
    "plt.show()"
   ],
   "id": "a56c2891",
   "execution_count": null,
   "outputs": []
  },
  {
   "cell_type": "code",
   "metadata": {
    "pycharm": {
     "is_executing": true
    }
   },
   "source": [
    "# Plot histogram of classes of sepal length dimension in three sub-plots\n",
    "g = sns.FacetGrid(iris_df, col=\"Species\")\n",
    "g.map_dataframe(sns.histplot, \"SepalLengthCm\")\n",
    "\n",
    "plt.show()"
   ],
   "id": "67b995a1",
   "execution_count": null,
   "outputs": []
  },
  {
   "cell_type": "markdown",
   "metadata": {},
   "source": [
    "---\n"
   ],
   "id": "3b4de146"
  },
  {
   "cell_type": "code",
   "metadata": {
    "pycharm": {
     "is_executing": true
    }
   },
   "source": [
    "# Scatter plot between sepal length vs petal length\n",
    "g = sns.FacetGrid(iris_df, hue=\"Species\")\n",
    "g.map_dataframe(sns.scatterplot, \"SepalLengthCm\", \"SepalWidthCm\", alpha=0.7)\n",
    "g.add_legend()\n",
    "\n",
    "plt.show()"
   ],
   "id": "4173950a",
   "execution_count": null,
   "outputs": []
  },
  {
   "cell_type": "raw",
   "metadata": {},
   "source": [
    "---"
   ],
   "id": "69a246fe"
  },
  {
   "cell_type": "markdown",
   "metadata": {},
   "source": [
    "# Plot histograms and scatter plots for all dimensions in one single figure"
   ],
   "id": "7c3fac0b"
  },
  {
   "cell_type": "code",
   "metadata": {
    "pycharm": {
     "is_executing": true
    }
   },
   "source": [
    "g = sns.PairGrid(iris_df, hue=\"Species\")\n",
    "\n",
    "# TODO: Type the 2 missing commands below.\n",
    "# Define plot for diagonal: histogram\n",
    "# Define plot for off-diagonal: scatterplot\n",
    "g.add_legend()\n",
    "\n",
    "plt.show()"
   ],
   "id": "ae70da38",
   "execution_count": null,
   "outputs": []
  }
 ],
 "metadata": {
  "kernelspec": {
   "name": "python3",
   "language": "python",
   "display_name": "Python 3 (ipykernel)"
  }
 },
 "nbformat": 4,
 "nbformat_minor": 5
}