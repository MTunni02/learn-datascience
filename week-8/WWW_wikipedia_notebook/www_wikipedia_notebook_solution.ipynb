{
 "cells": [
  {
   "cell_type": "markdown",
   "metadata": {
    "id": "oVrNEkmadJ2m"
   },
   "source": [
    "## DSTA\n",
    "\n",
    "### Chapter IV - WWW, Wiki and Online social networks.\n",
    "\n",
    "#### This __solution__ notebook is taken from the notebook for Ch. 4 of Caldarelli-Cheesa's textbook (CC).\n",
    "\n",
    "Please see the [class repository](https://github.com/ale66/learn-datascience/tree/main/week-8/WWW_wikipedia_notebook/data) for the datasets and the __exercise notebook__."
   ]
  },
  {
   "cell_type": "code",
   "execution_count": 1,
   "metadata": {
    "id": "Euh80-UodJ2p"
   },
   "outputs": [],
   "source": [
    "import numpy as np\n",
    "import matplotlib.pyplot as plt\n",
    "import networkx as nx"
   ]
  },
  {
   "cell_type": "markdown",
   "metadata": {
    "id": "op1ynjdFdJ2r"
   },
   "source": [
    "#### Get data from The Laboratory for Web Algorithmics"
   ]
  },
  {
   "cell_type": "markdown",
   "metadata": {
    "id": "XWRoZo4GdJ2r"
   },
   "source": [
    "#### This is the page with the datasets: http://law.di.unimi.it/datasets.php"
   ]
  },
  {
   "cell_type": "markdown",
   "metadata": {
    "id": "cZkrhxyldJ2r"
   },
   "source": [
    "It is possible to download a network in a WebGraph format that is a compressed binary format.\n",
    "\n",
    "The project provides various clients to extract the network strcture, in Java, C++ and in Python, py-web-graph: http://webgraph.di.unimi.it/.\n",
    "\n",
    "In particular we got the graph and the related urls associated to each node of the .eu domain in 2005: http://law.di.unimi.it/webdata/eu-2005/.\n",
    "\n",
    " We exctracted the graph in a form of an edge list and we also got the file with the list of urls in the same order of the node_id"
   ]
  },
  {
   "cell_type": "code",
   "execution_count": 2,
   "metadata": {
    "id": "a00Ke6GBdJ2r"
   },
   "outputs": [],
   "source": [
    "ARCSFILE = './data/eu-2005_1M.arcs'\n",
    "URLSFILE = './data/eu-2005.urls'"
   ]
  },
  {
   "cell_type": "code",
   "execution_count": 3,
   "metadata": {
    "id": "Eci5iycUdJ2s"
   },
   "outputs": [],
   "source": [
    "#retrieve just the portion of the first 1M edges of the .eu domain\n",
    "#crawled in 2005\n",
    "eu_DG = nx.read_edgelist(ARCSFILE, create_using = nx.DiGraph())\n",
    "\n",
    "#generate the dictionary of node_id -> urls\n",
    "file_urls = open(URLSFILE)\n",
    "\n",
    "count = 0\n",
    "\n",
    "dic_nodid_urls = {}\n",
    "\n",
    "while True:\n",
    "    next_line = file_urls.readline()\n",
    "\n",
    "    if not next_line:\n",
    "        break\n",
    "\n",
    "    dic_nodid_urls[str(count)] = next_line[:-1]\n",
    "    count = count+1\n",
    "\n",
    "file_urls.close()\n",
    "\n",
    "#generate the strongly connected component\n",
    "scc = [(len(c),c) for c in sorted( nx.strongly_connected_components \\\n",
    "                               (eu_DG), key=len, reverse=True)][0][1]\n",
    "\n",
    "eu_DG_SCC = eu_DG.subgraph(scc)\n"
   ]
  },
  {
   "cell_type": "code",
   "execution_count": 4,
   "metadata": {
    "id": "cU68zpbWdJ2s"
   },
   "outputs": [],
   "source": [
    "l = [e for e in eu_DG_SCC.edges]"
   ]
  },
  {
   "cell_type": "code",
   "execution_count": null,
   "metadata": {
    "id": "PZw6ZaJPdJ2s",
    "pycharm": {
     "is_executing": true
    }
   },
   "outputs": [],
   "source": [
    "l[:5]"
   ]
  },
  {
   "cell_type": "markdown",
   "metadata": {
    "id": "GrcUmHbIdJ2u"
   },
   "source": [
    "#### Retrieving data through the  [Twitter API](https://dev.twitter.com/docs) usign the [Twython](http://twython.readthedocs.org/en/latest/) module\n",
    "\n",
    "This part is not in use anymore as the TwitterAPI does not generally serve data anymore: we get a `403` error.\n",
    "\n",
    "Please proceed to the 'HITS algorithm' section below."
   ]
  },
  {
   "cell_type": "markdown",
   "metadata": {
    "id": "sjYr18D_dJ2u"
   },
   "source": [
    "## Hits algorithm"
   ]
  },
  {
   "cell_type": "markdown",
   "metadata": {
    "id": "F_gL6nPFdJ2u"
   },
   "source": [
    "##### Create a simple labeled network: the 'four triangles' network"
   ]
  },
  {
   "cell_type": "code",
   "execution_count": null,
   "metadata": {
    "id": "lAs7fi3JdJ2u",
    "pycharm": {
     "is_executing": true
    }
   },
   "outputs": [],
   "source": [
    "DG = nx.DiGraph()\n",
    "\n",
    "DG.add_edges_from([('A','B'),('B','C'),('A','D'),\n",
    "                   ('D','B'),('C','D'),('C','A')])\n",
    "\n",
    "#plot the graph\n",
    "nx.draw(DG, with_labels = True)"
   ]
  },
  {
   "cell_type": "markdown",
   "metadata": {
    "id": "GkHYKBJbdJ2v"
   },
   "source": [
    "The network has a certain symmetry: each node has in-degree of 2 and out-degree of 1 or vice versa.\n",
    "\n",
    "\n",
    "#### Direct implementation of the [HITS algorithm](https://en.wikipedia.org/wiki/HITS_algorithm) by [Kleinberg](https://en.wikipedia.org/wiki/Jon_Kleinberg)."
   ]
  },
  {
   "cell_type": "code",
   "execution_count": 7,
   "metadata": {
    "id": "kpCQ9PMYdJ2v"
   },
   "outputs": [],
   "source": [
    "def HITS_algorithm(digraph: nx.DiGraph, K: int = 1000) -> tuple[dict, dict]:\n",
    "    \"\"\"\n",
    "    :param digraph: A networkx DiGraph\n",
    "    :param K: The K maximum number of iterations\n",
    "\n",
    "    :return: Two dictionaries containing the hub and authority scores, resp.\n",
    "    \"\"\"\n",
    "    auth_scores = {}\n",
    "    hub_scores = {}\n",
    "\n",
    "    for n in digraph.nodes():\n",
    "        auth_scores[n] = 1.0\n",
    "        hub_scores[n] = 1.0\n",
    "\n",
    "    for k in range(K):\n",
    "        norm = 0.0\n",
    "\n",
    "        for n in digraph.nodes():\n",
    "            auth_scores[n] = 0.0\n",
    "\n",
    "            # REMINDER: a predecessor of a node n is a node m\n",
    "            # such that there is a direct edge from m to n\n",
    "            for p in digraph.predecessors(n):\n",
    "                auth_scores[n] += hub_scores[p]\n",
    "\n",
    "            norm += auth_scores[n]**2.0\n",
    "\n",
    "        norm = norm**0.5\n",
    "\n",
    "        for n in digraph.nodes():\n",
    "            auth_scores[n] = auth_scores[n] / norm\n",
    "\n",
    "        norm = 0.0\n",
    "\n",
    "        for n in digraph.nodes():\n",
    "            hub_scores[n] = 0.0\n",
    "\n",
    "            for s in digraph.successors(n):\n",
    "                hub_scores[n] += auth_scores[s]\n",
    "\n",
    "            norm += hub_scores[n]**2.0\n",
    "\n",
    "        norm = norm**0.5\n",
    "\n",
    "        for n in digraph.nodes():\n",
    "            hub_scores[n] = hub_scores[n] / norm\n",
    "\n",
    "        return auth_scores, hub_scores"
   ]
  },
  {
   "cell_type": "markdown",
   "metadata": {
    "id": "WZO6P0rhdJ2v"
   },
   "source": [
    "#### Let's put HITS to test."
   ]
  },
  {
   "cell_type": "code",
   "execution_count": null,
   "metadata": {
    "id": "_PYhJhy3dJ2v",
    "pycharm": {
     "is_executing": true
    }
   },
   "outputs": [],
   "source": [
    "auth, hub = HITS_algorithm(DG, K=100)\n",
    "\n",
    "print (auth)\n",
    "print (hub)"
   ]
  },
  {
   "cell_type": "markdown",
   "metadata": {
    "id": "i6jtMcbcdJ2v"
   },
   "source": [
    "### Q1.  Use built in hits function to find hub and authority scores.\n",
    "\n",
    "Can you spot the differences in result?"
   ]
  },
  {
   "cell_type": "code",
   "execution_count": null,
   "metadata": {
    "id": "DxxfFjtJdJ2w",
    "pycharm": {
     "is_executing": true
    }
   },
   "outputs": [],
   "source": [
    "nx.draw_networkx(DG, with_labels = True)\n",
    "\n",
    "# your solution here.\n",
    "\n",
    "hubs, authorities = nx.hits(DG, max_iter = 1000, normalized = True)\n",
    "\n",
    "print(\"Hub Scores: \", hubs)\n",
    "print(\"Authority Scores: \", authorities)"
   ]
  },
  {
   "cell_type": "markdown",
   "metadata": {
    "id": "WKmplnH8dJ2w"
   },
   "source": [
    "#### Adjacency matrix representation with basic operations\n",
    "\n",
    "We refrain from using the standard `Numpy` methods for transposing and multiplying matrices."
   ]
  },
  {
   "cell_type": "code",
   "execution_count": 10,
   "metadata": {
    "id": "3emlAeT1dJ2w"
   },
   "outputs": [],
   "source": [
    "def matrix_transpose(M: list) -> list:\n",
    "\n",
    "    M_out=[]\n",
    "\n",
    "    for c in range(len(M[0])):\n",
    "\n",
    "        M_out.append([])\n",
    "\n",
    "        for r in range(len(M)):\n",
    "            M_out[c].append(M[r][c])\n",
    "\n",
    "    return M_out\n",
    "\n",
    "\n",
    "def matrix_multiplication(M1: list, M2: list) -> list:\n",
    "\n",
    "    M_out=[]\n",
    "\n",
    "    for r in range(len(M1)):\n",
    "\n",
    "        M_out.append([])\n",
    "\n",
    "        for j in range(len(M2[0])):\n",
    "            e=0.0\n",
    "\n",
    "            for i in range(len(M1[r])):\n",
    "                e+=M1[r][i]*M2[i][j]\n",
    "\n",
    "            M_out[r].append(e)\n",
    "\n",
    "    return M_out"
   ]
  },
  {
   "cell_type": "markdown",
   "metadata": {
    "id": "InYbR_MFdJ2w"
   },
   "source": [
    "Now, let's test the home-brew functions."
   ]
  },
  {
   "cell_type": "code",
   "execution_count": null,
   "metadata": {
    "id": "K7uSpj-HdJ2x",
    "pycharm": {
     "is_executing": true
    }
   },
   "outputs": [],
   "source": [
    "\n",
    "adjacency_matrix1=[\n",
    "                  [0,1,0,1],\n",
    "                  [1,0,1,1],\n",
    "                  [0,1,0,0]\n",
    "                  ]\n",
    "\n",
    "adjacency_matrix2 = matrix_transpose(adjacency_matrix1)\n",
    "\n",
    "print (\"Transpose adjacency matrix:\", adjacency_matrix2)\n",
    "\n",
    "res_mul = matrix_multiplication(adjacency_matrix1, adjacency_matrix2)\n",
    "\n",
    "print (\"Matrix multiplication:\", res_mul)"
   ]
  },
  {
   "cell_type": "markdown",
   "metadata": {
    "id": "07cEZ87wdJ2x"
   },
   "source": [
    "Differently from the `Numpy` methods, our functions work with pure lists."
   ]
  },
  {
   "cell_type": "code",
   "execution_count": null,
   "metadata": {
    "id": "LoSufXlqdJ2x",
    "pycharm": {
     "is_executing": true
    }
   },
   "outputs": [],
   "source": [
    "type(res_mul)"
   ]
  },
  {
   "cell_type": "markdown",
   "metadata": {
    "id": "SgZVsIG9dJ2x"
   },
   "source": [
    "### The Power-iterations algorithm: a direct implementation"
   ]
  },
  {
   "cell_type": "code",
   "execution_count": 13,
   "metadata": {
    "id": "a4OBYFYxdJ2y"
   },
   "outputs": [],
   "source": [
    "adjacency_matrix=[\n",
    "                  [0,1,0,1],\n",
    "                  [1,0,1,1],\n",
    "                  [0,1,0,0],\n",
    "                  [1,1,0,0]\n",
    "                  ]\n",
    "vector=[\n",
    "        [0.21],\n",
    "        [0.34],\n",
    "        [0.52],\n",
    "        [0.49]\n",
    "        ]\n",
    "\n",
    "# For small examples, few iterations will be needed.\n",
    "C = 100"
   ]
  },
  {
   "cell_type": "code",
   "execution_count": null,
   "metadata": {
    "id": "ZTNrsCXgdJ2y",
    "pycharm": {
     "is_executing": true
    }
   },
   "outputs": [],
   "source": [
    "for i in range(C):\n",
    "    res = matrix_multiplication(adjacency_matrix, vector)\n",
    "\n",
    "    norm_sq = 0.0\n",
    "\n",
    "    for r in res:\n",
    "        norm_sq = norm_sq+r[0]*r[0]\n",
    "\n",
    "    vector = []\n",
    "\n",
    "    for r in res:\n",
    "         vector.append([r[0]/(norm_sq**0.5)])\n",
    "\n",
    "print (\"Maximum eigenvalue (in absolute value):\", norm_sq**0.5)\n",
    "print (\"Eigenvector for the maximum eigenvalue:\", vector)\n"
   ]
  },
  {
   "cell_type": "markdown",
   "metadata": {
    "id": "c2P5HGsxdJ2y"
   },
   "source": [
    "#### Putting it all together: computing HITS for the WWW strongly-connected component of the `.eu` domain"
   ]
  },
  {
   "cell_type": "code",
   "execution_count": 15,
   "metadata": {
    "id": "-uzj5LGtdJ2y"
   },
   "outputs": [],
   "source": [
    "# Use operator.itemgetter(1) to sort the dictionary by value\n",
    "import operator"
   ]
  },
  {
   "cell_type": "code",
   "execution_count": null,
   "metadata": {
    "id": "LemfZaAkdJ2y",
    "pycharm": {
     "is_executing": true
    }
   },
   "outputs": [],
   "source": [
    "# Your solution here\n",
    "\n",
    "#Please assign your results to lists sorted_auth and sorted_hub, respectively.\n",
    "\n",
    "print(eu_DG_SCC)\n",
    "\n",
    "(auth,hub) = HITS_algorithm(eu_DG_SCC)\n",
    "\n",
    "sorted_auth = sorted(auth.items(), key = operator.itemgetter(1))\n",
    "\n",
    "sorted_hub = sorted(hub.items(), key = operator.itemgetter(1))\n",
    "\n"
   ]
  },
  {
   "cell_type": "code",
   "execution_count": null,
   "metadata": {
    "id": "g5zMiUuidJ2z",
    "pycharm": {
     "is_executing": true
    }
   },
   "outputs": [],
   "source": [
    "\n",
    "#top ranking auth\n",
    "print (\"Top 5 by auth\")\n",
    "\n",
    "for p in sorted_auth[:5]:\n",
    "    print (dic_nodid_urls[p[0]], p[1])\n",
    "\n",
    "#top ranking hub\n",
    "print (\"Top 5 by hub\")\n",
    "\n",
    "for p in sorted_hub[:5]:\n",
    "    print (dic_nodid_urls[p[0]], p[1])"
   ]
  },
  {
   "cell_type": "markdown",
   "metadata": {
    "id": "-u-5jPTadJ2z"
   },
   "source": [
    "### Q2. Run the built-in `nx.hits` function; can you spot the differences in result?"
   ]
  },
  {
   "cell_type": "code",
   "execution_count": 18,
   "metadata": {
    "id": "3NdadmYVdJ2z"
   },
   "outputs": [],
   "source": [
    "# Your solution here\n",
    "\n",
    "#Please assign your results to lists sorted_auth and sorted_hub, respectively.\n",
    "\n",
    "hub, auth= nx.hits(eu_DG_SCC, max_iter = 50, normalized = True) #normalized True  normalized the result by the sum of all the values\n",
    "\n",
    "#(auth,hub)=HITS_algorithm(eu_DG_SCC)\n",
    "sorted_auth = sorted(auth.items(), key = operator.itemgetter(1))\n",
    "\n",
    "sorted_hub = sorted(hub.items(), key = operator.itemgetter(1))\n"
   ]
  },
  {
   "cell_type": "code",
   "execution_count": null,
   "metadata": {
    "id": "rGY3Dbj8dJ2z",
    "pycharm": {
     "is_executing": true
    }
   },
   "outputs": [],
   "source": [
    "\n",
    "print (\"Top-5 auth nodes:\")\n",
    "\n",
    "for p in sorted_auth[:5]:\n",
    "    print (dic_nodid_urls[p[0]], p[1])\n",
    "\n",
    "print (\"Top-5 hub nodes:\")\n",
    "\n",
    "for p in sorted_hub[:5]:\n",
    "    print (dic_nodid_urls[p[0]], p[1])"
   ]
  },
  {
   "cell_type": "markdown",
   "metadata": {
    "id": "RsygkmpydJ20"
   },
   "source": [
    "#### Compute the PageRank"
   ]
  },
  {
   "cell_type": "code",
   "execution_count": 20,
   "metadata": {
    "id": "X56WRlOndJ20"
   },
   "outputs": [],
   "source": [
    "def pagerank(graph, damping_factor = 0.85, max_iterations = 100, min_delta = 0.00000001):\n",
    "\n",
    "    nodes = graph.nodes()\n",
    "\n",
    "    graph_size = len(nodes)\n",
    "\n",
    "    if graph_size == 0:\n",
    "        return {}\n",
    "\n",
    "    # itialize the page rank dict with 1/N for all nodes\n",
    "    page_rank = dict.fromkeys(nodes, (1.0-damping_factor)*1.0/ graph_size)\n",
    "\n",
    "    min_value = (1.0-damping_factor)/len(nodes)\n",
    "\n",
    "    for _ in range(max_iterations):\n",
    "        #total difference compared to last iteraction\n",
    "        diff = 0\n",
    "\n",
    "        # computes each node PageRank based on inbound links\n",
    "        for node in nodes:\n",
    "            rank = min_value\n",
    "\n",
    "            for referring_page in graph.predecessors(node):\n",
    "                rank += damping_factor * page_rank[referring_page]/ \\\n",
    "                len(list(graph.neighbors(referring_page)))\n",
    "\n",
    "            diff += abs(page_rank[node] - rank)\n",
    "\n",
    "            page_rank[node] = rank\n",
    "\n",
    "        #stop if PageRank has converged\n",
    "        if diff < min_delta:\n",
    "            break\n",
    "\n",
    "    return page_rank"
   ]
  },
  {
   "cell_type": "markdown",
   "metadata": {
    "id": "tRXvQ6ysdJ20"
   },
   "source": [
    "#### The Networkx version of [PageRank](http://networkx.github.io/documentation/latest/reference/generated/networkx.algorithms.link_analysis.pagerank_alg.pagerank.html)"
   ]
  },
  {
   "cell_type": "code",
   "execution_count": null,
   "metadata": {
    "id": "MmRjBUoudJ20",
    "pycharm": {
     "is_executing": true
    }
   },
   "outputs": [],
   "source": [
    "G = nx.DiGraph()\n",
    "\n",
    "G.add_edges_from([(1, 2), (2, 3), (3, 4), (3, 1), (4, 2)])\n",
    "#plot the network\n",
    "\n",
    "nx.draw(G, with_labels = True)\n",
    "\n",
    "#our Page Rank algorithm\n",
    "res_pr=pagerank(G, max_iterations = 10000, min_delta = 0.00000001, damping_factor = 0.85)\n",
    "print (res_pr)\n",
    "\n",
    "#Networkx Pagerank function\n",
    "print (nx.pagerank(G,max_iter = 10000))"
   ]
  },
  {
   "cell_type": "markdown",
   "metadata": {
    "id": "aNVkV1d-dJ21"
   },
   "source": [
    "#### The Twitter Mention Network\n",
    "\n",
    "Please skip this section as we don't access Twitter/X data anymore; proceed to he `Scwiki` section below."
   ]
  },
  {
   "cell_type": "markdown",
   "metadata": {
    "id": "3i69aK19dJ21"
   },
   "source": [
    "#### Community Detection for the `Scwiki` network"
   ]
  },
  {
   "cell_type": "code",
   "execution_count": 22,
   "metadata": {
    "id": "pvGv3sU-dJ21"
   },
   "outputs": [],
   "source": [
    "SCWIKI = './data/scwiki_edgelist.dat'\n",
    "\n",
    "TITLES = './data/scwiki_page_titles.dat'"
   ]
  },
  {
   "cell_type": "markdown",
   "metadata": {
    "id": "5wzmwH7qdJ21"
   },
   "source": [
    "Warning: in `.eu` there are pages in the Sardinian language (and perhaps others) which require a specific coding on your own platform."
   ]
  },
  {
   "cell_type": "code",
   "execution_count": null,
   "metadata": {
    "id": "uJWGXGALdJ21",
    "pycharm": {
     "is_executing": true
    }
   },
   "outputs": [],
   "source": [
    "#load the directed and undirected version of the scwiki graph\n",
    "scwiki_pagelinks_net_dir = nx.read_edgelist(SCWIKI, create_using = nx.DiGraph())\n",
    "\n",
    "scwiki_pagelinks_net = nx.read_edgelist(SCWIKI)\n",
    "\n",
    "#load the page titles\n",
    "diz_titles = {}\n",
    "\n",
    "file_titles = open(TITLES, 'r', encoding='utf-8')\n",
    "\n",
    "while True:\n",
    "    next_line = file_titles.readline()\n",
    "\n",
    "    if not next_line:\n",
    "        break\n",
    "\n",
    "    print (next_line.split()[0], next_line.split()[1])\n",
    "\n",
    "    diz_titles[next_line.split()[0]] = next_line.split()[1]\n",
    "\n",
    "file_titles.close()"
   ]
  }
 ],
 "metadata": {
  "kernelspec": {
   "display_name": "Python 3",
   "language": "python",
   "name": "python3"
  },
  "language_info": {
   "codemirror_mode": {
    "name": "ipython",
    "version": 3
   },
   "file_extension": ".py",
   "mimetype": "text/x-python",
   "name": "python",
   "nbconvert_exporter": "python",
   "pygments_lexer": "ipython3",
   "version": "3.12.4"
  },
  "colab": {
   "provenance": []
  }
 },
 "nbformat": 4,
 "nbformat_minor": 0
}