{
  "cells": [
    {
      "cell_type": "markdown",
      "metadata": {
        "id": "Aj_-zCoDc7Sx"
      },
      "source": [
        "## DSTA\n",
        "\n",
        "### Chapter IV - WWW, Wiki and Online social networks.\n",
        "\n",
        "#### This __exercise__ notebook is taken from the notebook for Ch. 4 of Caldarelli-Cheesa's textbook (CC).\n",
        "\n",
        "Please see the [class repository]() for the datasets and the __solution notebook__."
      ]
    },
    {
      "cell_type": "code",
      "execution_count": null,
      "metadata": {
        "id": "m8_dm3ETc7S2"
      },
      "outputs": [],
      "source": [
        "import numpy as np\n",
        "\n",
        "import matplotlib.pyplot as plt\n",
        "\n",
        "import networkx as nx\n"
      ]
    },
    {
      "cell_type": "markdown",
      "metadata": {
        "id": "oZF8-H05c7S4"
      },
      "source": [
        "#### Get data from The Laboratory for Web Algorithmics"
      ]
    },
    {
      "cell_type": "markdown",
      "metadata": {
        "id": "8LKi2A_3c7S5"
      },
      "source": [
        "#### This is the page with the datasets: http://law.di.unimi.it/datasets.php"
      ]
    },
    {
      "cell_type": "markdown",
      "metadata": {
        "id": "kwLCfr1Oc7S5"
      },
      "source": [
        "It is possible to download a network in a WebGraph format that is a compressed binary format.\n",
        "\n",
        "The project provides various clients to extract the network strcture, in Java, C++ and in Python, py-web-graph: http://webgraph.di.unimi.it/.\n",
        "\n",
        "In particular we got the graph and the related urls associated to each node of the .eu domain in 2005: http://law.di.unimi.it/webdata/eu-2005/.\n",
        "\n",
        " We exctracted the graph in a form of an edge list and we also got the file with the list of urls in the same order of the node_id"
      ]
    },
    {
      "cell_type": "code",
      "execution_count": null,
      "metadata": {
        "id": "ZQDGA-p0c7S6"
      },
      "outputs": [],
      "source": [
        "ARCSFILE = './data/eu-2005_1M.arcs'\n",
        "URLSFILE = './data/eu-2005.urls'"
      ]
    },
    {
      "cell_type": "code",
      "execution_count": null,
      "metadata": {
        "id": "nzZ3urAnc7S6"
      },
      "outputs": [],
      "source": [
        "#defining the eu directed graph\n",
        "eu_DG = nx.DiGraph()\n",
        "#retrieve just the portion of the first 1M edges of the .eu domain\n",
        "#crawled in 2005\n",
        "eu_DG = nx.read_edgelist(ARCSFILE, create_using = nx.DiGraph())\n",
        "\n",
        "#generate the dictionary of node_is -> urls\n",
        "file_urls = open(URLSFILE)\n",
        "\n",
        "count = 0\n",
        "\n",
        "dic_nodid_urls = {}\n",
        "\n",
        "while True:\n",
        "    next_line = file_urls.readline()\n",
        "\n",
        "    if not next_line:\n",
        "        break\n",
        "\n",
        "    next_line[:-1]\n",
        "    dic_nodid_urls[str(count)] = next_line[:-1]\n",
        "    count = count+1\n",
        "\n",
        "file_urls.close()\n",
        "\n",
        "#generate the strongly connected component\n",
        "scc = [(len(c),c) for c in sorted( nx.strongly_connected_components \\\n",
        "                               (eu_DG), key=len, reverse=True)][0][1]\n",
        "\n",
        "eu_DG_SCC = eu_DG.subgraph(scc)\n"
      ]
    },
    {
      "cell_type": "code",
      "execution_count": null,
      "metadata": {
        "id": "uByMvtBvc7S7"
      },
      "outputs": [],
      "source": [
        "l = [e for e in eu_DG_SCC.edges]"
      ]
    },
    {
      "cell_type": "code",
      "execution_count": null,
      "metadata": {
        "id": "x0I6GeVEc7S8"
      },
      "outputs": [],
      "source": [
        "l[:5]"
      ]
    },
    {
      "cell_type": "markdown",
      "metadata": {
        "id": "2OS4IHiMc7S9"
      },
      "source": [
        "#### Retrieving data through the  [Twitter API](https://dev.twitter.com/docs) usign the [Twython](http://twython.readthedocs.org/en/latest/) module\n",
        "\n",
        "This part is not in use anymore as the TwitterAPI does not generally serve data anymore: we get a `403` error.\n",
        "\n",
        "Please proceed to the 'HITS algorithm' section below."
      ]
    },
    {
      "cell_type": "markdown",
      "metadata": {
        "id": "JlB8sLkYc7S9"
      },
      "source": [
        "## Hits algorithm"
      ]
    },
    {
      "cell_type": "markdown",
      "metadata": {
        "id": "ZHm_zXXMc7S9"
      },
      "source": [
        "##### Create a simple labeled network: the 'four triangles' network"
      ]
    },
    {
      "cell_type": "code",
      "execution_count": null,
      "metadata": {
        "id": "IxYNoBDOc7S-"
      },
      "outputs": [],
      "source": [
        "DG = nx.DiGraph()\n",
        "\n",
        "DG.add_edges_from([('A','B'),('B','C'),('A','D'), \\\n",
        "                   ('D','B'),('C','D'),('C','A')])\n",
        "\n",
        "#plot the graph\n",
        "nx.draw(DG, with_labels = True)"
      ]
    },
    {
      "cell_type": "markdown",
      "metadata": {
        "id": "4BMCAluRc7S-"
      },
      "source": [
        "The network has a certain symmetry: each node has in-degree of 2 and out-degree of 1 or vice versa.\n",
        "\n",
        "\n",
        "#### Direct implementation of the [HITS algorithm](https://en.wikipedia.org/wiki/HITS_algorithm) by [Kleinberg](https://en.wikipedia.org/wiki/Jon_Kleinberg)."
      ]
    },
    {
      "cell_type": "code",
      "execution_count": null,
      "metadata": {
        "id": "gP3tiVfzc7S-"
      },
      "outputs": [],
      "source": [
        "def HITS_algorithm(DG, K=1000):\n",
        "    ''' input: -a networkx DiGraph\n",
        "               -the K maximum number of iterations\n",
        "\n",
        "        output: two dictionaries containing the hub and authority scores, resp.\n",
        "    '''\n",
        "\n",
        "    auth={}\n",
        "    hub={}\n",
        "\n",
        "\n",
        "    for n in DG.nodes():\n",
        "        auth[n]=1.0\n",
        "        hub[n]=1.0\n",
        "\n",
        "    for k in range(K):\n",
        "\n",
        "        norm = 0.0\n",
        "\n",
        "        for n in DG.nodes():\n",
        "\n",
        "            auth[n]=0.0\n",
        "\n",
        "            # REMINDER: a predecessor of a node n is a node m\n",
        "            # such that there is a direct edge from m to n\n",
        "            for p in DG.predecessors(n):\n",
        "                auth[n] += hub[p]\n",
        "\n",
        "            norm += auth[n]**2.0\n",
        "\n",
        "        norm = norm**0.5\n",
        "\n",
        "        for n in DG.nodes():\n",
        "            auth[n] = auth[n]/norm\n",
        "\n",
        "        norm=0.0\n",
        "\n",
        "        for n in DG.nodes():\n",
        "            hub[n] = 0.0\n",
        "\n",
        "            for s in DG.successors(n):\n",
        "                hub[n] += auth[s]\n",
        "\n",
        "            norm += hub[n]**2.0\n",
        "\n",
        "        norm=norm**0.5\n",
        "\n",
        "        for n in DG.nodes():\n",
        "            hub[n]=hub[n]/norm\n",
        "\n",
        "        return auth,hub\n"
      ]
    },
    {
      "cell_type": "markdown",
      "metadata": {
        "id": "5Iag8XZzc7S-"
      },
      "source": [
        "#### Let's put HITS to test."
      ]
    },
    {
      "cell_type": "code",
      "execution_count": null,
      "metadata": {
        "id": "YWIT3WAzc7S_"
      },
      "outputs": [],
      "source": [
        "(auth, hub) = HITS_algorithm(DG, K=100)\n",
        "\n",
        "print (auth)\n",
        "print (hub)"
      ]
    },
    {
      "cell_type": "markdown",
      "metadata": {
        "id": "bdLjwRnuc7S_"
      },
      "source": [
        "### Q1.  Use built in hits function to find hub and authority scores.\n",
        "\n",
        "Can you spot the differences in result?"
      ]
    },
    {
      "cell_type": "code",
      "execution_count": null,
      "metadata": {
        "id": "jCGpt9cOc7S_"
      },
      "outputs": [],
      "source": [
        "nx.draw_networkx(DG, with_labels = True)\n",
        "\n",
        "# your solution here."
      ]
    },
    {
      "cell_type": "markdown",
      "metadata": {
        "id": "cwX8gLGhc7S_"
      },
      "source": [
        "#### Adjacency matrix representation with basic operations\n",
        "\n",
        "We refrain from using the standard `Numpy` methods for transposing and multiplying matrices."
      ]
    },
    {
      "cell_type": "code",
      "execution_count": null,
      "metadata": {
        "id": "JEAb39xAc7TA"
      },
      "outputs": [],
      "source": [
        "def matrix_transpose(M):\n",
        "\n",
        "    M_out=[]\n",
        "\n",
        "    for c in range(len(M[0])):\n",
        "\n",
        "        M_out.append([])\n",
        "\n",
        "        for r in range(len(M)):\n",
        "            M_out[c].append(M[r][c])\n",
        "\n",
        "    return M_out\n",
        "\n",
        "\n",
        "def matrix_multiplication(M1, M2):\n",
        "\n",
        "    M_out=[]\n",
        "\n",
        "    for r in range(len(M1)):\n",
        "\n",
        "        M_out.append([])\n",
        "\n",
        "        for j in range(len(M2[0])):\n",
        "            e=0.0\n",
        "\n",
        "            for i in range(len(M1[r])):\n",
        "                e+=M1[r][i]*M2[i][j]\n",
        "\n",
        "            M_out[r].append(e)\n",
        "\n",
        "    return M_out\n"
      ]
    },
    {
      "cell_type": "markdown",
      "metadata": {
        "id": "C0qHfS9jc7TA"
      },
      "source": [
        "Now, let's test the home-brew functions."
      ]
    },
    {
      "cell_type": "code",
      "execution_count": null,
      "metadata": {
        "id": "gSoj72Jcc7TB"
      },
      "outputs": [],
      "source": [
        "\n",
        "adjacency_matrix1=[\n",
        "                  [0,1,0,1],\n",
        "                  [1,0,1,1],\n",
        "                  [0,1,0,0]\n",
        "                  ]\n",
        "\n",
        "adjacency_matrix2 = matrix_transpose(adjacency_matrix1)\n",
        "\n",
        "print (\"Transpose adjacency matrix:\", adjacency_matrix2)\n",
        "\n",
        "res_mul = matrix_multiplication(adjacency_matrix1, adjacency_matrix2)\n",
        "\n",
        "print (\"Matrix multiplication:\", res_mul)"
      ]
    },
    {
      "cell_type": "markdown",
      "metadata": {
        "id": "341nFPeuc7TB"
      },
      "source": [
        "Differently from the `Numpy` methods, our functions work with pure lists."
      ]
    },
    {
      "cell_type": "code",
      "execution_count": null,
      "metadata": {
        "id": "Gbm_YO0Dc7TC"
      },
      "outputs": [],
      "source": [
        "type(res_mul)"
      ]
    },
    {
      "cell_type": "markdown",
      "metadata": {
        "id": "8DbelI74c7TC"
      },
      "source": [
        "### The Power-iterations algorithm: a direct implementation"
      ]
    },
    {
      "cell_type": "code",
      "execution_count": null,
      "metadata": {
        "id": "ecMjG_NOc7TD"
      },
      "outputs": [],
      "source": [
        "adjacency_matrix=[\n",
        "                  [0,1,0,1],\n",
        "                  [1,0,1,1],\n",
        "                  [0,1,0,0],\n",
        "                  [1,1,0,0]\n",
        "                  ]\n",
        "vector=[\n",
        "        [0.21],\n",
        "        [0.34],\n",
        "        [0.52],\n",
        "        [0.49]\n",
        "        ]\n",
        "\n",
        "# For small examples, few iterations will be needed.\n",
        "C = 100"
      ]
    },
    {
      "cell_type": "code",
      "execution_count": null,
      "metadata": {
        "id": "EsbrgQl_c7TD"
      },
      "outputs": [],
      "source": [
        "for i in range(C):\n",
        "    res = matrix_multiplication(adjacency_matrix, vector)\n",
        "\n",
        "    norm_sq = 0.0\n",
        "\n",
        "    for r in res:\n",
        "        norm_sq = norm_sq+r[0]*r[0]\n",
        "\n",
        "    vector = []\n",
        "\n",
        "    for r in res:\n",
        "         vector.append([r[0]/(norm_sq**0.5)])\n",
        "\n",
        "print (\"Maximum eigenvalue (in absolute value):\", norm_sq**0.5)\n",
        "print (\"Eigenvector for the maximum eigenvalue:\", vector)\n"
      ]
    },
    {
      "cell_type": "markdown",
      "metadata": {
        "id": "8MEiTsHvc7TD"
      },
      "source": [
        "#### Putting it all together: computing HITS for the WWW strongly-connected component of the `.eu` domain"
      ]
    },
    {
      "cell_type": "code",
      "execution_count": null,
      "metadata": {
        "id": "rgeSsO8Dc7TD"
      },
      "outputs": [],
      "source": [
        "# Use operator.itemgetter(1) to sort the dictionary by value\n",
        "import operator"
      ]
    },
    {
      "cell_type": "code",
      "execution_count": null,
      "metadata": {
        "id": "FprcchM8c7TD"
      },
      "outputs": [],
      "source": [
        "# Your solution here\n",
        "\n",
        "#Please assign your results to lists sorted_auth and sorted_hub, respectively.\n",
        "\n",
        "\n"
      ]
    },
    {
      "cell_type": "code",
      "execution_count": null,
      "metadata": {
        "id": "vGJn9ooBc7TE"
      },
      "outputs": [],
      "source": [
        "#top ranking auth\n",
        "print (\"Top 5 by auth\")\n",
        "\n",
        "for p in sorted_auth[:5]:\n",
        "    print (dic_nodid_urls[p[0]], p[1])\n",
        "\n",
        "#top ranking hub\n",
        "print (\"Top 5 by hub\")\n",
        "\n",
        "for p in sorted_hub[:5]:\n",
        "    print (dic_nodid_urls[p[0]], p[1])"
      ]
    },
    {
      "cell_type": "markdown",
      "metadata": {
        "id": "O2n3sq9fc7TE"
      },
      "source": [
        "### Q2. Run the built-in `nx.hits` function; can you spot the differences in result?"
      ]
    },
    {
      "cell_type": "code",
      "execution_count": null,
      "metadata": {
        "id": "o48XCoRmc7TE"
      },
      "outputs": [],
      "source": [
        "# Your solution here\n",
        "\n",
        "#Please assign your results to lists sorted_auth and sorted_hub, respectively.\n"
      ]
    },
    {
      "cell_type": "code",
      "execution_count": null,
      "metadata": {
        "id": "45GrCrp8c7TE"
      },
      "outputs": [],
      "source": [
        "\n",
        "\n",
        "print (\"Top-5 auth nodes:\")\n",
        "\n",
        "for p in sorted_auth[:5]:\n",
        "    print (dic_nodid_urls[p[0]], p[1])\n",
        "\n",
        "print (\"Top-5 hub nodes:\")\n",
        "\n",
        "for p in sorted_hub[:5]:\n",
        "    print (dic_nodid_urls[p[0]], p[1])"
      ]
    },
    {
      "cell_type": "markdown",
      "metadata": {
        "id": "MRhyOPNCc7TE"
      },
      "source": [
        "#### Compute the PageRank"
      ]
    },
    {
      "cell_type": "code",
      "execution_count": null,
      "metadata": {
        "id": "PB-Rdj2ac7TE"
      },
      "outputs": [],
      "source": [
        "def pagerank(graph, damping_factor = 0.85, max_iterations = 100, min_delta = 0.00000001):\n",
        "\n",
        "    nodes = graph.nodes()\n",
        "\n",
        "    graph_size = len(nodes)\n",
        "\n",
        "    if graph_size == 0:\n",
        "        return {}\n",
        "\n",
        "    # itialize the page rank dict with 1/N for all nodes\n",
        "    pagerank = dict.fromkeys(nodes, (1.0-damping_factor)*1.0/ graph_size)\n",
        "\n",
        "    min_value = (1.0-damping_factor)/len(nodes)\n",
        "\n",
        "    for i in range(max_iterations):\n",
        "        #total difference compared to last iteraction\n",
        "        diff = 0\n",
        "\n",
        "        # computes each node PageRank based on inbound links\n",
        "        for node in nodes:\n",
        "            rank = min_value\n",
        "\n",
        "            for referring_page in graph.predecessors(node):\n",
        "                rank += damping_factor * pagerank[referring_page]/ \\\n",
        "                len(list(graph.neighbors(referring_page)))\n",
        "\n",
        "            diff += abs(pagerank[node] - rank)\n",
        "\n",
        "            pagerank[node] = rank\n",
        "\n",
        "        #stop if PageRank has converged\n",
        "        if diff < min_delta:\n",
        "            break\n",
        "\n",
        "    return pagerank"
      ]
    },
    {
      "cell_type": "markdown",
      "metadata": {
        "id": "NxbmZHyhc7TF"
      },
      "source": [
        "#### The Networkx version of [PageRank](http://networkx.github.io/documentation/latest/reference/generated/networkx.algorithms.link_analysis.pagerank_alg.pagerank.html)"
      ]
    },
    {
      "cell_type": "code",
      "execution_count": null,
      "metadata": {
        "id": "NqNhPQe0c7TF"
      },
      "outputs": [],
      "source": [
        "G = nx.DiGraph()\n",
        "\n",
        "G.add_edges_from([(1, 2), (2, 3), (3, 4), (3, 1), (4, 2)])\n",
        "#plot the network\n",
        "\n",
        "nx.draw(G, with_labels = True)\n",
        "\n",
        "#our Page Rank algorithm\n",
        "res_pr=pagerank(G, max_iterations = 10000, min_delta = 0.00000001, damping_factor = 0.85)\n",
        "print (res_pr)\n",
        "\n",
        "#Networkx Pagerank function\n",
        "print (nx.pagerank(G,max_iter = 10000))"
      ]
    },
    {
      "cell_type": "markdown",
      "metadata": {
        "id": "RUxMUmTjc7TG"
      },
      "source": [
        "#### The Twitter Mention Network\n",
        "\n",
        "Please skip this section as we don't access Twitter/X data anymore; proceed to he `Scwiki` section below."
      ]
    },
    {
      "cell_type": "markdown",
      "metadata": {
        "id": "MF10dVRWc7TG"
      },
      "source": [
        "#### Community Detection for the `Scwiki` network"
      ]
    },
    {
      "cell_type": "code",
      "execution_count": null,
      "metadata": {
        "id": "hyegjqF5c7TG"
      },
      "outputs": [],
      "source": [
        "SCWIKI = './data/scwiki_edgelist.dat'\n",
        "\n",
        "TITLES = './data/scwiki_page_titles.dat'"
      ]
    },
    {
      "cell_type": "markdown",
      "metadata": {
        "id": "DJPotZauc7TH"
      },
      "source": [
        "Warning: in `.eu` there are pages in the Sardinian language (and perhaps others) which require a specific coding on your own platform."
      ]
    },
    {
      "cell_type": "code",
      "execution_count": null,
      "metadata": {
        "id": "R2T0y9ckc7TH"
      },
      "outputs": [],
      "source": [
        "#load the directed and undirected version og the scwiki graph\n",
        "scwiki_pagelinks_net_dir = nx.read_edgelist(SCWIKI, create_using = nx.DiGraph())\n",
        "\n",
        "scwiki_pagelinks_net = nx.read_edgelist(SCWIKI)\n",
        "\n",
        "#load the page titles\n",
        "diz_titles = {}\n",
        "\n",
        "file_titles = open(TITLES, 'r')\n",
        "\n",
        "while True:\n",
        "    next_line = file_titles.readline()\n",
        "\n",
        "    if not next_line:\n",
        "        break\n",
        "\n",
        "    print (next_line.split()[0], next_line.split()[1])\n",
        "\n",
        "    diz_titles[next_line.split()[0]] = next_line.split()[1]\n",
        "\n",
        "file_titles.close()"
      ]
    }
  ],
  "metadata": {
    "kernelspec": {
      "display_name": "Python 3",
      "language": "python",
      "name": "python3"
    },
    "language_info": {
      "codemirror_mode": {
        "name": "ipython",
        "version": 3
      },
      "file_extension": ".py",
      "mimetype": "text/x-python",
      "name": "python",
      "nbconvert_exporter": "python",
      "pygments_lexer": "ipython3",
      "version": "3.12.4"
    },
    "colab": {
      "provenance": []
    }
  },
  "nbformat": 4,
  "nbformat_minor": 0
}