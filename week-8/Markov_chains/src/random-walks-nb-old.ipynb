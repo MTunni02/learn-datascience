{
 "cells": [
  {
   "cell_type": "markdown",
   "metadata": {},
   "source": [
    "### Random walks and image segmentation\n",
    "\n",
    "Via simple examples we visualise the use of random walks for image segmentation<!-- .slide: data-fullscreen -->\n",
    "\n",
    "At the beginning, images are represented as a grid networks of pixels, each one having a color value. \n",
    "\n",
    "By making the walkers avoid neighbour pixels that are too `different` from the one they're on, we are forcing them to stay in the same region of the image, thus segmenting it.\n"
   ]
  },
  {
   "cell_type": "code",
   "execution_count": null,
   "metadata": {},
   "outputs": [],
   "source": [
    "import numpy as np\n",
    "\n",
    "import scipy as sp\n",
    "\n",
    "import random as rand\n",
    "\n",
    "import matplotlib.pyplot as plt\n",
    "\n",
    "from PIL import Image"
   ]
  },
  {
   "cell_type": "markdown",
   "metadata": {},
   "source": [
    "Let's look at the benckmark image seen in class, a B29 Stratofortress flying over a cloudy sky: can we automatically detect it?\n",
    "\n",
    "That is image 3096 the [Berkley Segmentation Dataset and Benchmark](https://www2.eecs.berkeley.edu/Research/Projects/CS/vision/bsds/)\n",
    "\n",
    "The image below (a JPG version of the original PNG image) is $481\\times 321=154,401$ pixels in size.\n",
    "\n",
    "\n",
    " A simplified dataset it the [BSD68 benckmark dataset](https://github.com/clausmichele/CBSD68-dataset/tree/master) which is a collection of images with a ground truth-segmentation mask that is used to benchmark *denoising*"
   ]
  },
  {
   "cell_type": "markdown",
   "metadata": {},
   "source": [
    "![](https://raw.githubusercontent.com/clausmichele/CBSD68-dataset/master/CBSD68/groundtruth/airplane.png)"
   ]
  },
  {
   "cell_type": "markdown",
   "metadata": {},
   "source": [
    "<img src=\"data:image/jpeg;base64,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\">"
   ]
  },
  {
   "cell_type": "markdown",
   "metadata": {},
   "source": [
    "Find the original image and some example segmentations at [eecs.berkeley.edu/Research/Projects/CS/vision/bsds/BSDS300/html/dataset/images/color/3096.html](https://www2.eecs.berkeley.edu/Research/Projects/CS/vision/bsds/BSDS300/html/dataset/images/color/3096.html)"
   ]
  },
  {
   "cell_type": "markdown",
   "metadata": {},
   "source": [
    "The random walks are started from a set of `seed` pixels, which are the ones we want to keep in the same segment."
   ]
  },
  {
   "cell_type": "code",
   "execution_count": null,
   "metadata": {},
   "outputs": [],
   "source": [
    "IMGFILE = './imgs/0000.png'"
   ]
  },
  {
   "cell_type": "code",
   "execution_count": null,
   "metadata": {},
   "outputs": [],
   "source": [
    "bitmap = Image.open(IMGFILE)"
   ]
  },
  {
   "cell_type": "code",
   "execution_count": null,
   "metadata": {},
   "outputs": [],
   "source": [
    "# is it the right image?\n",
    "# bitmap"
   ]
  },
  {
   "cell_type": "code",
   "execution_count": null,
   "metadata": {},
   "outputs": [],
   "source": [
    "matrix = np.array(bitmap)\n",
    "\n",
    "print(matrix.shape)"
   ]
  },
  {
   "cell_type": "code",
   "execution_count": null,
   "metadata": {},
   "outputs": [],
   "source": [
    "# the key dimensions\n",
    "shape_2d = matrix.shape[:2]\n",
    "n_rows, n_cols = shape_2d\n",
    "\n",
    "n_rows\n",
    "n_cols"
   ]
  },
  {
   "cell_type": "markdown",
   "metadata": {},
   "source": [
    "#### Norms\n",
    "\n",
    "Compute the difference, in color, between adjacent pixels.\n",
    "\n",
    "Such difference is the norm of the difference vector in the 3-dimensional *space of color,* where values are in the 0..255 interval.\n",
    "\n",
    "This is the formula from the slides:\n",
    "\n",
    "$|p_{ij}|_3 = \\frac{1}{\\sqrt{3}} \\sqrt{\\frac{p^{red}_{ij}+p^{green}_{ij}+p^{blue}_{ij}}{255}}$\n",
    "\n",
    "Here i and j are adjacency indices, so for a given pixel $i$ there up to for adjacent pixels $j$: the one on the right, the one above, the one on the left and the one below<!-- .slide: data-fullscreen -->\n",
    "Special cases:\n",
    "\n",
    "- $i$ is in the corner: $(0,0)$, $(0, n\\_cols)$, $(n\\_rows,0)$ and $(n\\_rows, n\\_cols)$: only two ajacents<!-- .slide: data-fullscreen -->\n",
    "- $i$ is in the frame of the image: only three adjacents."
   ]
  },
  {
   "cell_type": "code",
   "execution_count": null,
   "metadata": {},
   "outputs": [],
   "source": [
    "def pixel_norm(pixel)->float:\n",
    "    red = pixel[0]\n",
    "    green = pixel[1]\n",
    "    blue = pixel[2]\n",
    "\n",
    "    denominator = np.sqrt((red + green + blue)/255)\n",
    "    \n",
    "    return denominator/np.sqrt(3)"
   ]
  },
  {
   "cell_type": "markdown",
   "metadata": {},
   "source": [
    "Compute the raw differences, then normalise them as they will be the probability distribution for the fairweather fan walking around.\n",
    "\n",
    "for each pixel, identified by the (r,c) coordinates, the third dimension will be the distance to the right, above, left, and below pixels, respectively."
   ]
  },
  {
   "cell_type": "code",
   "execution_count": null,
   "metadata": {},
   "outputs": [],
   "source": [
    "distances = np.zeros((n_rows, n_cols, 4))\n",
    "\n",
    "for r in range(n_rows):\n",
    "    for c in range(n_cols):\n",
    "        pixel = matrix[r, c, :]\n",
    "        \n",
    "        spot_value = pixel_norm(pixel)\n",
    "        print(f\"Processing pixel at ({r}, {c}) with RGB = {matrix[r, c, :]} and normalized value = {spot_value:.4f}\")\n",
    "        # distance to the pixel to the right\n",
    "        if c < n_cols-2:\n",
    "            distances[r][c][0] = np.abs(spot_value - pixel_norm(matrix[r, c+1, :]))\n",
    "\n",
    "        # distance to the pixel above\n",
    "        if r > 0:\n",
    "            distances[r][c][1] = np.abs(spot_value - pixel_norm(matrix[r-1, c, :]))\n",
    "            \n",
    "        # distance to the pixel to the left\n",
    "        if c > 0:\n",
    "            distances[r][c][2] = np.abs(spot_value - pixel_norm(matrix[r, c-1, :]))\n",
    "        \n",
    "        # it can move to the left\n",
    "        if r < n_rows-2:\n",
    "            distances[r][c][3] = np.abs(spot_value - pixel_norm(matrix[r+1, c, :]))\n",
    "        "
   ]
  },
  {
   "cell_type": "markdown",
   "metadata": {},
   "source": [
    "Make the third dimension into a prob. distribution."
   ]
  },
  {
   "cell_type": "code",
   "execution_count": null,
   "metadata": {},
   "outputs": [],
   "source": [
    "for r in range(n_rows):\n",
    "    for c in range(n_cols):\n",
    "        sum = np.sum(distances[r, c, :])\n",
    "\n",
    "        distances[r, c, :] = np.where(sum != 0, distances[r, c, :] / sum, 0)\n",
    "        print(r, c, distances[r, c, :], distances[r, c, :].sum())\n"
   ]
  },
  {
   "cell_type": "markdown",
   "metadata": {},
   "source": [
    "#### Random walks\n"
   ]
  },
  {
   "cell_type": "code",
   "execution_count": null,
   "metadata": {},
   "outputs": [],
   "source": [
    "WALKERS = 100\n",
    "\n",
    "# Lenght of the walk\n",
    "STEPS = 10000"
   ]
  },
  {
   "cell_type": "markdown",
   "metadata": {},
   "source": [
    "Boundaries is the matrix/image recording the walks"
   ]
  },
  {
   "cell_type": "code",
   "execution_count": null,
   "metadata": {},
   "outputs": [],
   "source": [
    "boundaries = np.zeros([n_rows, n_cols, 1])\n",
    "\n",
    "print(boundaries.shape)"
   ]
  },
  {
   "cell_type": "code",
   "execution_count": null,
   "metadata": {},
   "outputs": [],
   "source": [
    "# seed it to the room number you are in when running it\n",
    "seed = np.random.RandomState(407)\n",
    "\n",
    "rng = np.random.default_rng()"
   ]
  },
  {
   "cell_type": "markdown",
   "metadata": {},
   "source": [
    "Now we run a number (`WALKERS`) of separated random walkers, each covering a number (`STEPS`) of steps<!-- .slide: data-fullscreen -->\n",
    "\n",
    "This corresponds, in the *fair-weather fan* scenario, to the fairweather fans attending `STEPS` games."
   ]
  },
  {
   "cell_type": "code",
   "execution_count": null,
   "metadata": {},
   "outputs": [],
   "source": [
    "walks = np.zeros((WALKERS, STEPS+1, 2), dtype=int)"
   ]
  },
  {
   "cell_type": "code",
   "execution_count": null,
   "metadata": {},
   "outputs": [],
   "source": [
    "for w in range(WALKERS):\n",
    "\n",
    "    # land the walker at a random pixel\n",
    "    x = rand.randint(0, n_rows)\n",
    "    y = rand.randint(0, n_cols)\n",
    "    \n",
    "    walks[w][0] = [x,y]\n",
    "    \n",
    "    for i in range(1, STEPS):\n",
    "\n",
    "        x, y = walks[w][i-1]\n",
    "\n",
    "        neighbors = []\n",
    "\n",
    "        # it can move to the right\n",
    "        if x < n_rows - 2:\n",
    "            neighbors.append((x+1, y))\n",
    "        else:\n",
    "            # this is padded in order to avoid index errors\n",
    "            neighbors.append((x, y))\n",
    "\n",
    "        # it can move up\n",
    "        if y > 0:\n",
    "            neighbors.append((x, y-1))\n",
    "        else:\n",
    "            # this is padded in order to avoid index errors\n",
    "            neighbors.append((x, y))\n",
    "            \n",
    "        # it can move to the left\n",
    "        if x > 0:\n",
    "            neighbors.append((x-1, y))            \n",
    "        else:\n",
    "            # this is padded in order to avoid index errors\n",
    "            neighbors.append((x, y))\n",
    "            \n",
    "        # it can move down\n",
    "        if y < n_cols - 2:\n",
    "            neighbors.append((x, y+1))\n",
    "        else:\n",
    "            # this is padded in order to avoid index errors\n",
    "            neighbors.append((x, y))        \n",
    "\n",
    "        print(neighbors)\n",
    "        print(distances[x, y, :])\n",
    "        next_step = rng.choice(neighbors, 1, p=distances[x, y, :])\n",
    "\n",
    "        walks[w][i][:] = (next_step[0][0], next_step[0][1])\n",
    "\n",
    "        \n",
    "        # light up the pixel as it passess through\n",
    "        # TODO: log the increment to avoid overflooding over 255\n",
    "        boundaries[x, y, 0] += 1\n",
    "        "
   ]
  },
  {
   "cell_type": "markdown",
   "metadata": {},
   "source": [
    "Let's visualise the result."
   ]
  },
  {
   "cell_type": "code",
   "execution_count": null,
   "metadata": {},
   "outputs": [],
   "source": [
    "plt.matshow(boundaries[ : , : , 0], cmap='gray')\n",
    "plt.axis('off')\n",
    "plt.show()"
   ]
  }
 ],
 "metadata": {
  "kernelspec": {
   "display_name": "Python 3",
   "language": "python",
   "name": "python3"
  },
  "language_info": {
   "codemirror_mode": {
    "name": "ipython",
    "version": 3
   },
   "file_extension": ".py",
   "mimetype": "text/x-python",
   "name": "python",
   "nbconvert_exporter": "python",
   "pygments_lexer": "ipython3",
   "version": "3.13.5"
  }
 },
 "nbformat": 4,
 "nbformat_minor": 1
}
