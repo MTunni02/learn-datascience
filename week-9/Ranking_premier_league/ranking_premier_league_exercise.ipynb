{
 "cells": [
  {
   "cell_type": "markdown",
   "metadata": {
    "collapsed": false
   },
   "source": [
    "#### Rating and Ranking with Massey's and Keener's Methods:\n",
    "\n",
    "#### The Premier League case\n",
    "\n",
    "This is the __exercise__ notebook.\n",
    "\n",
    "We will analyse Premier League results for two seasons; Results have been downloaded from [www.footballwebpages.co.uk](https://www.footballwebpages.co.uk/premier-league) for the following seasons:\n",
    "\n",
    "- [2021-22 season](https://www.footballwebpages.co.uk/premier-league/match-grid/2021-2022);\n",
    "- [2022-23 season](https://www.footballwebpages.co.uk/premier-league/match-grid/2022-2023);\n",
    "- [2023-24 season](https://www.footballwebpages.co.uk/premier-league/match-grid/2023-2024), and\n",
    "- [2024-25 season](https://www.footballwebpages.co.uk/premier-league/match-grid/2024-2025).\n",
    "\n",
    "\n"
   ]
  },
  {
   "cell_type": "markdown",
   "metadata": {
    "collapsed": false
   },
   "source": [
    "### Import the needed Python modules"
   ]
  },
  {
   "cell_type": "code",
   "execution_count": 1,
   "metadata": {
    "collapsed": false,
    "pycharm": {
     "name": "#%%\n"
    }
   },
   "outputs": [],
   "source": [
    "import requests\n",
    "import io\n",
    "\n",
    "import numpy as np\n",
    "import pandas as pd\n",
    "\n",
    "import matplotlib.pyplot as plt\n",
    "from sklearn.preprocessing import MinMaxScaler"
   ]
  },
  {
   "cell_type": "markdown",
   "metadata": {
    "collapsed": false
   },
   "source": [
    "### Set pandas and numpy options for printing results"
   ]
  },
  {
   "cell_type": "code",
   "execution_count": 2,
   "metadata": {
    "collapsed": false,
    "pycharm": {
     "name": "#%%\n"
    }
   },
   "outputs": [],
   "source": [
    "np.set_printoptions(linewidth=1000)\n",
    "\n",
    "pd.set_option('display.max_rows', None)\n",
    "pd.set_option('display.max_columns', None)\n",
    "pd.set_option('display.width', 1000)\n",
    "pd.set_option('display.colheader_justify', 'center')"
   ]
  },
  {
   "cell_type": "markdown",
   "metadata": {
    "collapsed": false
   },
   "source": [
    "### Premier League winners:\n",
    "\n",
    "*   **2021-22**: Manchester City (1-point gap from Liverpool, who finished second; Arsenal finished 5th)\n",
    "\n",
    "*   **2022-23**: Manchester City (5-points gap from Arsenal)\n",
    "  \n",
    "*   **2023-24**: Manchester City (2-point gap from Arsenal)\n",
    "\n",
    "*   **2024-25**: Liverpool (10 points above Arsenal)"
   ]
  },
  {
   "cell_type": "code",
   "execution_count": 3,
   "metadata": {
    "collapsed": false,
    "pycharm": {
     "name": "#%%\n"
    }
   },
   "outputs": [],
   "source": [
    "N_TEAMS = 20"
   ]
  },
  {
   "cell_type": "markdown",
   "metadata": {
    "collapsed": false
   },
   "source": [
    "### File names"
   ]
  },
  {
   "cell_type": "code",
   "execution_count": 4,
   "metadata": {
    "collapsed": false,
    "pycharm": {
     "name": "#%%\n"
    }
   },
   "outputs": [],
   "source": [
    "DATA_FOLDER_URL = \"https://raw.githubusercontent.com/ale66/learn-datascience/main/week-9/Ranking_premier_league/data\"\n",
    "\n",
    "# League table GitHub URLs\n",
    "league_table_2021_2022 = f\"{DATA_FOLDER_URL}/2021_2022_LeagueTable.csv\"\n",
    "league_table_2022_2023 = f\"{DATA_FOLDER_URL}/2022_2023_LeagueTable.csv\"\n",
    "league_table_2023_2024 = f\"{DATA_FOLDER_URL}/2023_2024_LeagueTable.csv\"\n",
    "league_table_2024_2025 = f\"{DATA_FOLDER_URL}/2024_2025_LeagueTable.csv\"\n",
    "\n",
    "# Match grid GitHub URLs\n",
    "match_grid_2021_2022 = f\"{DATA_FOLDER_URL}/2021_2022_MatchGrid.csv\"\n",
    "match_grid_2022_2023 = f\"{DATA_FOLDER_URL}/2022_2023_MatchGrid.csv\"\n",
    "match_grid_2023_2024 = f\"{DATA_FOLDER_URL}/2023_2024_MatchGrid.csv\"\n",
    "match_grid_2024_2025 = f\"{DATA_FOLDER_URL}/2024_2025_MatchGrid.csv\""
   ]
  },
  {
   "cell_type": "markdown",
   "metadata": {
    "collapsed": false
   },
   "source": [
    "### Utility functions"
   ]
  },
  {
   "cell_type": "code",
   "execution_count": 5,
   "metadata": {
    "collapsed": false,
    "pycharm": {
     "name": "#%%\n"
    }
   },
   "outputs": [],
   "source": [
    "def read_league_tbl(url: str) -> pd.DataFrame:\n",
    "    \"\"\"\n",
    "    Read a season league table CSV from a GitHub URL.\n",
    "    The first row is skipped, as it groups information in\n",
    "    Home, Away and Total, which is not needed.\n",
    "\n",
    "    :param url: CSV GitHub URL.\n",
    "    :return: League table as dataframe.\n",
    "    \"\"\"\n",
    "    response = requests.get(url)\n",
    "    content = response.content.decode(\"utf-8\")\n",
    "    league_tbl = pd.read_csv(io.StringIO(content), skiprows=1)\n",
    "\n",
    "    # Add actual team ranking\n",
    "    league_tbl[\"Actual_Ranking\"] = np.arange(1, N_TEAMS + 1)\n",
    "    return league_tbl\n",
    "\n",
    "\n",
    "def read_match_grid(url: str) -> pd.DataFrame:\n",
    "    \"\"\"\n",
    "    Read a season match grid CSV from a GitHub URL.\n",
    "\n",
    "    Each match entry is in format =\"GH-GA\" (except from NaN in diagonal).\n",
    "    GH are goals scored by the home team, and GA are goals scored\n",
    "    by the away team. The function reads the match grid CSV,\n",
    "    removes '=' and '\"', and adds \"0-0\" in the diagonal to remove NaNs.\n",
    "\n",
    "    :param url: CSV GitHub URL.\n",
    "    :return: Match grid as dataframe.\n",
    "    \"\"\"\n",
    "    response = requests.get(url)\n",
    "    content = response.content.decode(\"utf-8\")\n",
    "\n",
    "    return (\n",
    "    pd.read_csv(io.StringIO(content), dtype=str, index_col=0)\n",
    "    .replace('\"' , '', regex=True)\n",
    "    .replace('=' , '', regex=True)\n",
    "    .fillna(\"0-0\")\n",
    "    )"
   ]
  },
  {
   "cell_type": "markdown",
   "metadata": {
    "collapsed": false
   },
   "source": [
    "### Set current working data files and next season files\n",
    "\n",
    "Hint: Change these variables in case you would like to rate / rank teams based on a different season and check the estimates against the actual rankings of the following season."
   ]
  },
  {
   "cell_type": "code",
   "execution_count": 6,
   "metadata": {
    "collapsed": false,
    "pycharm": {
     "name": "#%%\n"
    }
   },
   "outputs": [],
   "source": [
    "# Current (working) season\n",
    "current_season = \"2023 - 2024\"\n",
    "curr_league_tbl = league_table_2023_2024\n",
    "curr_match_grid = match_grid_2023_2024\n",
    "\n",
    "# Next season\n",
    "coming_season = \"2024 - 2025\"\n",
    "next_league_tbl = league_table_2024_2025\n",
    "next_match_grid = match_grid_2024_2025"
   ]
  },
  {
   "cell_type": "markdown",
   "metadata": {
    "collapsed": false
   },
   "source": [
    "### Massey's ratings for the Premiership league table\n",
    "\n",
    "\n",
    "\n"
   ]
  },
  {
   "cell_type": "markdown",
   "metadata": {
    "collapsed": false
   },
   "source": [
    "#### Import the league table of the *current* season"
   ]
  },
  {
   "cell_type": "code",
   "execution_count": null,
   "metadata": {
    "collapsed": false,
    "pycharm": {
     "is_executing": true,
     "name": "#%%\n"
    }
   },
   "outputs": [],
   "source": [
    "league_table = read_league_tbl(curr_league_tbl)\n",
    "\n",
    "league_table"
   ]
  },
  {
   "cell_type": "markdown",
   "metadata": {
    "collapsed": false
   },
   "source": [
    "#### Keep columns about goals scored and rename for clarity"
   ]
  },
  {
   "cell_type": "code",
   "execution_count": null,
   "metadata": {
    "collapsed": false,
    "pycharm": {
     "is_executing": true,
     "name": "#%%\n"
    }
   },
   "outputs": [],
   "source": [
    "required_cols = [\"Unnamed: 1\", \"P.2\", \"F\", \"A\", \"+/-\", \"Pts\", \"Actual_Ranking\"]\n",
    "\n",
    "renaming = {\n",
    "    \"Unnamed: 1\": \"Teams\", \n",
    "    \"P.2\": \"Total_Matches_Played\", \n",
    "    \"F\": \"Goals_Scored\",\n",
    "    \"A\": \"Goals_Conceded\",\n",
    "    \"+/-\": \"Goal_Difference\",\n",
    "    \"Pts\": \"Points\"\n",
    "    }\n",
    "\n",
    "# Make a copy of the league table, keeping only the necessary columns renamed\n",
    "league_table = (\n",
    "    league_table\n",
    "    .loc[:, required_cols]\n",
    "    .copy()\n",
    "    .rename(columns=renaming)\n",
    ")\n",
    "\n",
    "league_table"
   ]
  },
  {
   "cell_type": "markdown",
   "metadata": {
    "collapsed": false
   },
   "source": [
    "#### Create Massey's $\\overline{M}$ and $\\overline{p}$\n",
    "\n",
    "Below is a refresher of Massey's modela."
   ]
  },
  {
   "cell_type": "markdown",
   "metadata": {
    "collapsed": false
   },
   "source": [
    "The exact Linear system $\\mathbf{Mr} = \\mathbf{p}$ is unviable as the $M$ matrix is surely singular, thus not invertible.\n",
    "\n",
    "So, let's focus on Massey's modified system:\n",
    "\n",
    "$\\mathbf{\\overline{M}r} = \\mathbf{\\overline{p}}$\n",
    "\n",
    "Massey Matrix - last row elements set to 1:\n",
    "\n",
    "$\\mathbf{\\overline{M}_{n \\times n}} = \\begin{pmatrix}\n",
    "  38 & -2 & -2 & \\dots & -2\\\\\n",
    "  -2 & 38 & -2 & \\dots & -2\\\\\n",
    "  -2 & -2 & 38 & \\dots & -2\\\\\n",
    "  \\vdots & \\vdots & \\vdots & \\ddots & -2\\\\\n",
    "  1 & 1 & 1 & \\dots & 1\n",
    "  \\end{pmatrix}$\n",
    "\n",
    "The *Goal Difference Column Vector:*\n",
    "\n",
    "$\\mathbf{\\overline{p}_{n \\times 1}} = \\begin{pmatrix}\n",
    "p_1\\\\\n",
    "p_2\\\\\n",
    "p_3\\\\\n",
    "\\vdots \\\\\n",
    "0\n",
    "\\end{pmatrix}$\n",
    "\n",
    "So we calculate the ratings Vector:\n",
    "\n",
    "$\\mathbf{r}_{n \\times 1} = \\begin{pmatrix}\n",
    "r_1\\\\\n",
    "r_2\\\\\n",
    "r_3\\\\\n",
    "\\vdots \\\\\n",
    "r_n\n",
    "\\end{pmatrix}$\n",
    "\n",
    "\n",
    "By solving Massey's system:\n",
    "\n",
    "$\\mathbf{r} = \\mathbf{\\overline{M}^{-1}} \\mathbf{\\overline{p}}$"
   ]
  },
  {
   "cell_type": "code",
   "execution_count": 9,
   "metadata": {},
   "outputs": [],
   "source": [
    "# Matches played per team\n",
    "MATCHES_PLAYED_PER_TEAM = 2 * (N_TEAMS - 1)"
   ]
  },
  {
   "cell_type": "code",
   "execution_count": 10,
   "metadata": {
    "collapsed": false,
    "pycharm": {
     "name": "#%%\n"
    }
   },
   "outputs": [],
   "source": [
    "# Create M matrix\n",
    "# Non-diagonal elements: The negated number of matches between each pair of teams\n",
    "# Diagonal elements: Total matches played per team (both home and away).\n",
    "M = -2 * np.ones((N_TEAMS, N_TEAMS))\n",
    "\n",
    "diagonal = np.ones((1, N_TEAMS)) * MATCHES_PLAYED_PER_TEAM\n",
    "\n",
    "last_row = np.ones((1, N_TEAMS))\n",
    "\n",
    "np.fill_diagonal(M, diagonal)\n",
    "\n",
    "M[-1:] = last_row\n",
    "\n",
    "# Create p column vector with goal difference. Shape: (N_TEAMS, 1)\n",
    "p = league_table[\"Goal_Difference\"].to_numpy().reshape((-1, 1))\n",
    "\n",
    "p[-1] = 0"
   ]
  },
  {
   "cell_type": "markdown",
   "metadata": {
    "collapsed": false
   },
   "source": [
    "#### Solve the system and calculate Massey rankings and ratings - use MinMaxScaler for easier plotting of ratings further below\n",
    "\n",
    "Scaling is applied using the actual points of the first and the last team.\n",
    "Please see the relative [sklearn MinMaxScaler documentation](https://scikit-learn.org/stable/modules/generated/sklearn.preprocessing.MinMaxScaler.html)."
   ]
  },
  {
   "cell_type": "code",
   "execution_count": null,
   "metadata": {
    "collapsed": false,
    "pycharm": {
     "name": "#%%\n"
    }
   },
   "outputs": [],
   "source": [
    "# Solve the equation system to calculate ratings and add them to the data\n",
    "r = np.linalg.inv(M).dot(p)\n",
    "\n",
    "league_table[\"Massey_Rating\"] = r\n",
    "\n",
    "# Scale the ratings between the weakest and stronger team actual points.\n",
    "# MinMaxScaler accepts a tuple (min, max) as input to define the range.\n",
    "min_max_scaler = MinMaxScaler((league_table.Points.min(), league_table.Points.max()))\n",
    "\n",
    "league_table[\"Massey_Scaled_Rating\"] = min_max_scaler.fit_transform(\n",
    "    league_table\n",
    "        .loc[:, \"Massey_Rating\"]\n",
    "        .to_numpy()\n",
    "        .reshape(-1, 1)\n",
    ")\n",
    "\n",
    "# Sort the data by calculated ratings and add Massey ranking\n",
    "league_table = league_table.sort_values(\"Massey_Rating\", ascending=False)\n",
    "\n",
    "league_table[\"Massey_Ranking\"] = np.arange(1, N_TEAMS + 1)"
   ]
  },
  {
   "cell_type": "markdown",
   "metadata": {
    "collapsed": false
   },
   "source": [
    "#### Keep a data copy to compile ratings and rankings from all methods"
   ]
  },
  {
   "cell_type": "code",
   "execution_count": null,
   "metadata": {
    "collapsed": false,
    "pycharm": {
     "name": "#%%\n"
    }
   },
   "outputs": [],
   "source": [
    "compiled_results = (\n",
    "    league_table\n",
    "    .sort_values(\"Actual_Ranking\", ascending=True)\n",
    "    .copy()\n",
    "    )"
   ]
  },
  {
   "cell_type": "code",
   "execution_count": null,
   "metadata": {
    "collapsed": false,
    "pycharm": {
     "name": "#%%\n"
    }
   },
   "outputs": [],
   "source": [
    "# Run this if you would like to check the \"compiled_results\"\n",
    "compiled_results"
   ]
  },
  {
   "cell_type": "markdown",
   "metadata": {
    "collapsed": false
   },
   "source": [
    "#### Plot Massey's scaled ratings-rankings, side-by-side with actual ranking and points scored\n",
    "\n",
    "Documentation for [matplotlib.pyplot horizontal bar plots](https://matplotlib.org/stable/api/_as_gen/matplotlib.pyplot.barh.html)"
   ]
  },
  {
   "cell_type": "code",
   "execution_count": null,
   "metadata": {
    "collapsed": false,
    "pycharm": {
     "name": "#%%\n"
    }
   },
   "outputs": [],
   "source": [
    "# Initialize grid of plots\n",
    "_, axis = plt.subplots(nrows=1, ncols=2, figsize=(12, 4), dpi=160)\n",
    "\n",
    "# Plot Massey scaled rating - plot 0, row 0\n",
    "axis[0].barh(\n",
    "    league_table[\"Massey_Ranking\"], \n",
    "    league_table[\"Massey_Scaled_Rating\"], \n",
    "    height=0.6, align='center'\n",
    "    )\n",
    "\n",
    "# Configure y axis\n",
    "axis[0].set_yticks(\n",
    "    league_table[\"Massey_Ranking\"], \n",
    "    labels=league_table[\"Teams\"],\n",
    "    fontsize=7\n",
    "    )\n",
    "\n",
    "axis[0].invert_yaxis()  # labels read top-to-bottom\n",
    "\n",
    "# X-axis and title\n",
    "axis[0].tick_params(axis=\"x\", labelsize=6)\n",
    "axis[0].set_xlabel('Massey Scaled Rating', fontsize=8)\n",
    "axis[0].set_title(f'Season {current_season} Massey Scaled Rating', fontsize=8)\n",
    "\n",
    "# Plot actual ranking and points scored - plot 1, row 0\n",
    "axis[1].barh(\n",
    "    league_table[\"Actual_Ranking\"], \n",
    "    league_table[\"Points\"], \n",
    "    height=0.6, align='center'\n",
    "    )\n",
    "\n",
    "# Configure y axis\n",
    "axis[1].set_yticks(\n",
    "    league_table[\"Actual_Ranking\"], \n",
    "    labels=league_table[\"Teams\"],\n",
    "    fontsize=7\n",
    "    )\n",
    "\n",
    "axis[1].invert_yaxis()  # labels read top-to-bottom\n",
    "\n",
    "# X-axis and title\n",
    "axis[1].tick_params(axis=\"x\", labelsize=6)\n",
    "axis[1].set_xlabel('Actual Points', fontsize=8)\n",
    "axis[1].set_title(f'Season {current_season} Points Scored', fontsize=8)\n",
    "\n",
    "# Use 'tight_layout' to avoid overlapping text\n",
    "plt.tight_layout()\n",
    "plt.show()"
   ]
  },
  {
   "cell_type": "markdown",
   "metadata": {
    "collapsed": false
   },
   "source": [
    "### Keener's method"
   ]
  },
  {
   "cell_type": "markdown",
   "metadata": {
    "collapsed": false
   },
   "source": [
    "#### For Keener, we need the match grid"
   ]
  },
  {
   "cell_type": "code",
   "execution_count": null,
   "metadata": {
    "collapsed": false,
    "pycharm": {
     "name": "#%%\n"
    }
   },
   "outputs": [],
   "source": [
    "match_grid = read_match_grid(curr_match_grid)\n",
    "\n",
    "# Save all teams as a list\n",
    "teams = match_grid.columns.to_list()\n",
    "\n",
    "match_grid"
   ]
  },
  {
   "cell_type": "markdown",
   "metadata": {
    "collapsed": false
   },
   "source": [
    "#### Create Keener's S matrix\n",
    "\n",
    "Below is a refresher of the method."
   ]
  },
  {
   "cell_type": "markdown",
   "metadata": {
    "collapsed": false
   },
   "source": [
    "$S_{n \\times n}$ where $S_{ij}:$ total goals scored by team $i$ against team $j$; here *n* represents the total number of teams in the league."
   ]
  },
  {
   "cell_type": "markdown",
   "metadata": {
    "collapsed": false
   },
   "source": [
    "#### Exercise 1: Complete the code to calculate Keener's S matrix\n",
    "\n",
    "#### Step-by-step:\n",
    "\n",
    "1.   Parse scores. Example: \"3-2\". The home team scored 3 goals and the away team 2.\n",
    "\n",
    "   Hint: Pandas [applymap documentation](https://pandas.pydata.org/pandas-docs/stable/reference/api/pandas.DataFrame.applymap.html)\n",
    "\n",
    "2.   Match every team's home match with the respective away match against the same opponent.\n",
    "\n",
    "   Hint: The home match of team *i* against *j* is element *ij*. The respective away match is element *ji* - row and column indexes are swapped..."
   ]
  },
  {
   "cell_type": "code",
   "execution_count": null,
   "metadata": {
    "collapsed": false,
    "pycharm": {
     "name": "#%%\n"
    }
   },
   "outputs": [],
   "source": [
    "# TODO: Write your code below. Save the output in variable S_dataframe\n",
    "\n",
    "# Parse score and get goals of a home match\n",
    "\n",
    "\n",
    "# Parse score and get goals of an away match\n",
    "# The grid is transposed to match every team's respective\n",
    "# home and away matches\n",
    "\n",
    "\n",
    "# Sum goals scored\n",
    "S_dataframe = all_home_goals_ij + all_away_goals_ij"
   ]
  },
  {
   "cell_type": "code",
   "execution_count": null,
   "metadata": {
    "collapsed": false,
    "pycharm": {
     "name": "#%%\n"
    }
   },
   "outputs": [],
   "source": [
    "S_dataframe"
   ]
  },
  {
   "cell_type": "markdown",
   "metadata": {
    "collapsed": false
   },
   "source": [
    "#### Create Keener A matrix\n",
    "\n",
    "Below a refresher"
   ]
  },
  {
   "cell_type": "markdown",
   "metadata": {
    "collapsed": false
   },
   "source": [
    "$\\mathbf{A}_{n \\times n} = \\left[\\frac{S_{ij}+ 1}{S_{ij} + S_{ji} + 2}\\right]_{n \\times n}$\n",
    "<br>\n",
    "<br>\n",
    "$\\mathbf{A}_{n \\times n} = [a_{ij}] = \\left[h\\left(\\frac{S_{ij}+ 1}{S_{ij} + S_{ji} + 2}\\right)\\right]_{n \\times n}$\n",
    "<br>\n",
    "<br>\n",
    "$\\text{where } h(x) = \\frac{1}{2} + \\frac{sgn\\{x - (1/2)\\}\\sqrt{|2x - 1|}}{2}$"
   ]
  },
  {
   "cell_type": "markdown",
   "metadata": {
    "collapsed": false
   },
   "source": [
    "#### Exercise 2: Complete the code (check 'TODO' comments) to get matrix A"
   ]
  },
  {
   "cell_type": "markdown",
   "metadata": {
    "collapsed": false
   },
   "source": [
    "#### Calculate the Numerator"
   ]
  },
  {
   "cell_type": "code",
   "execution_count": null,
   "metadata": {
    "collapsed": false,
    "pycharm": {
     "name": "#%%\n"
    }
   },
   "outputs": [],
   "source": [
    "# TODO: Start by creating the numerator (forget about skewing for now)\n",
    "# Save output as A_numerator"
   ]
  },
  {
   "cell_type": "markdown",
   "metadata": {
    "collapsed": false
   },
   "source": [
    "#### Calculate the Denominator"
   ]
  },
  {
   "cell_type": "code",
   "execution_count": null,
   "metadata": {
    "collapsed": false,
    "pycharm": {
     "name": "#%%\n"
    }
   },
   "outputs": [],
   "source": [
    "# TODO: Create the denominator (forget about skewing for now)\n",
    "# Save output as A_denominator\n",
    "# Hint: We are trying to add symmetric elements - elements with reversed indexes\n",
    "# Example: Sij + Sji (row becomes column, column becomes row)\n"
   ]
  },
  {
   "cell_type": "markdown",
   "metadata": {
    "collapsed": false
   },
   "source": [
    "#### Calculate A"
   ]
  },
  {
   "cell_type": "code",
   "execution_count": null,
   "metadata": {
    "collapsed": false,
    "pycharm": {
     "name": "#%%\n"
    }
   },
   "outputs": [],
   "source": [
    "# TODO: Write your code below\n",
    "# Divide A_numerator by A_denominator and save as A\n"
   ]
  },
  {
   "cell_type": "markdown",
   "metadata": {
    "collapsed": false
   },
   "source": [
    "#### Apply skewing to A\n",
    "\n",
    "Please see the Numpy [vectorize documentation](https://numpy.org/doc/stable/reference/generated/numpy.vectorize.html) and [Generalized Universal Function API documentation](https://numpy.org/doc/stable/reference/c-api/generalized-ufuncs.html)."
   ]
  },
  {
   "cell_type": "code",
   "execution_count": null,
   "metadata": {
    "collapsed": false,
    "pycharm": {
     "name": "#%%\n"
    }
   },
   "outputs": [],
   "source": [
    "def skewing_function(x: float) -> float:\n",
    "    \"\"\"\n",
    "    Function proposed by Keener to skew the data of\n",
    "    matrix A calculated above.\n",
    "\n",
    "    :parameter x: A single entry of matrix A.\n",
    "    :return: The transformed entry passed through the skewing function\n",
    "    \"\"\"\n",
    "    numerator = np.sign(x - 0.5) * np.sqrt(np.abs(2 * x - 1))\n",
    "    return 0.5 + numerator / 2\n",
    "\n",
    "# Vectorize the skewing function for appying it to a numpy array\n",
    "ufunc_skewing_function = np.vectorize(skewing_function)\n",
    "A = ufunc_skewing_function(A)\n",
    "\n",
    "# Uncomment if you want to inspect the final A matrix\n",
    "# A"
   ]
  },
  {
   "cell_type": "markdown",
   "metadata": {
    "collapsed": false
   },
   "source": [
    "#### Calculate Eigenvalues and Eigenvectors\n",
    "\n",
    "Numpy [documentation on eigenvalues and eigenvectors](https://numpy.org/doc/stable/reference/generated/numpy.linalg.eig.html)"
   ]
  },
  {
   "cell_type": "markdown",
   "metadata": {
    "collapsed": false
   },
   "source": [
    "$\\mathbf{A} \\mathbf{r} = λ \\mathbf{r}, \\mathbf{r} > 0 \\text{ and } \\sum_{j=1}^{n}r_j = 1$\n",
    "\n",
    "\n",
    "$\\lambda:$ Perron's value (the *dominant* eigenvalue)\n",
    "\n",
    "$\\mathbf{r:}$ Perron vector (dominant eigenvector)\n",
    "\n",
    "\n",
    "Looking for the Ratings Vector:\n",
    "\n",
    "$\\\\\\mathbf{r}_{n \\times 1} = \\begin{pmatrix}\n",
    "r_1\\\\\n",
    "r_2\\\\\n",
    "r_3\\\\\n",
    "\\vdots \\\\\n",
    "r_n\n",
    "\\end{pmatrix}$"
   ]
  },
  {
   "cell_type": "markdown",
   "metadata": {
    "collapsed": false
   },
   "source": [
    "#### Exercise 3: Compute eigenvalues and eigenvectors of A and pick the largest eigenvalue"
   ]
  },
  {
   "cell_type": "code",
   "execution_count": null,
   "metadata": {
    "collapsed": false,
    "pycharm": {
     "name": "#%%\n"
    }
   },
   "outputs": [],
   "source": [
    "# TODO: Write your code here\n"
   ]
  },
  {
   "cell_type": "markdown",
   "metadata": {
    "collapsed": false
   },
   "source": [
    "#### A crucial condition: the dominant eigenvalue must be a real number: its imaginary part must be 0."
   ]
  },
  {
   "cell_type": "code",
   "execution_count": null,
   "metadata": {
    "collapsed": false,
    "pycharm": {
     "name": "#%%\n"
    }
   },
   "outputs": [],
   "source": [
    "eigenvals[max_eigenvalue_index]"
   ]
  },
  {
   "cell_type": "markdown",
   "metadata": {
    "collapsed": false
   },
   "source": [
    "#### Save the Perron value as a float"
   ]
  },
  {
   "cell_type": "code",
   "execution_count": null,
   "metadata": {
    "collapsed": false,
    "pycharm": {
     "name": "#%%\n"
    }
   },
   "outputs": [],
   "source": [
    "perron_value = float(eigenvals[max_eigenvalue_index])\n",
    "\n",
    "print(f\"Perron value: {perron_value}\")"
   ]
  },
  {
   "cell_type": "markdown",
   "metadata": {
    "collapsed": false
   },
   "source": [
    "#### The dominant eigenvector must be real: all entries must have imaginary part 0."
   ]
  },
  {
   "cell_type": "code",
   "execution_count": null,
   "metadata": {
    "collapsed": false,
    "pycharm": {
     "name": "#%%\n"
    }
   },
   "outputs": [],
   "source": [
    "eigenvecs[: , max_eigenvalue_index].reshape(-1, 1)"
   ]
  },
  {
   "cell_type": "markdown",
   "metadata": {
    "collapsed": false
   },
   "source": [
    "#### Save the real part of the dominant eigenvector entries\n",
    "\n",
    "This is not the Perron vector yet (we could get all entries as negatives).\n",
    "\n",
    "We use the *Brute Force* technique described in Keener chapter of the textbook to convert this vector into a Perron vector."
   ]
  },
  {
   "cell_type": "code",
   "execution_count": null,
   "metadata": {
    "collapsed": false,
    "pycharm": {
     "name": "#%%\n"
    }
   },
   "outputs": [],
   "source": [
    "dominant_eigenvector = eigenvecs[: , 0].reshape(-1, 1).astype(float)\n",
    "\n",
    "dominant_eigenvector"
   ]
  },
  {
   "cell_type": "markdown",
   "metadata": {
    "collapsed": false
   },
   "source": [
    "#### Normalise the actual Perron vector so that ratings sum to 1"
   ]
  },
  {
   "cell_type": "code",
   "execution_count": null,
   "metadata": {
    "collapsed": false,
    "pycharm": {
     "name": "#%%\n"
    }
   },
   "outputs": [],
   "source": [
    "# Divide by sum so that all ratings sum to 1\n",
    "perron_vector = dominant_eigenvector / np.sum(dominant_eigenvector)"
   ]
  },
  {
   "cell_type": "code",
   "execution_count": null,
   "metadata": {
    "collapsed": false,
    "pycharm": {
     "name": "#%%\n"
    }
   },
   "outputs": [],
   "source": [
    "match_grid[\"Keener_Rating\"] = perron_vector"
   ]
  },
  {
   "cell_type": "code",
   "execution_count": null,
   "metadata": {
    "collapsed": false,
    "pycharm": {
     "name": "#%%\n"
    }
   },
   "outputs": [],
   "source": [
    "match_grid[\"Keener_Rating\"]"
   ]
  },
  {
   "cell_type": "markdown",
   "metadata": {
    "collapsed": false
   },
   "source": [
    "#### Use a MinMaxScaler to scale Keener ratings for plotting.\n",
    "\n",
    "Scaling is applied using the actual points of the first and the last team."
   ]
  },
  {
   "cell_type": "code",
   "execution_count": null,
   "metadata": {
    "collapsed": false,
    "pycharm": {
     "name": "#%%\n"
    }
   },
   "outputs": [],
   "source": [
    "# Scale the ratings between the weakest and stronger team actual points.\n",
    "# MinMaxScaler accepts a tuple (min, max) as input to define the range.\n",
    "min_max_scaler = MinMaxScaler((league_table.Points.min(), league_table.Points.max()))\n",
    "\n",
    "match_grid[\"Keener_Scaled_Rating\"] = min_max_scaler.fit_transform(\n",
    "    match_grid\n",
    "        .loc[:, \"Keener_Rating\"]\n",
    "        .values\n",
    "        .reshape(-1, 1)\n",
    "    )\n",
    "\n",
    "# Sort by Keener rating (the strongest team on top), add Keener ranking\n",
    "match_grid = match_grid.sort_values(\"Keener_Rating\", ascending=False)\n",
    "match_grid[\"Keener_Ranking\"] = np.arange(1, N_TEAMS + 1)"
   ]
  },
  {
   "cell_type": "code",
   "execution_count": null,
   "metadata": {
    "collapsed": false,
    "pycharm": {
     "name": "#%%\n"
    }
   },
   "outputs": [],
   "source": [
    "match_grid"
   ]
  },
  {
   "cell_type": "markdown",
   "metadata": {
    "collapsed": false
   },
   "source": [
    "#### Import the league table to get actual rankings and points scored\n",
    "\n",
    "As the match grid does not contain the actual points scored per team, we have to import the league table."
   ]
  },
  {
   "cell_type": "code",
   "execution_count": null,
   "metadata": {
    "collapsed": false,
    "pycharm": {
     "name": "#%%\n"
    }
   },
   "outputs": [],
   "source": [
    "league_table = read_league_tbl(curr_league_tbl)\n",
    "\n",
    "league_table"
   ]
  },
  {
   "cell_type": "markdown",
   "metadata": {
    "collapsed": false
   },
   "source": [
    "#### We keep only teams, actual ranking and points."
   ]
  },
  {
   "cell_type": "code",
   "execution_count": null,
   "metadata": {
    "collapsed": false,
    "pycharm": {
     "name": "#%%\n"
    }
   },
   "outputs": [],
   "source": [
    "required_cols = [\"Unnamed: 1\", \"Pts\", \"Actual_Ranking\"]\n",
    "\n",
    "renaming = {\"Unnamed: 1\": \"Teams\", \"Pts\": \"Points\"}\n",
    "\n",
    "# Make a copy of the league table, keeping only the necessary columns renamed\n",
    "# Index is reset as the teams for the table join below\n",
    "league_table = (\n",
    "    league_table\n",
    "    .loc[:, required_cols]\n",
    "    .copy()\n",
    "    .rename(columns=renaming)\n",
    "    .set_index(\"Teams\")\n",
    ")\n",
    "\n",
    "league_table"
   ]
  },
  {
   "cell_type": "code",
   "execution_count": 119,
   "metadata": {
    "collapsed": false,
    "pycharm": {
     "name": "#%%\n"
    }
   },
   "outputs": [],
   "source": [
    "# Tidy-up team names\n",
    "league_table.index = league_table.index.str.replace(r\"\\s\\(-\\d{1,}\\)\", \"\", regex=True)"
   ]
  },
  {
   "cell_type": "markdown",
   "metadata": {
    "collapsed": false
   },
   "source": [
    "#### Join the match grid that holds Keener ratings with the league table and the actual ratings based on team names"
   ]
  },
  {
   "cell_type": "code",
   "execution_count": null,
   "metadata": {
    "collapsed": false,
    "pycharm": {
     "name": "#%%\n"
    }
   },
   "outputs": [],
   "source": [
    "match_grid = match_grid.join(league_table)\n",
    "\n",
    "match_grid"
   ]
  },
  {
   "cell_type": "markdown",
   "metadata": {
    "collapsed": false
   },
   "source": [
    "#### Add Keener to the dataset that holds results from Massey"
   ]
  },
  {
   "cell_type": "code",
   "execution_count": null,
   "metadata": {
    "collapsed": false,
    "pycharm": {
     "name": "#%%\n"
    }
   },
   "outputs": [],
   "source": [
    "cols_to_keep = [\n",
    "    \"Keener_Rating\", \n",
    "    \"Keener_Scaled_Rating\", \n",
    "    \"Keener_Ranking\"\n",
    "    ]\n",
    "\n",
    "# Data needed from Keener output - sort by actual ranking first\n",
    "data_to_keep = (\n",
    "    match_grid\n",
    "    .sort_values(\"Actual_Ranking\", ascending=True)\n",
    "    .loc[:, cols_to_keep]\n",
    "    .copy()\n",
    "    .reset_index(drop=False)\n",
    "    .rename(columns={\"index\": \"Teams\"})\n",
    "    )\n",
    "\n",
    "# Again, team name tidy-up is needed\n",
    "compiled_results[\"Teams\"] = compiled_results[\"Teams\"].str.replace(r\"\\s\\(-\\d{1,}\\)\", \"\", regex=True)\n",
    "compiled_results = compiled_results.merge(data_to_keep, on=\"Teams\")\n",
    "\n",
    "compiled_results"
   ]
  },
  {
   "cell_type": "markdown",
   "metadata": {
    "collapsed": false
   },
   "source": [
    "#### Plot Keener's scaled rating and ranking side by side with actual ranking and points scored"
   ]
  },
  {
   "cell_type": "code",
   "execution_count": null,
   "metadata": {
    "collapsed": false,
    "pycharm": {
     "name": "#%%\n"
    }
   },
   "outputs": [],
   "source": [
    "# Initialize grid of plots\n",
    "figure, axis = plt.subplots(nrows=1, ncols=2, figsize=(12, 4), dpi=160)\n",
    "\n",
    "# Plot Keener scaled rating - plot 0, row 0\n",
    "axis[0].barh(\n",
    "    match_grid[\"Keener_Ranking\"], \n",
    "    match_grid[\"Keener_Scaled_Rating\"], \n",
    "    height=0.6, align='center'\n",
    "    )\n",
    "\n",
    "# Configure y axis\n",
    "axis[0].set_yticks(\n",
    "    match_grid[\"Keener_Ranking\"], \n",
    "    labels=match_grid.index,\n",
    "    fontsize=7\n",
    "    )\n",
    "axis[0].invert_yaxis()  # labels read top-to-bottom\n",
    "\n",
    "# X-axis and title\n",
    "axis[0].tick_params(axis=\"x\", labelsize=6)\n",
    "axis[0].set_xlabel('Keener Scaled Rating', fontsize=8)\n",
    "axis[0].set_title(f'Season {current_season} Keener Scaled Rating', fontsize=8)\n",
    "\n",
    "# Plot actual ranking and point scored - plot 1, row 0\n",
    "axis[1].barh(\n",
    "    match_grid[\"Actual_Ranking\"], \n",
    "    match_grid[\"Points\"], \n",
    "    height=0.6, align='center'\n",
    "    )\n",
    "\n",
    "# Configure y axis\n",
    "axis[1].set_yticks(\n",
    "    match_grid[\"Actual_Ranking\"], \n",
    "    labels=match_grid.index,\n",
    "    fontsize=7\n",
    "    )\n",
    "\n",
    "axis[1].invert_yaxis()  # labels read top-to-bottom\n",
    "\n",
    "# X-axis and title\n",
    "axis[1].tick_params(axis=\"x\", labelsize=6)\n",
    "axis[1].set_xlabel('Actual Points', fontsize=8)\n",
    "axis[1].set_title(f'Season {current_season} Points Scored', fontsize=8)\n",
    "\n",
    "# Use 'tight_layout' to avoid overlapping text\n",
    "plt.tight_layout()\n",
    "plt.show()"
   ]
  },
  {
   "cell_type": "markdown",
   "metadata": {
    "collapsed": false
   },
   "source": [
    "### Export merged results from all methods as CSV"
   ]
  },
  {
   "cell_type": "code",
   "execution_count": 80,
   "metadata": {
    "collapsed": false,
    "pycharm": {
     "name": "#%%\n"
    }
   },
   "outputs": [],
   "source": [
    "# Columns to save\n",
    "rating_cols = [\n",
    "    \"Teams\",\n",
    "    \"Points\",\n",
    "    \"Actual_Ranking\",\n",
    "    \"Massey_Rating\",\n",
    "    \"Massey_Scaled_Rating\",\n",
    "    \"Massey_Ranking\",\n",
    "    \"Keener_Rating\",\n",
    "    \"Keener_Scaled_Rating\",\n",
    "    \"Keener_Ranking\"\n",
    "    ]\n",
    "\n",
    "# Change file name accordingly if you are analyzing a different season\n",
    "merged_results_csv = \"./data/2023_2024_MergedResults.csv\"\n",
    "compiled_results.loc[:, rating_cols].set_index(\"Teams\").to_csv(merged_results_csv, index=True)"
   ]
  },
  {
   "cell_type": "markdown",
   "metadata": {
    "collapsed": false
   },
   "source": [
    "### Get rankings from all methods in a new table"
   ]
  },
  {
   "cell_type": "code",
   "execution_count": null,
   "metadata": {
    "collapsed": false,
    "pycharm": {
     "name": "#%%\n"
    }
   },
   "outputs": [],
   "source": [
    "rankings = [\n",
    "    \"Teams\", \n",
    "    \"Actual_Ranking\", \n",
    "    \"Massey_Ranking\",\n",
    "    \"Keener_Ranking\"\n",
    "    ]\n",
    "\n",
    "ranks_df = compiled_results.loc[:, rankings].copy().set_index(\"Teams\")\n",
    "ranks_df"
   ]
  },
  {
   "cell_type": "markdown",
   "metadata": {
    "collapsed": false
   },
   "source": [
    "#### Check correlation between ranking methods to check how the match with the actual ranking"
   ]
  },
  {
   "cell_type": "code",
   "execution_count": null,
   "metadata": {
    "collapsed": false,
    "pycharm": {
     "name": "#%%\n"
    }
   },
   "outputs": [],
   "source": [
    "ranks_df.corr()"
   ]
  },
  {
   "cell_type": "markdown",
   "metadata": {
    "collapsed": false
   },
   "source": [
    "#### Import the table of the subsequent season to check"
   ]
  },
  {
   "cell_type": "code",
   "execution_count": null,
   "metadata": {
    "collapsed": false,
    "pycharm": {
     "name": "#%%\n"
    }
   },
   "outputs": [],
   "source": [
    "next_league_table = read_league_tbl(next_league_tbl)\n",
    "\n",
    "# Uncomment if you want to see the raw table\n",
    "# next_league_table"
   ]
  },
  {
   "cell_type": "markdown",
   "metadata": {
    "collapsed": false
   },
   "source": [
    "#### Keep some of the columns and rename them"
   ]
  },
  {
   "cell_type": "code",
   "execution_count": null,
   "metadata": {
    "collapsed": false,
    "pycharm": {
     "name": "#%%\n"
    }
   },
   "outputs": [],
   "source": [
    "required_cols = [\"Unnamed: 1\", \"P.2\", \"W.2\", \"D.2\", \"L.2\", \"F\", \"A\", \"+/-\", \"Pts\", \"Actual_Ranking\"]\n",
    "renaming = {\n",
    "    \"Unnamed: 1\": \"Teams\", \n",
    "    \"P.2\": \"Total_Matches_Played\", \n",
    "    \"W.2\": \"Total_Wins\",\n",
    "    \"D.2\": \"Total_Draws\",\n",
    "    \"L.2\": \"Total_Losses\",\n",
    "    \"F\": \"Goals_Scored\",\n",
    "    \"A\": \"Goals_Conceded\",\n",
    "    \"+/-\": \"Goal_Difference\",\n",
    "    \"Pts\": \"Points\"\n",
    "    }\n",
    "\n",
    "# Make a copy of the league table, keeping only the necessary columns renamed\n",
    "next_league_table = (\n",
    "    next_league_table\n",
    "    .loc[:, required_cols]\n",
    "    .copy()\n",
    "    .rename(columns=renaming)\n",
    ")\n",
    "\n",
    "next_league_table"
   ]
  },
  {
   "cell_type": "markdown",
   "metadata": {
    "collapsed": false
   },
   "source": [
    "#### Recall estimated rankings from Massey and Keener"
   ]
  },
  {
   "cell_type": "code",
   "execution_count": null,
   "metadata": {
    "collapsed": false,
    "pycharm": {
     "name": "#%%\n"
    }
   },
   "outputs": [],
   "source": [
    "ranks_df"
   ]
  }
 ],
 "metadata": {
  "colab": {
   "provenance": []
  },
  "kernelspec": {
   "display_name": "Python 3",
   "name": "python3"
  },
  "language_info": {
   "codemirror_mode": {
    "name": "ipython",
    "version": 3
   },
   "file_extension": ".py",
   "mimetype": "text/x-python",
   "name": "python",
   "nbconvert_exporter": "python",
   "pygments_lexer": "ipython3",
   "version": "3.11.4"
  }
 },
 "nbformat": 4,
 "nbformat_minor": 0
}
