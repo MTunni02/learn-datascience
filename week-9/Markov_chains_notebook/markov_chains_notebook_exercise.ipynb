{
 "cells": [
  {
   "cell_type": "markdown",
   "metadata": {
    "collapsed": false
   },
   "source": [
    "#### Rating and Ranking with Markov's Method:\n",
    "\n",
    "#### The Premier League case\n",
    "\n",
    "This is the __exercise__ notebook.\n",
    "\n",
    "We will analyse Premier League results for these two interesting seasons; results have been downloaded from [www.footballwebpages.co.uk](https://www.footballwebpages.co.uk/premier-league):\n",
    "\n",
    "- the [2021 - 2022 season](https://www.footballwebpages.co.uk/premier-league/match-grid/2021-2022), and\n",
    "  \n",
    "- [2022 - 2023 season](https://www.footballwebpages.co.uk/premier-league/match-grid/2022-2023).\n",
    "\n",
    "\n"
   ]
  },
  {
   "cell_type": "markdown",
   "metadata": {},
   "source": [
    "#### Import the needed Python modules"
   ]
  },
  {
   "cell_type": "code",
   "execution_count": 17,
   "metadata": {
    "collapsed": false,
    "pycharm": {
     "name": "#%%\n"
    }
   },
   "outputs": [],
   "source": [
    "import numpy as np\n",
    "\n",
    "import pandas as pd\n",
    "\n",
    "import matplotlib.pyplot as plt\n",
    "\n",
    "from sklearn.preprocessing import MinMaxScaler"
   ]
  },
  {
   "cell_type": "markdown",
   "metadata": {
    "collapsed": false
   },
   "source": [
    "### Set pandas and numpy options for printing results"
   ]
  },
  {
   "cell_type": "code",
   "execution_count": 18,
   "metadata": {
    "collapsed": false,
    "pycharm": {
     "name": "#%%\n"
    }
   },
   "outputs": [],
   "source": [
    "np.set_printoptions(linewidth=1000)\n",
    "\n",
    "pd.set_option('display.max_rows', None)\n",
    "pd.set_option('display.max_columns', None)\n",
    "pd.set_option('display.width', 1000)\n",
    "pd.set_option('display.colheader_justify', 'center')"
   ]
  },
  {
   "cell_type": "markdown",
   "metadata": {
    "collapsed": false
   },
   "source": [
    "### Premier League winners:\n",
    "\n",
    "*   **2021 - 2022**: Manchester City (1-point gap from Liverpool that finished second)\n",
    "\n",
    "*   **2022 - 2023**: Manchester City (5-points gap from Arsenal that finished second)\n",
    "\n"
   ]
  },
  {
   "cell_type": "markdown",
   "metadata": {
    "collapsed": false
   },
   "source": [
    "### File names"
   ]
  },
  {
   "cell_type": "code",
   "execution_count": 19,
   "metadata": {
    "collapsed": false,
    "pycharm": {
     "name": "#%%\n"
    }
   },
   "outputs": [],
   "source": [
    "# League table files\n",
    "premier_league_table_2017_2018 = \"./data/2017_2018_LeagueTable.csv\"\n",
    "premier_league_table_2018_2019 = \"./data/2018_2019_LeagueTable.csv\"\n",
    "premier_league_table_2019_2020 = \"./data/2019_2020_LeagueTable.csv\"\n",
    "premier_league_table_2020_2021 = \"./data/2020_2021_LeagueTable.csv\"\n",
    "premier_league_table_2021_2022 = \"./data/2021_2022_LeagueTable.csv\"\n",
    "premier_league_table_2022_2023 = \"./data/2022_2023_LeagueTable.csv\"\n",
    "\n",
    "# Match grid files\n",
    "premier_league_match_grid_2017_2018 = \"./data/2017_2018_MatchGrid.csv\"\n",
    "premier_league_match_grid_2018_2019 = \"./data/2018_2019_MatchGrid.csv\"\n",
    "premier_league_match_grid_2019_2020 = \"./data/2017_2018_MatchGrid.csv\"\n",
    "premier_league_match_grid_2020_2021 = \"./data/2020_2021_MatchGrid.csv\"\n",
    "premier_league_match_grid_2021_2022 = \"./data/2021_2022_MatchGrid.csv\"\n",
    "premier_league_match_grid_2022_2023 = \"./data/2022_2023_MatchGrid.csv\""
   ]
  },
  {
   "cell_type": "markdown",
   "metadata": {
    "collapsed": false
   },
   "source": [
    "### Set current working data files and next season files\n",
    "\n",
    "Hint: Change these variables in case you would like to rate / rank teams based on a different season and check the estimates against the actual rankings of the following season."
   ]
  },
  {
   "cell_type": "code",
   "execution_count": 20,
   "metadata": {
    "collapsed": false,
    "pycharm": {
     "name": "#%%\n"
    }
   },
   "outputs": [],
   "source": [
    "# Current (working) season\n",
    "current_league_table_file = premier_league_table_2021_2022\n",
    "\n",
    "current_match_grid_file = premier_league_match_grid_2021_2022\n",
    "\n",
    "current_season = \"2021 - 2022\"\n",
    "\n",
    "# Merged results of current season from Massey and Keener\n",
    "merged_results_2021_2022 = \"./data/2021_2022_MergedResults.csv\"\n",
    "\n",
    "# Next season\n",
    "coming_league_table_file = premier_league_table_2022_2023\n",
    "\n",
    "coming_match_grid_file = premier_league_match_grid_2022_2023\n",
    "\n",
    "coming_season = \"2022 - 2023\""
   ]
  },
  {
   "cell_type": "markdown",
   "metadata": {
    "collapsed": false
   },
   "source": [
    "### Markov's method"
   ]
  },
  {
   "cell_type": "markdown",
   "metadata": {
    "collapsed": false
   },
   "source": [
    "#### For Markov we need again the match grid"
   ]
  },
  {
   "cell_type": "code",
   "execution_count": 21,
   "metadata": {
    "collapsed": false,
    "pycharm": {
     "is_executing": true,
     "name": "#%%\n"
    }
   },
   "outputs": [
    {
     "data": {
      "application/vnd.microsoft.datawrangler.viewer.v0+json": {
       "columns": [
        {
         "name": "index",
         "rawType": "object",
         "type": "string"
        },
        {
         "name": "Arsenal",
         "rawType": "object",
         "type": "string"
        },
        {
         "name": "Aston Villa",
         "rawType": "object",
         "type": "string"
        },
        {
         "name": "Brentford",
         "rawType": "object",
         "type": "string"
        },
        {
         "name": "Brighton & Hove Albion",
         "rawType": "object",
         "type": "string"
        },
        {
         "name": "Burnley",
         "rawType": "object",
         "type": "string"
        },
        {
         "name": "Chelsea",
         "rawType": "object",
         "type": "string"
        },
        {
         "name": "Crystal Palace",
         "rawType": "object",
         "type": "string"
        },
        {
         "name": "Everton",
         "rawType": "object",
         "type": "string"
        },
        {
         "name": "Leeds United",
         "rawType": "object",
         "type": "string"
        },
        {
         "name": "Leicester City",
         "rawType": "object",
         "type": "string"
        },
        {
         "name": "Liverpool",
         "rawType": "object",
         "type": "string"
        },
        {
         "name": "Manchester City",
         "rawType": "object",
         "type": "string"
        },
        {
         "name": "Manchester United",
         "rawType": "object",
         "type": "string"
        },
        {
         "name": "Newcastle United",
         "rawType": "object",
         "type": "string"
        },
        {
         "name": "Norwich City",
         "rawType": "object",
         "type": "string"
        },
        {
         "name": "Southampton",
         "rawType": "object",
         "type": "string"
        },
        {
         "name": "Tottenham Hotspur",
         "rawType": "object",
         "type": "string"
        },
        {
         "name": "Watford",
         "rawType": "object",
         "type": "string"
        },
        {
         "name": "West Ham United",
         "rawType": "object",
         "type": "string"
        },
        {
         "name": "Wolverhampton Wanderers",
         "rawType": "object",
         "type": "string"
        }
       ],
       "ref": "eb780581-b934-4a9c-977b-2ce98256d977",
       "rows": [
        [
         "Arsenal",
         "0-0",
         "3-1",
         "2-1",
         "1-2",
         "0-0",
         "0-2",
         "2-2",
         "5-1",
         "2-1",
         "2-0",
         "0-2",
         "1-2",
         "3-1",
         "2-0",
         "1-0",
         "3-0",
         "3-1",
         "1-0",
         "2-0",
         "2-1"
        ],
        [
         "Aston Villa",
         "0-1",
         "0-0",
         "1-1",
         "2-0",
         "1-1",
         "1-3",
         "1-1",
         "3-0",
         "3-3",
         "2-1",
         "1-2",
         "1-2",
         "2-2",
         "2-0",
         "2-0",
         "4-0",
         "0-4",
         "0-1",
         "1-4",
         "2-3"
        ],
        [
         "Brentford",
         "2-0",
         "2-1",
         "0-0",
         "0-1",
         "2-0",
         "0-1",
         "0-0",
         "1-0",
         "1-2",
         "1-2",
         "3-3",
         "0-1",
         "1-3",
         "0-2",
         "1-2",
         "3-0",
         "0-0",
         "2-1",
         "2-0",
         "1-2"
        ],
        [
         "Brighton & Hove Albion",
         "0-0",
         "0-2",
         "2-0",
         "0-0",
         "0-3",
         "1-1",
         "1-1",
         "0-2",
         "0-0",
         "2-1",
         "0-2",
         "1-4",
         "4-0",
         "1-1",
         "0-0",
         "2-2",
         "0-2",
         "2-0",
         "3-1",
         "0-1"
        ],
        [
         "Burnley",
         "0-1",
         "1-3",
         "3-1",
         "1-2",
         "0-0",
         "0-4",
         "3-3",
         "3-2",
         "1-1",
         "0-2",
         "0-1",
         "0-2",
         "1-1",
         "1-2",
         "0-0",
         "2-0",
         "1-0",
         "0-0",
         "0-0",
         "1-0"
        ],
        [
         "Chelsea",
         "2-4",
         "3-0",
         "1-4",
         "1-1",
         "1-1",
         "0-0",
         "3-0",
         "1-1",
         "3-2",
         "1-1",
         "2-2",
         "0-1",
         "1-1",
         "1-0",
         "7-0",
         "3-1",
         "2-0",
         "2-1",
         "1-0",
         "2-2"
        ],
        [
         "Crystal Palace",
         "3-0",
         "1-2",
         "0-0",
         "1-1",
         "1-1",
         "0-1",
         "0-0",
         "3-1",
         "0-0",
         "2-2",
         "1-3",
         "0-0",
         "1-0",
         "1-1",
         "3-0",
         "2-2",
         "3-0",
         "1-0",
         "2-3",
         "2-0"
        ],
        [
         "Everton",
         "2-1",
         "0-1",
         "2-3",
         "2-3",
         "3-1",
         "1-0",
         "3-2",
         "0-0",
         "3-0",
         "1-1",
         "1-4",
         "0-1",
         "1-0",
         "1-0",
         "2-0",
         "3-1",
         "0-0",
         "2-5",
         "0-1",
         "0-1"
        ],
        [
         "Leeds United",
         "1-4",
         "0-3",
         "2-2",
         "1-1",
         "3-1",
         "0-3",
         "1-0",
         "2-2",
         "0-0",
         "1-1",
         "0-3",
         "0-4",
         "2-4",
         "0-1",
         "2-1",
         "1-1",
         "0-4",
         "1-0",
         "1-2",
         "1-1"
        ],
        [
         "Leicester City",
         "0-2",
         "0-0",
         "2-1",
         "1-1",
         "2-2",
         "0-3",
         "2-1",
         "1-2",
         "1-0",
         "0-0",
         "1-0",
         "0-1",
         "4-2",
         "4-0",
         "3-0",
         "4-1",
         "2-3",
         "4-2",
         "2-2",
         "1-0"
        ],
        [
         "Liverpool",
         "4-0",
         "1-0",
         "3-0",
         "2-2",
         "2-0",
         "1-1",
         "3-0",
         "2-0",
         "6-0",
         "2-0",
         "0-0",
         "2-2",
         "4-0",
         "3-1",
         "3-1",
         "4-0",
         "1-1",
         "2-0",
         "1-0",
         "3-1"
        ],
        [
         "Manchester City",
         "5-0",
         "3-2",
         "2-0",
         "3-0",
         "2-0",
         "1-0",
         "0-2",
         "3-0",
         "7-0",
         "6-3",
         "2-2",
         "0-0",
         "4-1",
         "5-0",
         "5-0",
         "0-0",
         "2-3",
         "5-1",
         "2-1",
         "1-0"
        ],
        [
         "Manchester United",
         "3-2",
         "0-1",
         "3-0",
         "2-0",
         "3-1",
         "1-1",
         "1-0",
         "1-1",
         "5-1",
         "1-1",
         "0-5",
         "0-2",
         "0-0",
         "4-1",
         "3-2",
         "1-1",
         "3-2",
         "0-0",
         "1-0",
         "0-1"
        ],
        [
         "Newcastle United",
         "2-0",
         "1-0",
         "3-3",
         "2-1",
         "1-0",
         "0-3",
         "1-0",
         "3-1",
         "1-1",
         "2-1",
         "0-1",
         "0-4",
         "1-1",
         "0-0",
         "1-1",
         "2-2",
         "2-3",
         "1-1",
         "2-4",
         "1-0"
        ],
        [
         "Norwich City",
         "0-5",
         "0-2",
         "1-3",
         "0-0",
         "2-0",
         "1-3",
         "1-1",
         "2-1",
         "1-2",
         "1-2",
         "0-3",
         "0-4",
         "0-1",
         "0-3",
         "0-0",
         "2-1",
         "0-5",
         "1-3",
         "0-4",
         "0-0"
        ],
        [
         "Southampton",
         "1-0",
         "1-0",
         "4-1",
         "1-1",
         "2-2",
         "0-6",
         "1-2",
         "2-0",
         "1-0",
         "2-2",
         "1-2",
         "1-1",
         "1-1",
         "1-2",
         "2-0",
         "0-0",
         "1-1",
         "1-2",
         "0-0",
         "0-1"
        ],
        [
         "Tottenham Hotspur",
         "3-0",
         "2-1",
         "2-0",
         "0-1",
         "1-0",
         "0-3",
         "3-0",
         "5-0",
         "2-1",
         "3-1",
         "2-2",
         "1-0",
         "0-3",
         "5-1",
         "3-0",
         "2-3",
         "0-0",
         "1-0",
         "3-1",
         "0-2"
        ],
        [
         "Watford",
         "2-3",
         "3-2",
         "1-2",
         "0-2",
         "1-2",
         "1-2",
         "1-4",
         "0-0",
         "0-3",
         "1-5",
         "0-5",
         "1-3",
         "4-1",
         "1-1",
         "0-3",
         "0-1",
         "0-1",
         "0-0",
         "1-4",
         "0-2"
        ],
        [
         "West Ham United",
         "1-2",
         "2-1",
         "1-2",
         "1-1",
         "1-1",
         "3-2",
         "2-2",
         "2-1",
         "2-3",
         "4-1",
         "3-2",
         "2-2",
         "1-2",
         "1-1",
         "2-0",
         "2-3",
         "1-0",
         "1-0",
         "0-0",
         "1-0"
        ],
        [
         "Wolverhampton Wanderers",
         "0-1",
         "2-1",
         "0-2",
         "0-3",
         "0-0",
         "0-0",
         "0-2",
         "2-1",
         "2-3",
         "2-1",
         "0-1",
         "1-5",
         "0-1",
         "2-1",
         "1-1",
         "3-1",
         "0-1",
         "4-0",
         "1-0",
         "0-0"
        ]
       ],
       "shape": {
        "columns": 20,
        "rows": 20
       }
      },
      "text/html": [
       "<div>\n",
       "<style scoped>\n",
       "    .dataframe tbody tr th:only-of-type {\n",
       "        vertical-align: middle;\n",
       "    }\n",
       "\n",
       "    .dataframe tbody tr th {\n",
       "        vertical-align: top;\n",
       "    }\n",
       "\n",
       "    .dataframe thead th {\n",
       "        text-align: right;\n",
       "    }\n",
       "</style>\n",
       "<table border=\"1\" class=\"dataframe\">\n",
       "  <thead>\n",
       "    <tr style=\"text-align: center;\">\n",
       "      <th></th>\n",
       "      <th>Arsenal</th>\n",
       "      <th>Aston Villa</th>\n",
       "      <th>Brentford</th>\n",
       "      <th>Brighton &amp; Hove Albion</th>\n",
       "      <th>Burnley</th>\n",
       "      <th>Chelsea</th>\n",
       "      <th>Crystal Palace</th>\n",
       "      <th>Everton</th>\n",
       "      <th>Leeds United</th>\n",
       "      <th>Leicester City</th>\n",
       "      <th>Liverpool</th>\n",
       "      <th>Manchester City</th>\n",
       "      <th>Manchester United</th>\n",
       "      <th>Newcastle United</th>\n",
       "      <th>Norwich City</th>\n",
       "      <th>Southampton</th>\n",
       "      <th>Tottenham Hotspur</th>\n",
       "      <th>Watford</th>\n",
       "      <th>West Ham United</th>\n",
       "      <th>Wolverhampton Wanderers</th>\n",
       "    </tr>\n",
       "  </thead>\n",
       "  <tbody>\n",
       "    <tr>\n",
       "      <th>Arsenal</th>\n",
       "      <td>0-0</td>\n",
       "      <td>3-1</td>\n",
       "      <td>2-1</td>\n",
       "      <td>1-2</td>\n",
       "      <td>0-0</td>\n",
       "      <td>0-2</td>\n",
       "      <td>2-2</td>\n",
       "      <td>5-1</td>\n",
       "      <td>2-1</td>\n",
       "      <td>2-0</td>\n",
       "      <td>0-2</td>\n",
       "      <td>1-2</td>\n",
       "      <td>3-1</td>\n",
       "      <td>2-0</td>\n",
       "      <td>1-0</td>\n",
       "      <td>3-0</td>\n",
       "      <td>3-1</td>\n",
       "      <td>1-0</td>\n",
       "      <td>2-0</td>\n",
       "      <td>2-1</td>\n",
       "    </tr>\n",
       "    <tr>\n",
       "      <th>Aston Villa</th>\n",
       "      <td>0-1</td>\n",
       "      <td>0-0</td>\n",
       "      <td>1-1</td>\n",
       "      <td>2-0</td>\n",
       "      <td>1-1</td>\n",
       "      <td>1-3</td>\n",
       "      <td>1-1</td>\n",
       "      <td>3-0</td>\n",
       "      <td>3-3</td>\n",
       "      <td>2-1</td>\n",
       "      <td>1-2</td>\n",
       "      <td>1-2</td>\n",
       "      <td>2-2</td>\n",
       "      <td>2-0</td>\n",
       "      <td>2-0</td>\n",
       "      <td>4-0</td>\n",
       "      <td>0-4</td>\n",
       "      <td>0-1</td>\n",
       "      <td>1-4</td>\n",
       "      <td>2-3</td>\n",
       "    </tr>\n",
       "    <tr>\n",
       "      <th>Brentford</th>\n",
       "      <td>2-0</td>\n",
       "      <td>2-1</td>\n",
       "      <td>0-0</td>\n",
       "      <td>0-1</td>\n",
       "      <td>2-0</td>\n",
       "      <td>0-1</td>\n",
       "      <td>0-0</td>\n",
       "      <td>1-0</td>\n",
       "      <td>1-2</td>\n",
       "      <td>1-2</td>\n",
       "      <td>3-3</td>\n",
       "      <td>0-1</td>\n",
       "      <td>1-3</td>\n",
       "      <td>0-2</td>\n",
       "      <td>1-2</td>\n",
       "      <td>3-0</td>\n",
       "      <td>0-0</td>\n",
       "      <td>2-1</td>\n",
       "      <td>2-0</td>\n",
       "      <td>1-2</td>\n",
       "    </tr>\n",
       "    <tr>\n",
       "      <th>Brighton &amp; Hove Albion</th>\n",
       "      <td>0-0</td>\n",
       "      <td>0-2</td>\n",
       "      <td>2-0</td>\n",
       "      <td>0-0</td>\n",
       "      <td>0-3</td>\n",
       "      <td>1-1</td>\n",
       "      <td>1-1</td>\n",
       "      <td>0-2</td>\n",
       "      <td>0-0</td>\n",
       "      <td>2-1</td>\n",
       "      <td>0-2</td>\n",
       "      <td>1-4</td>\n",
       "      <td>4-0</td>\n",
       "      <td>1-1</td>\n",
       "      <td>0-0</td>\n",
       "      <td>2-2</td>\n",
       "      <td>0-2</td>\n",
       "      <td>2-0</td>\n",
       "      <td>3-1</td>\n",
       "      <td>0-1</td>\n",
       "    </tr>\n",
       "    <tr>\n",
       "      <th>Burnley</th>\n",
       "      <td>0-1</td>\n",
       "      <td>1-3</td>\n",
       "      <td>3-1</td>\n",
       "      <td>1-2</td>\n",
       "      <td>0-0</td>\n",
       "      <td>0-4</td>\n",
       "      <td>3-3</td>\n",
       "      <td>3-2</td>\n",
       "      <td>1-1</td>\n",
       "      <td>0-2</td>\n",
       "      <td>0-1</td>\n",
       "      <td>0-2</td>\n",
       "      <td>1-1</td>\n",
       "      <td>1-2</td>\n",
       "      <td>0-0</td>\n",
       "      <td>2-0</td>\n",
       "      <td>1-0</td>\n",
       "      <td>0-0</td>\n",
       "      <td>0-0</td>\n",
       "      <td>1-0</td>\n",
       "    </tr>\n",
       "    <tr>\n",
       "      <th>Chelsea</th>\n",
       "      <td>2-4</td>\n",
       "      <td>3-0</td>\n",
       "      <td>1-4</td>\n",
       "      <td>1-1</td>\n",
       "      <td>1-1</td>\n",
       "      <td>0-0</td>\n",
       "      <td>3-0</td>\n",
       "      <td>1-1</td>\n",
       "      <td>3-2</td>\n",
       "      <td>1-1</td>\n",
       "      <td>2-2</td>\n",
       "      <td>0-1</td>\n",
       "      <td>1-1</td>\n",
       "      <td>1-0</td>\n",
       "      <td>7-0</td>\n",
       "      <td>3-1</td>\n",
       "      <td>2-0</td>\n",
       "      <td>2-1</td>\n",
       "      <td>1-0</td>\n",
       "      <td>2-2</td>\n",
       "    </tr>\n",
       "    <tr>\n",
       "      <th>Crystal Palace</th>\n",
       "      <td>3-0</td>\n",
       "      <td>1-2</td>\n",
       "      <td>0-0</td>\n",
       "      <td>1-1</td>\n",
       "      <td>1-1</td>\n",
       "      <td>0-1</td>\n",
       "      <td>0-0</td>\n",
       "      <td>3-1</td>\n",
       "      <td>0-0</td>\n",
       "      <td>2-2</td>\n",
       "      <td>1-3</td>\n",
       "      <td>0-0</td>\n",
       "      <td>1-0</td>\n",
       "      <td>1-1</td>\n",
       "      <td>3-0</td>\n",
       "      <td>2-2</td>\n",
       "      <td>3-0</td>\n",
       "      <td>1-0</td>\n",
       "      <td>2-3</td>\n",
       "      <td>2-0</td>\n",
       "    </tr>\n",
       "    <tr>\n",
       "      <th>Everton</th>\n",
       "      <td>2-1</td>\n",
       "      <td>0-1</td>\n",
       "      <td>2-3</td>\n",
       "      <td>2-3</td>\n",
       "      <td>3-1</td>\n",
       "      <td>1-0</td>\n",
       "      <td>3-2</td>\n",
       "      <td>0-0</td>\n",
       "      <td>3-0</td>\n",
       "      <td>1-1</td>\n",
       "      <td>1-4</td>\n",
       "      <td>0-1</td>\n",
       "      <td>1-0</td>\n",
       "      <td>1-0</td>\n",
       "      <td>2-0</td>\n",
       "      <td>3-1</td>\n",
       "      <td>0-0</td>\n",
       "      <td>2-5</td>\n",
       "      <td>0-1</td>\n",
       "      <td>0-1</td>\n",
       "    </tr>\n",
       "    <tr>\n",
       "      <th>Leeds United</th>\n",
       "      <td>1-4</td>\n",
       "      <td>0-3</td>\n",
       "      <td>2-2</td>\n",
       "      <td>1-1</td>\n",
       "      <td>3-1</td>\n",
       "      <td>0-3</td>\n",
       "      <td>1-0</td>\n",
       "      <td>2-2</td>\n",
       "      <td>0-0</td>\n",
       "      <td>1-1</td>\n",
       "      <td>0-3</td>\n",
       "      <td>0-4</td>\n",
       "      <td>2-4</td>\n",
       "      <td>0-1</td>\n",
       "      <td>2-1</td>\n",
       "      <td>1-1</td>\n",
       "      <td>0-4</td>\n",
       "      <td>1-0</td>\n",
       "      <td>1-2</td>\n",
       "      <td>1-1</td>\n",
       "    </tr>\n",
       "    <tr>\n",
       "      <th>Leicester City</th>\n",
       "      <td>0-2</td>\n",
       "      <td>0-0</td>\n",
       "      <td>2-1</td>\n",
       "      <td>1-1</td>\n",
       "      <td>2-2</td>\n",
       "      <td>0-3</td>\n",
       "      <td>2-1</td>\n",
       "      <td>1-2</td>\n",
       "      <td>1-0</td>\n",
       "      <td>0-0</td>\n",
       "      <td>1-0</td>\n",
       "      <td>0-1</td>\n",
       "      <td>4-2</td>\n",
       "      <td>4-0</td>\n",
       "      <td>3-0</td>\n",
       "      <td>4-1</td>\n",
       "      <td>2-3</td>\n",
       "      <td>4-2</td>\n",
       "      <td>2-2</td>\n",
       "      <td>1-0</td>\n",
       "    </tr>\n",
       "    <tr>\n",
       "      <th>Liverpool</th>\n",
       "      <td>4-0</td>\n",
       "      <td>1-0</td>\n",
       "      <td>3-0</td>\n",
       "      <td>2-2</td>\n",
       "      <td>2-0</td>\n",
       "      <td>1-1</td>\n",
       "      <td>3-0</td>\n",
       "      <td>2-0</td>\n",
       "      <td>6-0</td>\n",
       "      <td>2-0</td>\n",
       "      <td>0-0</td>\n",
       "      <td>2-2</td>\n",
       "      <td>4-0</td>\n",
       "      <td>3-1</td>\n",
       "      <td>3-1</td>\n",
       "      <td>4-0</td>\n",
       "      <td>1-1</td>\n",
       "      <td>2-0</td>\n",
       "      <td>1-0</td>\n",
       "      <td>3-1</td>\n",
       "    </tr>\n",
       "    <tr>\n",
       "      <th>Manchester City</th>\n",
       "      <td>5-0</td>\n",
       "      <td>3-2</td>\n",
       "      <td>2-0</td>\n",
       "      <td>3-0</td>\n",
       "      <td>2-0</td>\n",
       "      <td>1-0</td>\n",
       "      <td>0-2</td>\n",
       "      <td>3-0</td>\n",
       "      <td>7-0</td>\n",
       "      <td>6-3</td>\n",
       "      <td>2-2</td>\n",
       "      <td>0-0</td>\n",
       "      <td>4-1</td>\n",
       "      <td>5-0</td>\n",
       "      <td>5-0</td>\n",
       "      <td>0-0</td>\n",
       "      <td>2-3</td>\n",
       "      <td>5-1</td>\n",
       "      <td>2-1</td>\n",
       "      <td>1-0</td>\n",
       "    </tr>\n",
       "    <tr>\n",
       "      <th>Manchester United</th>\n",
       "      <td>3-2</td>\n",
       "      <td>0-1</td>\n",
       "      <td>3-0</td>\n",
       "      <td>2-0</td>\n",
       "      <td>3-1</td>\n",
       "      <td>1-1</td>\n",
       "      <td>1-0</td>\n",
       "      <td>1-1</td>\n",
       "      <td>5-1</td>\n",
       "      <td>1-1</td>\n",
       "      <td>0-5</td>\n",
       "      <td>0-2</td>\n",
       "      <td>0-0</td>\n",
       "      <td>4-1</td>\n",
       "      <td>3-2</td>\n",
       "      <td>1-1</td>\n",
       "      <td>3-2</td>\n",
       "      <td>0-0</td>\n",
       "      <td>1-0</td>\n",
       "      <td>0-1</td>\n",
       "    </tr>\n",
       "    <tr>\n",
       "      <th>Newcastle United</th>\n",
       "      <td>2-0</td>\n",
       "      <td>1-0</td>\n",
       "      <td>3-3</td>\n",
       "      <td>2-1</td>\n",
       "      <td>1-0</td>\n",
       "      <td>0-3</td>\n",
       "      <td>1-0</td>\n",
       "      <td>3-1</td>\n",
       "      <td>1-1</td>\n",
       "      <td>2-1</td>\n",
       "      <td>0-1</td>\n",
       "      <td>0-4</td>\n",
       "      <td>1-1</td>\n",
       "      <td>0-0</td>\n",
       "      <td>1-1</td>\n",
       "      <td>2-2</td>\n",
       "      <td>2-3</td>\n",
       "      <td>1-1</td>\n",
       "      <td>2-4</td>\n",
       "      <td>1-0</td>\n",
       "    </tr>\n",
       "    <tr>\n",
       "      <th>Norwich City</th>\n",
       "      <td>0-5</td>\n",
       "      <td>0-2</td>\n",
       "      <td>1-3</td>\n",
       "      <td>0-0</td>\n",
       "      <td>2-0</td>\n",
       "      <td>1-3</td>\n",
       "      <td>1-1</td>\n",
       "      <td>2-1</td>\n",
       "      <td>1-2</td>\n",
       "      <td>1-2</td>\n",
       "      <td>0-3</td>\n",
       "      <td>0-4</td>\n",
       "      <td>0-1</td>\n",
       "      <td>0-3</td>\n",
       "      <td>0-0</td>\n",
       "      <td>2-1</td>\n",
       "      <td>0-5</td>\n",
       "      <td>1-3</td>\n",
       "      <td>0-4</td>\n",
       "      <td>0-0</td>\n",
       "    </tr>\n",
       "    <tr>\n",
       "      <th>Southampton</th>\n",
       "      <td>1-0</td>\n",
       "      <td>1-0</td>\n",
       "      <td>4-1</td>\n",
       "      <td>1-1</td>\n",
       "      <td>2-2</td>\n",
       "      <td>0-6</td>\n",
       "      <td>1-2</td>\n",
       "      <td>2-0</td>\n",
       "      <td>1-0</td>\n",
       "      <td>2-2</td>\n",
       "      <td>1-2</td>\n",
       "      <td>1-1</td>\n",
       "      <td>1-1</td>\n",
       "      <td>1-2</td>\n",
       "      <td>2-0</td>\n",
       "      <td>0-0</td>\n",
       "      <td>1-1</td>\n",
       "      <td>1-2</td>\n",
       "      <td>0-0</td>\n",
       "      <td>0-1</td>\n",
       "    </tr>\n",
       "    <tr>\n",
       "      <th>Tottenham Hotspur</th>\n",
       "      <td>3-0</td>\n",
       "      <td>2-1</td>\n",
       "      <td>2-0</td>\n",
       "      <td>0-1</td>\n",
       "      <td>1-0</td>\n",
       "      <td>0-3</td>\n",
       "      <td>3-0</td>\n",
       "      <td>5-0</td>\n",
       "      <td>2-1</td>\n",
       "      <td>3-1</td>\n",
       "      <td>2-2</td>\n",
       "      <td>1-0</td>\n",
       "      <td>0-3</td>\n",
       "      <td>5-1</td>\n",
       "      <td>3-0</td>\n",
       "      <td>2-3</td>\n",
       "      <td>0-0</td>\n",
       "      <td>1-0</td>\n",
       "      <td>3-1</td>\n",
       "      <td>0-2</td>\n",
       "    </tr>\n",
       "    <tr>\n",
       "      <th>Watford</th>\n",
       "      <td>2-3</td>\n",
       "      <td>3-2</td>\n",
       "      <td>1-2</td>\n",
       "      <td>0-2</td>\n",
       "      <td>1-2</td>\n",
       "      <td>1-2</td>\n",
       "      <td>1-4</td>\n",
       "      <td>0-0</td>\n",
       "      <td>0-3</td>\n",
       "      <td>1-5</td>\n",
       "      <td>0-5</td>\n",
       "      <td>1-3</td>\n",
       "      <td>4-1</td>\n",
       "      <td>1-1</td>\n",
       "      <td>0-3</td>\n",
       "      <td>0-1</td>\n",
       "      <td>0-1</td>\n",
       "      <td>0-0</td>\n",
       "      <td>1-4</td>\n",
       "      <td>0-2</td>\n",
       "    </tr>\n",
       "    <tr>\n",
       "      <th>West Ham United</th>\n",
       "      <td>1-2</td>\n",
       "      <td>2-1</td>\n",
       "      <td>1-2</td>\n",
       "      <td>1-1</td>\n",
       "      <td>1-1</td>\n",
       "      <td>3-2</td>\n",
       "      <td>2-2</td>\n",
       "      <td>2-1</td>\n",
       "      <td>2-3</td>\n",
       "      <td>4-1</td>\n",
       "      <td>3-2</td>\n",
       "      <td>2-2</td>\n",
       "      <td>1-2</td>\n",
       "      <td>1-1</td>\n",
       "      <td>2-0</td>\n",
       "      <td>2-3</td>\n",
       "      <td>1-0</td>\n",
       "      <td>1-0</td>\n",
       "      <td>0-0</td>\n",
       "      <td>1-0</td>\n",
       "    </tr>\n",
       "    <tr>\n",
       "      <th>Wolverhampton Wanderers</th>\n",
       "      <td>0-1</td>\n",
       "      <td>2-1</td>\n",
       "      <td>0-2</td>\n",
       "      <td>0-3</td>\n",
       "      <td>0-0</td>\n",
       "      <td>0-0</td>\n",
       "      <td>0-2</td>\n",
       "      <td>2-1</td>\n",
       "      <td>2-3</td>\n",
       "      <td>2-1</td>\n",
       "      <td>0-1</td>\n",
       "      <td>1-5</td>\n",
       "      <td>0-1</td>\n",
       "      <td>2-1</td>\n",
       "      <td>1-1</td>\n",
       "      <td>3-1</td>\n",
       "      <td>0-1</td>\n",
       "      <td>4-0</td>\n",
       "      <td>1-0</td>\n",
       "      <td>0-0</td>\n",
       "    </tr>\n",
       "  </tbody>\n",
       "</table>\n",
       "</div>"
      ],
      "text/plain": [
       "                        Arsenal Aston Villa Brentford Brighton & Hove Albion Burnley Chelsea Crystal Palace Everton Leeds United Leicester City Liverpool Manchester City Manchester United Newcastle United Norwich City Southampton Tottenham Hotspur Watford West Ham United Wolverhampton Wanderers\n",
       "Arsenal                    0-0       3-1        2-1             1-2             0-0     0-2        2-2         5-1       2-1           2-0          0-2          1-2              3-1              2-0            1-0          3-0            3-1          1-0         2-0                 2-1         \n",
       "Aston Villa                0-1       0-0        1-1             2-0             1-1     1-3        1-1         3-0       3-3           2-1          1-2          1-2              2-2              2-0            2-0          4-0            0-4          0-1         1-4                 2-3         \n",
       "Brentford                  2-0       2-1        0-0             0-1             2-0     0-1        0-0         1-0       1-2           1-2          3-3          0-1              1-3              0-2            1-2          3-0            0-0          2-1         2-0                 1-2         \n",
       "Brighton & Hove Albion     0-0       0-2        2-0             0-0             0-3     1-1        1-1         0-2       0-0           2-1          0-2          1-4              4-0              1-1            0-0          2-2            0-2          2-0         3-1                 0-1         \n",
       "Burnley                    0-1       1-3        3-1             1-2             0-0     0-4        3-3         3-2       1-1           0-2          0-1          0-2              1-1              1-2            0-0          2-0            1-0          0-0         0-0                 1-0         \n",
       "Chelsea                    2-4       3-0        1-4             1-1             1-1     0-0        3-0         1-1       3-2           1-1          2-2          0-1              1-1              1-0            7-0          3-1            2-0          2-1         1-0                 2-2         \n",
       "Crystal Palace             3-0       1-2        0-0             1-1             1-1     0-1        0-0         3-1       0-0           2-2          1-3          0-0              1-0              1-1            3-0          2-2            3-0          1-0         2-3                 2-0         \n",
       "Everton                    2-1       0-1        2-3             2-3             3-1     1-0        3-2         0-0       3-0           1-1          1-4          0-1              1-0              1-0            2-0          3-1            0-0          2-5         0-1                 0-1         \n",
       "Leeds United               1-4       0-3        2-2             1-1             3-1     0-3        1-0         2-2       0-0           1-1          0-3          0-4              2-4              0-1            2-1          1-1            0-4          1-0         1-2                 1-1         \n",
       "Leicester City             0-2       0-0        2-1             1-1             2-2     0-3        2-1         1-2       1-0           0-0          1-0          0-1              4-2              4-0            3-0          4-1            2-3          4-2         2-2                 1-0         \n",
       "Liverpool                  4-0       1-0        3-0             2-2             2-0     1-1        3-0         2-0       6-0           2-0          0-0          2-2              4-0              3-1            3-1          4-0            1-1          2-0         1-0                 3-1         \n",
       "Manchester City            5-0       3-2        2-0             3-0             2-0     1-0        0-2         3-0       7-0           6-3          2-2          0-0              4-1              5-0            5-0          0-0            2-3          5-1         2-1                 1-0         \n",
       "Manchester United          3-2       0-1        3-0             2-0             3-1     1-1        1-0         1-1       5-1           1-1          0-5          0-2              0-0              4-1            3-2          1-1            3-2          0-0         1-0                 0-1         \n",
       "Newcastle United           2-0       1-0        3-3             2-1             1-0     0-3        1-0         3-1       1-1           2-1          0-1          0-4              1-1              0-0            1-1          2-2            2-3          1-1         2-4                 1-0         \n",
       "Norwich City               0-5       0-2        1-3             0-0             2-0     1-3        1-1         2-1       1-2           1-2          0-3          0-4              0-1              0-3            0-0          2-1            0-5          1-3         0-4                 0-0         \n",
       "Southampton                1-0       1-0        4-1             1-1             2-2     0-6        1-2         2-0       1-0           2-2          1-2          1-1              1-1              1-2            2-0          0-0            1-1          1-2         0-0                 0-1         \n",
       "Tottenham Hotspur          3-0       2-1        2-0             0-1             1-0     0-3        3-0         5-0       2-1           3-1          2-2          1-0              0-3              5-1            3-0          2-3            0-0          1-0         3-1                 0-2         \n",
       "Watford                    2-3       3-2        1-2             0-2             1-2     1-2        1-4         0-0       0-3           1-5          0-5          1-3              4-1              1-1            0-3          0-1            0-1          0-0         1-4                 0-2         \n",
       "West Ham United            1-2       2-1        1-2             1-1             1-1     3-2        2-2         2-1       2-3           4-1          3-2          2-2              1-2              1-1            2-0          2-3            1-0          1-0         0-0                 1-0         \n",
       "Wolverhampton Wanderers    0-1       2-1        0-2             0-3             0-0     0-0        0-2         2-1       2-3           2-1          0-1          1-5              0-1              2-1            1-1          3-1            0-1          4-0         1-0                 0-0         "
      ]
     },
     "execution_count": 21,
     "metadata": {},
     "output_type": "execute_result"
    }
   ],
   "source": [
    "# Each match entry is in the format =\"GH-GA\" (except from NaN in diagonal).\n",
    "# GH are goals scored by the home team, and GA are goals scored by the away team\n",
    "# Below, we read the match grid CSV and remove '=' and '\"'\n",
    "\n",
    "match_grid = (\n",
    "    pd.read_csv(current_match_grid_file, dtype=str, index_col=0)\n",
    "    .replace('\"' , '', regex=True)\n",
    "    .replace('=' , '', regex=True)\n",
    "    .fillna(\"0-0\")\n",
    "    )\n",
    "\n",
    "match_grid"
   ]
  },
  {
   "cell_type": "markdown",
   "metadata": {
    "collapsed": false
   },
   "source": [
    "#### Create Markov's V matrix\n"
   ]
  },
  {
   "cell_type": "markdown",
   "metadata": {
    "collapsed": false
   },
   "source": [
    "We remember that $V_{n \\times n}$  where $v_{ij}:$ total goals conceded by $i$ to $j$\n",
    "\n",
    "\n",
    "Here $n=$ number of teams in the league"
   ]
  },
  {
   "cell_type": "markdown",
   "metadata": {
    "collapsed": false
   },
   "source": [
    "#### Create Markov's S matrix\n",
    "\n",
    "Below is another refresher."
   ]
  },
  {
   "cell_type": "markdown",
   "metadata": {
    "collapsed": false
   },
   "source": [
    "$S_{n \\times n}$ where $s_{ij}:$ proportion of goals team i conceded to team over the total goals team i conceded."
   ]
  },
  {
   "cell_type": "markdown",
   "metadata": {
    "collapsed": false
   },
   "source": [
    "#### Exercise 1: Complete the code to calculate Markov's V and S matrices\n",
    "\n",
    "#### Step-by-step:\n",
    "\n",
    "1.   Parse scores. Example: \"3-2\". The home team scored 3 goals and the away team 2.\n",
    "\n",
    "   Hint: Pandas [applymap documentation](https://pandas.pydata.org/pandas-docs/stable/reference/api/pandas.DataFrame.applymap.html)\n",
    "\n",
    "2.   Match every team's home match with the respective away match against the same opponent.\n",
    "\n",
    "   Hint: The home match of team *i* against *j* is element *ij*. The respective away match is element *ji* - row and column indexes are swapped..."
   ]
  },
  {
   "cell_type": "code",
   "execution_count": 22,
   "metadata": {
    "collapsed": false,
    "pycharm": {
     "name": "#%%\n"
    }
   },
   "outputs": [],
   "source": [
    "# TODO: Write your code below.\n",
    "# Save the output in variables V_dataframe and S_dataframe\n",
    "\n",
    "# Parse score and get goals of a home match\n",
    "\n",
    "\n",
    "# Parse score and get goals of an away match\n",
    "# The grid is transposed to match every team's respective\n",
    "# home and away matches"
   ]
  },
  {
   "cell_type": "markdown",
   "metadata": {
    "collapsed": false
   },
   "source": [
    "#### Create transition and counter dictionaries"
   ]
  },
  {
   "cell_type": "code",
   "execution_count": 23,
   "metadata": {
    "collapsed": false,
    "pycharm": {
     "name": "#%%\n"
    }
   },
   "outputs": [
    {
     "ename": "NameError",
     "evalue": "name 'S_dataframe' is not defined",
     "output_type": "error",
     "traceback": [
      "\u001b[31m---------------------------------------------------------------------------\u001b[39m",
      "\u001b[31mNameError\u001b[39m                                 Traceback (most recent call last)",
      "\u001b[36mCell\u001b[39m\u001b[36m \u001b[39m\u001b[32mIn[23]\u001b[39m\u001b[32m, line 4\u001b[39m\n\u001b[32m      1\u001b[39m \u001b[38;5;66;03m# Dictionary with teams as keys and lists of probabilities as values\u001b[39;00m\n\u001b[32m      2\u001b[39m \u001b[38;5;66;03m# Each list represents a probability of moving from current team\u001b[39;00m\n\u001b[32m      3\u001b[39m \u001b[38;5;66;03m# to another team of the league (fair-weather fan logic)\u001b[39;00m\n\u001b[32m----> \u001b[39m\u001b[32m4\u001b[39m transit_dict = \u001b[43mS_dataframe\u001b[49m.T.to_dict(orient=\u001b[33m\"\u001b[39m\u001b[33mlist\u001b[39m\u001b[33m\"\u001b[39m)\n\u001b[32m      6\u001b[39m teams = S_dataframe.columns.tolist()\n\u001b[32m      8\u001b[39m \u001b[38;5;66;03m# Dictionary with teams as keys and number of visits as values\u001b[39;00m\n",
      "\u001b[31mNameError\u001b[39m: name 'S_dataframe' is not defined"
     ]
    }
   ],
   "source": [
    "# Dictionary with teams as keys and lists of probabilities as values\n",
    "# Each list represents a probability of moving from current team\n",
    "# to another team of the league (fair-weather fan logic)\n",
    "transit_dict = S_dataframe.T.to_dict(orient=\"list\")\n",
    "\n",
    "teams = S_dataframe.columns.tolist()\n",
    "\n",
    "# Dictionary with teams as keys and number of visits as values\n",
    "counter_dict = {team: 0 for team in teams}"
   ]
  },
  {
   "cell_type": "markdown",
   "metadata": {
    "collapsed": false
   },
   "source": [
    "#### Markov's simulation of the fair-weather fan\n",
    "\n",
    "By moving towards the team that appears strongest at the moment, the fair-weather fan will end up indicating, with his/her support, the overall best team."
   ]
  },
  {
   "cell_type": "code",
   "execution_count": null,
   "metadata": {},
   "outputs": [
    {
     "name": "stdout",
     "output_type": "stream",
     "text": [
      "\u001b[31mDocstring:\u001b[39m\n",
      "Run the named file inside IPython as a program.\n",
      "\n",
      "Usage::\n",
      "\n",
      "  %run [-n -i -e -G]\n",
      "       [( -t [-N<N>] | -d [-b<N>] | -p [profile options] )]\n",
      "       ( -m mod | filename ) [args]\n",
      "\n",
      "The filename argument should be either a pure Python script (with\n",
      "extension ``.py``), or a file with custom IPython syntax (such as\n",
      "magics). If the latter, the file can be either a script with ``.ipy``\n",
      "extension, or a Jupyter notebook with ``.ipynb`` extension. When running\n",
      "a Jupyter notebook, the output from print statements and other\n",
      "displayed objects will appear in the terminal (even matplotlib figures\n",
      "will open, if a terminal-compliant backend is being used). Note that,\n",
      "at the system command line, the ``jupyter run`` command offers similar\n",
      "functionality for executing notebooks (albeit currently with some\n",
      "differences in supported options).\n",
      "\n",
      "Parameters after the filename are passed as command-line arguments to\n",
      "the program (put in sys.argv). Then, control returns to IPython's\n",
      "prompt.\n",
      "\n",
      "This is similar to running at a system prompt ``python file args``,\n",
      "but with the advantage of giving you IPython's tracebacks, and of\n",
      "loading all variables into your interactive namespace for further use\n",
      "(unless -p is used, see below).\n",
      "\n",
      "The file is executed in a namespace initially consisting only of\n",
      "``__name__=='__main__'`` and sys.argv constructed as indicated. It thus\n",
      "sees its environment as if it were being run as a stand-alone program\n",
      "(except for sharing global objects such as previously imported\n",
      "modules). But after execution, the IPython interactive namespace gets\n",
      "updated with all variables defined in the program (except for ``__name__``\n",
      "and ``sys.argv``). This allows for very convenient loading of code for\n",
      "interactive work, while giving each program a 'clean sheet' to run in.\n",
      "\n",
      "Arguments are expanded using shell-like glob match.  Patterns\n",
      "'*', '?', '[seq]' and '[!seq]' can be used.  Additionally,\n",
      "tilde '~' will be expanded into user's home directory.  Unlike\n",
      "real shells, quotation does not suppress expansions.  Use\n",
      "*two* back slashes (e.g. ``\\\\*``) to suppress expansions.\n",
      "To completely disable these expansions, you can use -G flag.\n",
      "\n",
      "On Windows systems, the use of single quotes `'` when specifying\n",
      "a file is not supported. Use double quotes `\"`.\n",
      "\n",
      "Options:\n",
      "\n",
      "-n\n",
      "  __name__ is NOT set to '__main__', but to the running file's name\n",
      "  without extension (as python does under import).  This allows running\n",
      "  scripts and reloading the definitions in them without calling code\n",
      "  protected by an ``if __name__ == \"__main__\"`` clause.\n",
      "\n",
      "-i\n",
      "  run the file in IPython's namespace instead of an empty one. This\n",
      "  is useful if you are experimenting with code written in a text editor\n",
      "  which depends on variables defined interactively.\n",
      "\n",
      "-e\n",
      "  ignore sys.exit() calls or SystemExit exceptions in the script\n",
      "  being run.  This is particularly useful if IPython is being used to\n",
      "  run unittests, which always exit with a sys.exit() call.  In such\n",
      "  cases you are interested in the output of the test results, not in\n",
      "  seeing a traceback of the unittest module.\n",
      "\n",
      "-t\n",
      "  print timing information at the end of the run.  IPython will give\n",
      "  you an estimated CPU time consumption for your script, which under\n",
      "  Unix uses the resource module to avoid the wraparound problems of\n",
      "  time.clock().  Under Unix, an estimate of time spent on system tasks\n",
      "  is also given (for Windows platforms this is reported as 0.0).\n",
      "\n",
      "  If -t is given, an additional ``-N<N>`` option can be given, where <N>\n",
      "  must be an integer indicating how many times you want the script to\n",
      "  run.  The final timing report will include total and per run results.\n",
      "\n",
      "  For example (testing the script uniq_stable.py)::\n",
      "\n",
      "      In [1]: run -t uniq_stable\n",
      "\n",
      "      IPython CPU timings (estimated):\n",
      "        User  :    0.19597 s.\n",
      "        System:        0.0 s.\n",
      "\n",
      "      In [2]: run -t -N5 uniq_stable\n",
      "\n",
      "      IPython CPU timings (estimated):\n",
      "      Total runs performed: 5\n",
      "        Times :      Total       Per run\n",
      "        User  :   0.910862 s,  0.1821724 s.\n",
      "        System:        0.0 s,        0.0 s.\n",
      "\n",
      "-d\n",
      "  run your program under the control of pdb, the Python debugger.\n",
      "  This allows you to execute your program step by step, watch variables,\n",
      "  etc.  Internally, what IPython does is similar to calling::\n",
      "\n",
      "      pdb.run('execfile(\"YOURFILENAME\")')\n",
      "\n",
      "  with a breakpoint set on line 1 of your file.  You can change the line\n",
      "  number for this automatic breakpoint to be <N> by using the -bN option\n",
      "  (where N must be an integer). For example::\n",
      "\n",
      "      %run -d -b40 myscript\n",
      "\n",
      "  will set the first breakpoint at line 40 in myscript.py.  Note that\n",
      "  the first breakpoint must be set on a line which actually does\n",
      "  something (not a comment or docstring) for it to stop execution.\n",
      "\n",
      "  Or you can specify a breakpoint in a different file::\n",
      "\n",
      "      %run -d -b myotherfile.py:20 myscript\n",
      "\n",
      "  When the pdb debugger starts, you will see a (Pdb) prompt.  You must\n",
      "  first enter 'c' (without quotes) to start execution up to the first\n",
      "  breakpoint.\n",
      "\n",
      "  Entering 'help' gives information about the use of the debugger.  You\n",
      "  can easily see pdb's full documentation with \"import pdb;pdb.help()\"\n",
      "  at a prompt.\n",
      "\n",
      "-p\n",
      "  run program under the control of the Python profiler module (which\n",
      "  prints a detailed report of execution times, function calls, etc).\n",
      "\n",
      "  You can pass other options after -p which affect the behavior of the\n",
      "  profiler itself. See the docs for %prun for details.\n",
      "\n",
      "  In this mode, the program's variables do NOT propagate back to the\n",
      "  IPython interactive namespace (because they remain in the namespace\n",
      "  where the profiler executes them).\n",
      "\n",
      "  Internally this triggers a call to %prun, see its documentation for\n",
      "  details on the options available specifically for profiling.\n",
      "\n",
      "There is one special usage for which the text above doesn't apply:\n",
      "if the filename ends with .ipy[nb], the file is run as ipython script,\n",
      "just as if the commands were written on IPython prompt.\n",
      "\n",
      "-m\n",
      "  specify module name to load instead of script path. Similar to\n",
      "  the -m option for the python interpreter. Use this option last if you\n",
      "  want to combine with other %run options. Unlike the python interpreter\n",
      "  only source modules are allowed no .pyc or .pyo files.\n",
      "  For example::\n",
      "\n",
      "      %run -m example\n",
      "\n",
      "  will run the example module.\n",
      "\n",
      "-G\n",
      "  disable shell-like glob expansion of arguments.\n",
      "\u001b[31mFile:\u001b[39m      c:\\users\\ale\\appdata\\roaming\\python\\python313\\site-packages\\ipython\\core\\magics\\execution.py"
     ]
    }
   ],
   "source": [
    "# how many teams in the league?\n",
    "n_teams = 20\n",
    "\n",
    "\n",
    "How many iterations to run?\n",
    "N = 100_000"
   ]
  },
  {
   "cell_type": "code",
   "execution_count": null,
   "metadata": {
    "collapsed": false,
    "pycharm": {
     "name": "#%%\n"
    }
   },
   "outputs": [],
   "source": [
    "# Initialize process by randomly selecting a team\n",
    "curr_team = np.random.choice(teams)\n",
    "counter_dict[curr_team] += 1\n",
    "\n",
    "# Run the simulation\n",
    "for i in range(N):\n",
    "    probs = transit_dict[curr_team]\n",
    "    curr_team = np.random.choice(teams, p=probs)\n",
    "    counter_dict[curr_team] += 1\n",
    "\n",
    "# Get the ratings\n",
    "ratings = [count / (N + 1) for count in counter_dict.values()]\n",
    "\n",
    "markov_df = (\n",
    "    pd.DataFrame(ratings, index=teams, columns=[\"Markov_Rating\"])\n",
    "    .sort_values(by=\"Markov_Rating\", ascending=False)\n",
    "    )\n",
    "\n",
    "# Add Markov ranking\n",
    "markov_df[\"Markov_Ranking\"] = np.arange(1, 21)"
   ]
  },
  {
   "cell_type": "markdown",
   "metadata": {
    "collapsed": false
   },
   "source": [
    "#### Use a MinMaxScaler to scale Markov ratings between 0 and 100 for plotting.\n",
    "\n",
    "Please see the relative [sklearn MinMaxScaler documentation](https://scikit-learn.org/stable/modules/generated/sklearn.preprocessing.MinMaxScaler.html)."
   ]
  },
  {
   "cell_type": "code",
   "execution_count": null,
   "metadata": {
    "collapsed": false,
    "pycharm": {
     "is_executing": true,
     "name": "#%%\n"
    }
   },
   "outputs": [],
   "source": [
    "# Scale the ratings between 100 (top team) and 0 (weakest team).\n",
    "\n",
    "# MinMaxScaler accepts a tuple (min, max) as input argument to define the range.\n",
    "min_max_scaler = MinMaxScaler((0, 100))\n",
    "\n",
    "\n",
    "# let's rescale the Markov ratings\n",
    "markov_df[\"Markov_Scaled_Rating\"] = min_max_scaler.fit_transform(markov_df.loc[ :, \"Markov_Rating\"].values.reshape(-1, 1))"
   ]
  },
  {
   "cell_type": "markdown",
   "metadata": {
    "collapsed": false
   },
   "source": [
    "#### Add Markov ranking."
   ]
  },
  {
   "cell_type": "code",
   "execution_count": null,
   "metadata": {
    "collapsed": false,
    "pycharm": {
     "is_executing": true,
     "name": "#%%\n"
    }
   },
   "outputs": [],
   "source": [
    "# Add Markov ranking\n",
    "markov_df[\"Markov_Ranking\"] = np.arange(1, 21)\n",
    "\n",
    "markov_df"
   ]
  },
  {
   "cell_type": "markdown",
   "metadata": {
    "collapsed": false
   },
   "source": [
    "#### Add Markov results to the match grid table"
   ]
  },
  {
   "cell_type": "code",
   "execution_count": null,
   "metadata": {
    "collapsed": false,
    "pycharm": {
     "is_executing": true,
     "name": "#%%\n"
    }
   },
   "outputs": [],
   "source": [
    "match_grid = match_grid.join(markov_df)\n",
    "\n",
    "match_grid"
   ]
  },
  {
   "cell_type": "markdown",
   "metadata": {
    "collapsed": false
   },
   "source": [
    "#### Import the league table to get actual rankings and points scored"
   ]
  },
  {
   "cell_type": "code",
   "execution_count": null,
   "metadata": {
    "collapsed": false,
    "pycharm": {
     "is_executing": true,
     "name": "#%%\n"
    }
   },
   "outputs": [],
   "source": [
    "# Read the league table data - skip the first row\n",
    "league_table = pd.read_csv(current_league_table_file, skiprows=1)\n",
    "\n",
    "league_table[\"Actual_Ranking\"] = np.arange(1, n_teams + 1)\n",
    "\n",
    "league_table"
   ]
  },
  {
   "cell_type": "markdown",
   "metadata": {
    "collapsed": false
   },
   "source": [
    "#### We keep only teams, actual ranking and points."
   ]
  },
  {
   "cell_type": "code",
   "execution_count": null,
   "metadata": {
    "collapsed": false,
    "pycharm": {
     "is_executing": true,
     "name": "#%%\n"
    }
   },
   "outputs": [],
   "source": [
    "required_cols = ['Unnamed: 1', 'Pts', 'Actual_Ranking']\n",
    "\n",
    "renaming = {'Unnamed: 1': 'Teams', 'Pts': 'Points'}\n",
    "\n",
    "# Make a copy of the league table, keeping only the necessary columns renamed\n",
    "# Index is reset as the teams for the table join below\n",
    "league_table = (\n",
    "    league_table\n",
    "    .loc[ :, required_cols]\n",
    "    .copy()\n",
    "    .rename(columns=renaming)\n",
    "    .set_index(\"Teams\")\n",
    ")\n",
    "\n",
    "league_table"
   ]
  },
  {
   "cell_type": "markdown",
   "metadata": {
    "collapsed": false
   },
   "source": [
    "#### Join the match grid that holds Markov ratings with the league table and the actual ratings based on team names"
   ]
  },
  {
   "cell_type": "code",
   "execution_count": null,
   "metadata": {
    "collapsed": false,
    "pycharm": {
     "is_executing": true,
     "name": "#%%\n"
    }
   },
   "outputs": [],
   "source": [
    "match_grid = match_grid.join(league_table)\n",
    "\n",
    "match_grid"
   ]
  },
  {
   "cell_type": "markdown",
   "metadata": {
    "collapsed": false
   },
   "source": [
    "#### Keep Markov rating and ranking from the match grid"
   ]
  },
  {
   "cell_type": "code",
   "execution_count": null,
   "metadata": {
    "collapsed": false,
    "pycharm": {
     "name": "#%%\n"
    }
   },
   "outputs": [],
   "source": [
    "cols_to_keep = [\n",
    "    \"Markov_Rating\",\n",
    "    \"Markov_Scaled_Rating\",\n",
    "    \"Markov_Ranking\"\n",
    "    ]\n",
    "\n",
    "# Data needed from Markov output - sort by actual ranking first\n",
    "data_to_keep = (\n",
    "    match_grid\n",
    "    .sort_values(\"Actual_Ranking\", ascending=True)\n",
    "    .loc[:, cols_to_keep]\n",
    "    .copy()\n",
    "    )"
   ]
  },
  {
   "cell_type": "markdown",
   "metadata": {
    "collapsed": false
   },
   "source": [
    "#### Import merged data with Massey and Keener results"
   ]
  },
  {
   "cell_type": "code",
   "execution_count": null,
   "metadata": {
    "collapsed": false,
    "pycharm": {
     "name": "#%%\n"
    }
   },
   "outputs": [],
   "source": [
    "# Use Teams column as index to join it later with Markov\n",
    "merged_results = pd.read_csv(merged_results_2021_2022, index_col=\"Teams\")"
   ]
  },
  {
   "cell_type": "markdown",
   "metadata": {
    "collapsed": false
   },
   "source": [
    "#### Merge Markov results with Massey and Keener results"
   ]
  },
  {
   "cell_type": "code",
   "execution_count": null,
   "metadata": {
    "collapsed": false,
    "pycharm": {
     "is_executing": true,
     "name": "#%%\n"
    }
   },
   "outputs": [],
   "source": [
    "# Merge the data\n",
    "merged_results = merged_results.join(data_to_keep)\n",
    "merged_results"
   ]
  },
  {
   "cell_type": "markdown",
   "metadata": {
    "collapsed": false
   },
   "source": [
    "#### Plot Markov's scaled rating and ranking side by side with actual ranking and points scored\n",
    "\n",
    "Documentation for [matplotlib.pyplot horizontal bar plots](https://matplotlib.org/stable/api/_as_gen/matplotlib.pyplot.barh.html)"
   ]
  },
  {
   "cell_type": "code",
   "execution_count": null,
   "metadata": {
    "collapsed": false,
    "pycharm": {
     "is_executing": true,
     "name": "#%%\n"
    }
   },
   "outputs": [],
   "source": [
    "# Initialize grid of plots\n",
    "figure, axis = plt.subplots(nrows=1, ncols=2, figsize=(12, 4), dpi=160)\n",
    "\n",
    "# Plot Keener scaled rating - plot 0, row 0\n",
    "axis[0].barh(\n",
    "    match_grid[\"Markov_Ranking\"],\n",
    "    match_grid[\"Markov_Scaled_Rating\"],\n",
    "    height=0.6, align='center'\n",
    "    )\n",
    "\n",
    "# Configure y axis\n",
    "axis[0].set_yticks(\n",
    "    match_grid[\"Markov_Ranking\"],\n",
    "    labels=match_grid.index,\n",
    "    fontsize=7\n",
    "    )\n",
    "axis[0].invert_yaxis()  # labels read top-to-bottom\n",
    "\n",
    "# X-axis and title\n",
    "axis[0].tick_params(axis=\"x\", labelsize=6)\n",
    "axis[0].set_xlabel('Markov Scaled Rating', fontsize=8)\n",
    "axis[0].set_title(f'Season {current_season} Markov Scaled Rating', fontsize=8)\n",
    "\n",
    "# Plot actual ranking and point scored - plot 1, row 0\n",
    "axis[1].barh(\n",
    "    match_grid[\"Actual_Ranking\"],\n",
    "    match_grid[\"Points\"],\n",
    "    height=0.6, align='center'\n",
    "    )\n",
    "\n",
    "# Configure y axis\n",
    "axis[1].set_yticks(\n",
    "    match_grid[\"Actual_Ranking\"],\n",
    "    labels=match_grid.index,\n",
    "    fontsize=7\n",
    "    )\n",
    "axis[1].invert_yaxis()  # labels read top-to-bottom\n",
    "\n",
    "# X-axis and title\n",
    "axis[1].tick_params(axis=\"x\", labelsize=6)\n",
    "axis[1].set_xlabel('Actual Points', fontsize=8)\n",
    "axis[1].set_title(f'Season {current_season} Points Scored', fontsize=8)\n",
    "\n",
    "# Use 'tight_layout' to avoid overlapping text\n",
    "plt.tight_layout()\n",
    "plt.show()"
   ]
  },
  {
   "cell_type": "markdown",
   "metadata": {
    "collapsed": false
   },
   "source": [
    "### Get rankings from all methods in a new table"
   ]
  },
  {
   "cell_type": "code",
   "execution_count": null,
   "metadata": {
    "collapsed": false,
    "pycharm": {
     "name": "#%%\n"
    }
   },
   "outputs": [],
   "source": [
    "rankings = [\n",
    "    \"Actual_Ranking\",\n",
    "    \"Massey_Ranking\",\n",
    "    \"Keener_Ranking\",\n",
    "    \"Markov_Ranking\"\n",
    "    ]\n",
    "\n",
    "ranks_df = merged_results.loc[:, rankings].copy()\n",
    "ranks_df"
   ]
  },
  {
   "cell_type": "code",
   "execution_count": null,
   "metadata": {
    "collapsed": false,
    "pycharm": {
     "name": "#%%\n"
    }
   },
   "outputs": [],
   "source": [
    "ranks_df.corr()"
   ]
  },
  {
   "cell_type": "markdown",
   "metadata": {
    "collapsed": false
   },
   "source": [
    "#### Import the table of the subsequent season to check"
   ]
  },
  {
   "cell_type": "code",
   "execution_count": null,
   "metadata": {
    "collapsed": false,
    "pycharm": {
     "name": "#%%\n"
    }
   },
   "outputs": [],
   "source": [
    "# Read the league table data - skip the first row\n",
    "next_league_table = pd.read_csv(coming_league_table_file, skiprows=1)\n",
    "next_league_table[\"Actual_Ranking\"] = np.arange(1, 21)\n",
    "\n",
    "# Uncomment if you want to see the raw table\n",
    "# league_table"
   ]
  },
  {
   "cell_type": "markdown",
   "metadata": {
    "collapsed": false
   },
   "source": [
    "#### Keep some of the columns and rename them"
   ]
  },
  {
   "cell_type": "code",
   "execution_count": null,
   "metadata": {
    "collapsed": false,
    "pycharm": {
     "name": "#%%\n"
    }
   },
   "outputs": [],
   "source": [
    "required_cols = [\"Unnamed: 1\", \"P.2\", \"W.2\", \"D.2\", \"L.2\", \"F\", \"A\", \"+/-\", \"Pts\", \"Actual_Ranking\"]\n",
    "renaming = {\n",
    "    \"Unnamed: 1\": \"Teams\", \n",
    "    \"P.2\": \"Total_Matches_Played\", \n",
    "    \"W.2\": \"Total_Wins\",\n",
    "    \"D.2\": \"Total_Draws\",\n",
    "    \"L.2\": \"Total_Losses\",\n",
    "    \"F\": \"Goals_Scored\",\n",
    "    \"A\": \"Goals_Conceded\",\n",
    "    \"+/-\": \"Goal_Difference\",\n",
    "    \"Pts\": \"Points\"\n",
    "    }\n",
    "\n",
    "# Make a copy of the league table, keeping only the necessary columns renamed\n",
    "next_league_table = (\n",
    "    next_league_table\n",
    "    .loc[:, required_cols]\n",
    "    .copy()\n",
    "    .rename(columns=renaming)\n",
    ")\n",
    "\n",
    "next_league_table"
   ]
  },
  {
   "cell_type": "markdown",
   "metadata": {
    "collapsed": false
   },
   "source": [
    "#### Recall estimated rankings from Massey, Keener and Markov"
   ]
  },
  {
   "cell_type": "code",
   "execution_count": null,
   "metadata": {
    "collapsed": false,
    "pycharm": {
     "name": "#%%\n"
    }
   },
   "outputs": [],
   "source": [
    "ranks_df"
   ]
  }
 ],
 "metadata": {
  "colab": {
   "provenance": []
  },
  "kernelspec": {
   "display_name": "Python 3",
   "name": "python3"
  },
  "language_info": {
   "codemirror_mode": {
    "name": "ipython",
    "version": 3
   },
   "file_extension": ".py",
   "mimetype": "text/x-python",
   "name": "python",
   "nbconvert_exporter": "python",
   "pygments_lexer": "ipython3",
   "version": "3.13.5"
  }
 },
 "nbformat": 4,
 "nbformat_minor": 0
}
