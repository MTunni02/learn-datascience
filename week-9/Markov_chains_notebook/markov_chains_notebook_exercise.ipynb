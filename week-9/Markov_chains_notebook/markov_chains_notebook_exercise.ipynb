{
 "cells": [
  {
   "cell_type": "markdown",
   "metadata": {
    "collapsed": false
   },
   "source": [
    "#### Rating and Ranking with Markov's Method:\n",
    "\n",
    "#### The Premier League case\n",
    "\n",
    "This is the __exercise__ notebook.\n",
    "\n",
    "We will analyse Premier League results for two seasons; Results have been downloaded from [www.footballwebpages.co.uk](https://www.footballwebpages.co.uk/premier-league) for the following seasons:\n",
    "\n",
    "- [2021-22 season](https://www.footballwebpages.co.uk/premier-league/match-grid/2021-2022);\n",
    "- [2022-23 season](https://www.footballwebpages.co.uk/premier-league/match-grid/2022-2023);\n",
    "- [2023-24 season](https://www.footballwebpages.co.uk/premier-league/match-grid/2023-2024), and\n",
    "- [2024-25 season](https://www.footballwebpages.co.uk/premier-league/match-grid/2024-2025).\n",
    "\n"
   ]
  },
  {
   "cell_type": "markdown",
   "metadata": {},
   "source": [
    "#### Import the needed Python modules"
   ]
  },
  {
   "cell_type": "code",
   "execution_count": 1,
   "metadata": {
    "collapsed": false,
    "pycharm": {
     "name": "#%%\n"
    }
   },
   "outputs": [],
   "source": [
    "import requests\n",
    "import io\n",
    "\n",
    "import numpy as np\n",
    "import pandas as pd\n",
    "\n",
    "import matplotlib.pyplot as plt\n",
    "from sklearn.preprocessing import MinMaxScaler"
   ]
  },
  {
   "cell_type": "markdown",
   "metadata": {
    "collapsed": false
   },
   "source": [
    "### Set pandas and numpy options for printing results"
   ]
  },
  {
   "cell_type": "code",
   "execution_count": 2,
   "metadata": {
    "collapsed": false,
    "pycharm": {
     "name": "#%%\n"
    }
   },
   "outputs": [],
   "source": [
    "np.set_printoptions(linewidth=1000)\n",
    "\n",
    "pd.set_option('display.max_rows', None)\n",
    "pd.set_option('display.max_columns', None)\n",
    "pd.set_option('display.width', 1000)\n",
    "pd.set_option('display.colheader_justify', 'center')"
   ]
  },
  {
   "cell_type": "markdown",
   "metadata": {
    "collapsed": false
   },
   "source": [
    "### Premier League winners:\n",
    "\n",
    "*   **2021-22**: Manchester City (1-point gap from Liverpool, who finished second; Arsenal finished 5th)\n",
    "\n",
    "*   **2022-23**: Manchester City (5-points gap from Arsenal)\n",
    "\n",
    "*   **2023-24**: Manchester City (2-point gap from Arsenal)\n",
    "\n",
    "*   **2024-25**: Liverpool (10 points above Arsenal)"
   ]
  },
  {
   "cell_type": "code",
   "execution_count": 3,
   "outputs": [],
   "source": [
    "N_TEAMS = 20"
   ],
   "metadata": {
    "collapsed": false,
    "pycharm": {
     "name": "#%%\n"
    }
   }
  },
  {
   "cell_type": "markdown",
   "source": [
    "### Data file URLs from DSTA GitHub repository"
   ],
   "metadata": {
    "collapsed": false
   }
  },
  {
   "cell_type": "code",
   "execution_count": 4,
   "metadata": {
    "collapsed": false,
    "pycharm": {
     "name": "#%%\n"
    }
   },
   "outputs": [],
   "source": [
    "DATA_FOLDER_URL = \"https://raw.githubusercontent.com/ale66/learn-datascience/main/week-9/Ranking_premier_league/data\"\n",
    "\n",
    "# League table GitHub URLs\n",
    "league_table_2021_2022 = f\"{DATA_FOLDER_URL}/2021_2022_LeagueTable.csv\"\n",
    "league_table_2022_2023 = f\"{DATA_FOLDER_URL}/2022_2023_LeagueTable.csv\"\n",
    "league_table_2023_2024 = f\"{DATA_FOLDER_URL}/2023_2024_LeagueTable.csv\"\n",
    "league_table_2024_2025 = f\"{DATA_FOLDER_URL}/2024_2025_LeagueTable.csv\"\n",
    "\n",
    "# Match grid GitHub URLs\n",
    "match_grid_2021_2022 = f\"{DATA_FOLDER_URL}/2021_2022_MatchGrid.csv\"\n",
    "match_grid_2022_2023 = f\"{DATA_FOLDER_URL}/2022_2023_MatchGrid.csv\"\n",
    "match_grid_2023_2024 = f\"{DATA_FOLDER_URL}/2023_2024_MatchGrid.csv\"\n",
    "match_grid_2024_2025 = f\"{DATA_FOLDER_URL}/2024_2025_MatchGrid.csv\"\n",
    "\n",
    "# Massey & Keener results\n",
    "results_2023_2024 = f\"{DATA_FOLDER_URL}/2023_2024_MergedResults.csv\""
   ]
  },
  {
   "cell_type": "markdown",
   "source": [
    "### Utility functions"
   ],
   "metadata": {
    "collapsed": false
   }
  },
  {
   "cell_type": "code",
   "execution_count": 5,
   "outputs": [],
   "source": [
    "def read_league_tbl(url: str) -> pd.DataFrame:\n",
    "    \"\"\"\n",
    "    Read a season league table CSV from a GitHub URL.\n",
    "    The first row is skipped, as it groups information in\n",
    "    Home, Away and Total, which is not needed.\n",
    "\n",
    "    :param url: CSV GitHub URL.\n",
    "    :return: League table as dataframe.\n",
    "    \"\"\"\n",
    "    response = requests.get(url)\n",
    "    content = response.content.decode(\"utf-8\")\n",
    "    league_tbl = pd.read_csv(io.StringIO(content), skiprows=1)\n",
    "\n",
    "    # Add actual team ranking\n",
    "    league_tbl[\"Actual_Ranking\"] = np.arange(1, N_TEAMS + 1)\n",
    "    return league_tbl\n",
    "\n",
    "\n",
    "def read_match_grid(url: str) -> pd.DataFrame:\n",
    "    \"\"\"\n",
    "    Read a season match grid CSV from a GitHub URL.\n",
    "\n",
    "    Each match entry is in format =\"GH-GA\" (except from NaN in diagonal).\n",
    "    GH are goals scored by the home team, and GA are goals scored\n",
    "    by the away team. The function reads the match grid CSV,\n",
    "    removes '=' and '\"', and adds \"0-0\" in the diagonal to remove NaNs.\n",
    "\n",
    "    :param url: CSV GitHub URL.\n",
    "    :return: Match grid as dataframe.\n",
    "    \"\"\"\n",
    "    response = requests.get(url)\n",
    "    content = response.content.decode(\"utf-8\")\n",
    "\n",
    "    return (\n",
    "    pd.read_csv(io.StringIO(content), dtype=str, index_col=0)\n",
    "    .replace('\"' , '', regex=True)\n",
    "    .replace('=' , '', regex=True)\n",
    "    .fillna(\"0-0\")\n",
    "    )"
   ],
   "metadata": {
    "collapsed": false,
    "pycharm": {
     "name": "#%%\n"
    }
   }
  },
  {
   "cell_type": "markdown",
   "metadata": {
    "collapsed": false
   },
   "source": [
    "### Set current working data files and next season files\n",
    "\n",
    "Hint: Change these variables in case you would like to rate / rank teams based on a different season and check the estimates against the actual rankings of the following season."
   ]
  },
  {
   "cell_type": "code",
   "execution_count": 6,
   "metadata": {
    "collapsed": false,
    "pycharm": {
     "name": "#%%\n"
    }
   },
   "outputs": [],
   "source": [
    "# Current (working) season\n",
    "current_season = \"2023 - 2024\"\n",
    "curr_league_tbl = league_table_2023_2024\n",
    "curr_match_grid = match_grid_2023_2024\n",
    "\n",
    "# Next season\n",
    "coming_season = \"2024 - 2025\"\n",
    "next_league_tbl = league_table_2024_2025\n",
    "next_match_grid = match_grid_2024_2025"
   ]
  },
  {
   "cell_type": "markdown",
   "metadata": {
    "collapsed": false
   },
   "source": [
    "### Markov's method"
   ]
  },
  {
   "cell_type": "markdown",
   "metadata": {
    "collapsed": false
   },
   "source": [
    "#### For Markov, we need the match grid"
   ]
  },
  {
   "cell_type": "code",
   "execution_count": null,
   "metadata": {
    "collapsed": false,
    "pycharm": {
     "name": "#%%\n",
     "is_executing": true
    }
   },
   "outputs": [],
   "source": [
    "match_grid = read_match_grid(curr_match_grid)\n",
    "match_grid"
   ]
  },
  {
   "cell_type": "markdown",
   "metadata": {
    "collapsed": false
   },
   "source": [
    "#### Create Markov's V matrix\n"
   ]
  },
  {
   "cell_type": "markdown",
   "metadata": {
    "collapsed": false
   },
   "source": [
    "We remember that $V_{n \\times n}$  where $v_{ij}:$ total goals conceded by $i$ to $j$\n",
    "\n",
    "\n",
    "Here $n=$ number of teams in the league"
   ]
  },
  {
   "cell_type": "markdown",
   "metadata": {
    "collapsed": false
   },
   "source": [
    "#### Create Markov's S matrix\n",
    "\n",
    "Below is another refresher."
   ]
  },
  {
   "cell_type": "markdown",
   "metadata": {
    "collapsed": false
   },
   "source": [
    "$S_{n \\times n}$ where $s_{ij}:$ proportion of goals team i conceded to team over the total goals team i conceded."
   ]
  },
  {
   "cell_type": "markdown",
   "metadata": {
    "collapsed": false
   },
   "source": [
    "#### Exercise 1: Complete the code to calculate Markov's V and S matrices\n",
    "\n",
    "#### Step-by-step:\n",
    "\n",
    "1.   Parse scores. Example: \"3-2\". The home team scored 3 goals and the away team 2.\n",
    "\n",
    "   Hint: Pandas [applymap documentation](https://pandas.pydata.org/pandas-docs/stable/reference/api/pandas.DataFrame.applymap.html)\n",
    "\n",
    "2.   Match every team's home match with the respective away match against the same opponent.\n",
    "\n",
    "   Hint: The home match of team *i* against *j* is element *ij*. The respective away match is element *ji* - row and column indexes are swapped..."
   ]
  },
  {
   "cell_type": "code",
   "execution_count": 8,
   "metadata": {
    "collapsed": false,
    "pycharm": {
     "name": "#%%\n"
    }
   },
   "outputs": [],
   "source": [
    "# TODO: Write your code below.\n",
    "# Save the output in variables V_dataframe and S_dataframe\n",
    "\n",
    "# Parse score and get goals of a home match\n",
    "\n",
    "\n",
    "# Parse score and get goals of an away match\n",
    "# The grid is transposed to match every team's respective\n",
    "# home and away matches"
   ]
  },
  {
   "cell_type": "markdown",
   "metadata": {
    "collapsed": false
   },
   "source": [
    "#### Create transition and counter dictionaries"
   ]
  },
  {
   "cell_type": "code",
   "execution_count": null,
   "metadata": {
    "collapsed": false,
    "pycharm": {
     "name": "#%%\n",
     "is_executing": true
    }
   },
   "outputs": [],
   "source": [
    "# Dictionary with teams as keys and lists of probabilities as values\n",
    "# Each list represents a probability of moving from current team\n",
    "# to another team of the league (fair-weather fan logic)\n",
    "transit_dict = S_dataframe.T.to_dict(orient=\"list\")\n",
    "\n",
    "teams = S_dataframe.columns.tolist()\n",
    "\n",
    "# Dictionary with teams as keys and number of visits as values\n",
    "counter_dict = {team: 0 for team in teams}"
   ]
  },
  {
   "cell_type": "markdown",
   "metadata": {
    "collapsed": false
   },
   "source": [
    "#### Markov's simulation of the fair-weather fan\n",
    "\n",
    "By moving towards the team that appears strongest at the moment, the fair-weather fan will end up indicating, with his/her support, the overall best team."
   ]
  },
  {
   "cell_type": "code",
   "execution_count": null,
   "metadata": {},
   "outputs": [],
   "source": [
    "# How many iterations to run?\n",
    "N = 100_000"
   ]
  },
  {
   "cell_type": "code",
   "execution_count": null,
   "metadata": {
    "collapsed": false,
    "pycharm": {
     "name": "#%%\n"
    }
   },
   "outputs": [],
   "source": [
    "# Initialize process by randomly selecting a team\n",
    "curr_team = np.random.choice(teams)\n",
    "counter_dict[curr_team] += 1\n",
    "\n",
    "# Run the simulation\n",
    "for i in range(N):\n",
    "    probs = transit_dict[curr_team]\n",
    "    curr_team = np.random.choice(teams, p=probs)\n",
    "    counter_dict[curr_team] += 1\n",
    "\n",
    "# Get the ratings\n",
    "ratings = [count / (N + 1) for count in counter_dict.values()]\n",
    "\n",
    "markov_df = (\n",
    "    pd.DataFrame(ratings, index=teams, columns=[\"Markov_Rating\"])\n",
    "    .sort_values(by=\"Markov_Rating\", ascending=False)\n",
    "    )"
   ]
  },
  {
   "cell_type": "markdown",
   "source": [
    "#### Import the league table to get actual rankings and points scored"
   ],
   "metadata": {
    "collapsed": false
   }
  },
  {
   "cell_type": "code",
   "execution_count": null,
   "outputs": [],
   "source": [
    "league_table = read_league_tbl(league_table_2023_2024)\n",
    "\n",
    "league_table"
   ],
   "metadata": {
    "collapsed": false,
    "pycharm": {
     "name": "#%%\n"
    }
   }
  },
  {
   "cell_type": "markdown",
   "source": [
    "#### We keep only teams, actual ranking and points."
   ],
   "metadata": {
    "collapsed": false
   }
  },
  {
   "cell_type": "code",
   "execution_count": null,
   "outputs": [],
   "source": [
    "required_cols = [\"Unnamed: 1\", \"Pts\", \"Actual_Ranking\"]\n",
    "\n",
    "renaming = {\"Unnamed: 1\": \"Teams\", \"Pts\": \"Points\"}\n",
    "\n",
    "# Make a copy of the league table, keeping only the necessary columns renamed\n",
    "# Index is reset as the teams for the table join below\n",
    "league_table = (\n",
    "    league_table\n",
    "    .loc[ :, required_cols]\n",
    "    .copy()\n",
    "    .rename(columns=renaming)\n",
    "    .set_index(\"Teams\")\n",
    ")\n",
    "\n",
    "league_table"
   ],
   "metadata": {
    "collapsed": false,
    "pycharm": {
     "name": "#%%\n"
    }
   }
  },
  {
   "cell_type": "code",
   "execution_count": null,
   "outputs": [],
   "source": [
    "# Tidy-up team names\n",
    "league_table.index = league_table.index.str.replace(r\"\\s\\(-\\d{1,}\\)\", \"\", regex=True)"
   ],
   "metadata": {
    "collapsed": false,
    "pycharm": {
     "name": "#%%\n"
    }
   }
  },
  {
   "cell_type": "markdown",
   "metadata": {
    "collapsed": false
   },
   "source": [
    "#### Use a MinMaxScaler to scale Markov ratings for plotting.\n",
    "\n",
    "Please see the relative [sklearn MinMaxScaler documentation](https://scikit-learn.org/stable/modules/generated/sklearn.preprocessing.MinMaxScaler.html)."
   ]
  },
  {
   "cell_type": "code",
   "execution_count": null,
   "metadata": {
    "collapsed": false,
    "pycharm": {
     "name": "#%%\n"
    }
   },
   "outputs": [],
   "source": [
    "# Scale the ratings between the weakest and stronger team actual points.\n",
    "# MinMaxScaler accepts a tuple (min, max) as input to define the range.\n",
    "min_max_scaler = MinMaxScaler((league_table.Points.min(), league_table.Points.max()))\n",
    "\n",
    "markov_df[\"Markov_Scaled_Rating\"] = min_max_scaler.fit_transform(\n",
    "    markov_df\n",
    "        .loc[:, \"Markov_Rating\"]\n",
    "        .values\n",
    "        .reshape(-1, 1)\n",
    ")"
   ]
  },
  {
   "cell_type": "markdown",
   "metadata": {
    "collapsed": false
   },
   "source": [
    "#### Add Markov ranking."
   ]
  },
  {
   "cell_type": "code",
   "execution_count": null,
   "metadata": {
    "collapsed": false,
    "pycharm": {
     "name": "#%%\n"
    }
   },
   "outputs": [],
   "source": [
    "markov_df[\"Markov_Ranking\"] = np.arange(1, N_TEAMS + 1)\n",
    "\n",
    "markov_df"
   ]
  },
  {
   "cell_type": "markdown",
   "metadata": {
    "collapsed": false
   },
   "source": [
    "#### Join Markov results with the league table and the actual ratings based on team names"
   ]
  },
  {
   "cell_type": "code",
   "execution_count": null,
   "metadata": {
    "collapsed": false,
    "pycharm": {
     "is_executing": true,
     "name": "#%%\n"
    }
   },
   "outputs": [],
   "source": [
    "markov_df = markov_df.join(league_table)\n",
    "\n",
    "markov_df"
   ]
  },
  {
   "cell_type": "markdown",
   "metadata": {
    "collapsed": false
   },
   "source": [
    "#### Keep Markov rating and ranking from the match grid"
   ]
  },
  {
   "cell_type": "code",
   "execution_count": null,
   "metadata": {
    "collapsed": false,
    "pycharm": {
     "name": "#%%\n"
    }
   },
   "outputs": [],
   "source": [
    "cols_to_keep = [\n",
    "    \"Markov_Rating\",\n",
    "    \"Markov_Scaled_Rating\",\n",
    "    \"Markov_Ranking\"\n",
    "    ]\n",
    "\n",
    "# Data needed from Markov output - sort by actual ranking first\n",
    "data_to_keep = (\n",
    "    markov_df\n",
    "    .sort_values(\"Actual_Ranking\", ascending=True)\n",
    "    .loc[:, cols_to_keep]\n",
    "    .copy()\n",
    "    )"
   ]
  },
  {
   "cell_type": "markdown",
   "metadata": {
    "collapsed": false
   },
   "source": [
    "#### Import merged data with Massey and Keener results"
   ]
  },
  {
   "cell_type": "code",
   "execution_count": null,
   "metadata": {
    "collapsed": false,
    "pycharm": {
     "name": "#%%\n"
    }
   },
   "outputs": [],
   "source": [
    "# Use Teams column as index to join it later with Markov\n",
    "results_df = pd.read_csv(results_2023_2024, index_col=\"Teams\")"
   ]
  },
  {
   "cell_type": "markdown",
   "metadata": {
    "collapsed": false
   },
   "source": [
    "#### Merge Markov results with Massey and Keener results"
   ]
  },
  {
   "cell_type": "code",
   "execution_count": null,
   "metadata": {
    "collapsed": false,
    "pycharm": {
     "is_executing": true,
     "name": "#%%\n"
    }
   },
   "outputs": [],
   "source": [
    "results_df = results_df.join(data_to_keep)\n",
    "\n",
    "results_df"
   ]
  },
  {
   "cell_type": "markdown",
   "metadata": {
    "collapsed": false
   },
   "source": [
    "#### Plot Markov's scaled rating and ranking side by side with actual ranking and points scored\n",
    "\n",
    "Documentation for [matplotlib.pyplot horizontal bar plots](https://matplotlib.org/stable/api/_as_gen/matplotlib.pyplot.barh.html)"
   ]
  },
  {
   "cell_type": "code",
   "execution_count": null,
   "metadata": {
    "collapsed": false,
    "pycharm": {
     "is_executing": true,
     "name": "#%%\n"
    }
   },
   "outputs": [],
   "source": [
    "# Initialize grid of plots\n",
    "figure, axis = plt.subplots(nrows=1, ncols=2, figsize=(12, 4), dpi=160)\n",
    "\n",
    "# Plot Keener scaled rating - plot 0, row 0\n",
    "axis[0].barh(\n",
    "    markov_df[\"Markov_Ranking\"],\n",
    "    markov_df[\"Markov_Scaled_Rating\"],\n",
    "    height=0.6, align=\"center\"\n",
    "    )\n",
    "\n",
    "# Configure y axis\n",
    "axis[0].set_yticks(\n",
    "    markov_df[\"Markov_Ranking\"],\n",
    "    labels=markov_df.index,\n",
    "    fontsize=7\n",
    "    )\n",
    "\n",
    "axis[0].invert_yaxis()  # labels read top-to-bottom\n",
    "\n",
    "# X-axis and title\n",
    "axis[0].tick_params(axis=\"x\", labelsize=6)\n",
    "axis[0].set_xlabel('Markov Scaled Rating', fontsize=8)\n",
    "axis[0].set_title(f'Season {current_season} Markov Scaled Rating', fontsize=8)\n",
    "\n",
    "# Plot actual ranking and point scored - plot 1, row 0\n",
    "axis[1].barh(\n",
    "    markov_df[\"Actual_Ranking\"],\n",
    "    markov_df[\"Points\"],\n",
    "    height=0.6, align='center'\n",
    "    )\n",
    "\n",
    "# Configure y axis\n",
    "axis[1].set_yticks(\n",
    "    markov_df[\"Actual_Ranking\"],\n",
    "    labels=markov_df.index,\n",
    "    fontsize=7\n",
    "    )\n",
    "\n",
    "axis[1].invert_yaxis()  # labels read top-to-bottom\n",
    "\n",
    "# X-axis and title\n",
    "axis[1].tick_params(axis=\"x\", labelsize=6)\n",
    "axis[1].set_xlabel('Actual Points', fontsize=8)\n",
    "axis[1].set_title(f'Season {current_season} Points Scored', fontsize=8)\n",
    "\n",
    "# Use 'tight_layout' to avoid overlapping text\n",
    "plt.tight_layout()\n",
    "plt.show()"
   ]
  },
  {
   "cell_type": "markdown",
   "metadata": {
    "collapsed": false
   },
   "source": [
    "### Get rankings from all methods in a new table"
   ]
  },
  {
   "cell_type": "code",
   "execution_count": null,
   "metadata": {
    "collapsed": false,
    "pycharm": {
     "name": "#%%\n"
    }
   },
   "outputs": [],
   "source": [
    "rankings = [\n",
    "    \"Actual_Ranking\",\n",
    "    \"Massey_Ranking\",\n",
    "    \"Keener_Ranking\",\n",
    "    \"Markov_Ranking\"\n",
    "    ]\n",
    "\n",
    "ranks_df = results_df.loc[:, rankings].copy()\n",
    "ranks_df"
   ]
  },
  {
   "cell_type": "code",
   "execution_count": null,
   "metadata": {
    "collapsed": false,
    "pycharm": {
     "name": "#%%\n"
    }
   },
   "outputs": [],
   "source": [
    "ranks_df.corr()"
   ]
  },
  {
   "cell_type": "markdown",
   "metadata": {
    "collapsed": false
   },
   "source": [
    "#### Import the table of the subsequent season to check"
   ]
  },
  {
   "cell_type": "code",
   "execution_count": null,
   "metadata": {
    "collapsed": false,
    "pycharm": {
     "name": "#%%\n"
    }
   },
   "outputs": [],
   "source": [
    "next_league_table = read_league_tbl(next_league_tbl)\n",
    "\n",
    "# Uncomment if you want to see the raw table\n",
    "# next_league_table"
   ]
  },
  {
   "cell_type": "markdown",
   "metadata": {
    "collapsed": false
   },
   "source": [
    "#### Keep necessary columns and rename them"
   ]
  },
  {
   "cell_type": "code",
   "execution_count": null,
   "metadata": {
    "collapsed": false,
    "pycharm": {
     "name": "#%%\n"
    }
   },
   "outputs": [],
   "source": [
    "required_cols = [\"Unnamed: 1\", \"P.2\", \"W.2\", \"D.2\", \"L.2\", \"F\",\n",
    "                 \"A\", \"+/-\", \"Pts\", \"Actual_Ranking\"]\n",
    "\n",
    "renaming = {\n",
    "    \"Unnamed: 1\": \"Teams\",\n",
    "    \"P.2\": \"Total_Matches_Played\",\n",
    "    \"W.2\": \"Total_Wins\",\n",
    "    \"D.2\": \"Total_Draws\",\n",
    "    \"L.2\": \"Total_Losses\",\n",
    "    \"F\": \"Goals_Scored\",\n",
    "    \"A\": \"Goals_Conceded\",\n",
    "    \"+/-\": \"Goal_Difference\",\n",
    "    \"Pts\": \"Points\"\n",
    "    }\n",
    "\n",
    "# Make a copy of the league table, keeping only the necessary columns renamed\n",
    "next_league_table = (\n",
    "    next_league_table\n",
    "    .loc[:, required_cols]\n",
    "    .copy()\n",
    "    .rename(columns = renaming)\n",
    ")\n",
    "\n",
    "next_league_table"
   ]
  },
  {
   "cell_type": "markdown",
   "metadata": {
    "collapsed": false
   },
   "source": [
    "#### Recall estimated rankings from Massey, Keener and Markov"
   ]
  },
  {
   "cell_type": "code",
   "execution_count": null,
   "metadata": {
    "collapsed": false,
    "pycharm": {
     "name": "#%%\n"
    }
   },
   "outputs": [],
   "source": [
    "ranks_df"
   ]
  }
 ],
 "metadata": {
  "colab": {
   "provenance": []
  },
  "kernelspec": {
   "display_name": "Python 3",
   "name": "python3"
  },
  "language_info": {
   "codemirror_mode": {
    "name": "ipython",
    "version": 3
   },
   "file_extension": ".py",
   "mimetype": "text/x-python",
   "name": "python",
   "nbconvert_exporter": "python",
   "pygments_lexer": "ipython3",
   "version": "3.13.5"
  }
 },
 "nbformat": 4,
 "nbformat_minor": 0
}