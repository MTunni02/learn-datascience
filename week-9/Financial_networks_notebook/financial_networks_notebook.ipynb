{
 "cells": [
  {
   "cell_type": "markdown",
   "metadata": {
    "id": "wumK00ZRkyzS"
   },
   "source": [
    "### Chapter V - Financial networks.\n",
    "\n",
    "#### This __demonstration (no exercise)__ notebook is taken from the notebook for Ch. 5 of Caldarelli-Cheesa's textbook (CC).\n",
    "\n",
    "\n",
    "\n"
   ]
  },
  {
   "cell_type": "markdown",
   "metadata": {
    "id": "e2BFyUVNiggc"
   },
   "source": [
    "#### Colab execution:\n",
    "\n",
    "Please execute as usual with online installation of the yfinance module."
   ]
  },
  {
   "cell_type": "markdown",
   "metadata": {
    "id": "Sa9EjqiUiggc"
   },
   "source": [
    "#### Local execution:\n",
    "\n",
    "For local usage, it is recommended to install yfinance from within Anaconda, e.g.\n",
    "\n",
    "```bash\n",
    "C:\\WINDOWS\\system32>conda install -c ranaroussi yfinance\n",
    "```\n",
    "or from the Navigator tool, e.g. by subscribing to the \"ranaroussi\" channel.\n",
    "Without Anaconda, you may install the package directly:\n",
    "\n",
    "```bash\n",
    "C:\\WINDOWS\\system32>pip install yfinance\n",
    "```\n",
    "\n",
    "In any case these commands are repeated below, please comment out as needed."
   ]
  },
  {
   "cell_type": "markdown",
   "metadata": {
    "id": "GH0ewoNLiggc"
   },
   "source": [
    "#### Changelog\n",
    "\n",
    "- June 2024 version by A. Matuozzo updates the code to the current availability of modules.\n",
    "Notice: recent Networkx versions are deprecating Graphviz.pydot\n",
    "\n",
    "- March 2023 version by P. Lagias runs on a reduced dataset of tickers to avoid issues with delisted/defunct stocks.\n",
    "\n"
   ]
  },
  {
   "cell_type": "code",
   "execution_count": null,
   "metadata": {
    "id": "1Nwy90wQDL7h",
    "vscode": {
     "languageId": "shellscript"
    }
   },
   "outputs": [],
   "source": [
    "!pip install graphviz\n"
   ]
  },
  {
   "cell_type": "code",
   "execution_count": null,
   "metadata": {
    "id": "GnXgXl-LtU_o",
    "vscode": {
     "languageId": "shellscript"
    }
   },
   "outputs": [],
   "source": [
    "!pip install yfinance"
   ]
  },
  {
   "cell_type": "markdown",
   "metadata": {
    "id": "3vsuWwOFiggf"
   },
   "source": [
    "###### Discontinued: the original yahooFinacials module is no longer used as it is falling out of maintenance. It used to be installed with `!pip install yahoofinancials`"
   ]
  },
  {
   "cell_type": "markdown",
   "metadata": {
    "id": "R9Fmc-GNiggf"
   },
   "source": [
    "Now, let us make sure that we have the `seaborn` module for visualisation; in case add a cell with this::\n",
    "\n",
    "```bash\n",
    "!pip install seaborn\n",
    "```\n",
    "\n",
    "However, the present notebook can be run without it, `matplotlib` suffices."
   ]
  },
  {
   "cell_type": "code",
   "execution_count": 3,
   "metadata": {
    "id": "p1L36Dr1tM8t"
   },
   "outputs": [],
   "source": [
    "import math\n",
    "\n",
    "import pandas as pd\n",
    "import matplotlib.pyplot as plt\n",
    "import seaborn as sns\n",
    "\n",
    "import networkx as nx\n",
    "from networkx.drawing.nx_pydot import graphviz_layout\n",
    "\n",
    "import yfinance as yf"
   ]
  },
  {
   "cell_type": "markdown",
   "metadata": {
    "id": "jJMaikVKkyzZ"
   },
   "source": [
    "### Connecting to the Yahoo! Finance service\n",
    "\n",
    "What with Apple Inc. on May 19th 2017?"
   ]
  },
  {
   "cell_type": "code",
   "execution_count": 4,
   "metadata": {
    "id": "UywjPjgtiggh"
   },
   "outputs": [],
   "source": [
    "TICKER = 'AAPL'\n",
    "START_DATE = '2017-05-19'\n",
    "END_DATE = '2017-05-20'"
   ]
  },
  {
   "cell_type": "code",
   "execution_count": null,
   "metadata": {
    "id": "nIEqyLsEkyza",
    "pycharm": {
     "is_executing": true
    }
   },
   "outputs": [],
   "source": [
    "apple = yf.download(TICKER, start=START_DATE, end=END_DATE)\n",
    "\n",
    "print(apple)"
   ]
  },
  {
   "cell_type": "code",
   "execution_count": null,
   "metadata": {
    "id": "Z9yCF0uKiggi",
    "pycharm": {
     "is_executing": true
    }
   },
   "outputs": [],
   "source": [
    "# This dataset is structured as a pandas dataframe: we can use its built-in methods\n",
    "apple.head()"
   ]
  },
  {
   "cell_type": "code",
   "execution_count": null,
   "metadata": {
    "id": "b7J6Ue3uiggi",
    "pycharm": {
     "is_executing": true
    }
   },
   "outputs": [],
   "source": [
    "# Setting the Date as index gives access to pandas functions to sample time series data\n",
    "apple.index"
   ]
  },
  {
   "cell_type": "markdown",
   "metadata": {
    "id": "Si1GfHKBkyza"
   },
   "source": [
    "#### Compute and plot transaction volumes\n",
    "\n",
    "Example: how was Microsoft traded in 2014?\n",
    "\n",
    "Change the settings below to study other stocks, e.g., NVDA."
   ]
  },
  {
   "cell_type": "code",
   "execution_count": 8,
   "metadata": {
    "id": "ZoItegYkiggj"
   },
   "outputs": [],
   "source": [
    "TICKER = 'MSFT'\n",
    "START_DATE = '2014-01-01'\n",
    "END_DATE = '2014-12-31'"
   ]
  },
  {
   "cell_type": "code",
   "execution_count": null,
   "metadata": {
    "id": "8Fyduqdbkyzb",
    "collapsed": true,
    "pycharm": {
     "is_executing": true
    }
   },
   "outputs": [],
   "source": [
    "# Now download the data for the entire 2019 year.\n",
    "d = yf.download(TICKER, start=START_DATE, end=END_DATE)\n",
    "\n",
    "d['Transaction_Volume'] = d['Volume'] * d['Close']\n",
    "\n",
    "print(d)"
   ]
  },
  {
   "cell_type": "code",
   "execution_count": null,
   "metadata": {
    "id": "ue0WFHzptr3B",
    "collapsed": true,
    "pycharm": {
     "is_executing": true
    }
   },
   "outputs": [],
   "source": [
    "# Downloaded data are saved as a dataframe\n",
    "type(d)"
   ]
  },
  {
   "cell_type": "code",
   "execution_count": null,
   "metadata": {
    "id": "CR-ZPmPJkyzb",
    "pycharm": {
     "is_executing": true
    }
   },
   "outputs": [],
   "source": [
    "# Use seaborn style defaults and set the default figure size\n",
    "sns.set_style(rc={'figure.figsize': (12, 6)})\n",
    "\n",
    "d['Transaction_Volume'].plot(linewidth=0.5);"
   ]
  },
  {
   "cell_type": "markdown",
   "metadata": {
    "id": "B7LQCF43kyzb"
   },
   "source": [
    "#### The NYSE tickers\n",
    "\n",
    "From the relative [nasdaq.com](http://www.nasdaq.com/screening/company-list.aspx) page we download all the information related to the market capitalization, sector and industry...\n",
    "\n",
    "Discontinued: the top-cap companies have been downloaded in the `data` section, use `!head companylist.csv` to visualise, OR SIMPLY USE THE Pandas version below."
   ]
  },
  {
   "cell_type": "markdown",
   "metadata": {
    "id": "ikO62_jBkyzc"
   },
   "source": [
    "### Get Stock Labels, Sector and Industries"
   ]
  },
  {
   "cell_type": "code",
   "execution_count": 14,
   "metadata": {
    "id": "y1kDkKBWiggk"
   },
   "outputs": [],
   "source": [
    "DATAFILE = \"./data/list_stocks_50B_6_may_2016.txt\""
   ]
  },
  {
   "cell_type": "code",
   "execution_count": null,
   "metadata": {
    "id": "PUdNVkPqkyzd",
    "collapsed": true,
    "pycharm": {
     "is_executing": true
    }
   },
   "outputs": [],
   "source": [
    "# Get stock data from the text file\n",
    "f = open(DATAFILE, 'r')\n",
    "\n",
    "list_stocks = []\n",
    "\n",
    "while True:\n",
    "    next_line = f.readline()\n",
    "    if not next_line: break\n",
    "    # print(next_line.split('\\t'))\n",
    "    list_stocks.append(tuple(next_line.split('\\t')[:-1]))\n",
    "\n",
    "f.close()\n",
    "\n",
    "# a huge dump of all stocks, uncomment only if needed\n",
    "for stock in list_stocks:\n",
    "    print(stock)\n"
   ]
  },
  {
   "cell_type": "code",
   "execution_count": 16,
   "metadata": {
    "id": "2WNGJ1cbiggl"
   },
   "outputs": [],
   "source": [
    "# Alternatively, you csn use pandas to read as CSV\n",
    "stocks = pd.read_csv(DATAFILE, sep='\\t', names=['Ticker', 'Name', 'Sector', 'Industry', 'Ukn'])"
   ]
  },
  {
   "cell_type": "code",
   "execution_count": null,
   "metadata": {
    "id": "W1ndiEkmiggl",
    "pycharm": {
     "is_executing": true
    }
   },
   "outputs": [],
   "source": [
    "stocks.head()"
   ]
  },
  {
   "cell_type": "code",
   "execution_count": null,
   "metadata": {
    "id": "97o5Kd1R3DxC"
   },
   "outputs": [],
   "source": [
    "# This code must stay commented as yahoo financials has some api issues.\n",
    "# We have used the file with the required data above.\n",
    "\n",
    "# # get values\n",
    "# # May 6th 2016\n",
    "# # greater than 50B$\n",
    "# cap_threshold = 50_000_000_000\n",
    "# hfile = open(\"companylist.csv\", 'r')\n",
    "\n",
    "# list_stocks = []\n",
    "# nextline = hfile.readline()\n",
    "\n",
    "# while True:\n",
    "#     nextline = hfile.readline()\n",
    "#     if not nextline:\n",
    "#         break\n",
    "\n",
    "#     line = nextline.split(',')\n",
    "#     sym = line[0][1:-1]\n",
    "\n",
    "#     # Skip entries with \"^\" in stock name\n",
    "#     if sym.find(\"^\") != -1:\n",
    "#         continue\n",
    "\n",
    "#     share = YahooFinancials(sym) # this cause an issue\n",
    "#     y_market_cap = None\n",
    "\n",
    "#     try:\n",
    "#         y_market_cap = share.get_market_cap()\n",
    "#     except:\n",
    "#         y_market_cap = None\n",
    "#         print(f\"No link for {sym}\")\n",
    "#     # y_market_cap1=y_m\n",
    "\n",
    "#     if not y_market_cap:\n",
    "#         print(f\"No market cap found for {sym}\")\n",
    "#         continue\n",
    "\n",
    "#     # We will exclude stocks with char ’^’ that will\n",
    "#     # give errors in the query process\n",
    "#     if y_market_cap > cap_threshold:\n",
    "#         print(sym, y_market_cap, line)\n",
    "#         stock_data = (line[0][1:-1], line[1][1:-1], line[5][1:-1], line[6][1:-1])\n",
    "#         list_stocks.append(stock_data)\n",
    "#     time.sleep(1)\n",
    "\n",
    "# hfile.close()\n",
    "# print(list_stocks[0])"
   ]
  },
  {
   "cell_type": "markdown",
   "metadata": {
    "id": "AcZ_p7s-kyze"
   },
   "source": [
    "#### Generate dictionaries for companies, sectors and colors"
   ]
  },
  {
   "cell_type": "code",
   "execution_count": null,
   "metadata": {
    "id": "3HUgYqJLkyze",
    "pycharm": {
     "is_executing": true
    }
   },
   "outputs": [],
   "source": [
    "dict_sectors = {}\n",
    "\n",
    "for s in list_stocks:\n",
    "    # print(s)\n",
    "    dict_sectors[s[0]] = s[2]\n",
    "\n",
    "list_ranking = []\n",
    "\n",
    "for s in set(dict_sectors.values()):\n",
    "    count = 0\n",
    "\n",
    "    for key in dict_sectors:\n",
    "        if s in dict_sectors[key]:\n",
    "            count += 1\n",
    "\n",
    "    list_ranking.append((count,s))\n",
    "\n",
    "list_ranking.sort(reverse = True)\n",
    "\n",
    "# list_colors=['red','green','blue','black''cyan','magenta','yellow']\n",
    "list_colors = ['0.0', '0.2', '0.4', '0.6', '0.7', '0.8', '0.9']\n",
    "\n",
    "# 'white' is an extra color for 'n/a' and 'other' sectors\n",
    "dict_colors = {}\n",
    "\n",
    "# association color and more represented sectors\n",
    "for s in list_ranking:\n",
    "    if s[1] == 'n/a':\n",
    "        dict_colors[s[1]] = 'white'\n",
    "        continue\n",
    "\n",
    "    if not list_colors:\n",
    "        dict_colors[s[1]] = 'white'\n",
    "        continue\n",
    "\n",
    "    dict_colors[s[1]] = list_colors.pop(0)\n",
    "\n",
    "print(list_ranking)"
   ]
  },
  {
   "cell_type": "code",
   "execution_count": null,
   "metadata": {
    "collapsed": true,
    "id": "fuXS07Tfiggn",
    "pycharm": {
     "is_executing": true
    }
   },
   "outputs": [],
   "source": [
    "# Here you could refactor the sector dictionary like this:\n",
    "sd = {k:v for k,v in zip(stocks.Ticker, stocks.Sector)}\n",
    "\n",
    "sd"
   ]
  },
  {
   "cell_type": "markdown",
   "metadata": {
    "id": "KzbUTH-ekyze"
   },
   "source": [
    "### Retrieving historical data\n",
    "\n",
    "Ticker by ticker, we download the historical data from Yahoo! Finance.\n",
    "The cell below will take time to run.\n",
    "\n",
    "Example: `AEK` is not listed anymore, while `BABA` is in the NSYE top-cap only since Sep. 2014.\n"
   ]
  },
  {
   "cell_type": "code",
   "execution_count": null,
   "metadata": {
    "id": "OgTyV3Xmkyzf",
    "collapsed": true,
    "pycharm": {
     "is_executing": true
    }
   },
   "outputs": [],
   "source": [
    "dict_comp = {}\n",
    "\n",
    "for s in list_stocks:\n",
    "    print(s[0])\n",
    "\n",
    "    #stock = yf.Ticker(s[0])\n",
    "    #diz_comp[s[0]]=stock.history(\"1mo\")\n",
    "    dict_comp[s[0]] = yf.download((s[0]), start = \"2013-05-01\", end = \"2014-05-31\")\n",
    "\n",
    "# create dictionaries of time series for each company"
   ]
  },
  {
   "cell_type": "code",
   "execution_count": null,
   "metadata": {
    "id": "fCYpOGADiggn",
    "pycharm": {
     "is_executing": true
    }
   },
   "outputs": [],
   "source": [
    "# this is a dict of DataFrames: let's look inside, for example the well-known 3M company\n",
    "\n",
    "dict_comp['MMM'][0:5]"
   ]
  },
  {
   "cell_type": "code",
   "execution_count": null,
   "metadata": {
    "id": "GU6fyF4Akyzf",
    "collapsed": true,
    "pycharm": {
     "is_executing": true
    }
   },
   "outputs": [],
   "source": [
    "dict_historical = {} # this is a dict of tickers: Pd.Series of Closing Prices (how many days have the companies been traded?)\n",
    "\n",
    "for k in list(dict_comp.keys()):\n",
    "    tmp = dict_comp[k]\n",
    "    dict_historical[k] = tmp['Close']\n",
    "    \"\"\"\n",
    "    for e in diz_comp[k]:\n",
    "        print(e)\n",
    "        # string indices must be integers\n",
    "        #diz_historical[k][e['Date']]=e['Close']\n",
    "        #print(e)\n",
    "        #diz_historical[k][e[0]]=e[4]\n",
    "    \"\"\"\n",
    "\n",
    "for k in list(dict_historical.keys()):\n",
    "    print(k, len(dict_historical[k]))"
   ]
  },
  {
   "cell_type": "code",
   "execution_count": null,
   "metadata": {
    "collapsed": true,
    "id": "rjPF1C9kiggo",
    "pycharm": {
     "is_executing": true
    }
   },
   "outputs": [],
   "source": [
    "dict_historical['MMM']"
   ]
  },
  {
   "cell_type": "markdown",
   "metadata": {
    "id": "Llp0C4Dskyzf"
   },
   "source": [
    "###  Calculation of the logreturns\n",
    "\n",
    "Let's visualise a company"
   ]
  },
  {
   "cell_type": "code",
   "execution_count": 24,
   "metadata": {
    "id": "hAUJBiA9iggo"
   },
   "outputs": [],
   "source": [
    "REF_COMPANY = 'MMM'"
   ]
  },
  {
   "cell_type": "code",
   "execution_count": null,
   "metadata": {
    "id": "UnjlLCp6kyzg",
    "pycharm": {
     "is_executing": true
    }
   },
   "outputs": [],
   "source": [
    "# Get sorted list of trading dates\n",
    "d = sorted(list(dict_historical[REF_COMPANY].index))\n",
    "\n",
    "print(f\"Total dates for {REF_COMPANY}: {len(d)}\")\n",
    "\n",
    "dict_returns = {}\n",
    "\n",
    "for c in dict_historical:\n",
    "    # Skip if the company doesn't have full data\n",
    "    if len(dict_historical[c].index) < len(d):\n",
    "        continue\n",
    "\n",
    "    dict_returns[c] = {}\n",
    "    for i in range(1, len(d)):\n",
    "        # Get closing prices and compute log returns safely\n",
    "        return_t = math.log(float(dict_historical[c].loc[d[i]].iloc[0]))\n",
    "        return_t_1 = math.log(float(dict_historical[c].loc[d[i-1]].iloc[0]))\n",
    "        dict_returns[c][d[i]] = return_t - return_t_1\n",
    "\n",
    "# Print the log returns for the reference company\n",
    "print(dict_returns[REF_COMPANY])"
   ]
  },
  {
   "cell_type": "markdown",
   "metadata": {
    "id": "NSViZAE2kyzg"
   },
   "source": [
    "#### Basic Statistics and the Correlation Coefficient\n",
    "\n",
    "For fun's sake, we define our own aggretated stats, including Pearson's correlation coefficient.\n",
    "\n",
    "\\begin{equation*}\n",
    "  \\rho =\n",
    "  \\frac{ \\sum_{i=1}^{n}(x_i-\\bar{x})(y_i-\\bar{y}) }{%\n",
    "        \\sqrt{\\sum_{i=1}^{n}(x_i-\\bar{x})^2}\\sqrt{\\sum_{i=1}^{n}(y_i-\\bar{y})^2}}\n",
    "\\end{equation*}"
   ]
  },
  {
   "cell_type": "code",
   "execution_count": 26,
   "metadata": {
    "id": "XyK4Zx6Ckyzg"
   },
   "outputs": [],
   "source": [
    "# mean\n",
    "def mean(X):\n",
    "    m = 0.0\n",
    "    for i in X:\n",
    "        m += i\n",
    "    return m / len(X)\n",
    "\n",
    "# covariance\n",
    "def covariance(X, Y):\n",
    "    c = 0.0\n",
    "    m_X = mean(X)\n",
    "    m_Y = mean(Y)\n",
    "    for i in range(len(X)):\n",
    "        c = c + (X[i] - m_X) * (Y[i] - m_Y)\n",
    "    return c / len(X)\n",
    "\n",
    "# pearson correlation coefficient\n",
    "def pearson(X, Y):\n",
    "    return covariance(X,Y) / (covariance(X,X)**0.5 * covariance(Y,Y)**0.5)"
   ]
  },
  {
   "cell_type": "markdown",
   "metadata": {
    "id": "SGYfSDT0kyzg"
   },
   "source": [
    "### Correlation of returns\n",
    "\n",
    "For an example, let's explore the correlation between the returns of two companies: 3M and Union Pacific."
   ]
  },
  {
   "cell_type": "code",
   "execution_count": 27,
   "metadata": {
    "id": "AF-rZlUwiggp"
   },
   "outputs": [],
   "source": [
    "REF_COMPANY2 = \"UNP\""
   ]
  },
  {
   "cell_type": "code",
   "execution_count": 28,
   "metadata": {
    "id": "rzbYSoBJkyzh"
   },
   "outputs": [],
   "source": [
    "def stocks_corr_coeff(h1, h2):\n",
    "\n",
    "    l1 = []\n",
    "    l2 = []\n",
    "\n",
    "    intersec_dates = set(h1.keys()).intersection(set(h2.keys()))\n",
    "\n",
    "    for d in intersec_dates:\n",
    "        l1.append(float(h1[d]))\n",
    "        l2.append(float(h2[d]))\n",
    "\n",
    "    # correlation with the same company has to be 1!\n",
    "    return pearson(l1, l2)\n"
   ]
  },
  {
   "cell_type": "code",
   "execution_count": null,
   "metadata": {
    "id": "x8qVmdSiiggq",
    "pycharm": {
     "is_executing": true
    }
   },
   "outputs": [],
   "source": [
    "correl = stocks_corr_coeff(\n",
    "    dict_returns[REF_COMPANY],\n",
    "    dict_returns[REF_COMPANY2]\n",
    "    )\n",
    "\n",
    "print(correl)"
   ]
  },
  {
   "cell_type": "markdown",
   "metadata": {
    "id": "gX9zZYKVkyzh"
   },
   "source": [
    "### Build the correlation Network"
   ]
  },
  {
   "cell_type": "code",
   "source": [
    "# Get a list of all companies\n",
    "list_of_comp = [keys for keys in dict_returns]\n",
    "\n",
    "print(list_of_comp)\n",
    "\n",
    "num_companies = len(dict_returns.keys())\n",
    "\n",
    "print(num_companies)"
   ],
   "metadata": {
    "id": "WQxz_BMLk9Bz",
    "pycharm": {
     "is_executing": true
    }
   },
   "execution_count": null,
   "outputs": []
  },
  {
   "cell_type": "code",
   "execution_count": null,
   "metadata": {
    "id": "mDPe0ZhKkyzh",
    "pycharm": {
     "is_executing": true
    }
   },
   "outputs": [],
   "source": [
    "corr_network = nx.Graph()\n",
    "\n",
    "for i1 in range(num_companies - 1):\n",
    "\n",
    "    for i2 in range(i1 + 1, num_companies):\n",
    "\n",
    "        stock1 = list_of_comp[i1]\n",
    "\n",
    "        stock2 = list_of_comp[i2]\n",
    "\n",
    "        # metric distance\n",
    "        corr = stocks_corr_coeff(dict_returns[stock1], dict_returns[stock2])\n",
    "\n",
    "        metric_distance = math.sqrt(2*(1.0 - corr))\n",
    "        # building the network\n",
    "        corr_network.add_edge(stock1, stock2, weight = metric_distance)\n",
    "\n",
    "print(\"number of nodes:\", corr_network.number_of_nodes())\n",
    "print(\"number of edges:\", corr_network.number_of_edges())\n",
    "\n",
    "nx.draw(corr_network, with_labels = True)"
   ]
  },
  {
   "cell_type": "markdown",
   "metadata": {
    "id": "lilPOW5dkyzh"
   },
   "source": [
    "### Extract the Minimum Spanning Tree with [Prim's algorithm](http://en.wikipedia.org/wiki/Prim%27s_algorithm)\n",
    "\n",
    "We arbitrarily root the MST in `MMM`."
   ]
  },
  {
   "cell_type": "code",
   "execution_count": 32,
   "metadata": {
    "id": "0NhOxyc2iggr"
   },
   "outputs": [],
   "source": [
    "tree_seed = REF_COMPANY"
   ]
  },
  {
   "cell_type": "code",
   "execution_count": 33,
   "metadata": {
    "id": "pBqFiavvkyzh"
   },
   "outputs": [],
   "source": [
    "N_new = []\n",
    "\n",
    "E_new = []\n",
    "\n",
    "N_new.append(tree_seed)\n",
    "\n",
    "while len(N_new) < corr_network.number_of_nodes():\n",
    "\n",
    "    min_weight = 10_000_000.0\n",
    "\n",
    "    for n in N_new:\n",
    "        for n_adj in corr_network.neighbors(n):\n",
    "            if not n_adj in N_new:\n",
    "                if corr_network[n][n_adj]['weight'] < min_weight:\n",
    "\n",
    "                    min_weight = corr_network[n][n_adj]['weight']\n",
    "\n",
    "                    min_weight_edge = (n,n_adj)\n",
    "\n",
    "                    n_adj_ext = n_adj\n",
    "\n",
    "    E_new.append(min_weight_edge)\n",
    "    N_new.append(n_adj_ext)\n",
    "\n",
    "# generate the tree from the edge list\n",
    "tree_graph = nx.Graph()\n",
    "\n",
    "tree_graph.add_edges_from(E_new)\n",
    "\n",
    "# setting the color attributes for the network nodes\n",
    "for n in tree_graph.nodes():\n",
    "    tree_graph.nodes[n]['color'] = dict_colors[dict_sectors[n]]"
   ]
  },
  {
   "cell_type": "code",
   "execution_count": null,
   "metadata": {
    "id": "Hhm5o8xgiggr",
    "pycharm": {
     "is_executing": true
    }
   },
   "outputs": [],
   "source": [
    "#this is a simpler representation if you have issues with graphviz\n",
    "\n",
    "nx.draw(tree_graph, with_labels = True)"
   ]
  },
  {
   "cell_type": "markdown",
   "metadata": {
    "id": "QpwaReWekyzh"
   },
   "source": [
    "#### Printing the Financial MST with Graphviz\n",
    "\n",
    "The cell below spans the full force of `Graphviz`; it might require further module installations such as `pydot` and `neato`.\n",
    "\n",
    "To avoid issues with the *very tricky* `pygraphviz` installation, the static output for the period studied in the textbook, i.e., the years running up to 31 May 2014.\n",
    "\n",
    "In the MST representation below we notice the emergence of a few hubs which are easy to interpret. For instance, one is around Honewell (`HON`), which is an industry/defense company, another is Wells Fargo (`WFC`) which is where a branch stems. Finally, BlackRock (`BLK`) is a big hub of financial tickers.\n",
    "\n",
    "The most intresting insights are *across industries:* for example Johnson & Johnson (`JNJ`) is connected both to pharma, e.g., Pfizer (`PFE`), and to retail, e.g., Colgate (`CL`)."
   ]
  },
  {
   "cell_type": "code",
   "execution_count": null,
   "metadata": {
    "id": "TPNn4nKJkyzi",
    "pycharm": {
     "is_executing": true
    }
   },
   "outputs": [],
   "source": [
    "# Pygraphviz solution:\n",
    "# pos = nx.nx_agraph.graphviz_layout(tree_graph)\n",
    "\n",
    "# graphviz solution:\n",
    "pos = graphviz_layout(\n",
    "    tree_graph,\n",
    "    prog = 'dot'\n",
    "    )\n",
    "\n",
    "\n",
    "plt.figure(figsize = (20, 20))\n",
    "\n",
    "nx.draw_networkx_edges(\n",
    "    tree_graph,\n",
    "    pos,\n",
    "    width = 2,\n",
    "    edge_color = 'black',\n",
    "    alpha = 0.5,\n",
    "    style = 'solid'\n",
    "    )\n",
    "\n",
    "nx.draw_networkx_labels(tree_graph, pos)\n",
    "\n",
    "for n in tree_graph.nodes():\n",
    "    nx.draw_networkx_nodes(\n",
    "        tree_graph, pos, [n], node_size = 600, alpha = 0.5,\n",
    "        node_color=tree_graph.nodes[n]['color']\n",
    "        )\n",
    "\n",
    "plt.axis('off')\n",
    "\n",
    "#plt.savefig('MST_50B_new.png', dpi=600)\n"
   ]
  },
  {
   "cell_type": "markdown",
   "metadata": {
    "id": "JtCU2t-8iggs"
   },
   "source": [
    "![](./imgs/MSTFinancialNetwork.png)"
   ]
  }
 ],
 "metadata": {
  "colab": {
   "provenance": []
  },
  "kernelspec": {
   "display_name": "Python 3",
   "language": "python",
   "name": "python3"
  },
  "language_info": {
   "codemirror_mode": {
    "name": "ipython",
    "version": 3
   },
   "file_extension": ".py",
   "mimetype": "text/x-python",
   "name": "python",
   "nbconvert_exporter": "python",
   "pygments_lexer": "ipython3",
   "version": "3.13.5"
  }
 },
 "nbformat": 4,
 "nbformat_minor": 0
}