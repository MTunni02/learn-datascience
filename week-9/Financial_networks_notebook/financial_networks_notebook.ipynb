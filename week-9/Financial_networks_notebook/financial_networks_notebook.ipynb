{
  "cells": [
    {
      "cell_type": "markdown",
      "metadata": {
        "id": "wumK00ZRkyzS"
      },
      "source": [
        "## DSTA\n",
        "\n",
        "### Chapter V - Financial networks.\n",
        "\n",
        "#### This __demonstration (no exercise)__ notebook is taken from the notebook for Ch. 5 of Caldarelli-Cheesa's textbook (CC).\n",
        "\n",
        "Please see the [class repository](https://www.dcs.bbk.ac.uk/~ale/dsta/) for the datasets.\n",
        "\n",
        "For local usage, it is recommended to install yfinance from within Anaconda, e.g.\n",
        "\n",
        "```bash\n",
        "C:\\WINDOWS\\system32>conda install -c ranaroussi yfinance\n",
        "```\n",
        "or from the Navigator tool, e.g. by subscribing to the \"ranaroussi\" channel.\n",
        "Without Anaconda, you may install the package directly:\n",
        "\n",
        "```bash\n",
        "C:\\WINDOWS\\system32>pip install yfinance\n",
        "```\n",
        "\n",
        "In any case these commands are repeated below, please comment out as needed."
      ]
    },
    {
      "cell_type": "markdown",
      "metadata": {
        "id": "N4JCexhNK2UA"
      },
      "source": [
        "#### Changelog\n",
        "\n",
        "- June 2024 version by A. Matuozzo updates the code to the current availability of modules.\n",
        "Notice: recent Networkx versiona are deprecating Graphviz.pydot\n",
        "\n",
        "- March 2023 version by P. Lagias runs on a reduced dataset of tickers to avoid issues with delisted/defunct stocks.\n",
        "\n"
      ]
    },
    {
      "cell_type": "code",
      "execution_count": null,
      "metadata": {
        "id": "1Nwy90wQDL7h",
        "vscode": {
          "languageId": "shellscript"
        },
        "colab": {
          "base_uri": "https://localhost:8080/"
        },
        "outputId": "0979ca22-a2b4-4e49-d477-785db6db4ac3"
      },
      "outputs": [
        {
          "output_type": "stream",
          "name": "stdout",
          "text": [
            "Requirement already satisfied: graphviz in /usr/local/lib/python3.11/dist-packages (0.20.3)\n"
          ]
        }
      ],
      "source": [
        "# !pip install graphviz\n"
      ]
    },
    {
      "cell_type": "code",
      "execution_count": null,
      "metadata": {
        "id": "GnXgXl-LtU_o",
        "vscode": {
          "languageId": "shellscript"
        }
      },
      "outputs": [],
      "source": [
        "# !pip install yfinance"
      ]
    },
    {
      "cell_type": "markdown",
      "metadata": {
        "id": "fO8xSVbEK2UC"
      },
      "source": [
        "#### Discontinued:\n",
        "\n",
        "the original yahooFinacials module is no longer used as it is falling out of maintenance.\n",
        "It used to be installed with `!pip install yahoofinancials`"
      ]
    },
    {
      "cell_type": "markdown",
      "metadata": {
        "id": "yBrMsliwK2UD"
      },
      "source": [
        "Now, let us make sure that we have the `seaborn` module for visualisation\n",
        "\n",
        "Notice: this notebook can be run without it, `matplotlib` suffices."
      ]
    },
    {
      "cell_type": "code",
      "execution_count": null,
      "metadata": {
        "vscode": {
          "languageId": "shellscript"
        },
        "id": "QTg5L-NJK2UD"
      },
      "outputs": [],
      "source": [
        "# !pip install seaborn"
      ]
    },
    {
      "cell_type": "code",
      "execution_count": 1,
      "metadata": {
        "id": "p1L36Dr1tM8t"
      },
      "outputs": [],
      "source": [
        "import sys\n",
        "import time\n",
        "import math\n",
        "\n",
        "import pandas as pd\n",
        "\n",
        "import matplotlib.pyplot as plt\n",
        "\n",
        "import seaborn as sns\n",
        "\n",
        "\n",
        "import networkx as nx\n",
        "\n",
        "from networkx.drawing.nx_pydot import graphviz_layout\n",
        "\n",
        "from collections import Counter\n",
        "\n",
        "import yfinance as yf\n",
        "\n",
        "#from yahoofinancials import YahooFinancials\n",
        "\n",
        "#from yahoofinancials.etl import ManagedException\n"
      ]
    },
    {
      "cell_type": "markdown",
      "metadata": {
        "id": "jJMaikVKkyzZ"
      },
      "source": [
        "### Connecting to the Yahoo! Finance service\n",
        "\n",
        "What with Apple Inc. on May 19th 2014?"
      ]
    },
    {
      "cell_type": "code",
      "execution_count": null,
      "metadata": {
        "colab": {
          "base_uri": "https://localhost:8080/"
        },
        "id": "nIEqyLsEkyza",
        "outputId": "602c9363-de6c-422a-e8e6-9fb26297b4b2"
      },
      "outputs": [
        {
          "output_type": "stream",
          "name": "stderr",
          "text": [
            "<ipython-input-7-995268900>:2: FutureWarning: YF.download() has changed argument auto_adjust default to True\n",
            "  data = yf.download(\"AAPL\", start = \"2014-05-19\", end = \"2014-05-20\")\n",
            "[*********************100%***********************]  1 of 1 completed"
          ]
        },
        {
          "output_type": "stream",
          "name": "stdout",
          "text": [
            "Price           Close       High        Low       Open     Volume\n",
            "Ticker           AAPL       AAPL       AAPL       AAPL       AAPL\n",
            "Date                                                             \n",
            "2014-05-19  19.010418  19.096573  18.782137  18.798488  317755200\n"
          ]
        },
        {
          "output_type": "stream",
          "name": "stderr",
          "text": [
            "\n"
          ]
        }
      ],
      "source": [
        "# Download data for 1 day as an example\n",
        "data = yf.download(\"AAPL\", start = \"2014-05-19\", end = \"2014-05-20\")\n",
        "\n",
        "print(data)"
      ]
    },
    {
      "cell_type": "code",
      "execution_count": null,
      "metadata": {
        "colab": {
          "base_uri": "https://localhost:8080/",
          "height": 143
        },
        "id": "1_SxYkCwK2UF",
        "outputId": "666f9018-2b73-4b85-82c7-1d3003eaa324"
      },
      "outputs": [
        {
          "output_type": "execute_result",
          "data": {
            "text/plain": [
              "Price           Close       High        Low       Open     Volume\n",
              "Ticker           AAPL       AAPL       AAPL       AAPL       AAPL\n",
              "Date                                                             \n",
              "2014-05-19  19.010418  19.096573  18.782137  18.798488  317755200"
            ],
            "text/html": [
              "\n",
              "  <div id=\"df-ae2026a0-ab2e-4166-9977-1f127c68ed41\" class=\"colab-df-container\">\n",
              "    <div>\n",
              "<style scoped>\n",
              "    .dataframe tbody tr th:only-of-type {\n",
              "        vertical-align: middle;\n",
              "    }\n",
              "\n",
              "    .dataframe tbody tr th {\n",
              "        vertical-align: top;\n",
              "    }\n",
              "\n",
              "    .dataframe thead tr th {\n",
              "        text-align: left;\n",
              "    }\n",
              "\n",
              "    .dataframe thead tr:last-of-type th {\n",
              "        text-align: right;\n",
              "    }\n",
              "</style>\n",
              "<table border=\"1\" class=\"dataframe\">\n",
              "  <thead>\n",
              "    <tr>\n",
              "      <th>Price</th>\n",
              "      <th>Close</th>\n",
              "      <th>High</th>\n",
              "      <th>Low</th>\n",
              "      <th>Open</th>\n",
              "      <th>Volume</th>\n",
              "    </tr>\n",
              "    <tr>\n",
              "      <th>Ticker</th>\n",
              "      <th>AAPL</th>\n",
              "      <th>AAPL</th>\n",
              "      <th>AAPL</th>\n",
              "      <th>AAPL</th>\n",
              "      <th>AAPL</th>\n",
              "    </tr>\n",
              "    <tr>\n",
              "      <th>Date</th>\n",
              "      <th></th>\n",
              "      <th></th>\n",
              "      <th></th>\n",
              "      <th></th>\n",
              "      <th></th>\n",
              "    </tr>\n",
              "  </thead>\n",
              "  <tbody>\n",
              "    <tr>\n",
              "      <th>2014-05-19</th>\n",
              "      <td>19.010418</td>\n",
              "      <td>19.096573</td>\n",
              "      <td>18.782137</td>\n",
              "      <td>18.798488</td>\n",
              "      <td>317755200</td>\n",
              "    </tr>\n",
              "  </tbody>\n",
              "</table>\n",
              "</div>\n",
              "    <div class=\"colab-df-buttons\">\n",
              "\n",
              "  <div class=\"colab-df-container\">\n",
              "    <button class=\"colab-df-convert\" onclick=\"convertToInteractive('df-ae2026a0-ab2e-4166-9977-1f127c68ed41')\"\n",
              "            title=\"Convert this dataframe to an interactive table.\"\n",
              "            style=\"display:none;\">\n",
              "\n",
              "  <svg xmlns=\"http://www.w3.org/2000/svg\" height=\"24px\" viewBox=\"0 -960 960 960\">\n",
              "    <path d=\"M120-120v-720h720v720H120Zm60-500h600v-160H180v160Zm220 220h160v-160H400v160Zm0 220h160v-160H400v160ZM180-400h160v-160H180v160Zm440 0h160v-160H620v160ZM180-180h160v-160H180v160Zm440 0h160v-160H620v160Z\"/>\n",
              "  </svg>\n",
              "    </button>\n",
              "\n",
              "  <style>\n",
              "    .colab-df-container {\n",
              "      display:flex;\n",
              "      gap: 12px;\n",
              "    }\n",
              "\n",
              "    .colab-df-convert {\n",
              "      background-color: #E8F0FE;\n",
              "      border: none;\n",
              "      border-radius: 50%;\n",
              "      cursor: pointer;\n",
              "      display: none;\n",
              "      fill: #1967D2;\n",
              "      height: 32px;\n",
              "      padding: 0 0 0 0;\n",
              "      width: 32px;\n",
              "    }\n",
              "\n",
              "    .colab-df-convert:hover {\n",
              "      background-color: #E2EBFA;\n",
              "      box-shadow: 0px 1px 2px rgba(60, 64, 67, 0.3), 0px 1px 3px 1px rgba(60, 64, 67, 0.15);\n",
              "      fill: #174EA6;\n",
              "    }\n",
              "\n",
              "    .colab-df-buttons div {\n",
              "      margin-bottom: 4px;\n",
              "    }\n",
              "\n",
              "    [theme=dark] .colab-df-convert {\n",
              "      background-color: #3B4455;\n",
              "      fill: #D2E3FC;\n",
              "    }\n",
              "\n",
              "    [theme=dark] .colab-df-convert:hover {\n",
              "      background-color: #434B5C;\n",
              "      box-shadow: 0px 1px 3px 1px rgba(0, 0, 0, 0.15);\n",
              "      filter: drop-shadow(0px 1px 2px rgba(0, 0, 0, 0.3));\n",
              "      fill: #FFFFFF;\n",
              "    }\n",
              "  </style>\n",
              "\n",
              "    <script>\n",
              "      const buttonEl =\n",
              "        document.querySelector('#df-ae2026a0-ab2e-4166-9977-1f127c68ed41 button.colab-df-convert');\n",
              "      buttonEl.style.display =\n",
              "        google.colab.kernel.accessAllowed ? 'block' : 'none';\n",
              "\n",
              "      async function convertToInteractive(key) {\n",
              "        const element = document.querySelector('#df-ae2026a0-ab2e-4166-9977-1f127c68ed41');\n",
              "        const dataTable =\n",
              "          await google.colab.kernel.invokeFunction('convertToInteractive',\n",
              "                                                    [key], {});\n",
              "        if (!dataTable) return;\n",
              "\n",
              "        const docLinkHtml = 'Like what you see? Visit the ' +\n",
              "          '<a target=\"_blank\" href=https://colab.research.google.com/notebooks/data_table.ipynb>data table notebook</a>'\n",
              "          + ' to learn more about interactive tables.';\n",
              "        element.innerHTML = '';\n",
              "        dataTable['output_type'] = 'display_data';\n",
              "        await google.colab.output.renderOutput(dataTable, element);\n",
              "        const docLink = document.createElement('div');\n",
              "        docLink.innerHTML = docLinkHtml;\n",
              "        element.appendChild(docLink);\n",
              "      }\n",
              "    </script>\n",
              "  </div>\n",
              "\n",
              "\n",
              "    </div>\n",
              "  </div>\n"
            ],
            "application/vnd.google.colaboratory.intrinsic+json": {
              "type": "dataframe",
              "variable_name": "data",
              "summary": "{\n  \"name\": \"data\",\n  \"rows\": 1,\n  \"fields\": [\n    {\n      \"column\": [\n        \"Date\",\n        \"\"\n      ],\n      \"properties\": {\n        \"dtype\": \"date\",\n        \"min\": \"2014-05-19 00:00:00\",\n        \"max\": \"2014-05-19 00:00:00\",\n        \"num_unique_values\": 1,\n        \"samples\": [\n          \"2014-05-19 00:00:00\"\n        ],\n        \"semantic_type\": \"\",\n        \"description\": \"\"\n      }\n    },\n    {\n      \"column\": [\n        \"Close\",\n        \"AAPL\"\n      ],\n      \"properties\": {\n        \"dtype\": \"number\",\n        \"std\": null,\n        \"min\": 19.010417938232422,\n        \"max\": 19.010417938232422,\n        \"num_unique_values\": 1,\n        \"samples\": [\n          19.010417938232422\n        ],\n        \"semantic_type\": \"\",\n        \"description\": \"\"\n      }\n    },\n    {\n      \"column\": [\n        \"High\",\n        \"AAPL\"\n      ],\n      \"properties\": {\n        \"dtype\": \"number\",\n        \"std\": null,\n        \"min\": 19.09657254351493,\n        \"max\": 19.09657254351493,\n        \"num_unique_values\": 1,\n        \"samples\": [\n          19.09657254351493\n        ],\n        \"semantic_type\": \"\",\n        \"description\": \"\"\n      }\n    },\n    {\n      \"column\": [\n        \"Low\",\n        \"AAPL\"\n      ],\n      \"properties\": {\n        \"dtype\": \"number\",\n        \"std\": null,\n        \"min\": 18.782137201526268,\n        \"max\": 18.782137201526268,\n        \"num_unique_values\": 1,\n        \"samples\": [\n          18.782137201526268\n        ],\n        \"semantic_type\": \"\",\n        \"description\": \"\"\n      }\n    },\n    {\n      \"column\": [\n        \"Open\",\n        \"AAPL\"\n      ],\n      \"properties\": {\n        \"dtype\": \"number\",\n        \"std\": null,\n        \"min\": 18.79848818859645,\n        \"max\": 18.79848818859645,\n        \"num_unique_values\": 1,\n        \"samples\": [\n          18.79848818859645\n        ],\n        \"semantic_type\": \"\",\n        \"description\": \"\"\n      }\n    },\n    {\n      \"column\": [\n        \"Volume\",\n        \"AAPL\"\n      ],\n      \"properties\": {\n        \"dtype\": \"number\",\n        \"std\": null,\n        \"min\": 317755200,\n        \"max\": 317755200,\n        \"num_unique_values\": 1,\n        \"samples\": [\n          317755200\n        ],\n        \"semantic_type\": \"\",\n        \"description\": \"\"\n      }\n    }\n  ]\n}"
            }
          },
          "metadata": {},
          "execution_count": 8
        }
      ],
      "source": [
        "#this data is structured as a pandas dataframe to benefits from its built in methods\n",
        "data.head()"
      ]
    },
    {
      "cell_type": "code",
      "execution_count": null,
      "metadata": {
        "colab": {
          "base_uri": "https://localhost:8080/"
        },
        "id": "IZWeu0lUK2UF",
        "outputId": "39020ac0-30fd-4c88-bcbd-cd09f06df066"
      },
      "outputs": [
        {
          "output_type": "execute_result",
          "data": {
            "text/plain": [
              "DatetimeIndex(['2014-05-19'], dtype='datetime64[ns]', name='Date', freq=None)"
            ]
          },
          "metadata": {},
          "execution_count": 9
        }
      ],
      "source": [
        "#setting the Date as index gives access to pandas functions to sample time series data\n",
        "data.index"
      ]
    },
    {
      "cell_type": "markdown",
      "metadata": {
        "id": "Si1GfHKBkyza"
      },
      "source": [
        "#### Compute and plot transaction volumes\n",
        "\n",
        "How was Microsoft traded in 2019?"
      ]
    },
    {
      "cell_type": "code",
      "execution_count": null,
      "metadata": {
        "colab": {
          "base_uri": "https://localhost:8080/"
        },
        "id": "8Fyduqdbkyzb",
        "outputId": "30e95377-cd7e-4a85-ddae-986be9976140",
        "collapsed": true
      },
      "outputs": [
        {
          "output_type": "stream",
          "name": "stderr",
          "text": [
            "<ipython-input-13-271148352>:2: FutureWarning: YF.download() has changed argument auto_adjust default to True\n",
            "  d = yf.download(\"MSFT\", start = \"2019-01-01\", end = \"2019-12-31\")\n",
            "\r[*********************100%***********************]  1 of 1 completed"
          ]
        },
        {
          "output_type": "stream",
          "name": "stdout",
          "text": [
            "Price            Close        High         Low        Open    Volume  \\\n",
            "Ticker            MSFT        MSFT        MSFT        MSFT      MSFT   \n",
            "Date                                                                   \n",
            "2019-01-02   94.945503   95.537032   92.898616   93.471369  35329300   \n",
            "2019-01-03   91.452667   94.072308   91.264875   93.987800  42579100   \n",
            "2019-01-04   95.706062   96.250649   92.889245   93.631008  44060600   \n",
            "2019-01-07   95.828125   96.964240   94.814076   95.433772  35656100   \n",
            "2019-01-08   96.522926   97.621483   95.499479   96.748270  31514400   \n",
            "...                ...         ...         ...         ...       ...   \n",
            "2019-12-23  149.983765  150.660260  149.850370  150.660260  17718200   \n",
            "2019-12-24  149.955139  150.269572  149.707396  150.050413   8989200   \n",
            "2019-12-26  151.184280  151.241447  149.974192  150.126647  14520600   \n",
            "2019-12-27  151.460678  152.022840  150.755584  151.927552  18412800   \n",
            "2019-12-30  150.155212  151.517755  149.335785  151.489172  16348400   \n",
            "\n",
            "Price      Transaction_Volume  \n",
            "Ticker                         \n",
            "Date                           \n",
            "2019-01-02       3.354358e+09  \n",
            "2019-01-03       3.893972e+09  \n",
            "2019-01-04       4.216867e+09  \n",
            "2019-01-07       3.416857e+09  \n",
            "2019-01-08       3.041862e+09  \n",
            "...                       ...  \n",
            "2019-12-23       2.657442e+09  \n",
            "2019-12-24       1.347977e+09  \n",
            "2019-12-26       2.195286e+09  \n",
            "2019-12-27       2.788815e+09  \n",
            "2019-12-30       2.454797e+09  \n",
            "\n",
            "[251 rows x 6 columns]\n"
          ]
        },
        {
          "output_type": "stream",
          "name": "stderr",
          "text": [
            "\n"
          ]
        }
      ],
      "source": [
        "# Now download the data for the entire 2019 year.\n",
        "d = yf.download(\"MSFT\", start = \"2019-01-01\", end = \"2019-12-31\")\n",
        "\n",
        "d['Transaction_Volume'] = d['Volume'] * d['Close']\n",
        "\n",
        "print(d)"
      ]
    },
    {
      "cell_type": "code",
      "execution_count": null,
      "metadata": {
        "colab": {
          "base_uri": "https://localhost:8080/",
          "height": 204
        },
        "id": "ue0WFHzptr3B",
        "outputId": "f1e5afa1-749c-40d6-f57d-5b1b3b2b412c"
      },
      "outputs": [
        {
          "output_type": "execute_result",
          "data": {
            "text/plain": [
              "pandas.core.frame.DataFrame"
            ],
            "text/html": [
              "<div style=\"max-width:800px; border: 1px solid var(--colab-border-color);\"><style>\n",
              "      pre.function-repr-contents {\n",
              "        overflow-x: auto;\n",
              "        padding: 8px 12px;\n",
              "        max-height: 500px;\n",
              "      }\n",
              "\n",
              "      pre.function-repr-contents.function-repr-contents-collapsed {\n",
              "        cursor: pointer;\n",
              "        max-height: 100px;\n",
              "      }\n",
              "    </style>\n",
              "    <pre style=\"white-space: initial; background:\n",
              "         var(--colab-secondary-surface-color); padding: 8px 12px;\n",
              "         border-bottom: 1px solid var(--colab-border-color);\"><b>pandas.core.frame.DataFrame</b><br/>def __init__(data=None, index: Axes | None=None, columns: Axes | None=None, dtype: Dtype | None=None, copy: bool | None=None) -&gt; None</pre><pre class=\"function-repr-contents function-repr-contents-collapsed\" style=\"\"><a class=\"filepath\" style=\"display:none\" href=\"#\">/usr/local/lib/python3.11/dist-packages/pandas/core/frame.py</a>Two-dimensional, size-mutable, potentially heterogeneous tabular data.\n",
              "\n",
              "Data structure also contains labeled axes (rows and columns).\n",
              "Arithmetic operations align on both row and column labels. Can be\n",
              "thought of as a dict-like container for Series objects. The primary\n",
              "pandas data structure.\n",
              "\n",
              "Parameters\n",
              "----------\n",
              "data : ndarray (structured or homogeneous), Iterable, dict, or DataFrame\n",
              "    Dict can contain Series, arrays, constants, dataclass or list-like objects. If\n",
              "    data is a dict, column order follows insertion-order. If a dict contains Series\n",
              "    which have an index defined, it is aligned by its index. This alignment also\n",
              "    occurs if data is a Series or a DataFrame itself. Alignment is done on\n",
              "    Series/DataFrame inputs.\n",
              "\n",
              "    If data is a list of dicts, column order follows insertion-order.\n",
              "\n",
              "index : Index or array-like\n",
              "    Index to use for resulting frame. Will default to RangeIndex if\n",
              "    no indexing information part of input data and no index provided.\n",
              "columns : Index or array-like\n",
              "    Column labels to use for resulting frame when data does not have them,\n",
              "    defaulting to RangeIndex(0, 1, 2, ..., n). If data contains column labels,\n",
              "    will perform column selection instead.\n",
              "dtype : dtype, default None\n",
              "    Data type to force. Only a single dtype is allowed. If None, infer.\n",
              "copy : bool or None, default None\n",
              "    Copy data from inputs.\n",
              "    For dict data, the default of None behaves like ``copy=True``.  For DataFrame\n",
              "    or 2d ndarray input, the default of None behaves like ``copy=False``.\n",
              "    If data is a dict containing one or more Series (possibly of different dtypes),\n",
              "    ``copy=False`` will ensure that these inputs are not copied.\n",
              "\n",
              "    .. versionchanged:: 1.3.0\n",
              "\n",
              "See Also\n",
              "--------\n",
              "DataFrame.from_records : Constructor from tuples, also record arrays.\n",
              "DataFrame.from_dict : From dicts of Series, arrays, or dicts.\n",
              "read_csv : Read a comma-separated values (csv) file into DataFrame.\n",
              "read_table : Read general delimited file into DataFrame.\n",
              "read_clipboard : Read text from clipboard into DataFrame.\n",
              "\n",
              "Notes\n",
              "-----\n",
              "Please reference the :ref:`User Guide &lt;basics.dataframe&gt;` for more information.\n",
              "\n",
              "Examples\n",
              "--------\n",
              "Constructing DataFrame from a dictionary.\n",
              "\n",
              "&gt;&gt;&gt; d = {&#x27;col1&#x27;: [1, 2], &#x27;col2&#x27;: [3, 4]}\n",
              "&gt;&gt;&gt; df = pd.DataFrame(data=d)\n",
              "&gt;&gt;&gt; df\n",
              "   col1  col2\n",
              "0     1     3\n",
              "1     2     4\n",
              "\n",
              "Notice that the inferred dtype is int64.\n",
              "\n",
              "&gt;&gt;&gt; df.dtypes\n",
              "col1    int64\n",
              "col2    int64\n",
              "dtype: object\n",
              "\n",
              "To enforce a single dtype:\n",
              "\n",
              "&gt;&gt;&gt; df = pd.DataFrame(data=d, dtype=np.int8)\n",
              "&gt;&gt;&gt; df.dtypes\n",
              "col1    int8\n",
              "col2    int8\n",
              "dtype: object\n",
              "\n",
              "Constructing DataFrame from a dictionary including Series:\n",
              "\n",
              "&gt;&gt;&gt; d = {&#x27;col1&#x27;: [0, 1, 2, 3], &#x27;col2&#x27;: pd.Series([2, 3], index=[2, 3])}\n",
              "&gt;&gt;&gt; pd.DataFrame(data=d, index=[0, 1, 2, 3])\n",
              "   col1  col2\n",
              "0     0   NaN\n",
              "1     1   NaN\n",
              "2     2   2.0\n",
              "3     3   3.0\n",
              "\n",
              "Constructing DataFrame from numpy ndarray:\n",
              "\n",
              "&gt;&gt;&gt; df2 = pd.DataFrame(np.array([[1, 2, 3], [4, 5, 6], [7, 8, 9]]),\n",
              "...                    columns=[&#x27;a&#x27;, &#x27;b&#x27;, &#x27;c&#x27;])\n",
              "&gt;&gt;&gt; df2\n",
              "   a  b  c\n",
              "0  1  2  3\n",
              "1  4  5  6\n",
              "2  7  8  9\n",
              "\n",
              "Constructing DataFrame from a numpy ndarray that has labeled columns:\n",
              "\n",
              "&gt;&gt;&gt; data = np.array([(1, 2, 3), (4, 5, 6), (7, 8, 9)],\n",
              "...                 dtype=[(&quot;a&quot;, &quot;i4&quot;), (&quot;b&quot;, &quot;i4&quot;), (&quot;c&quot;, &quot;i4&quot;)])\n",
              "&gt;&gt;&gt; df3 = pd.DataFrame(data, columns=[&#x27;c&#x27;, &#x27;a&#x27;])\n",
              "...\n",
              "&gt;&gt;&gt; df3\n",
              "   c  a\n",
              "0  3  1\n",
              "1  6  4\n",
              "2  9  7\n",
              "\n",
              "Constructing DataFrame from dataclass:\n",
              "\n",
              "&gt;&gt;&gt; from dataclasses import make_dataclass\n",
              "&gt;&gt;&gt; Point = make_dataclass(&quot;Point&quot;, [(&quot;x&quot;, int), (&quot;y&quot;, int)])\n",
              "&gt;&gt;&gt; pd.DataFrame([Point(0, 0), Point(0, 3), Point(2, 3)])\n",
              "   x  y\n",
              "0  0  0\n",
              "1  0  3\n",
              "2  2  3\n",
              "\n",
              "Constructing DataFrame from Series/DataFrame:\n",
              "\n",
              "&gt;&gt;&gt; ser = pd.Series([1, 2, 3], index=[&quot;a&quot;, &quot;b&quot;, &quot;c&quot;])\n",
              "&gt;&gt;&gt; df = pd.DataFrame(data=ser, index=[&quot;a&quot;, &quot;c&quot;])\n",
              "&gt;&gt;&gt; df\n",
              "   0\n",
              "a  1\n",
              "c  3\n",
              "\n",
              "&gt;&gt;&gt; df1 = pd.DataFrame([1, 2, 3], index=[&quot;a&quot;, &quot;b&quot;, &quot;c&quot;], columns=[&quot;x&quot;])\n",
              "&gt;&gt;&gt; df2 = pd.DataFrame(data=df1, index=[&quot;a&quot;, &quot;c&quot;])\n",
              "&gt;&gt;&gt; df2\n",
              "   x\n",
              "a  1\n",
              "c  3</pre>\n",
              "      <script>\n",
              "      if (google.colab.kernel.accessAllowed && google.colab.files && google.colab.files.view) {\n",
              "        for (const element of document.querySelectorAll('.filepath')) {\n",
              "          element.style.display = 'block'\n",
              "          element.onclick = (event) => {\n",
              "            event.preventDefault();\n",
              "            event.stopPropagation();\n",
              "            google.colab.files.view(element.textContent, 509);\n",
              "          };\n",
              "        }\n",
              "      }\n",
              "      for (const element of document.querySelectorAll('.function-repr-contents')) {\n",
              "        element.onclick = (event) => {\n",
              "          event.preventDefault();\n",
              "          event.stopPropagation();\n",
              "          element.classList.toggle('function-repr-contents-collapsed');\n",
              "        };\n",
              "      }\n",
              "      </script>\n",
              "      </div>"
            ]
          },
          "metadata": {},
          "execution_count": 14
        }
      ],
      "source": [
        "# Downloaded data are saved as a dataframe\n",
        "type(d)"
      ]
    },
    {
      "cell_type": "code",
      "execution_count": null,
      "metadata": {
        "colab": {
          "base_uri": "https://localhost:8080/",
          "height": 448
        },
        "id": "CR-ZPmPJkyzb",
        "outputId": "1fa2a036-f2fa-44d8-cacd-d609a002c9af"
      },
      "outputs": [
        {
          "output_type": "display_data",
          "data": {
            "text/plain": [
              "<Figure size 640x480 with 1 Axes>"
            ],
            "image/png": "[encoded data removed]"
          },
          "metadata": {}
        }
      ],
      "source": [
        "# Use seaborn style defaults and set the default figure size\n",
        "sns.set_style(rc = {'figure.figsize': (12, 6)})\n",
        "\n",
        "d['Transaction_Volume'].plot(linewidth = 0.5);"
      ]
    },
    {
      "cell_type": "markdown",
      "metadata": {
        "id": "B7LQCF43kyzb"
      },
      "source": [
        "#### The NYSE tickers\n",
        "\n",
        "From the relative [nasdaq.com](http://www.nasdaq.com/screening/company-list.aspx) page we download all the information related to the market capitalization, sector and industry...\n",
        "\n",
        "Discontinued: the top-cap companies have been downloaded in the `data` section, use `!head companylist.csv` to visualise, OR SIMPLY USE THE Pandas version below."
      ]
    },
    {
      "cell_type": "markdown",
      "metadata": {
        "id": "ikO62_jBkyzc"
      },
      "source": [
        "### Get Stock Labels, Sector and Industries"
      ]
    },
    {
      "cell_type": "code",
      "execution_count": 2,
      "metadata": {
        "id": "TvjWGm8PK2UG"
      },
      "outputs": [],
      "source": [
        "DATAFILE = \"./sample_data/list_stocks_50B_6_may_2016.txt\""
      ]
    },
    {
      "cell_type": "code",
      "execution_count": 8,
      "metadata": {
        "id": "PUdNVkPqkyzd",
        "colab": {
          "base_uri": "https://localhost:8080/"
        },
        "collapsed": true,
        "outputId": "f96a3e0a-656b-42dd-e687-db29564761f7"
      },
      "outputs": [
        {
          "output_type": "stream",
          "name": "stdout",
          "text": [
            "('MMM', '3M Company', 'Health Care', 'Medical/Dental Instruments')\n",
            "('ABT', 'Abbott Laboratories', 'Health Care', 'Major Pharmaceuticals')\n",
            "('ABBV', 'AbbVie Inc.', 'Health Care', 'Major Pharmaceuticals')\n",
            "('ACN', 'Accenture plc.', 'Miscellaneous', 'Business Services')\n",
            "('AEB', 'Aegon NV', 'Finance', 'Life Insurance')\n",
            "('AED', 'Aegon NV', 'Finance', 'Life Insurance')\n",
            "('AEK', 'Aegon NV', 'Finance', 'Life Insurance')\n",
            "('BABA', 'Alibaba Group Holding Limited', 'Miscellaneous', 'Business Services')\n",
            "('MO', 'Altria Group', 'Consumer Non-Durables', 'Farming/Seeds/Milling')\n",
            "('ABEV', 'Ambev S.A.', 'Consumer Non-Durables', 'Beverages (Production/Distribution)')\n",
            "('AXP', 'American Express Company', 'Finance', 'Finance: Consumer Services')\n",
            "('AIG', 'American International Grou', 'n/a', 'Finance')\n",
            "('BUD', 'Anheuser-Busch Inbev SA', 'Consumer Non-Durables', 'Beverages (Production/Distribution)')\n",
            "('AZN', 'Astrazeneca PLC', 'Health Care', 'Major Pharmaceuticals')\n",
            "('T', 'AT&T Inc.', 'Public Utilities', 'Telecommunications Equipment')\n",
            "('SAN', 'Banco Santande', 'n/a', 'n/a')\n",
            "('BAC', 'Bank of America Corporation', 'Finance', 'Major Banks')\n",
            "('BNS', 'Bank of Nova Scotia (The)', 'Finance', 'Major Banks')\n",
            "('BCS', 'Barclays PLC', 'Finance', 'Commercial Banks')\n",
            "('BHP', 'BHP Billiton Limited', 'Basic Industries', 'Precious Metals')\n",
            "('BBL', 'BHP Billiton plc', 'Energy', 'Coal Mining')\n",
            "('BLK', 'BlackRoc', '1999', 'Finance')\n",
            "('BA', 'Boeing Company (The)', 'Capital Goods', 'Aerospace')\n",
            "('BP', 'BP p.l.c.', 'Energy', 'Integrated oil Companies')\n",
            "('BMY', 'Bristol-Myers Squibb Company', 'Health Care', 'Major Pharmaceuticals')\n",
            "('BT', 'BT Group plc', 'Public Utilities', 'Telecommunications Equipment')\n",
            "('CX', 'Cemex S.A.B. de C.V.', 'Capital Goods', 'Building Materials')\n",
            "('CVX', 'Chevron Corporation', 'Energy', 'Integrated oil Companies')\n",
            "('LFC', 'China Life Insurance Company Limited', 'Finance', 'Life Insurance')\n",
            "('CHL', 'China Mobile (Hong Kong) Ltd.', 'Public Utilities', 'Telecommunications Equipment')\n",
            "('SNP', 'China Petroleum & Chemical Corporation', 'Energy', 'Integrated oil Companies')\n",
            "('C', 'Citigroup Inc.', 'Finance', 'Major Banks')\n",
            "('CEO', 'CNOOC Limited', 'Energy', 'Oil & Gas Production')\n",
            "('KO', 'Coca-Cola Company (The)', 'Consumer Non-Durables', 'Beverages (Production/Distribution)')\n",
            "('CL', 'Colgate-Palmolive Company', 'Consumer Non-Durables', 'Package Goods/Cosmetics')\n",
            "('CCV', 'Comcast Corporation', 'Consumer Services', 'Television Services')\n",
            "('COP', 'ConocoPhillips', 'Energy', 'Integrated oil Companies')\n",
            "('CVS', 'CVS Health Corporation', 'Health Care', 'Medical/Nursing Services')\n",
            "('DHR', 'Danaher Corporation', 'Capital Goods', 'Industrial Machinery/Components')\n",
            "('DEO', 'Diageo plc', 'Consumer Non-Durables', 'Beverages (Production/Distribution)')\n",
            "('DOW', 'Dow Chemical Company (The)', 'Basic Industries', 'Major Chemicals')\n",
            "('DUK', 'Duke Energy Corporation', 'Public Utilities', 'Power Generation')\n",
            "('DD', 'E.I. du Pont de Nemours and Company', 'Basic Industries', 'Major Chemicals')\n",
            "('LLY', 'Eli Lilly and Company', 'Health Care', 'Major Pharmaceuticals')\n",
            "('EMC', 'EMC Corporation', 'Technology', 'Electronic Components')\n",
            "('E', 'ENI S.p.A.', 'Energy', 'Oil & Gas Production')\n",
            "('EPD', 'Enterprise Products Partners L.P.', 'Public Utilities', 'Natural Gas Distribution')\n",
            "('XOM', 'Exxon Mobil Corporation', 'Energy', 'Integrated oil Companies')\n",
            "('F', 'Ford Motor Company', 'Capital Goods', 'Auto Manufacturing')\n",
            "('GE', 'General Electric Company', 'Energy', 'Consumer Electronics/Appliances')\n",
            "('GSK', 'GlaxoSmithKline PLC', 'Health Care', 'Major Pharmaceuticals')\n",
            "('GS', 'Goldman Sachs Grou', '1999', 'Finance')\n",
            "('TV', 'Grupo Televisa S.A.', 'Consumer Services', 'Broadcasting')\n",
            "('HDB', 'HDFC Bank Limited', 'Finance', 'Commercial Banks')\n",
            "('HD', 'Home Depo', 'n/a', 'Consumer Services')\n",
            "('HON', 'Honeywell International Inc.', 'Capital Goods', 'Auto Parts:O.E.M.')\n",
            "('HSBC', 'HSBC Holdings plc', 'n/a', 'n/a')\n",
            "('HSEA', 'HSBC Holdings plc', 'n/a', 'n/a')\n",
            "('HSEB', 'HSBC Holdings plc', 'n/a', 'n/a')\n",
            "('INZ', 'ING Grou', 'n/a', 'Finance')\n",
            "('ISF', 'ING Grou', 'n/a', 'Finance')\n",
            "('IBM', 'International Business Machines Corporation', 'Technology', 'Computer Manufacturing')\n",
            "('ITUB', 'Itau Unibanco Banco Holding SA', 'Finance', 'Major Banks')\n",
            "('JPM', 'J P Morgan Chase & Co', 'Finance', 'Major Banks')\n",
            "('JNJ', 'Johnson & Johnson', 'Health Care', 'Major Pharmaceuticals')\n",
            "('LYG', 'Lloyds Banking Group Plc', 'Finance', 'Commercial Banks')\n",
            "('LMT', 'Lockheed Martin Corporation', 'Capital Goods', 'Military/Government/Technical')\n",
            "('LOW', 'Lowe&#39;s Companie', 'n/a', 'Consumer Services')\n",
            "('MA', 'Mastercard Incorporated', 'Miscellaneous', 'Business Services')\n",
            "('MCD', 'McDonald&#39;s Corporation', 'Consumer Services', 'Restaurants')\n",
            "('MDT', 'Medtroni', 'n/a', 'Health Care')\n",
            "('MRK', 'Merck & Compan', 'n/a', 'Health Care')\n",
            "('MTU', 'Mitsubishi UFJ Financial Group Inc', 'Finance', 'Commercial Banks')\n",
            "('MS', 'Morgan Stanley', 'Finance', 'Investment Bankers/Brokers/Service')\n",
            "('NGG', 'National Grid Transc', 'n/a', 'Public Utilities')\n",
            "('NEE', 'NextEra Energ', 'n/a', 'Public Utilities')\n",
            "('NKE', 'Nik', 'n/a', 'Consumer Non-Durables')\n",
            "('NTT', 'Nippon Telegraph and Telephone Corporation', 'Public Utilities', 'Telecommunications Equipment')\n",
            "('NVS', 'Novartis AG', 'Health Care', 'Major Pharmaceuticals')\n",
            "('NVO', 'Novo Nordisk A/S', 'Health Care', 'Major Pharmaceuticals')\n",
            "('DCM', 'NTT DOCOM', 'n/a', 'Technology')\n",
            "('OXY', 'Occidental Petroleum Corporation', 'Energy', 'Oil & Gas Production')\n",
            "('ORCL', 'Oracle Corporation', 'Technology', 'Computer Software: Prepackaged Software')\n",
            "('PEP', 'Pepsic', 'n/a', 'Consumer Non-Durables')\n",
            "('PTR', 'PetroChina Company Limited', 'Energy', 'Oil & Gas Production')\n",
            "('PFE', 'Pfize', 'n/a', 'Health Care')\n",
            "('PM', 'Philip Morris International Inc', 'Consumer Non-Durables', 'Farming/Seeds/Milling')\n",
            "('PG', 'Procter & Gamble Company (The)', 'Basic Industries', 'Package Goods/Cosmetics')\n",
            "('RAI', 'Reynolds American Inc', 'Consumer Non-Durables', 'Farming/Seeds/Milling')\n",
            "('RIO', 'Rio Tinto Plc', 'Basic Industries', 'Precious Metals')\n",
            "('RY', 'Royal Bank Of Canada', 'Finance', 'Commercial Banks')\n",
            "('SNY', 'Sanofi', 'Health Care', 'Major Pharmaceuticals')\n",
            "('SAP', 'SAP SE', 'Technology', 'Computer Software: Prepackaged Software')\n",
            "('SLB', 'Schlumberger N.V.', 'Energy', 'Oilfield Services/Equipment')\n",
            "('SPG', 'Simon Property Grou', 'n/a', 'Consumer Services')\n",
            "('STO', 'Statoil ASA', 'Energy', 'Integrated oil Companies')\n",
            "('TSM', 'Taiwan Semiconductor Manufacturing Company Ltd.', 'Technology', 'Semiconductors')\n",
            "('TEF', 'Telefonica SA', 'Public Utilities', 'Telecommunications Equipment')\n",
            "('TMO', 'Thermo Fisher Scientific Inc', 'Capital Goods', 'Industrial Machinery/Components')\n",
            "('TWC', 'Time Warner Cable Inc', 'Consumer Services', 'Television Services')\n",
            "('TWX', 'Time Warner Inc.', 'Consumer Services', 'Television Services')\n",
            "('TJX', 'TJX Companie', 'n/a', 'Consumer Services')\n",
            "('TD', 'Toronto Dominion Bank (The)', 'Finance', 'Commercial Banks')\n",
            "('TOT', 'TotalFinaEl', 'n/a', 'Energy')\n",
            "('TM', 'Toyota Motor Corp Ltd Ord', 'Capital Goods', 'Auto Manufacturing')\n",
            "('USB', 'U.S. Bancorp', 'Finance', 'Major Banks')\n",
            "('UBS', 'UBS AG', 'Finance', 'Major Banks')\n",
            "('UN', 'Unilever NV', 'Basic Industries', 'Package Goods/Cosmetics')\n",
            "('UL', 'Unilever PLC', 'Basic Industries', 'Package Goods/Cosmetics')\n",
            "('UNP', 'Union Pacific Corporation', 'Transportation', 'Railroads')\n",
            "('UPS', 'United Parcel Servic', '1999', 'Transportation')\n",
            "('UTX', 'United Technologies Corporation', 'Capital Goods', 'Aerospace')\n",
            "('UNH', 'UnitedHealth Group Incorporated', 'Health Care', 'Medical Specialities')\n",
            "('VZ', 'Verizon Communications Inc.', 'Public Utilities', 'Telecommunications Equipment')\n",
            "('VZA', 'Verizon Communications Inc.', 'Public Utilities', 'Telecommunications Equipment')\n",
            "('V', 'Visa Inc.', 'Miscellaneous', 'Business Services')\n",
            "('WMT', 'Wal-Mart Store', 'n/a', 'Consumer Services')\n",
            "('DIS', 'Walt Disney Company (The)', 'Consumer Services', 'Television Services')\n",
            "('WFC', 'Wells Fargo & Company', 'Finance', 'Major Banks')\n",
            "('WBK', 'Westpac Banking Corporation', 'Finance', 'Commercial Banks')\n"
          ]
        }
      ],
      "source": [
        "# Get stock data from the text file\n",
        "f = open(DATAFILE, 'r')\n",
        "\n",
        "list_stocks = []\n",
        "\n",
        "while True:\n",
        "    next_line = f.readline()\n",
        "    if not next_line: break\n",
        "    # print(next_line.split('\\t'))\n",
        "    list_stocks.append(tuple(next_line.split('\\t')[:-1]))\n",
        "\n",
        "f.close()\n",
        "\n",
        "# a huge dump of all stocks, uncomment only if needed\n",
        "for stock in list_stocks:\n",
        "    print(stock)\n"
      ]
    },
    {
      "cell_type": "code",
      "execution_count": 6,
      "metadata": {
        "id": "XGYXS7GcK2UH"
      },
      "outputs": [],
      "source": [
        "# Alternatively, you could use an easier to read DataFrame structure\n",
        "stocks = pd.read_csv(DATAFILE, sep = '\\t', names = ['Ticker', 'Name', 'Sector', 'Industry', 'Ukn'])"
      ]
    },
    {
      "cell_type": "code",
      "execution_count": 7,
      "metadata": {
        "id": "Uad5YnCeK2UH",
        "colab": {
          "base_uri": "https://localhost:8080/",
          "height": 206
        },
        "outputId": "838f8e84-4f7a-4440-b006-e831066385d7"
      },
      "outputs": [
        {
          "output_type": "execute_result",
          "data": {
            "text/plain": [
              "  Ticker                 Name         Sector                    Industry  Ukn\n",
              "0    MMM           3M Company    Health Care  Medical/Dental Instruments  NaN\n",
              "1    ABT  Abbott Laboratories    Health Care       Major Pharmaceuticals  NaN\n",
              "2   ABBV          AbbVie Inc.    Health Care       Major Pharmaceuticals  NaN\n",
              "3    ACN       Accenture plc.  Miscellaneous           Business Services  NaN\n",
              "4    AEB             Aegon NV        Finance              Life Insurance  NaN"
            ],
            "text/html": [
              "\n",
              "  <div id=\"df-f1f29e17-a56a-425c-bfea-478cfe45e824\" class=\"colab-df-container\">\n",
              "    <div>\n",
              "<style scoped>\n",
              "    .dataframe tbody tr th:only-of-type {\n",
              "        vertical-align: middle;\n",
              "    }\n",
              "\n",
              "    .dataframe tbody tr th {\n",
              "        vertical-align: top;\n",
              "    }\n",
              "\n",
              "    .dataframe thead th {\n",
              "        text-align: right;\n",
              "    }\n",
              "</style>\n",
              "<table border=\"1\" class=\"dataframe\">\n",
              "  <thead>\n",
              "    <tr style=\"text-align: right;\">\n",
              "      <th></th>\n",
              "      <th>Ticker</th>\n",
              "      <th>Name</th>\n",
              "      <th>Sector</th>\n",
              "      <th>Industry</th>\n",
              "      <th>Ukn</th>\n",
              "    </tr>\n",
              "  </thead>\n",
              "  <tbody>\n",
              "    <tr>\n",
              "      <th>0</th>\n",
              "      <td>MMM</td>\n",
              "      <td>3M Company</td>\n",
              "      <td>Health Care</td>\n",
              "      <td>Medical/Dental Instruments</td>\n",
              "      <td>NaN</td>\n",
              "    </tr>\n",
              "    <tr>\n",
              "      <th>1</th>\n",
              "      <td>ABT</td>\n",
              "      <td>Abbott Laboratories</td>\n",
              "      <td>Health Care</td>\n",
              "      <td>Major Pharmaceuticals</td>\n",
              "      <td>NaN</td>\n",
              "    </tr>\n",
              "    <tr>\n",
              "      <th>2</th>\n",
              "      <td>ABBV</td>\n",
              "      <td>AbbVie Inc.</td>\n",
              "      <td>Health Care</td>\n",
              "      <td>Major Pharmaceuticals</td>\n",
              "      <td>NaN</td>\n",
              "    </tr>\n",
              "    <tr>\n",
              "      <th>3</th>\n",
              "      <td>ACN</td>\n",
              "      <td>Accenture plc.</td>\n",
              "      <td>Miscellaneous</td>\n",
              "      <td>Business Services</td>\n",
              "      <td>NaN</td>\n",
              "    </tr>\n",
              "    <tr>\n",
              "      <th>4</th>\n",
              "      <td>AEB</td>\n",
              "      <td>Aegon NV</td>\n",
              "      <td>Finance</td>\n",
              "      <td>Life Insurance</td>\n",
              "      <td>NaN</td>\n",
              "    </tr>\n",
              "  </tbody>\n",
              "</table>\n",
              "</div>\n",
              "    <div class=\"colab-df-buttons\">\n",
              "\n",
              "  <div class=\"colab-df-container\">\n",
              "    <button class=\"colab-df-convert\" onclick=\"convertToInteractive('df-f1f29e17-a56a-425c-bfea-478cfe45e824')\"\n",
              "            title=\"Convert this dataframe to an interactive table.\"\n",
              "            style=\"display:none;\">\n",
              "\n",
              "  <svg xmlns=\"http://www.w3.org/2000/svg\" height=\"24px\" viewBox=\"0 -960 960 960\">\n",
              "    <path d=\"M120-120v-720h720v720H120Zm60-500h600v-160H180v160Zm220 220h160v-160H400v160Zm0 220h160v-160H400v160ZM180-400h160v-160H180v160Zm440 0h160v-160H620v160ZM180-180h160v-160H180v160Zm440 0h160v-160H620v160Z\"/>\n",
              "  </svg>\n",
              "    </button>\n",
              "\n",
              "  <style>\n",
              "    .colab-df-container {\n",
              "      display:flex;\n",
              "      gap: 12px;\n",
              "    }\n",
              "\n",
              "    .colab-df-convert {\n",
              "      background-color: #E8F0FE;\n",
              "      border: none;\n",
              "      border-radius: 50%;\n",
              "      cursor: pointer;\n",
              "      display: none;\n",
              "      fill: #1967D2;\n",
              "      height: 32px;\n",
              "      padding: 0 0 0 0;\n",
              "      width: 32px;\n",
              "    }\n",
              "\n",
              "    .colab-df-convert:hover {\n",
              "      background-color: #E2EBFA;\n",
              "      box-shadow: 0px 1px 2px rgba(60, 64, 67, 0.3), 0px 1px 3px 1px rgba(60, 64, 67, 0.15);\n",
              "      fill: #174EA6;\n",
              "    }\n",
              "\n",
              "    .colab-df-buttons div {\n",
              "      margin-bottom: 4px;\n",
              "    }\n",
              "\n",
              "    [theme=dark] .colab-df-convert {\n",
              "      background-color: #3B4455;\n",
              "      fill: #D2E3FC;\n",
              "    }\n",
              "\n",
              "    [theme=dark] .colab-df-convert:hover {\n",
              "      background-color: #434B5C;\n",
              "      box-shadow: 0px 1px 3px 1px rgba(0, 0, 0, 0.15);\n",
              "      filter: drop-shadow(0px 1px 2px rgba(0, 0, 0, 0.3));\n",
              "      fill: #FFFFFF;\n",
              "    }\n",
              "  </style>\n",
              "\n",
              "    <script>\n",
              "      const buttonEl =\n",
              "        document.querySelector('#df-f1f29e17-a56a-425c-bfea-478cfe45e824 button.colab-df-convert');\n",
              "      buttonEl.style.display =\n",
              "        google.colab.kernel.accessAllowed ? 'block' : 'none';\n",
              "\n",
              "      async function convertToInteractive(key) {\n",
              "        const element = document.querySelector('#df-f1f29e17-a56a-425c-bfea-478cfe45e824');\n",
              "        const dataTable =\n",
              "          await google.colab.kernel.invokeFunction('convertToInteractive',\n",
              "                                                    [key], {});\n",
              "        if (!dataTable) return;\n",
              "\n",
              "        const docLinkHtml = 'Like what you see? Visit the ' +\n",
              "          '<a target=\"_blank\" href=https://colab.research.google.com/notebooks/data_table.ipynb>data table notebook</a>'\n",
              "          + ' to learn more about interactive tables.';\n",
              "        element.innerHTML = '';\n",
              "        dataTable['output_type'] = 'display_data';\n",
              "        await google.colab.output.renderOutput(dataTable, element);\n",
              "        const docLink = document.createElement('div');\n",
              "        docLink.innerHTML = docLinkHtml;\n",
              "        element.appendChild(docLink);\n",
              "      }\n",
              "    </script>\n",
              "  </div>\n",
              "\n",
              "\n",
              "    <div id=\"df-26bb16db-b7cd-4fd6-bd9b-60a217aa2cfe\">\n",
              "      <button class=\"colab-df-quickchart\" onclick=\"quickchart('df-26bb16db-b7cd-4fd6-bd9b-60a217aa2cfe')\"\n",
              "                title=\"Suggest charts\"\n",
              "                style=\"display:none;\">\n",
              "\n",
              "<svg xmlns=\"http://www.w3.org/2000/svg\" height=\"24px\"viewBox=\"0 0 24 24\"\n",
              "     width=\"24px\">\n",
              "    <g>\n",
              "        <path d=\"M19 3H5c-1.1 0-2 .9-2 2v14c0 1.1.9 2 2 2h14c1.1 0 2-.9 2-2V5c0-1.1-.9-2-2-2zM9 17H7v-7h2v7zm4 0h-2V7h2v10zm4 0h-2v-4h2v4z\"/>\n",
              "    </g>\n",
              "</svg>\n",
              "      </button>\n",
              "\n",
              "<style>\n",
              "  .colab-df-quickchart {\n",
              "      --bg-color: #E8F0FE;\n",
              "      --fill-color: #1967D2;\n",
              "      --hover-bg-color: #E2EBFA;\n",
              "      --hover-fill-color: #174EA6;\n",
              "      --disabled-fill-color: #AAA;\n",
              "      --disabled-bg-color: #DDD;\n",
              "  }\n",
              "\n",
              "  [theme=dark] .colab-df-quickchart {\n",
              "      --bg-color: #3B4455;\n",
              "      --fill-color: #D2E3FC;\n",
              "      --hover-bg-color: #434B5C;\n",
              "      --hover-fill-color: #FFFFFF;\n",
              "      --disabled-bg-color: #3B4455;\n",
              "      --disabled-fill-color: #666;\n",
              "  }\n",
              "\n",
              "  .colab-df-quickchart {\n",
              "    background-color: var(--bg-color);\n",
              "    border: none;\n",
              "    border-radius: 50%;\n",
              "    cursor: pointer;\n",
              "    display: none;\n",
              "    fill: var(--fill-color);\n",
              "    height: 32px;\n",
              "    padding: 0;\n",
              "    width: 32px;\n",
              "  }\n",
              "\n",
              "  .colab-df-quickchart:hover {\n",
              "    background-color: var(--hover-bg-color);\n",
              "    box-shadow: 0 1px 2px rgba(60, 64, 67, 0.3), 0 1px 3px 1px rgba(60, 64, 67, 0.15);\n",
              "    fill: var(--button-hover-fill-color);\n",
              "  }\n",
              "\n",
              "  .colab-df-quickchart-complete:disabled,\n",
              "  .colab-df-quickchart-complete:disabled:hover {\n",
              "    background-color: var(--disabled-bg-color);\n",
              "    fill: var(--disabled-fill-color);\n",
              "    box-shadow: none;\n",
              "  }\n",
              "\n",
              "  .colab-df-spinner {\n",
              "    border: 2px solid var(--fill-color);\n",
              "    border-color: transparent;\n",
              "    border-bottom-color: var(--fill-color);\n",
              "    animation:\n",
              "      spin 1s steps(1) infinite;\n",
              "  }\n",
              "\n",
              "  @keyframes spin {\n",
              "    0% {\n",
              "      border-color: transparent;\n",
              "      border-bottom-color: var(--fill-color);\n",
              "      border-left-color: var(--fill-color);\n",
              "    }\n",
              "    20% {\n",
              "      border-color: transparent;\n",
              "      border-left-color: var(--fill-color);\n",
              "      border-top-color: var(--fill-color);\n",
              "    }\n",
              "    30% {\n",
              "      border-color: transparent;\n",
              "      border-left-color: var(--fill-color);\n",
              "      border-top-color: var(--fill-color);\n",
              "      border-right-color: var(--fill-color);\n",
              "    }\n",
              "    40% {\n",
              "      border-color: transparent;\n",
              "      border-right-color: var(--fill-color);\n",
              "      border-top-color: var(--fill-color);\n",
              "    }\n",
              "    60% {\n",
              "      border-color: transparent;\n",
              "      border-right-color: var(--fill-color);\n",
              "    }\n",
              "    80% {\n",
              "      border-color: transparent;\n",
              "      border-right-color: var(--fill-color);\n",
              "      border-bottom-color: var(--fill-color);\n",
              "    }\n",
              "    90% {\n",
              "      border-color: transparent;\n",
              "      border-bottom-color: var(--fill-color);\n",
              "    }\n",
              "  }\n",
              "</style>\n",
              "\n",
              "      <script>\n",
              "        async function quickchart(key) {\n",
              "          const quickchartButtonEl =\n",
              "            document.querySelector('#' + key + ' button');\n",
              "          quickchartButtonEl.disabled = true;  // To prevent multiple clicks.\n",
              "          quickchartButtonEl.classList.add('colab-df-spinner');\n",
              "          try {\n",
              "            const charts = await google.colab.kernel.invokeFunction(\n",
              "                'suggestCharts', [key], {});\n",
              "          } catch (error) {\n",
              "            console.error('Error during call to suggestCharts:', error);\n",
              "          }\n",
              "          quickchartButtonEl.classList.remove('colab-df-spinner');\n",
              "          quickchartButtonEl.classList.add('colab-df-quickchart-complete');\n",
              "        }\n",
              "        (() => {\n",
              "          let quickchartButtonEl =\n",
              "            document.querySelector('#df-26bb16db-b7cd-4fd6-bd9b-60a217aa2cfe button');\n",
              "          quickchartButtonEl.style.display =\n",
              "            google.colab.kernel.accessAllowed ? 'block' : 'none';\n",
              "        })();\n",
              "      </script>\n",
              "    </div>\n",
              "\n",
              "    </div>\n",
              "  </div>\n"
            ],
            "application/vnd.google.colaboratory.intrinsic+json": {
              "type": "dataframe",
              "variable_name": "stocks",
              "summary": "{\n  \"name\": \"stocks\",\n  \"rows\": 120,\n  \"fields\": [\n    {\n      \"column\": \"Ticker\",\n      \"properties\": {\n        \"dtype\": \"string\",\n        \"num_unique_values\": 120,\n        \"samples\": [\n          \"EMC\",\n          \"XOM\",\n          \"AEB\"\n        ],\n        \"semantic_type\": \"\",\n        \"description\": \"\"\n      }\n    },\n    {\n      \"column\": \"Name\",\n      \"properties\": {\n        \"dtype\": \"string\",\n        \"num_unique_values\": 114,\n        \"samples\": [\n          \"Pfize\",\n          \"Aegon NV\",\n          \"E.I. du Pont de Nemours and Company\"\n        ],\n        \"semantic_type\": \"\",\n        \"description\": \"\"\n      }\n    },\n    {\n      \"column\": \"Sector\",\n      \"properties\": {\n        \"dtype\": \"category\",\n        \"num_unique_values\": 12,\n        \"samples\": [\n          \"Technology\",\n          \"Consumer Services\",\n          \"Health Care\"\n        ],\n        \"semantic_type\": \"\",\n        \"description\": \"\"\n      }\n    },\n    {\n      \"column\": \"Industry\",\n      \"properties\": {\n        \"dtype\": \"category\",\n        \"num_unique_values\": 45,\n        \"samples\": [\n          \"Oilfield Services/Equipment\",\n          \"Auto Manufacturing\",\n          \"Consumer Electronics/Appliances\"\n        ],\n        \"semantic_type\": \"\",\n        \"description\": \"\"\n      }\n    },\n    {\n      \"column\": \"Ukn\",\n      \"properties\": {\n        \"dtype\": \"number\",\n        \"std\": null,\n        \"min\": null,\n        \"max\": null,\n        \"num_unique_values\": 0,\n        \"samples\": [],\n        \"semantic_type\": \"\",\n        \"description\": \"\"\n      }\n    }\n  ]\n}"
            }
          },
          "metadata": {},
          "execution_count": 7
        }
      ],
      "source": [
        "stocks.head()"
      ]
    },
    {
      "cell_type": "code",
      "execution_count": null,
      "metadata": {
        "id": "97o5Kd1R3DxC"
      },
      "outputs": [],
      "source": [
        "# This code must stay commented as yahoo financials has some api issues.\n",
        "# We have used the file with the required data above.\n",
        "\n",
        "# # get values\n",
        "# # May 6th 2016\n",
        "# # greater than 50B$\n",
        "# cap_threshold = 50_000_000_000\n",
        "# hfile = open(\"companylist.csv\", 'r')\n",
        "\n",
        "# list_stocks = []\n",
        "# nextline = hfile.readline()\n",
        "\n",
        "# while True:\n",
        "#     nextline = hfile.readline()\n",
        "#     if not nextline:\n",
        "#         break\n",
        "\n",
        "#     line = nextline.split(',')\n",
        "#     sym = line[0][1:-1]\n",
        "\n",
        "#     # Skip entries with \"^\" in stock name\n",
        "#     if sym.find(\"^\") != -1:\n",
        "#         continue\n",
        "\n",
        "#     share = YahooFinancials(sym) # this cause an issue\n",
        "#     y_market_cap = None\n",
        "\n",
        "#     try:\n",
        "#         y_market_cap = share.get_market_cap()\n",
        "#     except:\n",
        "#         y_market_cap = None\n",
        "#         print(f\"No link for {sym}\")\n",
        "#     # y_market_cap1=y_m\n",
        "\n",
        "#     if not y_market_cap:\n",
        "#         print(f\"No market cap found for {sym}\")\n",
        "#         continue\n",
        "\n",
        "#     # We will exclude stocks with char ’^’ that will\n",
        "#     # give errors in the query process\n",
        "#     if y_market_cap > cap_threshold:\n",
        "#         print(sym, y_market_cap, line)\n",
        "#         stock_data = (line[0][1:-1], line[1][1:-1], line[5][1:-1], line[6][1:-1])\n",
        "#         list_stocks.append(stock_data)\n",
        "#     time.sleep(1)\n",
        "\n",
        "# hfile.close()\n",
        "# print(list_stocks[0])"
      ]
    },
    {
      "cell_type": "markdown",
      "metadata": {
        "id": "AcZ_p7s-kyze"
      },
      "source": [
        "#### Generate dictionaries for companies, sectors and colors"
      ]
    },
    {
      "cell_type": "code",
      "execution_count": 12,
      "metadata": {
        "id": "3HUgYqJLkyze",
        "colab": {
          "base_uri": "https://localhost:8080/"
        },
        "outputId": "5dc55f7b-d36b-469c-a82b-9738cf2c05e1"
      },
      "outputs": [
        {
          "output_type": "stream",
          "name": "stdout",
          "text": [
            "[(21, 'n/a'), (21, 'Finance'), (13, 'Health Care'), (13, 'Energy'), (9, 'Public Utilities'), (9, 'Capital Goods'), (8, 'Consumer Non-Durables'), (7, 'Basic Industries'), (6, 'Consumer Services'), (5, 'Technology'), (4, 'Miscellaneous'), (3, '1999'), (1, 'Transportation')]\n"
          ]
        }
      ],
      "source": [
        "dict_sectors = {}\n",
        "\n",
        "for s in list_stocks:\n",
        "    # print(s)\n",
        "    dict_sectors[s[0]] = s[2]\n",
        "\n",
        "list_ranking = []\n",
        "\n",
        "for s in set(dict_sectors.values()):\n",
        "    count = 0\n",
        "\n",
        "    for key in dict_sectors:\n",
        "        if s in dict_sectors[key]:\n",
        "            count += 1\n",
        "\n",
        "    list_ranking.append((count,s))\n",
        "\n",
        "list_ranking.sort(reverse = True)\n",
        "\n",
        "# list_colors=['red','green','blue','black''cyan','magenta','yellow']\n",
        "list_colors = ['0.0', '0.2', '0.4', '0.6', '0.7', '0.8', '0.9']\n",
        "\n",
        "# 'white' is an extra color for 'n/a' and 'other' sectors\n",
        "dict_colors = {}\n",
        "\n",
        "# association color and more represented sectors\n",
        "for s in list_ranking:\n",
        "    if s[1] == 'n/a':\n",
        "        dict_colors[s[1]] = 'white'\n",
        "        continue\n",
        "\n",
        "    if list_colors == []:\n",
        "        dict_colors[s[1]] = 'white'\n",
        "        continue\n",
        "\n",
        "    dict_colors[s[1]] = list_colors.pop(0)\n",
        "\n",
        "print(list_ranking)"
      ]
    },
    {
      "cell_type": "code",
      "execution_count": 10,
      "metadata": {
        "id": "oQhsv4c2K2UI",
        "colab": {
          "base_uri": "https://localhost:8080/"
        },
        "collapsed": true,
        "outputId": "ac14dcfc-4a24-49cb-f692-e225fe3a8d87"
      },
      "outputs": [
        {
          "output_type": "execute_result",
          "data": {
            "text/plain": [
              "{'MMM': 'Health Care',\n",
              " 'ABT': 'Health Care',\n",
              " 'ABBV': 'Health Care',\n",
              " 'ACN': 'Miscellaneous',\n",
              " 'AEB': 'Finance',\n",
              " 'AED': 'Finance',\n",
              " 'AEK': 'Finance',\n",
              " 'BABA': 'Miscellaneous',\n",
              " 'MO': 'Consumer Non-Durables',\n",
              " 'ABEV': 'Consumer Non-Durables',\n",
              " 'AXP': 'Finance',\n",
              " 'AIG': nan,\n",
              " 'BUD': 'Consumer Non-Durables',\n",
              " 'AZN': 'Health Care',\n",
              " 'T': 'Public Utilities',\n",
              " 'SAN': nan,\n",
              " 'BAC': 'Finance',\n",
              " 'BNS': 'Finance',\n",
              " 'BCS': 'Finance',\n",
              " 'BHP': 'Basic Industries',\n",
              " 'BBL': 'Energy',\n",
              " 'BLK': '1999',\n",
              " 'BA': 'Capital Goods',\n",
              " 'BP': 'Energy',\n",
              " 'BMY': 'Health Care',\n",
              " 'BT': 'Public Utilities',\n",
              " 'CX': 'Capital Goods',\n",
              " 'CVX': 'Energy',\n",
              " 'LFC': 'Finance',\n",
              " 'CHL': 'Public Utilities',\n",
              " 'SNP': 'Energy',\n",
              " 'C': 'Finance',\n",
              " 'CEO': 'Energy',\n",
              " 'KO': 'Consumer Non-Durables',\n",
              " 'CL': 'Consumer Non-Durables',\n",
              " 'CCV': 'Consumer Services',\n",
              " 'COP': 'Energy',\n",
              " 'CVS': 'Health Care',\n",
              " 'DHR': 'Capital Goods',\n",
              " 'DEO': 'Consumer Non-Durables',\n",
              " 'DOW': 'Basic Industries',\n",
              " 'DUK': 'Public Utilities',\n",
              " 'DD': 'Basic Industries',\n",
              " 'LLY': 'Health Care',\n",
              " 'EMC': 'Technology',\n",
              " 'E': 'Energy',\n",
              " 'EPD': 'Public Utilities',\n",
              " 'XOM': 'Energy',\n",
              " 'F': 'Capital Goods',\n",
              " 'GE': 'Energy',\n",
              " 'GSK': 'Health Care',\n",
              " 'GS': '1999',\n",
              " 'TV': 'Consumer Services',\n",
              " 'HDB': 'Finance',\n",
              " 'HD': nan,\n",
              " 'HON': 'Capital Goods',\n",
              " 'HSBC': nan,\n",
              " 'HSEA': nan,\n",
              " 'HSEB': nan,\n",
              " 'INZ': nan,\n",
              " 'ISF': nan,\n",
              " 'IBM': 'Technology',\n",
              " 'ITUB': 'Finance',\n",
              " 'JPM': 'Finance',\n",
              " 'JNJ': 'Health Care',\n",
              " 'LYG': 'Finance',\n",
              " 'LMT': 'Capital Goods',\n",
              " 'LOW': nan,\n",
              " 'MA': 'Miscellaneous',\n",
              " 'MCD': 'Consumer Services',\n",
              " 'MDT': nan,\n",
              " 'MRK': nan,\n",
              " 'MTU': 'Finance',\n",
              " 'MS': 'Finance',\n",
              " 'NGG': nan,\n",
              " 'NEE': nan,\n",
              " 'NKE': nan,\n",
              " 'NTT': 'Public Utilities',\n",
              " 'NVS': 'Health Care',\n",
              " 'NVO': 'Health Care',\n",
              " 'DCM': nan,\n",
              " 'OXY': 'Energy',\n",
              " 'ORCL': 'Technology',\n",
              " 'PEP': nan,\n",
              " 'PTR': 'Energy',\n",
              " 'PFE': nan,\n",
              " 'PM': 'Consumer Non-Durables',\n",
              " 'PG': 'Basic Industries',\n",
              " 'RAI': 'Consumer Non-Durables',\n",
              " 'RIO': 'Basic Industries',\n",
              " 'RY': 'Finance',\n",
              " 'SNY': 'Health Care',\n",
              " 'SAP': 'Technology',\n",
              " 'SLB': 'Energy',\n",
              " 'SPG': nan,\n",
              " 'STO': 'Energy',\n",
              " 'TSM': 'Technology',\n",
              " 'TEF': 'Public Utilities',\n",
              " 'TMO': 'Capital Goods',\n",
              " 'TWC': 'Consumer Services',\n",
              " 'TWX': 'Consumer Services',\n",
              " 'TJX': nan,\n",
              " 'TD': 'Finance',\n",
              " 'TOT': nan,\n",
              " 'TM': 'Capital Goods',\n",
              " 'USB': 'Finance',\n",
              " 'UBS': 'Finance',\n",
              " 'UN': 'Basic Industries',\n",
              " 'UL': 'Basic Industries',\n",
              " 'UNP': 'Transportation',\n",
              " 'UPS': '1999',\n",
              " 'UTX': 'Capital Goods',\n",
              " 'UNH': 'Health Care',\n",
              " 'VZ': 'Public Utilities',\n",
              " 'VZA': 'Public Utilities',\n",
              " 'V': 'Miscellaneous',\n",
              " 'WMT': nan,\n",
              " 'DIS': 'Consumer Services',\n",
              " 'WFC': 'Finance',\n",
              " 'WBK': 'Finance'}"
            ]
          },
          "metadata": {},
          "execution_count": 10
        }
      ],
      "source": [
        "# Here you could refactor the sector dictionary like this:\n",
        "sd = {k:v for k,v in zip(stocks.Ticker, stocks.Sector)}\n",
        "\n",
        "sd"
      ]
    },
    {
      "cell_type": "markdown",
      "metadata": {
        "id": "KzbUTH-ekyze"
      },
      "source": [
        "### Retrieving historical data\n",
        "\n",
        "Ticker by ticker, we download the historical data from Yahoo! Finance.\n",
        "The cell below will take time to run.\n",
        "\n",
        "Example: `AEK` is not listed anymore, while `BABA` is in the NSYE top-cap only since Sep. 2014.\n"
      ]
    },
    {
      "cell_type": "code",
      "execution_count": 13,
      "metadata": {
        "id": "OgTyV3Xmkyzf",
        "colab": {
          "base_uri": "https://localhost:8080/"
        },
        "collapsed": true,
        "outputId": "8eba5c70-5c6b-453e-efce-5f85a02edc09"
      },
      "outputs": [
        {
          "output_type": "stream",
          "name": "stdout",
          "text": [
            "MMM\n"
          ]
        },
        {
          "output_type": "stream",
          "name": "stderr",
          "text": [
            "<ipython-input-13-578904359>:8: FutureWarning: YF.download() has changed argument auto_adjust default to True\n",
            "  dict_comp[s[0]] = yf.download((s[0]), start = \"2013-05-01\", end = \"2014-05-31\")\n",
            "[*********************100%***********************]  1 of 1 completed\n",
            "<ipython-input-13-578904359>:8: FutureWarning: YF.download() has changed argument auto_adjust default to True\n",
            "  dict_comp[s[0]] = yf.download((s[0]), start = \"2013-05-01\", end = \"2014-05-31\")\n"
          ]
        },
        {
          "output_type": "stream",
          "name": "stdout",
          "text": [
            "ABT\n"
          ]
        },
        {
          "output_type": "stream",
          "name": "stderr",
          "text": [
            "\r[*********************100%***********************]  1 of 1 completed\n",
            "<ipython-input-13-578904359>:8: FutureWarning: YF.download() has changed argument auto_adjust default to True\n",
            "  dict_comp[s[0]] = yf.download((s[0]), start = \"2013-05-01\", end = \"2014-05-31\")\n"
          ]
        },
        {
          "output_type": "stream",
          "name": "stdout",
          "text": [
            "ABBV\n"
          ]
        },
        {
          "output_type": "stream",
          "name": "stderr",
          "text": [
            "\r[*********************100%***********************]  1 of 1 completed\n",
            "<ipython-input-13-578904359>:8: FutureWarning: YF.download() has changed argument auto_adjust default to True\n",
            "  dict_comp[s[0]] = yf.download((s[0]), start = \"2013-05-01\", end = \"2014-05-31\")\n"
          ]
        },
        {
          "output_type": "stream",
          "name": "stdout",
          "text": [
            "ACN\n"
          ]
        },
        {
          "output_type": "stream",
          "name": "stderr",
          "text": [
            "\r[*********************100%***********************]  1 of 1 completed\n",
            "<ipython-input-13-578904359>:8: FutureWarning: YF.download() has changed argument auto_adjust default to True\n",
            "  dict_comp[s[0]] = yf.download((s[0]), start = \"2013-05-01\", end = \"2014-05-31\")\n"
          ]
        },
        {
          "output_type": "stream",
          "name": "stdout",
          "text": [
            "AEB\n"
          ]
        },
        {
          "output_type": "stream",
          "name": "stderr",
          "text": [
            "\r[*********************100%***********************]  1 of 1 completed\n",
            "<ipython-input-13-578904359>:8: FutureWarning: YF.download() has changed argument auto_adjust default to True\n",
            "  dict_comp[s[0]] = yf.download((s[0]), start = \"2013-05-01\", end = \"2014-05-31\")\n"
          ]
        },
        {
          "output_type": "stream",
          "name": "stdout",
          "text": [
            "AED\n"
          ]
        },
        {
          "output_type": "stream",
          "name": "stderr",
          "text": [
            "\r[*********************100%***********************]  1 of 1 completed\n",
            "<ipython-input-13-578904359>:8: FutureWarning: YF.download() has changed argument auto_adjust default to True\n",
            "  dict_comp[s[0]] = yf.download((s[0]), start = \"2013-05-01\", end = \"2014-05-31\")\n"
          ]
        },
        {
          "output_type": "stream",
          "name": "stdout",
          "text": [
            "AEK\n"
          ]
        },
        {
          "output_type": "stream",
          "name": "stderr",
          "text": [
            "\r[*********************100%***********************]  1 of 1 completed\n",
            "ERROR:yfinance:\n",
            "1 Failed download:\n",
            "ERROR:yfinance:['AEK']: YFTzMissingError('possibly delisted; no timezone found')\n",
            "<ipython-input-13-578904359>:8: FutureWarning: YF.download() has changed argument auto_adjust default to True\n",
            "  dict_comp[s[0]] = yf.download((s[0]), start = \"2013-05-01\", end = \"2014-05-31\")\n"
          ]
        },
        {
          "output_type": "stream",
          "name": "stdout",
          "text": [
            "BABA\n"
          ]
        },
        {
          "output_type": "stream",
          "name": "stderr",
          "text": [
            "\r[*********************100%***********************]  1 of 1 completed\n",
            "ERROR:yfinance:\n",
            "1 Failed download:\n",
            "ERROR:yfinance:['BABA']: YFPricesMissingError('possibly delisted; no price data found  (1d 2013-05-01 -> 2014-05-31) (Yahoo error = \"Data doesn\\'t exist for startDate = 1367380800, endDate = 1401508800\")')\n",
            "<ipython-input-13-578904359>:8: FutureWarning: YF.download() has changed argument auto_adjust default to True\n",
            "  dict_comp[s[0]] = yf.download((s[0]), start = \"2013-05-01\", end = \"2014-05-31\")\n"
          ]
        },
        {
          "output_type": "stream",
          "name": "stdout",
          "text": [
            "MO\n"
          ]
        },
        {
          "output_type": "stream",
          "name": "stderr",
          "text": [
            "\r[*********************100%***********************]  1 of 1 completed\n",
            "<ipython-input-13-578904359>:8: FutureWarning: YF.download() has changed argument auto_adjust default to True\n",
            "  dict_comp[s[0]] = yf.download((s[0]), start = \"2013-05-01\", end = \"2014-05-31\")\n"
          ]
        },
        {
          "output_type": "stream",
          "name": "stdout",
          "text": [
            "ABEV\n"
          ]
        },
        {
          "output_type": "stream",
          "name": "stderr",
          "text": [
            "\r[*********************100%***********************]  1 of 1 completed\n",
            "<ipython-input-13-578904359>:8: FutureWarning: YF.download() has changed argument auto_adjust default to True\n",
            "  dict_comp[s[0]] = yf.download((s[0]), start = \"2013-05-01\", end = \"2014-05-31\")\n"
          ]
        },
        {
          "output_type": "stream",
          "name": "stdout",
          "text": [
            "AXP\n"
          ]
        },
        {
          "output_type": "stream",
          "name": "stderr",
          "text": [
            "\r[*********************100%***********************]  1 of 1 completed\n",
            "<ipython-input-13-578904359>:8: FutureWarning: YF.download() has changed argument auto_adjust default to True\n",
            "  dict_comp[s[0]] = yf.download((s[0]), start = \"2013-05-01\", end = \"2014-05-31\")\n"
          ]
        },
        {
          "output_type": "stream",
          "name": "stdout",
          "text": [
            "AIG\n"
          ]
        },
        {
          "output_type": "stream",
          "name": "stderr",
          "text": [
            "\r[*********************100%***********************]  1 of 1 completed\n",
            "<ipython-input-13-578904359>:8: FutureWarning: YF.download() has changed argument auto_adjust default to True\n",
            "  dict_comp[s[0]] = yf.download((s[0]), start = \"2013-05-01\", end = \"2014-05-31\")\n"
          ]
        },
        {
          "output_type": "stream",
          "name": "stdout",
          "text": [
            "BUD\n"
          ]
        },
        {
          "output_type": "stream",
          "name": "stderr",
          "text": [
            "\r[*********************100%***********************]  1 of 1 completed\n",
            "<ipython-input-13-578904359>:8: FutureWarning: YF.download() has changed argument auto_adjust default to True\n",
            "  dict_comp[s[0]] = yf.download((s[0]), start = \"2013-05-01\", end = \"2014-05-31\")\n"
          ]
        },
        {
          "output_type": "stream",
          "name": "stdout",
          "text": [
            "AZN\n"
          ]
        },
        {
          "output_type": "stream",
          "name": "stderr",
          "text": [
            "\r[*********************100%***********************]  1 of 1 completed\n",
            "<ipython-input-13-578904359>:8: FutureWarning: YF.download() has changed argument auto_adjust default to True\n",
            "  dict_comp[s[0]] = yf.download((s[0]), start = \"2013-05-01\", end = \"2014-05-31\")\n"
          ]
        },
        {
          "output_type": "stream",
          "name": "stdout",
          "text": [
            "T\n"
          ]
        },
        {
          "output_type": "stream",
          "name": "stderr",
          "text": [
            "\r[*********************100%***********************]  1 of 1 completed\n",
            "<ipython-input-13-578904359>:8: FutureWarning: YF.download() has changed argument auto_adjust default to True\n",
            "  dict_comp[s[0]] = yf.download((s[0]), start = \"2013-05-01\", end = \"2014-05-31\")\n"
          ]
        },
        {
          "output_type": "stream",
          "name": "stdout",
          "text": [
            "SAN\n"
          ]
        },
        {
          "output_type": "stream",
          "name": "stderr",
          "text": [
            "\r[*********************100%***********************]  1 of 1 completed\n",
            "<ipython-input-13-578904359>:8: FutureWarning: YF.download() has changed argument auto_adjust default to True\n",
            "  dict_comp[s[0]] = yf.download((s[0]), start = \"2013-05-01\", end = \"2014-05-31\")\n"
          ]
        },
        {
          "output_type": "stream",
          "name": "stdout",
          "text": [
            "BAC\n"
          ]
        },
        {
          "output_type": "stream",
          "name": "stderr",
          "text": [
            "\r[*********************100%***********************]  1 of 1 completed\n",
            "<ipython-input-13-578904359>:8: FutureWarning: YF.download() has changed argument auto_adjust default to True\n",
            "  dict_comp[s[0]] = yf.download((s[0]), start = \"2013-05-01\", end = \"2014-05-31\")\n"
          ]
        },
        {
          "output_type": "stream",
          "name": "stdout",
          "text": [
            "BNS\n"
          ]
        },
        {
          "output_type": "stream",
          "name": "stderr",
          "text": [
            "\r[*********************100%***********************]  1 of 1 completed\n",
            "<ipython-input-13-578904359>:8: FutureWarning: YF.download() has changed argument auto_adjust default to True\n",
            "  dict_comp[s[0]] = yf.download((s[0]), start = \"2013-05-01\", end = \"2014-05-31\")\n"
          ]
        },
        {
          "output_type": "stream",
          "name": "stdout",
          "text": [
            "BCS\n"
          ]
        },
        {
          "output_type": "stream",
          "name": "stderr",
          "text": [
            "\r[*********************100%***********************]  1 of 1 completed\n",
            "<ipython-input-13-578904359>:8: FutureWarning: YF.download() has changed argument auto_adjust default to True\n",
            "  dict_comp[s[0]] = yf.download((s[0]), start = \"2013-05-01\", end = \"2014-05-31\")\n"
          ]
        },
        {
          "output_type": "stream",
          "name": "stdout",
          "text": [
            "BHP\n"
          ]
        },
        {
          "output_type": "stream",
          "name": "stderr",
          "text": [
            "\r[*********************100%***********************]  1 of 1 completed\n",
            "<ipython-input-13-578904359>:8: FutureWarning: YF.download() has changed argument auto_adjust default to True\n",
            "  dict_comp[s[0]] = yf.download((s[0]), start = \"2013-05-01\", end = \"2014-05-31\")\n"
          ]
        },
        {
          "output_type": "stream",
          "name": "stdout",
          "text": [
            "BBL\n"
          ]
        },
        {
          "output_type": "stream",
          "name": "stderr",
          "text": [
            "\r[*********************100%***********************]  1 of 1 completed\n",
            "ERROR:yfinance:\n",
            "1 Failed download:\n",
            "ERROR:yfinance:['BBL']: YFTzMissingError('possibly delisted; no timezone found')\n",
            "<ipython-input-13-578904359>:8: FutureWarning: YF.download() has changed argument auto_adjust default to True\n",
            "  dict_comp[s[0]] = yf.download((s[0]), start = \"2013-05-01\", end = \"2014-05-31\")\n"
          ]
        },
        {
          "output_type": "stream",
          "name": "stdout",
          "text": [
            "BLK\n"
          ]
        },
        {
          "output_type": "stream",
          "name": "stderr",
          "text": [
            "\r[*********************100%***********************]  1 of 1 completed\n",
            "<ipython-input-13-578904359>:8: FutureWarning: YF.download() has changed argument auto_adjust default to True\n",
            "  dict_comp[s[0]] = yf.download((s[0]), start = \"2013-05-01\", end = \"2014-05-31\")\n"
          ]
        },
        {
          "output_type": "stream",
          "name": "stdout",
          "text": [
            "BA\n"
          ]
        },
        {
          "output_type": "stream",
          "name": "stderr",
          "text": [
            "\r[*********************100%***********************]  1 of 1 completed\n",
            "<ipython-input-13-578904359>:8: FutureWarning: YF.download() has changed argument auto_adjust default to True\n",
            "  dict_comp[s[0]] = yf.download((s[0]), start = \"2013-05-01\", end = \"2014-05-31\")\n"
          ]
        },
        {
          "output_type": "stream",
          "name": "stdout",
          "text": [
            "BP\n"
          ]
        },
        {
          "output_type": "stream",
          "name": "stderr",
          "text": [
            "\r[*********************100%***********************]  1 of 1 completed\n",
            "<ipython-input-13-578904359>:8: FutureWarning: YF.download() has changed argument auto_adjust default to True\n",
            "  dict_comp[s[0]] = yf.download((s[0]), start = \"2013-05-01\", end = \"2014-05-31\")\n"
          ]
        },
        {
          "output_type": "stream",
          "name": "stdout",
          "text": [
            "BMY\n"
          ]
        },
        {
          "output_type": "stream",
          "name": "stderr",
          "text": [
            "\r[*********************100%***********************]  1 of 1 completed\n",
            "<ipython-input-13-578904359>:8: FutureWarning: YF.download() has changed argument auto_adjust default to True\n",
            "  dict_comp[s[0]] = yf.download((s[0]), start = \"2013-05-01\", end = \"2014-05-31\")\n"
          ]
        },
        {
          "output_type": "stream",
          "name": "stdout",
          "text": [
            "BT\n"
          ]
        },
        {
          "output_type": "stream",
          "name": "stderr",
          "text": [
            "\r[*********************100%***********************]  1 of 1 completed\n",
            "ERROR:yfinance:\n",
            "1 Failed download:\n",
            "ERROR:yfinance:['BT']: YFTzMissingError('possibly delisted; no timezone found')\n",
            "<ipython-input-13-578904359>:8: FutureWarning: YF.download() has changed argument auto_adjust default to True\n",
            "  dict_comp[s[0]] = yf.download((s[0]), start = \"2013-05-01\", end = \"2014-05-31\")\n"
          ]
        },
        {
          "output_type": "stream",
          "name": "stdout",
          "text": [
            "CX\n"
          ]
        },
        {
          "output_type": "stream",
          "name": "stderr",
          "text": [
            "\r[*********************100%***********************]  1 of 1 completed\n",
            "<ipython-input-13-578904359>:8: FutureWarning: YF.download() has changed argument auto_adjust default to True\n",
            "  dict_comp[s[0]] = yf.download((s[0]), start = \"2013-05-01\", end = \"2014-05-31\")\n"
          ]
        },
        {
          "output_type": "stream",
          "name": "stdout",
          "text": [
            "CVX\n"
          ]
        },
        {
          "output_type": "stream",
          "name": "stderr",
          "text": [
            "\r[*********************100%***********************]  1 of 1 completed\n",
            "<ipython-input-13-578904359>:8: FutureWarning: YF.download() has changed argument auto_adjust default to True\n",
            "  dict_comp[s[0]] = yf.download((s[0]), start = \"2013-05-01\", end = \"2014-05-31\")\n"
          ]
        },
        {
          "output_type": "stream",
          "name": "stdout",
          "text": [
            "LFC\n"
          ]
        },
        {
          "output_type": "stream",
          "name": "stderr",
          "text": [
            "\r[*********************100%***********************]  1 of 1 completed\n",
            "ERROR:yfinance:\n",
            "1 Failed download:\n",
            "ERROR:yfinance:['LFC']: YFPricesMissingError('possibly delisted; no price data found  (1d 2013-05-01 -> 2014-05-31)')\n",
            "<ipython-input-13-578904359>:8: FutureWarning: YF.download() has changed argument auto_adjust default to True\n",
            "  dict_comp[s[0]] = yf.download((s[0]), start = \"2013-05-01\", end = \"2014-05-31\")\n"
          ]
        },
        {
          "output_type": "stream",
          "name": "stdout",
          "text": [
            "CHL\n"
          ]
        },
        {
          "output_type": "stream",
          "name": "stderr",
          "text": [
            "\r[*********************100%***********************]  1 of 1 completed\n",
            "ERROR:yfinance:\n",
            "1 Failed download:\n",
            "ERROR:yfinance:['CHL']: YFTzMissingError('possibly delisted; no timezone found')\n",
            "<ipython-input-13-578904359>:8: FutureWarning: YF.download() has changed argument auto_adjust default to True\n",
            "  dict_comp[s[0]] = yf.download((s[0]), start = \"2013-05-01\", end = \"2014-05-31\")\n"
          ]
        },
        {
          "output_type": "stream",
          "name": "stdout",
          "text": [
            "SNP\n"
          ]
        },
        {
          "output_type": "stream",
          "name": "stderr",
          "text": [
            "\r[*********************100%***********************]  1 of 1 completed\n",
            "ERROR:yfinance:\n",
            "1 Failed download:\n",
            "ERROR:yfinance:['SNP']: YFTzMissingError('possibly delisted; no timezone found')\n",
            "<ipython-input-13-578904359>:8: FutureWarning: YF.download() has changed argument auto_adjust default to True\n",
            "  dict_comp[s[0]] = yf.download((s[0]), start = \"2013-05-01\", end = \"2014-05-31\")\n"
          ]
        },
        {
          "output_type": "stream",
          "name": "stdout",
          "text": [
            "C\n"
          ]
        },
        {
          "output_type": "stream",
          "name": "stderr",
          "text": [
            "\r[*********************100%***********************]  1 of 1 completed\n",
            "<ipython-input-13-578904359>:8: FutureWarning: YF.download() has changed argument auto_adjust default to True\n",
            "  dict_comp[s[0]] = yf.download((s[0]), start = \"2013-05-01\", end = \"2014-05-31\")\n"
          ]
        },
        {
          "output_type": "stream",
          "name": "stdout",
          "text": [
            "CEO\n"
          ]
        },
        {
          "output_type": "stream",
          "name": "stderr",
          "text": [
            "\r[*********************100%***********************]  1 of 1 completed\n",
            "ERROR:yfinance:\n",
            "1 Failed download:\n",
            "ERROR:yfinance:['CEO']: YFTzMissingError('possibly delisted; no timezone found')\n",
            "<ipython-input-13-578904359>:8: FutureWarning: YF.download() has changed argument auto_adjust default to True\n",
            "  dict_comp[s[0]] = yf.download((s[0]), start = \"2013-05-01\", end = \"2014-05-31\")\n"
          ]
        },
        {
          "output_type": "stream",
          "name": "stdout",
          "text": [
            "KO\n"
          ]
        },
        {
          "output_type": "stream",
          "name": "stderr",
          "text": [
            "\r[*********************100%***********************]  1 of 1 completed\n",
            "<ipython-input-13-578904359>:8: FutureWarning: YF.download() has changed argument auto_adjust default to True\n",
            "  dict_comp[s[0]] = yf.download((s[0]), start = \"2013-05-01\", end = \"2014-05-31\")\n"
          ]
        },
        {
          "output_type": "stream",
          "name": "stdout",
          "text": [
            "CL\n"
          ]
        },
        {
          "output_type": "stream",
          "name": "stderr",
          "text": [
            "[*********************100%***********************]  1 of 1 completed\n",
            "<ipython-input-13-578904359>:8: FutureWarning: YF.download() has changed argument auto_adjust default to True\n",
            "  dict_comp[s[0]] = yf.download((s[0]), start = \"2013-05-01\", end = \"2014-05-31\")\n",
            "[*********************100%***********************]  1 of 1 completed\n",
            "ERROR:yfinance:\n",
            "1 Failed download:\n",
            "ERROR:yfinance:['CCV']: YFPricesMissingError('possibly delisted; no price data found  (1d 2013-05-01 -> 2014-05-31)')\n",
            "<ipython-input-13-578904359>:8: FutureWarning: YF.download() has changed argument auto_adjust default to True\n",
            "  dict_comp[s[0]] = yf.download((s[0]), start = \"2013-05-01\", end = \"2014-05-31\")\n"
          ]
        },
        {
          "output_type": "stream",
          "name": "stdout",
          "text": [
            "CCV\n",
            "COP\n"
          ]
        },
        {
          "output_type": "stream",
          "name": "stderr",
          "text": [
            "\r[*********************100%***********************]  1 of 1 completed\n",
            "<ipython-input-13-578904359>:8: FutureWarning: YF.download() has changed argument auto_adjust default to True\n",
            "  dict_comp[s[0]] = yf.download((s[0]), start = \"2013-05-01\", end = \"2014-05-31\")\n"
          ]
        },
        {
          "output_type": "stream",
          "name": "stdout",
          "text": [
            "CVS\n"
          ]
        },
        {
          "output_type": "stream",
          "name": "stderr",
          "text": [
            "\r[*********************100%***********************]  1 of 1 completed\n",
            "<ipython-input-13-578904359>:8: FutureWarning: YF.download() has changed argument auto_adjust default to True\n",
            "  dict_comp[s[0]] = yf.download((s[0]), start = \"2013-05-01\", end = \"2014-05-31\")\n"
          ]
        },
        {
          "output_type": "stream",
          "name": "stdout",
          "text": [
            "DHR\n"
          ]
        },
        {
          "output_type": "stream",
          "name": "stderr",
          "text": [
            "\r[*********************100%***********************]  1 of 1 completed\n",
            "<ipython-input-13-578904359>:8: FutureWarning: YF.download() has changed argument auto_adjust default to True\n",
            "  dict_comp[s[0]] = yf.download((s[0]), start = \"2013-05-01\", end = \"2014-05-31\")\n"
          ]
        },
        {
          "output_type": "stream",
          "name": "stdout",
          "text": [
            "DEO\n"
          ]
        },
        {
          "output_type": "stream",
          "name": "stderr",
          "text": [
            "\r[*********************100%***********************]  1 of 1 completed\n",
            "<ipython-input-13-578904359>:8: FutureWarning: YF.download() has changed argument auto_adjust default to True\n",
            "  dict_comp[s[0]] = yf.download((s[0]), start = \"2013-05-01\", end = \"2014-05-31\")\n"
          ]
        },
        {
          "output_type": "stream",
          "name": "stdout",
          "text": [
            "DOW\n"
          ]
        },
        {
          "output_type": "stream",
          "name": "stderr",
          "text": [
            "\r[*********************100%***********************]  1 of 1 completed\n",
            "ERROR:yfinance:\n",
            "1 Failed download:\n",
            "ERROR:yfinance:['DOW']: YFPricesMissingError('possibly delisted; no price data found  (1d 2013-05-01 -> 2014-05-31) (Yahoo error = \"Data doesn\\'t exist for startDate = 1367380800, endDate = 1401508800\")')\n",
            "<ipython-input-13-578904359>:8: FutureWarning: YF.download() has changed argument auto_adjust default to True\n",
            "  dict_comp[s[0]] = yf.download((s[0]), start = \"2013-05-01\", end = \"2014-05-31\")\n"
          ]
        },
        {
          "output_type": "stream",
          "name": "stdout",
          "text": [
            "DUK\n"
          ]
        },
        {
          "output_type": "stream",
          "name": "stderr",
          "text": [
            "\r[*********************100%***********************]  1 of 1 completed\n",
            "<ipython-input-13-578904359>:8: FutureWarning: YF.download() has changed argument auto_adjust default to True\n",
            "  dict_comp[s[0]] = yf.download((s[0]), start = \"2013-05-01\", end = \"2014-05-31\")\n"
          ]
        },
        {
          "output_type": "stream",
          "name": "stdout",
          "text": [
            "DD\n"
          ]
        },
        {
          "output_type": "stream",
          "name": "stderr",
          "text": [
            "\r[*********************100%***********************]  1 of 1 completed\n",
            "<ipython-input-13-578904359>:8: FutureWarning: YF.download() has changed argument auto_adjust default to True\n",
            "  dict_comp[s[0]] = yf.download((s[0]), start = \"2013-05-01\", end = \"2014-05-31\")\n"
          ]
        },
        {
          "output_type": "stream",
          "name": "stdout",
          "text": [
            "LLY\n"
          ]
        },
        {
          "output_type": "stream",
          "name": "stderr",
          "text": [
            "\r[*********************100%***********************]  1 of 1 completed\n",
            "<ipython-input-13-578904359>:8: FutureWarning: YF.download() has changed argument auto_adjust default to True\n",
            "  dict_comp[s[0]] = yf.download((s[0]), start = \"2013-05-01\", end = \"2014-05-31\")\n"
          ]
        },
        {
          "output_type": "stream",
          "name": "stdout",
          "text": [
            "EMC\n"
          ]
        },
        {
          "output_type": "stream",
          "name": "stderr",
          "text": [
            "\r[*********************100%***********************]  1 of 1 completed\n",
            "ERROR:yfinance:\n",
            "1 Failed download:\n",
            "ERROR:yfinance:['EMC']: YFPricesMissingError('possibly delisted; no price data found  (1d 2013-05-01 -> 2014-05-31) (Yahoo error = \"Data doesn\\'t exist for startDate = 1367380800, endDate = 1401508800\")')\n",
            "<ipython-input-13-578904359>:8: FutureWarning: YF.download() has changed argument auto_adjust default to True\n",
            "  dict_comp[s[0]] = yf.download((s[0]), start = \"2013-05-01\", end = \"2014-05-31\")\n"
          ]
        },
        {
          "output_type": "stream",
          "name": "stdout",
          "text": [
            "E\n"
          ]
        },
        {
          "output_type": "stream",
          "name": "stderr",
          "text": [
            "\r[*********************100%***********************]  1 of 1 completed\n",
            "<ipython-input-13-578904359>:8: FutureWarning: YF.download() has changed argument auto_adjust default to True\n",
            "  dict_comp[s[0]] = yf.download((s[0]), start = \"2013-05-01\", end = \"2014-05-31\")\n"
          ]
        },
        {
          "output_type": "stream",
          "name": "stdout",
          "text": [
            "EPD\n"
          ]
        },
        {
          "output_type": "stream",
          "name": "stderr",
          "text": [
            "\r[*********************100%***********************]  1 of 1 completed\n",
            "<ipython-input-13-578904359>:8: FutureWarning: YF.download() has changed argument auto_adjust default to True\n",
            "  dict_comp[s[0]] = yf.download((s[0]), start = \"2013-05-01\", end = \"2014-05-31\")\n"
          ]
        },
        {
          "output_type": "stream",
          "name": "stdout",
          "text": [
            "XOM\n"
          ]
        },
        {
          "output_type": "stream",
          "name": "stderr",
          "text": [
            "\r[*********************100%***********************]  1 of 1 completed\n",
            "<ipython-input-13-578904359>:8: FutureWarning: YF.download() has changed argument auto_adjust default to True\n",
            "  dict_comp[s[0]] = yf.download((s[0]), start = \"2013-05-01\", end = \"2014-05-31\")\n"
          ]
        },
        {
          "output_type": "stream",
          "name": "stdout",
          "text": [
            "F\n"
          ]
        },
        {
          "output_type": "stream",
          "name": "stderr",
          "text": [
            "\r[*********************100%***********************]  1 of 1 completed\n",
            "<ipython-input-13-578904359>:8: FutureWarning: YF.download() has changed argument auto_adjust default to True\n",
            "  dict_comp[s[0]] = yf.download((s[0]), start = \"2013-05-01\", end = \"2014-05-31\")\n"
          ]
        },
        {
          "output_type": "stream",
          "name": "stdout",
          "text": [
            "GE\n"
          ]
        },
        {
          "output_type": "stream",
          "name": "stderr",
          "text": [
            "\r[*********************100%***********************]  1 of 1 completed\n",
            "<ipython-input-13-578904359>:8: FutureWarning: YF.download() has changed argument auto_adjust default to True\n",
            "  dict_comp[s[0]] = yf.download((s[0]), start = \"2013-05-01\", end = \"2014-05-31\")\n"
          ]
        },
        {
          "output_type": "stream",
          "name": "stdout",
          "text": [
            "GSK\n"
          ]
        },
        {
          "output_type": "stream",
          "name": "stderr",
          "text": [
            "\r[*********************100%***********************]  1 of 1 completed\n",
            "<ipython-input-13-578904359>:8: FutureWarning: YF.download() has changed argument auto_adjust default to True\n",
            "  dict_comp[s[0]] = yf.download((s[0]), start = \"2013-05-01\", end = \"2014-05-31\")\n"
          ]
        },
        {
          "output_type": "stream",
          "name": "stdout",
          "text": [
            "GS\n"
          ]
        },
        {
          "output_type": "stream",
          "name": "stderr",
          "text": [
            "\r[*********************100%***********************]  1 of 1 completed\n",
            "<ipython-input-13-578904359>:8: FutureWarning: YF.download() has changed argument auto_adjust default to True\n",
            "  dict_comp[s[0]] = yf.download((s[0]), start = \"2013-05-01\", end = \"2014-05-31\")\n"
          ]
        },
        {
          "output_type": "stream",
          "name": "stdout",
          "text": [
            "TV\n"
          ]
        },
        {
          "output_type": "stream",
          "name": "stderr",
          "text": [
            "\r[*********************100%***********************]  1 of 1 completed\n",
            "<ipython-input-13-578904359>:8: FutureWarning: YF.download() has changed argument auto_adjust default to True\n",
            "  dict_comp[s[0]] = yf.download((s[0]), start = \"2013-05-01\", end = \"2014-05-31\")\n"
          ]
        },
        {
          "output_type": "stream",
          "name": "stdout",
          "text": [
            "HDB\n"
          ]
        },
        {
          "output_type": "stream",
          "name": "stderr",
          "text": [
            "\r[*********************100%***********************]  1 of 1 completed\n",
            "<ipython-input-13-578904359>:8: FutureWarning: YF.download() has changed argument auto_adjust default to True\n",
            "  dict_comp[s[0]] = yf.download((s[0]), start = \"2013-05-01\", end = \"2014-05-31\")\n"
          ]
        },
        {
          "output_type": "stream",
          "name": "stdout",
          "text": [
            "HD\n"
          ]
        },
        {
          "output_type": "stream",
          "name": "stderr",
          "text": [
            "\r[*********************100%***********************]  1 of 1 completed\n",
            "<ipython-input-13-578904359>:8: FutureWarning: YF.download() has changed argument auto_adjust default to True\n",
            "  dict_comp[s[0]] = yf.download((s[0]), start = \"2013-05-01\", end = \"2014-05-31\")\n"
          ]
        },
        {
          "output_type": "stream",
          "name": "stdout",
          "text": [
            "HON\n"
          ]
        },
        {
          "output_type": "stream",
          "name": "stderr",
          "text": [
            "\r[*********************100%***********************]  1 of 1 completed\n",
            "<ipython-input-13-578904359>:8: FutureWarning: YF.download() has changed argument auto_adjust default to True\n",
            "  dict_comp[s[0]] = yf.download((s[0]), start = \"2013-05-01\", end = \"2014-05-31\")\n"
          ]
        },
        {
          "output_type": "stream",
          "name": "stdout",
          "text": [
            "HSBC\n"
          ]
        },
        {
          "output_type": "stream",
          "name": "stderr",
          "text": [
            "[*********************100%***********************]  1 of 1 completed\n",
            "<ipython-input-13-578904359>:8: FutureWarning: YF.download() has changed argument auto_adjust default to True\n",
            "  dict_comp[s[0]] = yf.download((s[0]), start = \"2013-05-01\", end = \"2014-05-31\")\n",
            "[*********************100%***********************]  1 of 1 completed\n",
            "ERROR:yfinance:\n",
            "1 Failed download:\n",
            "ERROR:yfinance:['HSEA']: YFPricesMissingError('possibly delisted; no price data found  (1d 2013-05-01 -> 2014-05-31)')\n",
            "<ipython-input-13-578904359>:8: FutureWarning: YF.download() has changed argument auto_adjust default to True\n",
            "  dict_comp[s[0]] = yf.download((s[0]), start = \"2013-05-01\", end = \"2014-05-31\")\n"
          ]
        },
        {
          "output_type": "stream",
          "name": "stdout",
          "text": [
            "HSEA\n",
            "HSEB\n"
          ]
        },
        {
          "output_type": "stream",
          "name": "stderr",
          "text": [
            "\r[*********************100%***********************]  1 of 1 completed\n",
            "<ipython-input-13-578904359>:8: FutureWarning: YF.download() has changed argument auto_adjust default to True\n",
            "  dict_comp[s[0]] = yf.download((s[0]), start = \"2013-05-01\", end = \"2014-05-31\")\n"
          ]
        },
        {
          "output_type": "stream",
          "name": "stdout",
          "text": [
            "INZ\n"
          ]
        },
        {
          "output_type": "stream",
          "name": "stderr",
          "text": [
            "\r[*********************100%***********************]  1 of 1 completed\n",
            "ERROR:yfinance:\n",
            "1 Failed download:\n",
            "ERROR:yfinance:['INZ']: YFPricesMissingError('possibly delisted; no price data found  (1d 2013-05-01 -> 2014-05-31)')\n",
            "<ipython-input-13-578904359>:8: FutureWarning: YF.download() has changed argument auto_adjust default to True\n",
            "  dict_comp[s[0]] = yf.download((s[0]), start = \"2013-05-01\", end = \"2014-05-31\")\n"
          ]
        },
        {
          "output_type": "stream",
          "name": "stdout",
          "text": [
            "ISF\n"
          ]
        },
        {
          "output_type": "stream",
          "name": "stderr",
          "text": [
            "\r[*********************100%***********************]  1 of 1 completed\n",
            "ERROR:yfinance:\n",
            "1 Failed download:\n",
            "ERROR:yfinance:['ISF']: YFTzMissingError('possibly delisted; no timezone found')\n",
            "<ipython-input-13-578904359>:8: FutureWarning: YF.download() has changed argument auto_adjust default to True\n",
            "  dict_comp[s[0]] = yf.download((s[0]), start = \"2013-05-01\", end = \"2014-05-31\")\n"
          ]
        },
        {
          "output_type": "stream",
          "name": "stdout",
          "text": [
            "IBM\n"
          ]
        },
        {
          "output_type": "stream",
          "name": "stderr",
          "text": [
            "\r[*********************100%***********************]  1 of 1 completed\n",
            "<ipython-input-13-578904359>:8: FutureWarning: YF.download() has changed argument auto_adjust default to True\n",
            "  dict_comp[s[0]] = yf.download((s[0]), start = \"2013-05-01\", end = \"2014-05-31\")\n"
          ]
        },
        {
          "output_type": "stream",
          "name": "stdout",
          "text": [
            "ITUB\n"
          ]
        },
        {
          "output_type": "stream",
          "name": "stderr",
          "text": [
            "\r[*********************100%***********************]  1 of 1 completed\n",
            "<ipython-input-13-578904359>:8: FutureWarning: YF.download() has changed argument auto_adjust default to True\n",
            "  dict_comp[s[0]] = yf.download((s[0]), start = \"2013-05-01\", end = \"2014-05-31\")\n"
          ]
        },
        {
          "output_type": "stream",
          "name": "stdout",
          "text": [
            "JPM\n"
          ]
        },
        {
          "output_type": "stream",
          "name": "stderr",
          "text": [
            "\r[*********************100%***********************]  1 of 1 completed\n",
            "<ipython-input-13-578904359>:8: FutureWarning: YF.download() has changed argument auto_adjust default to True\n",
            "  dict_comp[s[0]] = yf.download((s[0]), start = \"2013-05-01\", end = \"2014-05-31\")\n"
          ]
        },
        {
          "output_type": "stream",
          "name": "stdout",
          "text": [
            "JNJ\n"
          ]
        },
        {
          "output_type": "stream",
          "name": "stderr",
          "text": [
            "\r[*********************100%***********************]  1 of 1 completed\n",
            "<ipython-input-13-578904359>:8: FutureWarning: YF.download() has changed argument auto_adjust default to True\n",
            "  dict_comp[s[0]] = yf.download((s[0]), start = \"2013-05-01\", end = \"2014-05-31\")\n"
          ]
        },
        {
          "output_type": "stream",
          "name": "stdout",
          "text": [
            "LYG\n"
          ]
        },
        {
          "output_type": "stream",
          "name": "stderr",
          "text": [
            "\r[*********************100%***********************]  1 of 1 completed\n",
            "<ipython-input-13-578904359>:8: FutureWarning: YF.download() has changed argument auto_adjust default to True\n",
            "  dict_comp[s[0]] = yf.download((s[0]), start = \"2013-05-01\", end = \"2014-05-31\")\n"
          ]
        },
        {
          "output_type": "stream",
          "name": "stdout",
          "text": [
            "LMT\n"
          ]
        },
        {
          "output_type": "stream",
          "name": "stderr",
          "text": [
            "\r[*********************100%***********************]  1 of 1 completed\n",
            "<ipython-input-13-578904359>:8: FutureWarning: YF.download() has changed argument auto_adjust default to True\n",
            "  dict_comp[s[0]] = yf.download((s[0]), start = \"2013-05-01\", end = \"2014-05-31\")\n"
          ]
        },
        {
          "output_type": "stream",
          "name": "stdout",
          "text": [
            "LOW\n"
          ]
        },
        {
          "output_type": "stream",
          "name": "stderr",
          "text": [
            "\r[*********************100%***********************]  1 of 1 completed\n",
            "<ipython-input-13-578904359>:8: FutureWarning: YF.download() has changed argument auto_adjust default to True\n",
            "  dict_comp[s[0]] = yf.download((s[0]), start = \"2013-05-01\", end = \"2014-05-31\")\n"
          ]
        },
        {
          "output_type": "stream",
          "name": "stdout",
          "text": [
            "MA\n"
          ]
        },
        {
          "output_type": "stream",
          "name": "stderr",
          "text": [
            "\r[*********************100%***********************]  1 of 1 completed\n",
            "<ipython-input-13-578904359>:8: FutureWarning: YF.download() has changed argument auto_adjust default to True\n",
            "  dict_comp[s[0]] = yf.download((s[0]), start = \"2013-05-01\", end = \"2014-05-31\")\n"
          ]
        },
        {
          "output_type": "stream",
          "name": "stdout",
          "text": [
            "MCD\n"
          ]
        },
        {
          "output_type": "stream",
          "name": "stderr",
          "text": [
            "\r[*********************100%***********************]  1 of 1 completed\n",
            "<ipython-input-13-578904359>:8: FutureWarning: YF.download() has changed argument auto_adjust default to True\n",
            "  dict_comp[s[0]] = yf.download((s[0]), start = \"2013-05-01\", end = \"2014-05-31\")\n"
          ]
        },
        {
          "output_type": "stream",
          "name": "stdout",
          "text": [
            "MDT\n"
          ]
        },
        {
          "output_type": "stream",
          "name": "stderr",
          "text": [
            "\r[*********************100%***********************]  1 of 1 completed\n",
            "<ipython-input-13-578904359>:8: FutureWarning: YF.download() has changed argument auto_adjust default to True\n",
            "  dict_comp[s[0]] = yf.download((s[0]), start = \"2013-05-01\", end = \"2014-05-31\")\n"
          ]
        },
        {
          "output_type": "stream",
          "name": "stdout",
          "text": [
            "MRK\n"
          ]
        },
        {
          "output_type": "stream",
          "name": "stderr",
          "text": [
            "[*********************100%***********************]  1 of 1 completed\n",
            "<ipython-input-13-578904359>:8: FutureWarning: YF.download() has changed argument auto_adjust default to True\n",
            "  dict_comp[s[0]] = yf.download((s[0]), start = \"2013-05-01\", end = \"2014-05-31\")\n",
            "[*********************100%***********************]  1 of 1 completed\n",
            "ERROR:yfinance:\n",
            "1 Failed download:\n",
            "ERROR:yfinance:['MTU']: YFPricesMissingError('possibly delisted; no price data found  (1d 2013-05-01 -> 2014-05-31)')\n",
            "<ipython-input-13-578904359>:8: FutureWarning: YF.download() has changed argument auto_adjust default to True\n",
            "  dict_comp[s[0]] = yf.download((s[0]), start = \"2013-05-01\", end = \"2014-05-31\")\n"
          ]
        },
        {
          "output_type": "stream",
          "name": "stdout",
          "text": [
            "MTU\n",
            "MS\n"
          ]
        },
        {
          "output_type": "stream",
          "name": "stderr",
          "text": [
            "\r[*********************100%***********************]  1 of 1 completed\n",
            "<ipython-input-13-578904359>:8: FutureWarning: YF.download() has changed argument auto_adjust default to True\n",
            "  dict_comp[s[0]] = yf.download((s[0]), start = \"2013-05-01\", end = \"2014-05-31\")\n"
          ]
        },
        {
          "output_type": "stream",
          "name": "stdout",
          "text": [
            "NGG\n"
          ]
        },
        {
          "output_type": "stream",
          "name": "stderr",
          "text": [
            "\r[*********************100%***********************]  1 of 1 completed\n",
            "<ipython-input-13-578904359>:8: FutureWarning: YF.download() has changed argument auto_adjust default to True\n",
            "  dict_comp[s[0]] = yf.download((s[0]), start = \"2013-05-01\", end = \"2014-05-31\")\n"
          ]
        },
        {
          "output_type": "stream",
          "name": "stdout",
          "text": [
            "NEE\n"
          ]
        },
        {
          "output_type": "stream",
          "name": "stderr",
          "text": [
            "\r[*********************100%***********************]  1 of 1 completed\n",
            "<ipython-input-13-578904359>:8: FutureWarning: YF.download() has changed argument auto_adjust default to True\n",
            "  dict_comp[s[0]] = yf.download((s[0]), start = \"2013-05-01\", end = \"2014-05-31\")\n"
          ]
        },
        {
          "output_type": "stream",
          "name": "stdout",
          "text": [
            "NKE\n"
          ]
        },
        {
          "output_type": "stream",
          "name": "stderr",
          "text": [
            "[*********************100%***********************]  1 of 1 completed\n",
            "<ipython-input-13-578904359>:8: FutureWarning: YF.download() has changed argument auto_adjust default to True\n",
            "  dict_comp[s[0]] = yf.download((s[0]), start = \"2013-05-01\", end = \"2014-05-31\")\n",
            "[*********************100%***********************]  1 of 1 completed\n",
            "ERROR:yfinance:\n",
            "1 Failed download:\n",
            "ERROR:yfinance:['NTT']: YFPricesMissingError('possibly delisted; no price data found  (1d 2013-05-01 -> 2014-05-31)')\n",
            "<ipython-input-13-578904359>:8: FutureWarning: YF.download() has changed argument auto_adjust default to True\n",
            "  dict_comp[s[0]] = yf.download((s[0]), start = \"2013-05-01\", end = \"2014-05-31\")\n"
          ]
        },
        {
          "output_type": "stream",
          "name": "stdout",
          "text": [
            "NTT\n",
            "NVS\n"
          ]
        },
        {
          "output_type": "stream",
          "name": "stderr",
          "text": [
            "\r[*********************100%***********************]  1 of 1 completed\n",
            "<ipython-input-13-578904359>:8: FutureWarning: YF.download() has changed argument auto_adjust default to True\n",
            "  dict_comp[s[0]] = yf.download((s[0]), start = \"2013-05-01\", end = \"2014-05-31\")\n"
          ]
        },
        {
          "output_type": "stream",
          "name": "stdout",
          "text": [
            "NVO\n"
          ]
        },
        {
          "output_type": "stream",
          "name": "stderr",
          "text": [
            "\r[*********************100%***********************]  1 of 1 completed\n",
            "<ipython-input-13-578904359>:8: FutureWarning: YF.download() has changed argument auto_adjust default to True\n",
            "  dict_comp[s[0]] = yf.download((s[0]), start = \"2013-05-01\", end = \"2014-05-31\")\n"
          ]
        },
        {
          "output_type": "stream",
          "name": "stdout",
          "text": [
            "DCM\n"
          ]
        },
        {
          "output_type": "stream",
          "name": "stderr",
          "text": [
            "\r[*********************100%***********************]  1 of 1 completed\n",
            "ERROR:yfinance:\n",
            "1 Failed download:\n",
            "ERROR:yfinance:['DCM']: YFPricesMissingError('possibly delisted; no price data found  (1d 2013-05-01 -> 2014-05-31) (Yahoo error = \"Data doesn\\'t exist for startDate = 1367380800, endDate = 1401508800\")')\n",
            "<ipython-input-13-578904359>:8: FutureWarning: YF.download() has changed argument auto_adjust default to True\n",
            "  dict_comp[s[0]] = yf.download((s[0]), start = \"2013-05-01\", end = \"2014-05-31\")\n"
          ]
        },
        {
          "output_type": "stream",
          "name": "stdout",
          "text": [
            "OXY\n"
          ]
        },
        {
          "output_type": "stream",
          "name": "stderr",
          "text": [
            "\r[*********************100%***********************]  1 of 1 completed\n",
            "<ipython-input-13-578904359>:8: FutureWarning: YF.download() has changed argument auto_adjust default to True\n",
            "  dict_comp[s[0]] = yf.download((s[0]), start = \"2013-05-01\", end = \"2014-05-31\")\n"
          ]
        },
        {
          "output_type": "stream",
          "name": "stdout",
          "text": [
            "ORCL\n"
          ]
        },
        {
          "output_type": "stream",
          "name": "stderr",
          "text": [
            "\r[*********************100%***********************]  1 of 1 completed\n",
            "<ipython-input-13-578904359>:8: FutureWarning: YF.download() has changed argument auto_adjust default to True\n",
            "  dict_comp[s[0]] = yf.download((s[0]), start = \"2013-05-01\", end = \"2014-05-31\")\n"
          ]
        },
        {
          "output_type": "stream",
          "name": "stdout",
          "text": [
            "PEP\n"
          ]
        },
        {
          "output_type": "stream",
          "name": "stderr",
          "text": [
            "[*********************100%***********************]  1 of 1 completed\n",
            "<ipython-input-13-578904359>:8: FutureWarning: YF.download() has changed argument auto_adjust default to True\n",
            "  dict_comp[s[0]] = yf.download((s[0]), start = \"2013-05-01\", end = \"2014-05-31\")\n",
            "[*********************100%***********************]  1 of 1 completed\n",
            "ERROR:yfinance:\n",
            "1 Failed download:\n",
            "ERROR:yfinance:['PTR']: YFPricesMissingError('possibly delisted; no price data found  (1d 2013-05-01 -> 2014-05-31)')\n",
            "<ipython-input-13-578904359>:8: FutureWarning: YF.download() has changed argument auto_adjust default to True\n",
            "  dict_comp[s[0]] = yf.download((s[0]), start = \"2013-05-01\", end = \"2014-05-31\")\n"
          ]
        },
        {
          "output_type": "stream",
          "name": "stdout",
          "text": [
            "PTR\n",
            "PFE\n"
          ]
        },
        {
          "output_type": "stream",
          "name": "stderr",
          "text": [
            "\r[*********************100%***********************]  1 of 1 completed\n",
            "<ipython-input-13-578904359>:8: FutureWarning: YF.download() has changed argument auto_adjust default to True\n",
            "  dict_comp[s[0]] = yf.download((s[0]), start = \"2013-05-01\", end = \"2014-05-31\")\n"
          ]
        },
        {
          "output_type": "stream",
          "name": "stdout",
          "text": [
            "PM\n"
          ]
        },
        {
          "output_type": "stream",
          "name": "stderr",
          "text": [
            "\r[*********************100%***********************]  1 of 1 completed\n",
            "<ipython-input-13-578904359>:8: FutureWarning: YF.download() has changed argument auto_adjust default to True\n",
            "  dict_comp[s[0]] = yf.download((s[0]), start = \"2013-05-01\", end = \"2014-05-31\")\n"
          ]
        },
        {
          "output_type": "stream",
          "name": "stdout",
          "text": [
            "PG\n"
          ]
        },
        {
          "output_type": "stream",
          "name": "stderr",
          "text": [
            "[*********************100%***********************]  1 of 1 completed\n",
            "<ipython-input-13-578904359>:8: FutureWarning: YF.download() has changed argument auto_adjust default to True\n",
            "  dict_comp[s[0]] = yf.download((s[0]), start = \"2013-05-01\", end = \"2014-05-31\")\n",
            "[*********************100%***********************]  1 of 1 completed\n",
            "ERROR:yfinance:\n",
            "1 Failed download:\n",
            "ERROR:yfinance:['RAI']: YFPricesMissingError('possibly delisted; no price data found  (1d 2013-05-01 -> 2014-05-31)')\n",
            "<ipython-input-13-578904359>:8: FutureWarning: YF.download() has changed argument auto_adjust default to True\n",
            "  dict_comp[s[0]] = yf.download((s[0]), start = \"2013-05-01\", end = \"2014-05-31\")\n"
          ]
        },
        {
          "output_type": "stream",
          "name": "stdout",
          "text": [
            "RAI\n",
            "RIO\n"
          ]
        },
        {
          "output_type": "stream",
          "name": "stderr",
          "text": [
            "\r[*********************100%***********************]  1 of 1 completed\n",
            "<ipython-input-13-578904359>:8: FutureWarning: YF.download() has changed argument auto_adjust default to True\n",
            "  dict_comp[s[0]] = yf.download((s[0]), start = \"2013-05-01\", end = \"2014-05-31\")\n"
          ]
        },
        {
          "output_type": "stream",
          "name": "stdout",
          "text": [
            "RY\n"
          ]
        },
        {
          "output_type": "stream",
          "name": "stderr",
          "text": [
            "\r[*********************100%***********************]  1 of 1 completed\n",
            "<ipython-input-13-578904359>:8: FutureWarning: YF.download() has changed argument auto_adjust default to True\n",
            "  dict_comp[s[0]] = yf.download((s[0]), start = \"2013-05-01\", end = \"2014-05-31\")\n"
          ]
        },
        {
          "output_type": "stream",
          "name": "stdout",
          "text": [
            "SNY\n"
          ]
        },
        {
          "output_type": "stream",
          "name": "stderr",
          "text": [
            "\r[*********************100%***********************]  1 of 1 completed\n",
            "<ipython-input-13-578904359>:8: FutureWarning: YF.download() has changed argument auto_adjust default to True\n",
            "  dict_comp[s[0]] = yf.download((s[0]), start = \"2013-05-01\", end = \"2014-05-31\")\n"
          ]
        },
        {
          "output_type": "stream",
          "name": "stdout",
          "text": [
            "SAP\n"
          ]
        },
        {
          "output_type": "stream",
          "name": "stderr",
          "text": [
            "\r[*********************100%***********************]  1 of 1 completed\n",
            "<ipython-input-13-578904359>:8: FutureWarning: YF.download() has changed argument auto_adjust default to True\n",
            "  dict_comp[s[0]] = yf.download((s[0]), start = \"2013-05-01\", end = \"2014-05-31\")\n"
          ]
        },
        {
          "output_type": "stream",
          "name": "stdout",
          "text": [
            "SLB\n"
          ]
        },
        {
          "output_type": "stream",
          "name": "stderr",
          "text": [
            "\r[*********************100%***********************]  1 of 1 completed\n",
            "<ipython-input-13-578904359>:8: FutureWarning: YF.download() has changed argument auto_adjust default to True\n",
            "  dict_comp[s[0]] = yf.download((s[0]), start = \"2013-05-01\", end = \"2014-05-31\")\n"
          ]
        },
        {
          "output_type": "stream",
          "name": "stdout",
          "text": [
            "SPG\n"
          ]
        },
        {
          "output_type": "stream",
          "name": "stderr",
          "text": [
            "\r[*********************100%***********************]  1 of 1 completed\n",
            "<ipython-input-13-578904359>:8: FutureWarning: YF.download() has changed argument auto_adjust default to True\n",
            "  dict_comp[s[0]] = yf.download((s[0]), start = \"2013-05-01\", end = \"2014-05-31\")\n"
          ]
        },
        {
          "output_type": "stream",
          "name": "stdout",
          "text": [
            "STO\n"
          ]
        },
        {
          "output_type": "stream",
          "name": "stderr",
          "text": [
            "\r[*********************100%***********************]  1 of 1 completed\n",
            "ERROR:yfinance:\n",
            "1 Failed download:\n",
            "ERROR:yfinance:['STO']: YFPricesMissingError('possibly delisted; no price data found  (1d 2013-05-01 -> 2014-05-31)')\n",
            "<ipython-input-13-578904359>:8: FutureWarning: YF.download() has changed argument auto_adjust default to True\n",
            "  dict_comp[s[0]] = yf.download((s[0]), start = \"2013-05-01\", end = \"2014-05-31\")\n"
          ]
        },
        {
          "output_type": "stream",
          "name": "stdout",
          "text": [
            "TSM\n"
          ]
        },
        {
          "output_type": "stream",
          "name": "stderr",
          "text": [
            "\r[*********************100%***********************]  1 of 1 completed\n",
            "<ipython-input-13-578904359>:8: FutureWarning: YF.download() has changed argument auto_adjust default to True\n",
            "  dict_comp[s[0]] = yf.download((s[0]), start = \"2013-05-01\", end = \"2014-05-31\")\n"
          ]
        },
        {
          "output_type": "stream",
          "name": "stdout",
          "text": [
            "TEF\n"
          ]
        },
        {
          "output_type": "stream",
          "name": "stderr",
          "text": [
            "\r[*********************100%***********************]  1 of 1 completed\n",
            "<ipython-input-13-578904359>:8: FutureWarning: YF.download() has changed argument auto_adjust default to True\n",
            "  dict_comp[s[0]] = yf.download((s[0]), start = \"2013-05-01\", end = \"2014-05-31\")\n"
          ]
        },
        {
          "output_type": "stream",
          "name": "stdout",
          "text": [
            "TMO\n"
          ]
        },
        {
          "output_type": "stream",
          "name": "stderr",
          "text": [
            "\r[*********************100%***********************]  1 of 1 completed\n",
            "<ipython-input-13-578904359>:8: FutureWarning: YF.download() has changed argument auto_adjust default to True\n",
            "  dict_comp[s[0]] = yf.download((s[0]), start = \"2013-05-01\", end = \"2014-05-31\")\n"
          ]
        },
        {
          "output_type": "stream",
          "name": "stdout",
          "text": [
            "TWC\n"
          ]
        },
        {
          "output_type": "stream",
          "name": "stderr",
          "text": [
            "\r[*********************100%***********************]  1 of 1 completed\n",
            "ERROR:yfinance:\n",
            "1 Failed download:\n",
            "ERROR:yfinance:['TWC']: YFPricesMissingError('possibly delisted; no price data found  (1d 2013-05-01 -> 2014-05-31)')\n",
            "<ipython-input-13-578904359>:8: FutureWarning: YF.download() has changed argument auto_adjust default to True\n",
            "  dict_comp[s[0]] = yf.download((s[0]), start = \"2013-05-01\", end = \"2014-05-31\")\n"
          ]
        },
        {
          "output_type": "stream",
          "name": "stdout",
          "text": [
            "TWX\n"
          ]
        },
        {
          "output_type": "stream",
          "name": "stderr",
          "text": [
            "\r[*********************100%***********************]  1 of 1 completed\n",
            "ERROR:yfinance:\n",
            "1 Failed download:\n",
            "ERROR:yfinance:['TWX']: ValueError('Length mismatch: Expected axis has 2 elements, new values have 1 elements')\n",
            "<ipython-input-13-578904359>:8: FutureWarning: YF.download() has changed argument auto_adjust default to True\n",
            "  dict_comp[s[0]] = yf.download((s[0]), start = \"2013-05-01\", end = \"2014-05-31\")\n"
          ]
        },
        {
          "output_type": "stream",
          "name": "stdout",
          "text": [
            "TJX\n"
          ]
        },
        {
          "output_type": "stream",
          "name": "stderr",
          "text": [
            "\r[*********************100%***********************]  1 of 1 completed\n",
            "<ipython-input-13-578904359>:8: FutureWarning: YF.download() has changed argument auto_adjust default to True\n",
            "  dict_comp[s[0]] = yf.download((s[0]), start = \"2013-05-01\", end = \"2014-05-31\")\n"
          ]
        },
        {
          "output_type": "stream",
          "name": "stdout",
          "text": [
            "TD\n"
          ]
        },
        {
          "output_type": "stream",
          "name": "stderr",
          "text": [
            "\r[*********************100%***********************]  1 of 1 completed\n",
            "<ipython-input-13-578904359>:8: FutureWarning: YF.download() has changed argument auto_adjust default to True\n",
            "  dict_comp[s[0]] = yf.download((s[0]), start = \"2013-05-01\", end = \"2014-05-31\")\n"
          ]
        },
        {
          "output_type": "stream",
          "name": "stdout",
          "text": [
            "TOT\n"
          ]
        },
        {
          "output_type": "stream",
          "name": "stderr",
          "text": [
            "\r[*********************100%***********************]  1 of 1 completed\n",
            "ERROR:yfinance:\n",
            "1 Failed download:\n",
            "ERROR:yfinance:['TOT']: YFTzMissingError('possibly delisted; no timezone found')\n",
            "<ipython-input-13-578904359>:8: FutureWarning: YF.download() has changed argument auto_adjust default to True\n",
            "  dict_comp[s[0]] = yf.download((s[0]), start = \"2013-05-01\", end = \"2014-05-31\")\n"
          ]
        },
        {
          "output_type": "stream",
          "name": "stdout",
          "text": [
            "TM\n"
          ]
        },
        {
          "output_type": "stream",
          "name": "stderr",
          "text": [
            "\r[*********************100%***********************]  1 of 1 completed\n",
            "<ipython-input-13-578904359>:8: FutureWarning: YF.download() has changed argument auto_adjust default to True\n",
            "  dict_comp[s[0]] = yf.download((s[0]), start = \"2013-05-01\", end = \"2014-05-31\")\n"
          ]
        },
        {
          "output_type": "stream",
          "name": "stdout",
          "text": [
            "USB\n"
          ]
        },
        {
          "output_type": "stream",
          "name": "stderr",
          "text": [
            "\r[*********************100%***********************]  1 of 1 completed\n",
            "<ipython-input-13-578904359>:8: FutureWarning: YF.download() has changed argument auto_adjust default to True\n",
            "  dict_comp[s[0]] = yf.download((s[0]), start = \"2013-05-01\", end = \"2014-05-31\")\n"
          ]
        },
        {
          "output_type": "stream",
          "name": "stdout",
          "text": [
            "UBS\n"
          ]
        },
        {
          "output_type": "stream",
          "name": "stderr",
          "text": [
            "\r[*********************100%***********************]  1 of 1 completed\n",
            "<ipython-input-13-578904359>:8: FutureWarning: YF.download() has changed argument auto_adjust default to True\n",
            "  dict_comp[s[0]] = yf.download((s[0]), start = \"2013-05-01\", end = \"2014-05-31\")\n"
          ]
        },
        {
          "output_type": "stream",
          "name": "stdout",
          "text": [
            "UN\n"
          ]
        },
        {
          "output_type": "stream",
          "name": "stderr",
          "text": [
            "\r[*********************100%***********************]  1 of 1 completed\n",
            "ERROR:yfinance:\n",
            "1 Failed download:\n",
            "ERROR:yfinance:['UN']: YFTzMissingError('possibly delisted; no timezone found')\n",
            "<ipython-input-13-578904359>:8: FutureWarning: YF.download() has changed argument auto_adjust default to True\n",
            "  dict_comp[s[0]] = yf.download((s[0]), start = \"2013-05-01\", end = \"2014-05-31\")\n"
          ]
        },
        {
          "output_type": "stream",
          "name": "stdout",
          "text": [
            "UL\n"
          ]
        },
        {
          "output_type": "stream",
          "name": "stderr",
          "text": [
            "\r[*********************100%***********************]  1 of 1 completed\n",
            "<ipython-input-13-578904359>:8: FutureWarning: YF.download() has changed argument auto_adjust default to True\n",
            "  dict_comp[s[0]] = yf.download((s[0]), start = \"2013-05-01\", end = \"2014-05-31\")\n"
          ]
        },
        {
          "output_type": "stream",
          "name": "stdout",
          "text": [
            "UNP\n"
          ]
        },
        {
          "output_type": "stream",
          "name": "stderr",
          "text": [
            "\r[*********************100%***********************]  1 of 1 completed\n",
            "<ipython-input-13-578904359>:8: FutureWarning: YF.download() has changed argument auto_adjust default to True\n",
            "  dict_comp[s[0]] = yf.download((s[0]), start = \"2013-05-01\", end = \"2014-05-31\")\n"
          ]
        },
        {
          "output_type": "stream",
          "name": "stdout",
          "text": [
            "UPS\n"
          ]
        },
        {
          "output_type": "stream",
          "name": "stderr",
          "text": [
            "\r[*********************100%***********************]  1 of 1 completed\n",
            "<ipython-input-13-578904359>:8: FutureWarning: YF.download() has changed argument auto_adjust default to True\n",
            "  dict_comp[s[0]] = yf.download((s[0]), start = \"2013-05-01\", end = \"2014-05-31\")\n"
          ]
        },
        {
          "output_type": "stream",
          "name": "stdout",
          "text": [
            "UTX\n"
          ]
        },
        {
          "output_type": "stream",
          "name": "stderr",
          "text": [
            "\r[*********************100%***********************]  1 of 1 completed\n",
            "ERROR:yfinance:\n",
            "1 Failed download:\n",
            "ERROR:yfinance:['UTX']: YFTzMissingError('possibly delisted; no timezone found')\n",
            "<ipython-input-13-578904359>:8: FutureWarning: YF.download() has changed argument auto_adjust default to True\n",
            "  dict_comp[s[0]] = yf.download((s[0]), start = \"2013-05-01\", end = \"2014-05-31\")\n"
          ]
        },
        {
          "output_type": "stream",
          "name": "stdout",
          "text": [
            "UNH\n"
          ]
        },
        {
          "output_type": "stream",
          "name": "stderr",
          "text": [
            "\r[*********************100%***********************]  1 of 1 completed\n",
            "<ipython-input-13-578904359>:8: FutureWarning: YF.download() has changed argument auto_adjust default to True\n",
            "  dict_comp[s[0]] = yf.download((s[0]), start = \"2013-05-01\", end = \"2014-05-31\")\n"
          ]
        },
        {
          "output_type": "stream",
          "name": "stdout",
          "text": [
            "VZ\n"
          ]
        },
        {
          "output_type": "stream",
          "name": "stderr",
          "text": [
            "[*********************100%***********************]  1 of 1 completed\n",
            "<ipython-input-13-578904359>:8: FutureWarning: YF.download() has changed argument auto_adjust default to True\n",
            "  dict_comp[s[0]] = yf.download((s[0]), start = \"2013-05-01\", end = \"2014-05-31\")\n",
            "[*********************100%***********************]  1 of 1 completed\n",
            "<ipython-input-13-578904359>:8: FutureWarning: YF.download() has changed argument auto_adjust default to True\n",
            "  dict_comp[s[0]] = yf.download((s[0]), start = \"2013-05-01\", end = \"2014-05-31\")\n"
          ]
        },
        {
          "output_type": "stream",
          "name": "stdout",
          "text": [
            "VZA\n",
            "V\n"
          ]
        },
        {
          "output_type": "stream",
          "name": "stderr",
          "text": [
            "\r[*********************100%***********************]  1 of 1 completed\n",
            "<ipython-input-13-578904359>:8: FutureWarning: YF.download() has changed argument auto_adjust default to True\n",
            "  dict_comp[s[0]] = yf.download((s[0]), start = \"2013-05-01\", end = \"2014-05-31\")\n"
          ]
        },
        {
          "output_type": "stream",
          "name": "stdout",
          "text": [
            "WMT\n"
          ]
        },
        {
          "output_type": "stream",
          "name": "stderr",
          "text": [
            "\r[*********************100%***********************]  1 of 1 completed\n",
            "<ipython-input-13-578904359>:8: FutureWarning: YF.download() has changed argument auto_adjust default to True\n",
            "  dict_comp[s[0]] = yf.download((s[0]), start = \"2013-05-01\", end = \"2014-05-31\")\n"
          ]
        },
        {
          "output_type": "stream",
          "name": "stdout",
          "text": [
            "DIS\n"
          ]
        },
        {
          "output_type": "stream",
          "name": "stderr",
          "text": [
            "\r[*********************100%***********************]  1 of 1 completed\n",
            "<ipython-input-13-578904359>:8: FutureWarning: YF.download() has changed argument auto_adjust default to True\n",
            "  dict_comp[s[0]] = yf.download((s[0]), start = \"2013-05-01\", end = \"2014-05-31\")\n"
          ]
        },
        {
          "output_type": "stream",
          "name": "stdout",
          "text": [
            "WFC\n"
          ]
        },
        {
          "output_type": "stream",
          "name": "stderr",
          "text": [
            "\r[*********************100%***********************]  1 of 1 completed\n",
            "<ipython-input-13-578904359>:8: FutureWarning: YF.download() has changed argument auto_adjust default to True\n",
            "  dict_comp[s[0]] = yf.download((s[0]), start = \"2013-05-01\", end = \"2014-05-31\")\n"
          ]
        },
        {
          "output_type": "stream",
          "name": "stdout",
          "text": [
            "WBK\n"
          ]
        },
        {
          "output_type": "stream",
          "name": "stderr",
          "text": [
            "\r[*********************100%***********************]  1 of 1 completed\n",
            "ERROR:yfinance:\n",
            "1 Failed download:\n",
            "ERROR:yfinance:['WBK']: YFTzMissingError('possibly delisted; no timezone found')\n"
          ]
        }
      ],
      "source": [
        "dict_comp = {}\n",
        "\n",
        "for s in list_stocks:\n",
        "    print(s[0])\n",
        "\n",
        "    #stock = yf.Ticker(s[0])\n",
        "    #diz_comp[s[0]]=stock.history(\"1mo\")\n",
        "    dict_comp[s[0]] = yf.download((s[0]), start = \"2013-05-01\", end = \"2014-05-31\")\n",
        "\n",
        "# create dictionaries of time series for each company"
      ]
    },
    {
      "cell_type": "code",
      "execution_count": 14,
      "metadata": {
        "id": "Htq6hcAdK2UJ",
        "colab": {
          "base_uri": "https://localhost:8080/",
          "height": 269
        },
        "outputId": "be3b837e-8456-4c8f-a065-fd5a15546b0b"
      },
      "outputs": [
        {
          "output_type": "execute_result",
          "data": {
            "text/plain": [
              "Price           Close       High        Low       Open   Volume\n",
              "Ticker            MMM        MMM        MMM        MMM      MMM\n",
              "Date                                                           \n",
              "2013-05-01  59.367672  59.691339  59.293853  59.498274  3897644\n",
              "2013-05-02  60.213734  60.406798  59.572074  59.645894  3730922\n",
              "2013-05-03  61.230183  61.667420  60.673700  60.736162  3603668\n",
              "2013-05-06  61.235859  61.321036  61.014406  61.116614  2600582\n",
              "2013-05-07  61.332386  61.536808  61.071181  61.105249  2673299"
            ],
            "text/html": [
              "\n",
              "  <div id=\"df-c7ad8d7f-021f-4088-970f-70854795738e\" class=\"colab-df-container\">\n",
              "    <div>\n",
              "<style scoped>\n",
              "    .dataframe tbody tr th:only-of-type {\n",
              "        vertical-align: middle;\n",
              "    }\n",
              "\n",
              "    .dataframe tbody tr th {\n",
              "        vertical-align: top;\n",
              "    }\n",
              "\n",
              "    .dataframe thead tr th {\n",
              "        text-align: left;\n",
              "    }\n",
              "\n",
              "    .dataframe thead tr:last-of-type th {\n",
              "        text-align: right;\n",
              "    }\n",
              "</style>\n",
              "<table border=\"1\" class=\"dataframe\">\n",
              "  <thead>\n",
              "    <tr>\n",
              "      <th>Price</th>\n",
              "      <th>Close</th>\n",
              "      <th>High</th>\n",
              "      <th>Low</th>\n",
              "      <th>Open</th>\n",
              "      <th>Volume</th>\n",
              "    </tr>\n",
              "    <tr>\n",
              "      <th>Ticker</th>\n",
              "      <th>MMM</th>\n",
              "      <th>MMM</th>\n",
              "      <th>MMM</th>\n",
              "      <th>MMM</th>\n",
              "      <th>MMM</th>\n",
              "    </tr>\n",
              "    <tr>\n",
              "      <th>Date</th>\n",
              "      <th></th>\n",
              "      <th></th>\n",
              "      <th></th>\n",
              "      <th></th>\n",
              "      <th></th>\n",
              "    </tr>\n",
              "  </thead>\n",
              "  <tbody>\n",
              "    <tr>\n",
              "      <th>2013-05-01</th>\n",
              "      <td>59.367672</td>\n",
              "      <td>59.691339</td>\n",
              "      <td>59.293853</td>\n",
              "      <td>59.498274</td>\n",
              "      <td>3897644</td>\n",
              "    </tr>\n",
              "    <tr>\n",
              "      <th>2013-05-02</th>\n",
              "      <td>60.213734</td>\n",
              "      <td>60.406798</td>\n",
              "      <td>59.572074</td>\n",
              "      <td>59.645894</td>\n",
              "      <td>3730922</td>\n",
              "    </tr>\n",
              "    <tr>\n",
              "      <th>2013-05-03</th>\n",
              "      <td>61.230183</td>\n",
              "      <td>61.667420</td>\n",
              "      <td>60.673700</td>\n",
              "      <td>60.736162</td>\n",
              "      <td>3603668</td>\n",
              "    </tr>\n",
              "    <tr>\n",
              "      <th>2013-05-06</th>\n",
              "      <td>61.235859</td>\n",
              "      <td>61.321036</td>\n",
              "      <td>61.014406</td>\n",
              "      <td>61.116614</td>\n",
              "      <td>2600582</td>\n",
              "    </tr>\n",
              "    <tr>\n",
              "      <th>2013-05-07</th>\n",
              "      <td>61.332386</td>\n",
              "      <td>61.536808</td>\n",
              "      <td>61.071181</td>\n",
              "      <td>61.105249</td>\n",
              "      <td>2673299</td>\n",
              "    </tr>\n",
              "  </tbody>\n",
              "</table>\n",
              "</div>\n",
              "    <div class=\"colab-df-buttons\">\n",
              "\n",
              "  <div class=\"colab-df-container\">\n",
              "    <button class=\"colab-df-convert\" onclick=\"convertToInteractive('df-c7ad8d7f-021f-4088-970f-70854795738e')\"\n",
              "            title=\"Convert this dataframe to an interactive table.\"\n",
              "            style=\"display:none;\">\n",
              "\n",
              "  <svg xmlns=\"http://www.w3.org/2000/svg\" height=\"24px\" viewBox=\"0 -960 960 960\">\n",
              "    <path d=\"M120-120v-720h720v720H120Zm60-500h600v-160H180v160Zm220 220h160v-160H400v160Zm0 220h160v-160H400v160ZM180-400h160v-160H180v160Zm440 0h160v-160H620v160ZM180-180h160v-160H180v160Zm440 0h160v-160H620v160Z\"/>\n",
              "  </svg>\n",
              "    </button>\n",
              "\n",
              "  <style>\n",
              "    .colab-df-container {\n",
              "      display:flex;\n",
              "      gap: 12px;\n",
              "    }\n",
              "\n",
              "    .colab-df-convert {\n",
              "      background-color: #E8F0FE;\n",
              "      border: none;\n",
              "      border-radius: 50%;\n",
              "      cursor: pointer;\n",
              "      display: none;\n",
              "      fill: #1967D2;\n",
              "      height: 32px;\n",
              "      padding: 0 0 0 0;\n",
              "      width: 32px;\n",
              "    }\n",
              "\n",
              "    .colab-df-convert:hover {\n",
              "      background-color: #E2EBFA;\n",
              "      box-shadow: 0px 1px 2px rgba(60, 64, 67, 0.3), 0px 1px 3px 1px rgba(60, 64, 67, 0.15);\n",
              "      fill: #174EA6;\n",
              "    }\n",
              "\n",
              "    .colab-df-buttons div {\n",
              "      margin-bottom: 4px;\n",
              "    }\n",
              "\n",
              "    [theme=dark] .colab-df-convert {\n",
              "      background-color: #3B4455;\n",
              "      fill: #D2E3FC;\n",
              "    }\n",
              "\n",
              "    [theme=dark] .colab-df-convert:hover {\n",
              "      background-color: #434B5C;\n",
              "      box-shadow: 0px 1px 3px 1px rgba(0, 0, 0, 0.15);\n",
              "      filter: drop-shadow(0px 1px 2px rgba(0, 0, 0, 0.3));\n",
              "      fill: #FFFFFF;\n",
              "    }\n",
              "  </style>\n",
              "\n",
              "    <script>\n",
              "      const buttonEl =\n",
              "        document.querySelector('#df-c7ad8d7f-021f-4088-970f-70854795738e button.colab-df-convert');\n",
              "      buttonEl.style.display =\n",
              "        google.colab.kernel.accessAllowed ? 'block' : 'none';\n",
              "\n",
              "      async function convertToInteractive(key) {\n",
              "        const element = document.querySelector('#df-c7ad8d7f-021f-4088-970f-70854795738e');\n",
              "        const dataTable =\n",
              "          await google.colab.kernel.invokeFunction('convertToInteractive',\n",
              "                                                    [key], {});\n",
              "        if (!dataTable) return;\n",
              "\n",
              "        const docLinkHtml = 'Like what you see? Visit the ' +\n",
              "          '<a target=\"_blank\" href=https://colab.research.google.com/notebooks/data_table.ipynb>data table notebook</a>'\n",
              "          + ' to learn more about interactive tables.';\n",
              "        element.innerHTML = '';\n",
              "        dataTable['output_type'] = 'display_data';\n",
              "        await google.colab.output.renderOutput(dataTable, element);\n",
              "        const docLink = document.createElement('div');\n",
              "        docLink.innerHTML = docLinkHtml;\n",
              "        element.appendChild(docLink);\n",
              "      }\n",
              "    </script>\n",
              "  </div>\n",
              "\n",
              "\n",
              "    <div id=\"df-d01ab04b-94aa-4292-8f3e-70c7e9d9e199\">\n",
              "      <button class=\"colab-df-quickchart\" onclick=\"quickchart('df-d01ab04b-94aa-4292-8f3e-70c7e9d9e199')\"\n",
              "                title=\"Suggest charts\"\n",
              "                style=\"display:none;\">\n",
              "\n",
              "<svg xmlns=\"http://www.w3.org/2000/svg\" height=\"24px\"viewBox=\"0 0 24 24\"\n",
              "     width=\"24px\">\n",
              "    <g>\n",
              "        <path d=\"M19 3H5c-1.1 0-2 .9-2 2v14c0 1.1.9 2 2 2h14c1.1 0 2-.9 2-2V5c0-1.1-.9-2-2-2zM9 17H7v-7h2v7zm4 0h-2V7h2v10zm4 0h-2v-4h2v4z\"/>\n",
              "    </g>\n",
              "</svg>\n",
              "      </button>\n",
              "\n",
              "<style>\n",
              "  .colab-df-quickchart {\n",
              "      --bg-color: #E8F0FE;\n",
              "      --fill-color: #1967D2;\n",
              "      --hover-bg-color: #E2EBFA;\n",
              "      --hover-fill-color: #174EA6;\n",
              "      --disabled-fill-color: #AAA;\n",
              "      --disabled-bg-color: #DDD;\n",
              "  }\n",
              "\n",
              "  [theme=dark] .colab-df-quickchart {\n",
              "      --bg-color: #3B4455;\n",
              "      --fill-color: #D2E3FC;\n",
              "      --hover-bg-color: #434B5C;\n",
              "      --hover-fill-color: #FFFFFF;\n",
              "      --disabled-bg-color: #3B4455;\n",
              "      --disabled-fill-color: #666;\n",
              "  }\n",
              "\n",
              "  .colab-df-quickchart {\n",
              "    background-color: var(--bg-color);\n",
              "    border: none;\n",
              "    border-radius: 50%;\n",
              "    cursor: pointer;\n",
              "    display: none;\n",
              "    fill: var(--fill-color);\n",
              "    height: 32px;\n",
              "    padding: 0;\n",
              "    width: 32px;\n",
              "  }\n",
              "\n",
              "  .colab-df-quickchart:hover {\n",
              "    background-color: var(--hover-bg-color);\n",
              "    box-shadow: 0 1px 2px rgba(60, 64, 67, 0.3), 0 1px 3px 1px rgba(60, 64, 67, 0.15);\n",
              "    fill: var(--button-hover-fill-color);\n",
              "  }\n",
              "\n",
              "  .colab-df-quickchart-complete:disabled,\n",
              "  .colab-df-quickchart-complete:disabled:hover {\n",
              "    background-color: var(--disabled-bg-color);\n",
              "    fill: var(--disabled-fill-color);\n",
              "    box-shadow: none;\n",
              "  }\n",
              "\n",
              "  .colab-df-spinner {\n",
              "    border: 2px solid var(--fill-color);\n",
              "    border-color: transparent;\n",
              "    border-bottom-color: var(--fill-color);\n",
              "    animation:\n",
              "      spin 1s steps(1) infinite;\n",
              "  }\n",
              "\n",
              "  @keyframes spin {\n",
              "    0% {\n",
              "      border-color: transparent;\n",
              "      border-bottom-color: var(--fill-color);\n",
              "      border-left-color: var(--fill-color);\n",
              "    }\n",
              "    20% {\n",
              "      border-color: transparent;\n",
              "      border-left-color: var(--fill-color);\n",
              "      border-top-color: var(--fill-color);\n",
              "    }\n",
              "    30% {\n",
              "      border-color: transparent;\n",
              "      border-left-color: var(--fill-color);\n",
              "      border-top-color: var(--fill-color);\n",
              "      border-right-color: var(--fill-color);\n",
              "    }\n",
              "    40% {\n",
              "      border-color: transparent;\n",
              "      border-right-color: var(--fill-color);\n",
              "      border-top-color: var(--fill-color);\n",
              "    }\n",
              "    60% {\n",
              "      border-color: transparent;\n",
              "      border-right-color: var(--fill-color);\n",
              "    }\n",
              "    80% {\n",
              "      border-color: transparent;\n",
              "      border-right-color: var(--fill-color);\n",
              "      border-bottom-color: var(--fill-color);\n",
              "    }\n",
              "    90% {\n",
              "      border-color: transparent;\n",
              "      border-bottom-color: var(--fill-color);\n",
              "    }\n",
              "  }\n",
              "</style>\n",
              "\n",
              "      <script>\n",
              "        async function quickchart(key) {\n",
              "          const quickchartButtonEl =\n",
              "            document.querySelector('#' + key + ' button');\n",
              "          quickchartButtonEl.disabled = true;  // To prevent multiple clicks.\n",
              "          quickchartButtonEl.classList.add('colab-df-spinner');\n",
              "          try {\n",
              "            const charts = await google.colab.kernel.invokeFunction(\n",
              "                'suggestCharts', [key], {});\n",
              "          } catch (error) {\n",
              "            console.error('Error during call to suggestCharts:', error);\n",
              "          }\n",
              "          quickchartButtonEl.classList.remove('colab-df-spinner');\n",
              "          quickchartButtonEl.classList.add('colab-df-quickchart-complete');\n",
              "        }\n",
              "        (() => {\n",
              "          let quickchartButtonEl =\n",
              "            document.querySelector('#df-d01ab04b-94aa-4292-8f3e-70c7e9d9e199 button');\n",
              "          quickchartButtonEl.style.display =\n",
              "            google.colab.kernel.accessAllowed ? 'block' : 'none';\n",
              "        })();\n",
              "      </script>\n",
              "    </div>\n",
              "\n",
              "    </div>\n",
              "  </div>\n"
            ],
            "application/vnd.google.colaboratory.intrinsic+json": {
              "type": "dataframe",
              "summary": "{\n  \"name\": \"dict_comp['MMM'][0:5]\",\n  \"rows\": 5,\n  \"fields\": [\n    {\n      \"column\": [\n        \"Date\",\n        \"\"\n      ],\n      \"properties\": {\n        \"dtype\": \"date\",\n        \"min\": \"2013-05-01 00:00:00\",\n        \"max\": \"2013-05-07 00:00:00\",\n        \"num_unique_values\": 5,\n        \"samples\": [\n          \"2013-05-02 00:00:00\",\n          \"2013-05-07 00:00:00\",\n          \"2013-05-03 00:00:00\"\n        ],\n        \"semantic_type\": \"\",\n        \"description\": \"\"\n      }\n    },\n    {\n      \"column\": [\n        \"Close\",\n        \"MMM\"\n      ],\n      \"properties\": {\n        \"dtype\": \"number\",\n        \"std\": 0.862672506207827,\n        \"min\": 59.367671966552734,\n        \"max\": 61.3323860168457,\n        \"num_unique_values\": 5,\n        \"samples\": [\n          60.2137336730957,\n          61.3323860168457,\n          61.23018264770508\n        ],\n        \"semantic_type\": \"\",\n        \"description\": \"\"\n      }\n    },\n    {\n      \"column\": [\n        \"High\",\n        \"MMM\"\n      ],\n      \"properties\": {\n        \"dtype\": \"number\",\n        \"std\": 0.8474660516341779,\n        \"min\": 59.69133856000037,\n        \"max\": 61.66742036854095,\n        \"num_unique_values\": 5,\n        \"samples\": [\n          60.406797802935124,\n          61.53680780423193,\n          61.66742036854095\n        ],\n        \"semantic_type\": \"\",\n        \"description\": \"\"\n      }\n    },\n    {\n      \"column\": [\n        \"Low\",\n        \"MMM\"\n      ],\n      \"properties\": {\n        \"dtype\": \"number\",\n        \"std\": 0.8342392979038892,\n        \"min\": 59.2938525425873,\n        \"max\": 61.07118126319669,\n        \"num_unique_values\": 5,\n        \"samples\": [\n          59.57207433021214,\n          61.07118126319669,\n          60.67370015987803\n        ],\n        \"semantic_type\": \"\",\n        \"description\": \"\"\n      }\n    },\n    {\n      \"column\": [\n        \"Open\",\n        \"MMM\"\n      ],\n      \"properties\": {\n        \"dtype\": \"number\",\n        \"std\": 0.7911405547647835,\n        \"min\": 59.49827436709128,\n        \"max\": 61.11661415520332,\n        \"num_unique_values\": 5,\n        \"samples\": [\n          59.64589373006245,\n          61.10524897039423,\n          60.73616195122584\n        ],\n        \"semantic_type\": \"\",\n        \"description\": \"\"\n      }\n    },\n    {\n      \"column\": [\n        \"Volume\",\n        \"MMM\"\n      ],\n      \"properties\": {\n        \"dtype\": \"number\",\n        \"std\": 615836,\n        \"min\": 2600582,\n        \"max\": 3897644,\n        \"num_unique_values\": 5,\n        \"samples\": [\n          3730922,\n          2673299,\n          3603668\n        ],\n        \"semantic_type\": \"\",\n        \"description\": \"\"\n      }\n    }\n  ]\n}"
            }
          },
          "metadata": {},
          "execution_count": 14
        }
      ],
      "source": [
        "# this is a dict of DataFrames: let's look inside, for example the well-known 3M company\n",
        "\n",
        "dict_comp['MMM'][0:5]"
      ]
    },
    {
      "cell_type": "code",
      "execution_count": 15,
      "metadata": {
        "id": "GU6fyF4Akyzf",
        "colab": {
          "base_uri": "https://localhost:8080/"
        },
        "collapsed": true,
        "outputId": "61bca865-0e42-41a1-f18f-2af51cff9298"
      },
      "outputs": [
        {
          "output_type": "stream",
          "name": "stdout",
          "text": [
            "MMM 273\n",
            "ABT 273\n",
            "ABBV 273\n",
            "ACN 273\n",
            "AEB 273\n",
            "AED 273\n",
            "AEK 0\n",
            "BABA 0\n",
            "MO 273\n",
            "ABEV 273\n",
            "AXP 273\n",
            "AIG 273\n",
            "BUD 273\n",
            "AZN 273\n",
            "T 273\n",
            "SAN 273\n",
            "BAC 273\n",
            "BNS 273\n",
            "BCS 273\n",
            "BHP 273\n",
            "BBL 0\n",
            "BLK 273\n",
            "BA 273\n",
            "BP 273\n",
            "BMY 273\n",
            "BT 0\n",
            "CX 273\n",
            "CVX 273\n",
            "LFC 0\n",
            "CHL 0\n",
            "SNP 0\n",
            "C 273\n",
            "CEO 0\n",
            "KO 273\n",
            "CL 273\n",
            "CCV 0\n",
            "COP 273\n",
            "CVS 273\n",
            "DHR 273\n",
            "DEO 273\n",
            "DOW 0\n",
            "DUK 273\n",
            "DD 273\n",
            "LLY 273\n",
            "EMC 0\n",
            "E 273\n",
            "EPD 273\n",
            "XOM 273\n",
            "F 273\n",
            "GE 273\n",
            "GSK 273\n",
            "GS 273\n",
            "TV 273\n",
            "HDB 273\n",
            "HD 273\n",
            "HON 273\n",
            "HSBC 273\n",
            "HSEA 0\n",
            "HSEB 140\n",
            "INZ 0\n",
            "ISF 0\n",
            "IBM 273\n",
            "ITUB 273\n",
            "JPM 273\n",
            "JNJ 273\n",
            "LYG 273\n",
            "LMT 273\n",
            "LOW 273\n",
            "MA 273\n",
            "MCD 273\n",
            "MDT 273\n",
            "MRK 273\n",
            "MTU 0\n",
            "MS 273\n",
            "NGG 273\n",
            "NEE 273\n",
            "NKE 273\n",
            "NTT 0\n",
            "NVS 273\n",
            "NVO 273\n",
            "DCM 0\n",
            "OXY 273\n",
            "ORCL 273\n",
            "PEP 273\n",
            "PTR 0\n",
            "PFE 273\n",
            "PM 273\n",
            "PG 273\n",
            "RAI 0\n",
            "RIO 273\n",
            "RY 273\n",
            "SNY 273\n",
            "SAP 273\n",
            "SLB 273\n",
            "SPG 273\n",
            "STO 0\n",
            "TSM 273\n",
            "TEF 273\n",
            "TMO 273\n",
            "TWC 0\n",
            "TWX 0\n",
            "TJX 273\n",
            "TD 273\n",
            "TOT 0\n",
            "TM 273\n",
            "USB 273\n",
            "UBS 273\n",
            "UN 0\n",
            "UL 273\n",
            "UNP 273\n",
            "UPS 273\n",
            "UTX 0\n",
            "UNH 273\n",
            "VZ 273\n",
            "VZA 66\n",
            "V 273\n",
            "WMT 273\n",
            "DIS 273\n",
            "WFC 273\n",
            "WBK 0\n"
          ]
        }
      ],
      "source": [
        "dict_historical = {} # this is a dict of tickers: Pd.Series of Closing Prices (how many days have the companies been traded?)\n",
        "\n",
        "for k in list(dict_comp.keys()):\n",
        "    tmp = dict_comp[k]\n",
        "    dict_historical[k] = tmp['Close']\n",
        "    \"\"\"\n",
        "    for e in diz_comp[k]:\n",
        "        print(e)\n",
        "        # string indices must be integers\n",
        "        #diz_historical[k][e['Date']]=e['Close']\n",
        "        #print(e)\n",
        "        #diz_historical[k][e[0]]=e[4]\n",
        "    \"\"\"\n",
        "\n",
        "for k in list(dict_historical.keys()):\n",
        "    print(k, len(dict_historical[k]))"
      ]
    },
    {
      "cell_type": "code",
      "execution_count": 16,
      "metadata": {
        "id": "TTb8hsqvK2UK",
        "colab": {
          "base_uri": "https://localhost:8080/",
          "height": 455
        },
        "outputId": "bcc2bfc6-ab52-4dda-8fb8-b687e6dface3"
      },
      "outputs": [
        {
          "output_type": "execute_result",
          "data": {
            "text/plain": [
              "Ticker            MMM\n",
              "Date                 \n",
              "2013-05-01  59.367672\n",
              "2013-05-02  60.213734\n",
              "2013-05-03  61.230183\n",
              "2013-05-06  61.235859\n",
              "2013-05-07  61.332386\n",
              "...               ...\n",
              "2014-05-23  82.483498\n",
              "2014-05-27  82.658821\n",
              "2014-05-28  82.652954\n",
              "2014-05-29  83.213997\n",
              "2014-05-30  83.307503\n",
              "\n",
              "[273 rows x 1 columns]"
            ],
            "text/html": [
              "\n",
              "  <div id=\"df-edfae924-1a2e-49d3-9c5b-70dbec42b2dc\" class=\"colab-df-container\">\n",
              "    <div>\n",
              "<style scoped>\n",
              "    .dataframe tbody tr th:only-of-type {\n",
              "        vertical-align: middle;\n",
              "    }\n",
              "\n",
              "    .dataframe tbody tr th {\n",
              "        vertical-align: top;\n",
              "    }\n",
              "\n",
              "    .dataframe thead th {\n",
              "        text-align: right;\n",
              "    }\n",
              "</style>\n",
              "<table border=\"1\" class=\"dataframe\">\n",
              "  <thead>\n",
              "    <tr style=\"text-align: right;\">\n",
              "      <th>Ticker</th>\n",
              "      <th>MMM</th>\n",
              "    </tr>\n",
              "    <tr>\n",
              "      <th>Date</th>\n",
              "      <th></th>\n",
              "    </tr>\n",
              "  </thead>\n",
              "  <tbody>\n",
              "    <tr>\n",
              "      <th>2013-05-01</th>\n",
              "      <td>59.367672</td>\n",
              "    </tr>\n",
              "    <tr>\n",
              "      <th>2013-05-02</th>\n",
              "      <td>60.213734</td>\n",
              "    </tr>\n",
              "    <tr>\n",
              "      <th>2013-05-03</th>\n",
              "      <td>61.230183</td>\n",
              "    </tr>\n",
              "    <tr>\n",
              "      <th>2013-05-06</th>\n",
              "      <td>61.235859</td>\n",
              "    </tr>\n",
              "    <tr>\n",
              "      <th>2013-05-07</th>\n",
              "      <td>61.332386</td>\n",
              "    </tr>\n",
              "    <tr>\n",
              "      <th>...</th>\n",
              "      <td>...</td>\n",
              "    </tr>\n",
              "    <tr>\n",
              "      <th>2014-05-23</th>\n",
              "      <td>82.483498</td>\n",
              "    </tr>\n",
              "    <tr>\n",
              "      <th>2014-05-27</th>\n",
              "      <td>82.658821</td>\n",
              "    </tr>\n",
              "    <tr>\n",
              "      <th>2014-05-28</th>\n",
              "      <td>82.652954</td>\n",
              "    </tr>\n",
              "    <tr>\n",
              "      <th>2014-05-29</th>\n",
              "      <td>83.213997</td>\n",
              "    </tr>\n",
              "    <tr>\n",
              "      <th>2014-05-30</th>\n",
              "      <td>83.307503</td>\n",
              "    </tr>\n",
              "  </tbody>\n",
              "</table>\n",
              "<p>273 rows × 1 columns</p>\n",
              "</div>\n",
              "    <div class=\"colab-df-buttons\">\n",
              "\n",
              "  <div class=\"colab-df-container\">\n",
              "    <button class=\"colab-df-convert\" onclick=\"convertToInteractive('df-edfae924-1a2e-49d3-9c5b-70dbec42b2dc')\"\n",
              "            title=\"Convert this dataframe to an interactive table.\"\n",
              "            style=\"display:none;\">\n",
              "\n",
              "  <svg xmlns=\"http://www.w3.org/2000/svg\" height=\"24px\" viewBox=\"0 -960 960 960\">\n",
              "    <path d=\"M120-120v-720h720v720H120Zm60-500h600v-160H180v160Zm220 220h160v-160H400v160Zm0 220h160v-160H400v160ZM180-400h160v-160H180v160Zm440 0h160v-160H620v160ZM180-180h160v-160H180v160Zm440 0h160v-160H620v160Z\"/>\n",
              "  </svg>\n",
              "    </button>\n",
              "\n",
              "  <style>\n",
              "    .colab-df-container {\n",
              "      display:flex;\n",
              "      gap: 12px;\n",
              "    }\n",
              "\n",
              "    .colab-df-convert {\n",
              "      background-color: #E8F0FE;\n",
              "      border: none;\n",
              "      border-radius: 50%;\n",
              "      cursor: pointer;\n",
              "      display: none;\n",
              "      fill: #1967D2;\n",
              "      height: 32px;\n",
              "      padding: 0 0 0 0;\n",
              "      width: 32px;\n",
              "    }\n",
              "\n",
              "    .colab-df-convert:hover {\n",
              "      background-color: #E2EBFA;\n",
              "      box-shadow: 0px 1px 2px rgba(60, 64, 67, 0.3), 0px 1px 3px 1px rgba(60, 64, 67, 0.15);\n",
              "      fill: #174EA6;\n",
              "    }\n",
              "\n",
              "    .colab-df-buttons div {\n",
              "      margin-bottom: 4px;\n",
              "    }\n",
              "\n",
              "    [theme=dark] .colab-df-convert {\n",
              "      background-color: #3B4455;\n",
              "      fill: #D2E3FC;\n",
              "    }\n",
              "\n",
              "    [theme=dark] .colab-df-convert:hover {\n",
              "      background-color: #434B5C;\n",
              "      box-shadow: 0px 1px 3px 1px rgba(0, 0, 0, 0.15);\n",
              "      filter: drop-shadow(0px 1px 2px rgba(0, 0, 0, 0.3));\n",
              "      fill: #FFFFFF;\n",
              "    }\n",
              "  </style>\n",
              "\n",
              "    <script>\n",
              "      const buttonEl =\n",
              "        document.querySelector('#df-edfae924-1a2e-49d3-9c5b-70dbec42b2dc button.colab-df-convert');\n",
              "      buttonEl.style.display =\n",
              "        google.colab.kernel.accessAllowed ? 'block' : 'none';\n",
              "\n",
              "      async function convertToInteractive(key) {\n",
              "        const element = document.querySelector('#df-edfae924-1a2e-49d3-9c5b-70dbec42b2dc');\n",
              "        const dataTable =\n",
              "          await google.colab.kernel.invokeFunction('convertToInteractive',\n",
              "                                                    [key], {});\n",
              "        if (!dataTable) return;\n",
              "\n",
              "        const docLinkHtml = 'Like what you see? Visit the ' +\n",
              "          '<a target=\"_blank\" href=https://colab.research.google.com/notebooks/data_table.ipynb>data table notebook</a>'\n",
              "          + ' to learn more about interactive tables.';\n",
              "        element.innerHTML = '';\n",
              "        dataTable['output_type'] = 'display_data';\n",
              "        await google.colab.output.renderOutput(dataTable, element);\n",
              "        const docLink = document.createElement('div');\n",
              "        docLink.innerHTML = docLinkHtml;\n",
              "        element.appendChild(docLink);\n",
              "      }\n",
              "    </script>\n",
              "  </div>\n",
              "\n",
              "\n",
              "    <div id=\"df-8b282eb2-27e8-4865-b1f2-a0fadba45c0e\">\n",
              "      <button class=\"colab-df-quickchart\" onclick=\"quickchart('df-8b282eb2-27e8-4865-b1f2-a0fadba45c0e')\"\n",
              "                title=\"Suggest charts\"\n",
              "                style=\"display:none;\">\n",
              "\n",
              "<svg xmlns=\"http://www.w3.org/2000/svg\" height=\"24px\"viewBox=\"0 0 24 24\"\n",
              "     width=\"24px\">\n",
              "    <g>\n",
              "        <path d=\"M19 3H5c-1.1 0-2 .9-2 2v14c0 1.1.9 2 2 2h14c1.1 0 2-.9 2-2V5c0-1.1-.9-2-2-2zM9 17H7v-7h2v7zm4 0h-2V7h2v10zm4 0h-2v-4h2v4z\"/>\n",
              "    </g>\n",
              "</svg>\n",
              "      </button>\n",
              "\n",
              "<style>\n",
              "  .colab-df-quickchart {\n",
              "      --bg-color: #E8F0FE;\n",
              "      --fill-color: #1967D2;\n",
              "      --hover-bg-color: #E2EBFA;\n",
              "      --hover-fill-color: #174EA6;\n",
              "      --disabled-fill-color: #AAA;\n",
              "      --disabled-bg-color: #DDD;\n",
              "  }\n",
              "\n",
              "  [theme=dark] .colab-df-quickchart {\n",
              "      --bg-color: #3B4455;\n",
              "      --fill-color: #D2E3FC;\n",
              "      --hover-bg-color: #434B5C;\n",
              "      --hover-fill-color: #FFFFFF;\n",
              "      --disabled-bg-color: #3B4455;\n",
              "      --disabled-fill-color: #666;\n",
              "  }\n",
              "\n",
              "  .colab-df-quickchart {\n",
              "    background-color: var(--bg-color);\n",
              "    border: none;\n",
              "    border-radius: 50%;\n",
              "    cursor: pointer;\n",
              "    display: none;\n",
              "    fill: var(--fill-color);\n",
              "    height: 32px;\n",
              "    padding: 0;\n",
              "    width: 32px;\n",
              "  }\n",
              "\n",
              "  .colab-df-quickchart:hover {\n",
              "    background-color: var(--hover-bg-color);\n",
              "    box-shadow: 0 1px 2px rgba(60, 64, 67, 0.3), 0 1px 3px 1px rgba(60, 64, 67, 0.15);\n",
              "    fill: var(--button-hover-fill-color);\n",
              "  }\n",
              "\n",
              "  .colab-df-quickchart-complete:disabled,\n",
              "  .colab-df-quickchart-complete:disabled:hover {\n",
              "    background-color: var(--disabled-bg-color);\n",
              "    fill: var(--disabled-fill-color);\n",
              "    box-shadow: none;\n",
              "  }\n",
              "\n",
              "  .colab-df-spinner {\n",
              "    border: 2px solid var(--fill-color);\n",
              "    border-color: transparent;\n",
              "    border-bottom-color: var(--fill-color);\n",
              "    animation:\n",
              "      spin 1s steps(1) infinite;\n",
              "  }\n",
              "\n",
              "  @keyframes spin {\n",
              "    0% {\n",
              "      border-color: transparent;\n",
              "      border-bottom-color: var(--fill-color);\n",
              "      border-left-color: var(--fill-color);\n",
              "    }\n",
              "    20% {\n",
              "      border-color: transparent;\n",
              "      border-left-color: var(--fill-color);\n",
              "      border-top-color: var(--fill-color);\n",
              "    }\n",
              "    30% {\n",
              "      border-color: transparent;\n",
              "      border-left-color: var(--fill-color);\n",
              "      border-top-color: var(--fill-color);\n",
              "      border-right-color: var(--fill-color);\n",
              "    }\n",
              "    40% {\n",
              "      border-color: transparent;\n",
              "      border-right-color: var(--fill-color);\n",
              "      border-top-color: var(--fill-color);\n",
              "    }\n",
              "    60% {\n",
              "      border-color: transparent;\n",
              "      border-right-color: var(--fill-color);\n",
              "    }\n",
              "    80% {\n",
              "      border-color: transparent;\n",
              "      border-right-color: var(--fill-color);\n",
              "      border-bottom-color: var(--fill-color);\n",
              "    }\n",
              "    90% {\n",
              "      border-color: transparent;\n",
              "      border-bottom-color: var(--fill-color);\n",
              "    }\n",
              "  }\n",
              "</style>\n",
              "\n",
              "      <script>\n",
              "        async function quickchart(key) {\n",
              "          const quickchartButtonEl =\n",
              "            document.querySelector('#' + key + ' button');\n",
              "          quickchartButtonEl.disabled = true;  // To prevent multiple clicks.\n",
              "          quickchartButtonEl.classList.add('colab-df-spinner');\n",
              "          try {\n",
              "            const charts = await google.colab.kernel.invokeFunction(\n",
              "                'suggestCharts', [key], {});\n",
              "          } catch (error) {\n",
              "            console.error('Error during call to suggestCharts:', error);\n",
              "          }\n",
              "          quickchartButtonEl.classList.remove('colab-df-spinner');\n",
              "          quickchartButtonEl.classList.add('colab-df-quickchart-complete');\n",
              "        }\n",
              "        (() => {\n",
              "          let quickchartButtonEl =\n",
              "            document.querySelector('#df-8b282eb2-27e8-4865-b1f2-a0fadba45c0e button');\n",
              "          quickchartButtonEl.style.display =\n",
              "            google.colab.kernel.accessAllowed ? 'block' : 'none';\n",
              "        })();\n",
              "      </script>\n",
              "    </div>\n",
              "\n",
              "    </div>\n",
              "  </div>\n"
            ],
            "application/vnd.google.colaboratory.intrinsic+json": {
              "type": "dataframe",
              "summary": "{\n  \"name\": \"dict_historical['MMM']\",\n  \"rows\": 273,\n  \"fields\": [\n    {\n      \"column\": \"Date\",\n      \"properties\": {\n        \"dtype\": \"date\",\n        \"min\": \"2013-05-01 00:00:00\",\n        \"max\": \"2014-05-30 00:00:00\",\n        \"num_unique_values\": 273,\n        \"samples\": [\n          \"2013-06-13 00:00:00\",\n          \"2013-10-16 00:00:00\",\n          \"2013-08-22 00:00:00\"\n        ],\n        \"semantic_type\": \"\",\n        \"description\": \"\"\n      }\n    },\n    {\n      \"column\": \"MMM\",\n      \"properties\": {\n        \"dtype\": \"number\",\n        \"std\": 6.528907736300078,\n        \"min\": 59.367671966552734,\n        \"max\": 83.30750274658203,\n        \"num_unique_values\": 271,\n        \"samples\": [\n          63.40671157836914,\n          69.4481430053711,\n          65.69266510009766\n        ],\n        \"semantic_type\": \"\",\n        \"description\": \"\"\n      }\n    }\n  ]\n}"
            }
          },
          "metadata": {},
          "execution_count": 16
        }
      ],
      "source": [
        "dict_historical['MMM']"
      ]
    },
    {
      "cell_type": "markdown",
      "metadata": {
        "id": "Llp0C4Dskyzf"
      },
      "source": [
        "###  Calculation of the logreturns\n",
        "\n",
        "Let's visualise a company"
      ]
    },
    {
      "cell_type": "code",
      "execution_count": 19,
      "metadata": {
        "id": "znFOH9-9K2UK"
      },
      "outputs": [],
      "source": [
        "REF_COMPANY = 'MMM'"
      ]
    },
    {
      "cell_type": "code",
      "source": [
        "# Get sorted list of trading dates\n",
        "d = sorted(list(dict_historical[REF_COMPANY].index))\n",
        "\n",
        "print(f\"Total dates for {REF_COMPANY}: {len(d)}\")\n",
        "\n",
        "dict_returns = {}\n",
        "\n",
        "for c in dict_historical:\n",
        "    # Skip if the company doesn't have full data\n",
        "    if len(dict_historical[c].index) < len(d):\n",
        "        continue\n",
        "\n",
        "    dict_returns[c] = {}\n",
        "    for i in range(1, len(d)):\n",
        "        # Get closing prices and compute log returns safely\n",
        "        return_t = math.log(float(dict_historical[c].loc[d[i]].iloc[0]))\n",
        "        return_t_1 = math.log(float(dict_historical[c].loc[d[i-1]].iloc[0]))\n",
        "        dict_returns[c][d[i]] = return_t - return_t_1\n",
        "\n",
        "# Print the log returns for the reference company\n",
        "print(dict_returns[REF_COMPANY])"
      ],
      "metadata": {
        "colab": {
          "base_uri": "https://localhost:8080/"
        },
        "id": "ayO02e-37w_o",
        "outputId": "c3b2916f-451d-42dc-c41b-6945eab13286"
      },
      "execution_count": 33,
      "outputs": [
        {
          "output_type": "stream",
          "name": "stdout",
          "text": [
            "Total dates for MMM: 273\n",
            "{Timestamp('2013-05-02 00:00:00'): 0.014150625173427578, Timestamp('2013-05-03 00:00:00'): 0.016739788062068328, Timestamp('2013-05-06 00:00:00'): 9.269948571510866e-05, Timestamp('2013-05-07 00:00:00'): 0.0015750754955679014, Timestamp('2013-05-08 00:00:00'): 0.0017572650304495951, Timestamp('2013-05-09 00:00:00'): 0.015771527131954954, Timestamp('2013-05-10 00:00:00'): 0.0050822740884708395, Timestamp('2013-05-13 00:00:00'): 0.00018051834959642576, Timestamp('2013-05-14 00:00:00'): 0.0008139038036825141, Timestamp('2013-05-15 00:00:00'): 0.008195178134222658, Timestamp('2013-05-16 00:00:00'): -0.0038638975304952083, Timestamp('2013-05-17 00:00:00'): 0.0028769321378421253, Timestamp('2013-05-20 00:00:00'): 0.0029579185424744026, Timestamp('2013-05-21 00:00:00'): 0.002592581422350193, Timestamp('2013-05-22 00:00:00'): -0.005266300194655571, Timestamp('2013-05-23 00:00:00'): -0.0034358860344392284, Timestamp('2013-05-24 00:00:00'): -0.0012684041199060303, Timestamp('2013-05-28 00:00:00'): 0.011898997129441646, Timestamp('2013-05-29 00:00:00'): -0.004130689466000703, Timestamp('2013-05-30 00:00:00'): 0.0026060794842379664, Timestamp('2013-05-31 00:00:00'): -0.01037438714767891, Timestamp('2013-06-03 00:00:00'): 0.0030786244500413673, Timestamp('2013-06-04 00:00:00'): -0.005349080963501507, Timestamp('2013-06-05 00:00:00'): -0.013082577272198748, Timestamp('2013-06-06 00:00:00'): 0.0007363613231747834, Timestamp('2013-06-07 00:00:00'): 0.02220530050760594, Timestamp('2013-06-10 00:00:00'): -0.0027040187507312297, Timestamp('2013-06-11 00:00:00'): -0.005338555046217941, Timestamp('2013-06-12 00:00:00'): -0.010855212376291057, Timestamp('2013-06-13 00:00:00'): 0.019707321778347442, Timestamp('2013-06-14 00:00:00'): -0.001530081157983254, Timestamp('2013-06-17 00:00:00'): 0.007894365856990326, Timestamp('2013-06-18 00:00:00'): 0.009427395211339729, Timestamp('2013-06-19 00:00:00'): -0.01247020441146418, Timestamp('2013-06-20 00:00:00'): -0.02532486052755001, Timestamp('2013-06-21 00:00:00'): 0.007419087197565233, Timestamp('2013-06-24 00:00:00'): -0.019255381201245925, Timestamp('2013-06-25 00:00:00'): 0.0068602400991251145, Timestamp('2013-06-26 00:00:00'): 0.013215778611484374, Timestamp('2013-06-27 00:00:00'): 0.00509371140903081, Timestamp('2013-06-28 00:00:00'): -0.008106848578043113, Timestamp('2013-07-01 00:00:00'): -0.00036567053675806704, Timestamp('2013-07-02 00:00:00'): -0.005320283765499312, Timestamp('2013-07-03 00:00:00'): 0.006600186892823601, Timestamp('2013-07-05 00:00:00'): 0.01891536230772406, Timestamp('2013-07-08 00:00:00'): 0.005275841073290266, Timestamp('2013-07-09 00:00:00'): 0.010821610849006902, Timestamp('2013-07-10 00:00:00'): 0.0007050370972594422, Timestamp('2013-07-11 00:00:00'): 0.009650954021525493, Timestamp('2013-07-12 00:00:00'): 0.005311765309449434, Timestamp('2013-07-15 00:00:00'): -0.002522182239343529, Timestamp('2013-07-16 00:00:00'): -0.004449923346059315, Timestamp('2013-07-17 00:00:00'): 0.0026207055520401923, Timestamp('2013-07-18 00:00:00'): 0.007300350878280959, Timestamp('2013-07-19 00:00:00'): 0.006129416069202698, Timestamp('2013-07-22 00:00:00'): 0.0007743276698475299, Timestamp('2013-07-23 00:00:00'): 0.004033985751827451, Timestamp('2013-07-24 00:00:00'): -0.003604151973255476, Timestamp('2013-07-25 00:00:00'): 0.001889328965822834, Timestamp('2013-07-26 00:00:00'): 0.003084178782099656, Timestamp('2013-07-29 00:00:00'): -0.0025697552886132513, Timestamp('2013-07-30 00:00:00'): 0.001970442634145364, Timestamp('2013-07-31 00:00:00'): 0.005037068909476972, Timestamp('2013-08-01 00:00:00'): 0.008311083929942065, Timestamp('2013-08-02 00:00:00'): -0.0012678320903116713, Timestamp('2013-08-05 00:00:00'): -0.0028790756349978963, Timestamp('2013-08-06 00:00:00'): -0.003568101239856958, Timestamp('2013-08-07 00:00:00'): 0.002804660146352944, Timestamp('2013-08-08 00:00:00'): 0.007187728383487801, Timestamp('2013-08-09 00:00:00'): -0.0031222341320518154, Timestamp('2013-08-12 00:00:00'): 0.0005910781466518245, Timestamp('2013-08-13 00:00:00'): 0.002446838473970203, Timestamp('2013-08-14 00:00:00'): -0.00888723261160429, Timestamp('2013-08-15 00:00:00'): -0.015162781896181698, Timestamp('2013-08-16 00:00:00'): 0.00043131355474557154, Timestamp('2013-08-19 00:00:00'): -0.0025051597020500083, Timestamp('2013-08-20 00:00:00'): -0.0016448167243394707, Timestamp('2013-08-21 00:00:00'): -0.01196300560653274, Timestamp('2013-08-22 00:00:00'): 0.010960355645601716, Timestamp('2013-08-23 00:00:00'): -0.0023571376761859497, Timestamp('2013-08-26 00:00:00'): -0.0006122330152527056, Timestamp('2013-08-27 00:00:00'): -0.014093645967367507, Timestamp('2013-08-28 00:00:00'): 0.0023926037438624093, Timestamp('2013-08-29 00:00:00'): 0.0028275950747396195, Timestamp('2013-08-30 00:00:00'): 0.0022923160217898086, Timestamp('2013-09-03 00:00:00'): -0.0031747362068603735, Timestamp('2013-09-04 00:00:00'): 0.011678320045586332, Timestamp('2013-09-05 00:00:00'): 0.0027895035346112707, Timestamp('2013-09-06 00:00:00'): 0.0014790391382266677, Timestamp('2013-09-09 00:00:00'): 0.014669372336097553, Timestamp('2013-09-10 00:00:00'): 0.007254827532125141, Timestamp('2013-09-11 00:00:00'): 0.009479400558524809, Timestamp('2013-09-12 00:00:00'): -0.004305458409776364, Timestamp('2013-09-13 00:00:00'): 0.0033783220724723506, Timestamp('2013-09-16 00:00:00'): 0.005298161192127004, Timestamp('2013-09-17 00:00:00'): 0.00585390050209611, Timestamp('2013-09-18 00:00:00'): 0.011275888586479432, Timestamp('2013-09-19 00:00:00'): 0.002306230884518534, Timestamp('2013-09-20 00:00:00'): -0.012915320143302544, Timestamp('2013-09-23 00:00:00'): 0.009123824092765354, Timestamp('2013-09-24 00:00:00'): -0.002562656563648069, Timestamp('2013-09-25 00:00:00'): -0.004979727128868738, Timestamp('2013-09-26 00:00:00'): 0.0038201463254043944, Timestamp('2013-09-27 00:00:00'): -0.003653585826394412, Timestamp('2013-09-30 00:00:00'): -0.006760145506751414, Timestamp('2013-10-01 00:00:00'): 0.0017572206936034007, Timestamp('2013-10-02 00:00:00'): -0.0035175346481137737, Timestamp('2013-10-03 00:00:00'): -0.005467592787638864, Timestamp('2013-10-04 00:00:00'): 0.00714434325217983, Timestamp('2013-10-07 00:00:00'): -0.005964360085292775, Timestamp('2013-10-08 00:00:00'): -0.012974813436589905, Timestamp('2013-10-09 00:00:00'): 0.003493470339886784, Timestamp('2013-10-10 00:00:00'): 0.014942616926486352, Timestamp('2013-10-11 00:00:00'): 0.011497414602400724, Timestamp('2013-10-14 00:00:00'): 0.005617161785250957, Timestamp('2013-10-15 00:00:00'): -0.013100170887434537, Timestamp('2013-10-16 00:00:00'): 0.009303354685320286, Timestamp('2013-10-17 00:00:00'): 0.01379586991853543, Timestamp('2013-10-18 00:00:00'): 0.0017928136927407579, Timestamp('2013-10-21 00:00:00'): 0.003331987770970102, Timestamp('2013-10-22 00:00:00'): 0.0044524952570643705, Timestamp('2013-10-23 00:00:00'): -0.00485843859650803, Timestamp('2013-10-24 00:00:00'): 0.002351212477297082, Timestamp('2013-10-25 00:00:00'): 0.007502898249878598, Timestamp('2013-10-28 00:00:00'): 0.004010256185110528, Timestamp('2013-10-29 00:00:00'): 0.0028780314301153354, Timestamp('2013-10-30 00:00:00'): -0.00391896028539751, Timestamp('2013-10-31 00:00:00'): 0.008458152603702196, Timestamp('2013-11-01 00:00:00'): 0.0003978193136902064, Timestamp('2013-11-04 00:00:00'): 0.0033303371687338768, Timestamp('2013-11-05 00:00:00'): -0.0015846120611797687, Timestamp('2013-11-06 00:00:00'): 0.007976139909422919, Timestamp('2013-11-07 00:00:00'): -0.005679617653647107, Timestamp('2013-11-08 00:00:00'): 0.01242177129693367, Timestamp('2013-11-11 00:00:00'): -0.0003128168717383417, Timestamp('2013-11-12 00:00:00'): 0.0031990263816332742, Timestamp('2013-11-13 00:00:00'): 0.0017908259237984225, Timestamp('2013-11-14 00:00:00'): 0.009288339844122362, Timestamp('2013-11-15 00:00:00'): 0.00046258975142698944, Timestamp('2013-11-18 00:00:00'): 0.0021540554459198447, Timestamp('2013-11-19 00:00:00'): -0.0006153359578586759, Timestamp('2013-11-20 00:00:00'): -0.0018175781790716883, Timestamp('2013-11-21 00:00:00'): 0.009016694590017416, Timestamp('2013-11-22 00:00:00'): 0.005126651608679644, Timestamp('2013-11-25 00:00:00'): 0.0016012750701657197, Timestamp('2013-11-26 00:00:00'): 0.006986354094671299, Timestamp('2013-11-27 00:00:00'): 0.010163725276368218, Timestamp('2013-11-29 00:00:00'): 7.486826753577702e-05, Timestamp('2013-12-02 00:00:00'): -0.04464885749706937, Timestamp('2013-12-03 00:00:00'): -0.008494778482280196, Timestamp('2013-12-04 00:00:00'): -0.001106562487557028, Timestamp('2013-12-05 00:00:00'): 0.002921221949214292, Timestamp('2013-12-06 00:00:00'): 0.013937228657033174, Timestamp('2013-12-09 00:00:00'): -0.00031091957180695573, Timestamp('2013-12-10 00:00:00'): -0.007965331454005131, Timestamp('2013-12-11 00:00:00'): -0.006133940848379815, Timestamp('2013-12-12 00:00:00'): -0.0014997165728427575, Timestamp('2013-12-13 00:00:00'): -0.0011860013532380975, Timestamp('2013-12-16 00:00:00'): 0.009682013036241166, Timestamp('2013-12-17 00:00:00'): 0.02879931843150274, Timestamp('2013-12-18 00:00:00'): 0.03301300311838151, Timestamp('2013-12-19 00:00:00'): 0.004482158143410686, Timestamp('2013-12-20 00:00:00'): 0.002269880622380427, Timestamp('2013-12-23 00:00:00'): 0.0005849807452360523, Timestamp('2013-12-24 00:00:00'): 0.0013881402837547796, Timestamp('2013-12-26 00:00:00'): 0.009445060449483123, Timestamp('2013-12-27 00:00:00'): 0.007635653287795918, Timestamp('2013-12-30 00:00:00'): 0.0005020643029469696, Timestamp('2013-12-31 00:00:00'): 0.005935435245843834, Timestamp('2014-01-02 00:00:00'): -0.015231222580863069, Timestamp('2014-01-03 00:00:00'): 0.0023140359545958944, Timestamp('2014-01-06 00:00:00'): -0.005940111106174761, Timestamp('2014-01-07 00:00:00'): 0.00014514205672178093, Timestamp('2014-01-08 00:00:00'): -0.0074376549883838905, Timestamp('2014-01-09 00:00:00'): -0.0013186424794797702, Timestamp('2014-01-10 00:00:00'): -0.001980258877953389, Timestamp('2014-01-13 00:00:00'): -0.011076193438525728, Timestamp('2014-01-14 00:00:00'): 0.02006772883138641, Timestamp('2014-01-15 00:00:00'): 0.007467984190725474, Timestamp('2014-01-16 00:00:00'): -0.0020245865323991197, Timestamp('2014-01-17 00:00:00'): -0.006171549888073002, Timestamp('2014-01-21 00:00:00'): -0.0023328844276466754, Timestamp('2014-01-22 00:00:00'): -0.0037302161597549954, Timestamp('2014-01-23 00:00:00'): -0.013053757366598973, Timestamp('2014-01-24 00:00:00'): -0.033898891577331725, Timestamp('2014-01-27 00:00:00'): -0.009722751119999984, Timestamp('2014-01-28 00:00:00'): 0.0065691248746233555, Timestamp('2014-01-29 00:00:00'): 0.0033837690328857306, Timestamp('2014-01-30 00:00:00'): -0.017034519788567515, Timestamp('2014-01-31 00:00:00'): 0.0010928297429160239, Timestamp('2014-02-03 00:00:00'): -0.03403875258580413, Timestamp('2014-02-04 00:00:00'): 0.022505081529118343, Timestamp('2014-02-05 00:00:00'): 0.0050377090942648195, Timestamp('2014-02-06 00:00:00'): 0.012018890769572188, Timestamp('2014-02-07 00:00:00'): 0.011033095708031126, Timestamp('2014-02-10 00:00:00'): -0.004845455572960233, Timestamp('2014-02-11 00:00:00'): 0.009820483482238629, Timestamp('2014-02-12 00:00:00'): 0.0024179471096283933, Timestamp('2014-02-13 00:00:00'): -0.00230298169627563, Timestamp('2014-02-14 00:00:00'): 0.01509985073276443, Timestamp('2014-02-18 00:00:00'): -0.0024249351874141567, Timestamp('2014-02-19 00:00:00'): -0.009452586341846647, Timestamp('2014-02-20 00:00:00'): 0.007630068102592702, Timestamp('2014-02-21 00:00:00'): 7.617516037505823e-05, Timestamp('2014-02-24 00:00:00'): 0.004776842769439682, Timestamp('2014-02-25 00:00:00'): 0.00550676463212163, Timestamp('2014-02-26 00:00:00'): -0.0005267035816975962, Timestamp('2014-02-27 00:00:00'): 0.011077635931695973, Timestamp('2014-02-28 00:00:00'): 0.002899391120862127, Timestamp('2014-03-03 00:00:00'): -0.018881381061773617, Timestamp('2014-03-04 00:00:00'): 0.0035484152933671353, Timestamp('2014-03-05 00:00:00'): 0.00877963867255982, Timestamp('2014-03-06 00:00:00'): 0.001716817562327222, Timestamp('2014-03-07 00:00:00'): 0.00022382204193949207, Timestamp('2014-03-10 00:00:00'): -0.004109549315933769, Timestamp('2014-03-11 00:00:00'): -0.007892774830497551, Timestamp('2014-03-12 00:00:00'): 0.0004528959552443368, Timestamp('2014-03-13 00:00:00'): -0.013364875732562176, Timestamp('2014-03-14 00:00:00'): -0.0075201904479369475, Timestamp('2014-03-17 00:00:00'): 0.01861922759585788, Timestamp('2014-03-18 00:00:00'): 0.0035471064188170587, Timestamp('2014-03-19 00:00:00'): -0.011440794280666466, Timestamp('2014-03-20 00:00:00'): 0.009102780587797454, Timestamp('2014-03-21 00:00:00'): 0.0051966242905399085, Timestamp('2014-03-24 00:00:00'): -0.005272205567129262, Timestamp('2014-03-25 00:00:00'): 0.012308723413221756, Timestamp('2014-03-26 00:00:00'): -0.007261905963113158, Timestamp('2014-03-27 00:00:00'): -0.001879981766736094, Timestamp('2014-03-28 00:00:00'): 0.010185693843569155, Timestamp('2014-03-31 00:00:00'): 0.010820471082994665, Timestamp('2014-04-01 00:00:00'): 0.0063926756424228515, Timestamp('2014-04-02 00:00:00'): -0.0038894573155952017, Timestamp('2014-04-03 00:00:00'): 0.0010288276298897614, Timestamp('2014-04-04 00:00:00'): -0.00205861815607733, Timestamp('2014-04-07 00:00:00'): -0.010804844185440032, Timestamp('2014-04-08 00:00:00'): 0.003268428588640404, Timestamp('2014-04-09 00:00:00'): 0.007388870720070884, Timestamp('2014-04-10 00:00:00'): -0.01386153703595383, Timestamp('2014-04-11 00:00:00'): -0.011863826966112434, Timestamp('2014-04-14 00:00:00'): 0.005724417955776495, Timestamp('2014-04-15 00:00:00'): 0.007034739319214722, Timestamp('2014-04-16 00:00:00'): 0.019789232149693525, Timestamp('2014-04-17 00:00:00'): 0.0069943442029334335, Timestamp('2014-04-21 00:00:00'): 0.006441128845100508, Timestamp('2014-04-22 00:00:00'): 0.001946273634066742, Timestamp('2014-04-23 00:00:00'): -0.006501095023494052, Timestamp('2014-04-24 00:00:00'): -0.009758430527196715, Timestamp('2014-04-25 00:00:00'): -0.0006584554208890481, Timestamp('2014-04-28 00:00:00'): 0.004893805927517647, Timestamp('2014-04-29 00:00:00'): 0.00232938224620316, Timestamp('2014-04-30 00:00:00'): 0.011133695949283151, Timestamp('2014-05-01 00:00:00'): 0.012290248518604052, Timestamp('2014-05-02 00:00:00'): -0.004912499323093122, Timestamp('2014-05-05 00:00:00'): 0.0034910915019423783, Timestamp('2014-05-06 00:00:00'): -0.00943172211536858, Timestamp('2014-05-07 00:00:00'): 0.013193993535579374, Timestamp('2014-05-08 00:00:00'): -0.0021990857002434083, Timestamp('2014-05-09 00:00:00'): 0.0036152525557895387, Timestamp('2014-05-12 00:00:00'): 0.010416549956145715, Timestamp('2014-05-13 00:00:00'): -0.0027343788082072606, Timestamp('2014-05-14 00:00:00'): -0.00584464832514886, Timestamp('2014-05-15 00:00:00'): -0.004387938481237974, Timestamp('2014-05-16 00:00:00'): 0.0010631458055279097, Timestamp('2014-05-19 00:00:00'): 0.003819087338433391, Timestamp('2014-05-20 00:00:00'): -0.010216200412652476, Timestamp('2014-05-21 00:00:00'): 0.00917724959264099, Timestamp('2014-05-22 00:00:00'): -0.0024912887750936363, Timestamp('2014-05-23 00:00:00'): 0.0058981639263651076, Timestamp('2014-05-27 00:00:00'): 0.0021233025374760572, Timestamp('2014-05-28 00:00:00'): -7.098108274039561e-05, Timestamp('2014-05-29 00:00:00'): 0.006764999561220897, Timestamp('2014-05-30 00:00:00'): 0.0011230486082389746}\n"
          ]
        }
      ]
    },
    {
      "cell_type": "markdown",
      "metadata": {
        "id": "NSViZAE2kyzg"
      },
      "source": [
        "#### Basic Statistics and the Correlation Coefficient\n",
        "\n",
        "For fun's sake, we define our own aggretated stats, including Pearson's correlation coefficient.\n",
        "\n",
        "\\begin{equation*}\n",
        "  \\rho =\n",
        "  \\frac{ \\sum_{i=1}^{n}(x_i-\\bar{x})(y_i-\\bar{y}) }{%\n",
        "        \\sqrt{\\sum_{i=1}^{n}(x_i-\\bar{x})^2}\\sqrt{\\sum_{i=1}^{n}(y_i-\\bar{y})^2}}\n",
        "\\end{equation*}"
      ]
    },
    {
      "cell_type": "code",
      "execution_count": 34,
      "metadata": {
        "id": "XyK4Zx6Ckyzg"
      },
      "outputs": [],
      "source": [
        "# mean\n",
        "def mean(X):\n",
        "    m = 0.0\n",
        "    for i in X:\n",
        "        m += i\n",
        "    return m / len(X)\n",
        "\n",
        "# covariance\n",
        "def covariance(X, Y):\n",
        "    c = 0.0\n",
        "    m_X = mean(X)\n",
        "    m_Y = mean(Y)\n",
        "    for i in range(len(X)):\n",
        "        c = c + (X[i] - m_X) * (Y[i] - m_Y)\n",
        "    return c / len(X)\n",
        "\n",
        "# pearson correlation coefficient\n",
        "def pearson(X, Y):\n",
        "    return covariance(X,Y) / (covariance(X,X)**0.5 * covariance(Y,Y)**0.5)"
      ]
    },
    {
      "cell_type": "markdown",
      "metadata": {
        "id": "SGYfSDT0kyzg"
      },
      "source": [
        "### Correlation of returns\n",
        "\n",
        "For an example, let's explore the correlation between the returns of two companies: 3M and Union Pacific."
      ]
    },
    {
      "cell_type": "code",
      "execution_count": 35,
      "metadata": {
        "id": "xWArogzYK2UM"
      },
      "outputs": [],
      "source": [
        "\n",
        "REF_COMPANY2 = \"UNP\""
      ]
    },
    {
      "cell_type": "code",
      "execution_count": 37,
      "metadata": {
        "id": "rzbYSoBJkyzh"
      },
      "outputs": [],
      "source": [
        "def stocks_corr_coeff(h1, h2):\n",
        "\n",
        "    l1 = []\n",
        "    l2 = []\n",
        "\n",
        "    intersec_dates = set(h1.keys()).intersection(set(h2.keys()))\n",
        "\n",
        "    for d in intersec_dates:\n",
        "        l1.append(float(h1[d]))\n",
        "        l2.append(float(h2[d]))\n",
        "\n",
        "    # correlation with the same company has to be 1!\n",
        "    return pearson(l1, l2)\n"
      ]
    },
    {
      "cell_type": "code",
      "execution_count": 38,
      "metadata": {
        "id": "dEKCBVeEK2UM",
        "colab": {
          "base_uri": "https://localhost:8080/"
        },
        "outputId": "ac833c22-c4ca-4592-f8e3-6da1e486b9a6"
      },
      "outputs": [
        {
          "output_type": "stream",
          "name": "stdout",
          "text": [
            "0.4777792685855254\n"
          ]
        }
      ],
      "source": [
        "correl = stocks_corr_coeff(\n",
        "    dict_returns[REF_COMPANY],\n",
        "    dict_returns[REF_COMPANY2]\n",
        "    )\n",
        "\n",
        "print(correl)"
      ]
    },
    {
      "cell_type": "markdown",
      "metadata": {
        "id": "gX9zZYKVkyzh"
      },
      "source": [
        "### Build the correlation Network"
      ]
    },
    {
      "cell_type": "code",
      "execution_count": 39,
      "metadata": {
        "id": "mDPe0ZhKkyzh",
        "colab": {
          "base_uri": "https://localhost:8080/",
          "height": 605
        },
        "outputId": "fac84b03-f28f-42a0-9126-a080f64a3f9f"
      },
      "outputs": [
        {
          "output_type": "stream",
          "name": "stdout",
          "text": [
            "['MMM', 'ABT', 'ABBV', 'ACN', 'AEB', 'AED', 'MO', 'ABEV', 'AXP', 'AIG', 'BUD', 'AZN', 'T', 'SAN', 'BAC', 'BNS', 'BCS', 'BHP', 'BLK', 'BA', 'BP', 'BMY', 'CX', 'CVX', 'C', 'KO', 'CL', 'COP', 'CVS', 'DHR', 'DEO', 'DUK', 'DD', 'LLY', 'E', 'EPD', 'XOM', 'F', 'GE', 'GSK', 'GS', 'TV', 'HDB', 'HD', 'HON', 'HSBC', 'IBM', 'ITUB', 'JPM', 'JNJ', 'LYG', 'LMT', 'LOW', 'MA', 'MCD', 'MDT', 'MRK', 'MS', 'NGG', 'NEE', 'NKE', 'NVS', 'NVO', 'OXY', 'ORCL', 'PEP', 'PFE', 'PM', 'PG', 'RIO', 'RY', 'SNY', 'SAP', 'SLB', 'SPG', 'TSM', 'TEF', 'TMO', 'TJX', 'TD', 'TM', 'USB', 'UBS', 'UL', 'UNP', 'UPS', 'UNH', 'VZ', 'V', 'WMT', 'DIS', 'WFC']\n",
            "92\n",
            "number of nodes: 92\n",
            "number of edges: 4186\n"
          ]
        },
        {
          "output_type": "display_data",
          "data": {
            "text/plain": [
              "<Figure size 640x480 with 1 Axes>"
            ],
            "image/png": "[encoded data removed]"
          },
          "metadata": {}
        }
      ],
      "source": [
        "corr_network = nx.Graph()\n",
        "\n",
        "list_of_comp = [keys for keys in dict_returns]\n",
        "\n",
        "print(list_of_comp)\n",
        "\n",
        "num_companies = len(dict_returns.keys())\n",
        "\n",
        "print(num_companies)\n",
        "\n",
        "for i1 in range(num_companies - 1):\n",
        "\n",
        "    for i2 in range(i1 + 1, num_companies):\n",
        "\n",
        "        stock1 = list_of_comp[i1]\n",
        "\n",
        "        stock2 = list_of_comp[i2]\n",
        "\n",
        "        # metric distance\n",
        "        corr = stocks_corr_coeff(dict_returns[stock1], dict_returns[stock2])\n",
        "\n",
        "        metric_distance = math.sqrt(2*(1.0 - corr))\n",
        "        # building the network\n",
        "        corr_network.add_edge(stock1, stock2, weight = metric_distance)\n",
        "\n",
        "print(\"number of nodes:\", corr_network.number_of_nodes())\n",
        "print(\"number of edges:\", corr_network.number_of_edges())\n",
        "\n",
        "nx.draw(corr_network, with_labels = True)"
      ]
    },
    {
      "cell_type": "markdown",
      "metadata": {
        "id": "lilPOW5dkyzh"
      },
      "source": [
        "### Extract the Minimum Spanning Tree with [Prim's algorithm](http://en.wikipedia.org/wiki/Prim%27s_algorithm)\n",
        "\n",
        "We arbitrarily root the MST in `MMM`."
      ]
    },
    {
      "cell_type": "code",
      "execution_count": 40,
      "metadata": {
        "id": "SdSmDcSZK2UN"
      },
      "outputs": [],
      "source": [
        "tree_seed = REF_COMPANY"
      ]
    },
    {
      "cell_type": "code",
      "execution_count": 41,
      "metadata": {
        "id": "pBqFiavvkyzh"
      },
      "outputs": [],
      "source": [
        "N_new = []\n",
        "\n",
        "E_new = []\n",
        "\n",
        "N_new.append(tree_seed)\n",
        "\n",
        "while len(N_new) < corr_network.number_of_nodes():\n",
        "\n",
        "    min_weight = 10_000_000.0\n",
        "\n",
        "    for n in N_new:\n",
        "        for n_adj in corr_network.neighbors(n):\n",
        "            if not n_adj in N_new:\n",
        "                if corr_network[n][n_adj]['weight'] < min_weight:\n",
        "\n",
        "                    min_weight = corr_network[n][n_adj]['weight']\n",
        "\n",
        "                    min_weight_edge = (n,n_adj)\n",
        "\n",
        "                    n_adj_ext = n_adj\n",
        "\n",
        "    E_new.append(min_weight_edge)\n",
        "    N_new.append(n_adj_ext)\n",
        "\n",
        "# generate the tree from the edge list\n",
        "tree_graph = nx.Graph()\n",
        "\n",
        "tree_graph.add_edges_from(E_new)\n",
        "\n",
        "# setting the color attributes for the network nodes\n",
        "for n in tree_graph.nodes():\n",
        "    tree_graph.nodes[n]['color'] = dict_colors[dict_sectors[n]]"
      ]
    },
    {
      "cell_type": "code",
      "execution_count": 42,
      "metadata": {
        "id": "jFUNIL1vK2UO",
        "colab": {
          "base_uri": "https://localhost:8080/",
          "height": 516
        },
        "outputId": "addf6e90-896f-49f2-ac84-504450e8322b"
      },
      "outputs": [
        {
          "output_type": "display_data",
          "data": {
            "text/plain": [
              "<Figure size 640x480 with 1 Axes>"
            ],
            "image/png": "[encoded data removed]"
          },
          "metadata": {}
        }
      ],
      "source": [
        "#this is a simpler representation if you have issues with graphviz\n",
        "\n",
        "nx.draw(tree_graph, with_labels = True)"
      ]
    },
    {
      "cell_type": "markdown",
      "metadata": {
        "id": "QpwaReWekyzh"
      },
      "source": [
        "#### Printing the Financial MST with Graphviz\n",
        "\n",
        "The cell below spans the full force of `Graphviz`; it might require further module installations such as `pydot` and `neato`.\n",
        "\n",
        "To avoid issues with the *very tricky* `pygraphviz` installation, the static output for the period studied in the textbook, i.e., the years running up to 31 May 2014.\n",
        "\n",
        "In the MST representation below we notice the emergence of a few hubs which are easy to interpret. For instance, one is around Honewell (`HON`), which is an industry/defense company, another is Wells Fargo (`WFC`) which is where a branch stems. Finally, BlackRock (`BLK`) is a big hub of financial tickers.\n",
        "\n",
        "The most intresting insights are *across industries:* for example Johnson & Johnson (`JNJ`) is connected both to pharma, e.g., Pfizer (`PFE`), and to retail, e.g., Colgate (`CL`)."
      ]
    },
    {
      "cell_type": "code",
      "execution_count": 43,
      "metadata": {
        "id": "TPNn4nKJkyzi",
        "colab": {
          "base_uri": "https://localhost:8080/",
          "height": 1000
        },
        "outputId": "5623c593-e95e-44cb-d746-23414008eb40"
      },
      "outputs": [
        {
          "output_type": "execute_result",
          "data": {
            "text/plain": [
              "(np.float64(-226.72331500000004),\n",
              " np.float64(2730.520315),\n",
              " np.float64(-34.92000000000001),\n",
              " np.float64(574.9200000000001))"
            ]
          },
          "metadata": {},
          "execution_count": 43
        },
        {
          "output_type": "display_data",
          "data": {
            "text/plain": [
              "<Figure size 2000x2000 with 1 Axes>"
            ],
            "image/png": "[encoded data removed]"
          },
          "metadata": {}
        }
      ],
      "source": [
        "# Pygraphviz solution:\n",
        "# pos = nx.nx_agraph.graphviz_layout(tree_graph)\n",
        "\n",
        "# graphviz solution:\n",
        "pos = graphviz_layout(\n",
        "    tree_graph,\n",
        "    prog = 'dot'\n",
        "    )\n",
        "\n",
        "\n",
        "plt.figure(figsize = (20, 20))\n",
        "\n",
        "nx.draw_networkx_edges(\n",
        "    tree_graph,\n",
        "    pos,\n",
        "    width = 2,\n",
        "    edge_color = 'black',\n",
        "    alpha = 0.5,\n",
        "    style = 'solid'\n",
        "    )\n",
        "\n",
        "nx.draw_networkx_labels(tree_graph, pos)\n",
        "\n",
        "for n in tree_graph.nodes():\n",
        "    nx.draw_networkx_nodes(\n",
        "        tree_graph, pos, [n], node_size = 600, alpha = 0.5,\n",
        "        node_color=tree_graph.nodes[n]['color']\n",
        "        )\n",
        "\n",
        "plt.axis('off')\n",
        "\n",
        "#plt.savefig('MST_50B_new.png', dpi=600)\n"
      ]
    },
    {
      "cell_type": "markdown",
      "metadata": {
        "id": "cQeLLUeYK2UO"
      },
      "source": [
        "![](./imgs/MSTFinancialNetwork.png)"
      ]
    }
  ],
  "metadata": {
    "colab": {
      "provenance": []
    },
    "kernelspec": {
      "display_name": "Python 3",
      "language": "python",
      "name": "python3"
    },
    "language_info": {
      "codemirror_mode": {
        "name": "ipython",
        "version": 3
      },
      "file_extension": ".py",
      "mimetype": "text/x-python",
      "name": "python",
      "nbconvert_exporter": "python",
      "pygments_lexer": "ipython3",
      "version": "3.12.4"
    }
  },
  "nbformat": 4,
  "nbformat_minor": 0
}