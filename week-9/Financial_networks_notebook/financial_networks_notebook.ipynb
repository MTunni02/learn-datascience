{
  "cells": [
    {
      "attachments": {},
      "cell_type": "markdown",
      "metadata": {
        "id": "wumK00ZRkyzS"
      },
      "source": [
        "### Chapter V - Financial networks.\n",
        "\n",
        "#### This __demonstration (no exercise)__ notebook is taken from the notebook for Ch. 5 of Caldarelli-Cheesa's textbook (CC).\n",
        "\n",
        "\n",
        "\n"
      ]
    },
    {
      "cell_type": "markdown",
      "metadata": {},
      "source": [
        "#### Colab execution:\n",
        "\n",
        "Please execute as usual with online installation of the yfinance module."
      ]
    },
    {
      "cell_type": "markdown",
      "metadata": {},
      "source": [
        "#### Local execution:\n",
        "\n",
        "For local usage, it is recommended to install yfinance from within Anaconda, e.g.\n",
        "\n",
        "```bash\n",
        "C:\\WINDOWS\\system32>conda install -c ranaroussi yfinance\n",
        "```\n",
        "or from the Navigator tool, e.g. by subscribing to the \"ranaroussi\" channel.\n",
        "Without Anaconda, you may install the package directly:\n",
        "\n",
        "```bash\n",
        "C:\\WINDOWS\\system32>pip install yfinance\n",
        "```\n",
        "\n",
        "In any case these commands are repeated below, please comment out as needed."
      ]
    },
    {
      "attachments": {},
      "cell_type": "markdown",
      "metadata": {},
      "source": [
        "#### Changelog\n",
        "\n",
        "- June 2024 version by A. Matuozzo updates the code to the current availability of modules.\n",
        "Notice: recent Networkx versiona are deprecating Graphviz.pydot\n",
        "\n",
        "- March 2023 version by P. Lagias runs on a reduced dataset of tickers to avoid issues with delisted/defunct stocks. \n",
        "\n"
      ]
    },
    {
      "cell_type": "code",
      "execution_count": 48,
      "metadata": {
        "id": "1Nwy90wQDL7h",
        "vscode": {
          "languageId": "shellscript"
        }
      },
      "outputs": [
        {
          "name": "stdout",
          "output_type": "stream",
          "text": [
            "Defaulting to user installation because normal site-packages is not writeable\n",
            "Requirement already satisfied: graphviz in c:\\users\\ale\\appdata\\roaming\\python\\python313\\site-packages (0.21)\n"
          ]
        }
      ],
      "source": [
        "!pip install graphviz \n"
      ]
    },
    {
      "cell_type": "code",
      "execution_count": 49,
      "metadata": {
        "id": "GnXgXl-LtU_o",
        "vscode": {
          "languageId": "shellscript"
        }
      },
      "outputs": [
        {
          "name": "stdout",
          "output_type": "stream",
          "text": [
            "Defaulting to user installation because normal site-packages is not writeable\n",
            "Requirement already satisfied: yfinance in c:\\users\\ale\\appdata\\roaming\\python\\python313\\site-packages (0.2.63)\n",
            "Requirement already satisfied: pandas>=1.3.0 in c:\\users\\ale\\appdata\\roaming\\python\\python313\\site-packages (from yfinance) (2.2.3)\n",
            "Requirement already satisfied: numpy>=1.16.5 in c:\\users\\ale\\appdata\\roaming\\python\\python313\\site-packages (from yfinance) (2.2.3)\n",
            "Requirement already satisfied: requests>=2.31 in c:\\users\\ale\\appdata\\roaming\\python\\python313\\site-packages (from yfinance) (2.32.3)\n",
            "Requirement already satisfied: multitasking>=0.0.7 in c:\\users\\ale\\appdata\\roaming\\python\\python313\\site-packages (from yfinance) (0.0.11)\n",
            "Requirement already satisfied: platformdirs>=2.0.0 in c:\\users\\ale\\appdata\\roaming\\python\\python313\\site-packages (from yfinance) (4.3.6)\n",
            "Requirement already satisfied: pytz>=2022.5 in c:\\users\\ale\\appdata\\roaming\\python\\python313\\site-packages (from yfinance) (2025.1)\n",
            "Requirement already satisfied: frozendict>=2.3.4 in c:\\users\\ale\\appdata\\roaming\\python\\python313\\site-packages (from yfinance) (2.4.6)\n",
            "Requirement already satisfied: peewee>=3.16.2 in c:\\users\\ale\\appdata\\roaming\\python\\python313\\site-packages (from yfinance) (3.18.1)\n",
            "Requirement already satisfied: beautifulsoup4>=4.11.1 in c:\\users\\ale\\appdata\\roaming\\python\\python313\\site-packages (from yfinance) (4.13.4)\n",
            "Requirement already satisfied: curl_cffi>=0.7 in c:\\users\\ale\\appdata\\roaming\\python\\python313\\site-packages (from yfinance) (0.11.3)\n",
            "Requirement already satisfied: protobuf>=3.19.0 in c:\\users\\ale\\appdata\\roaming\\python\\python313\\site-packages (from yfinance) (6.31.1)\n",
            "Requirement already satisfied: websockets>=13.0 in c:\\users\\ale\\appdata\\roaming\\python\\python313\\site-packages (from yfinance) (15.0.1)\n",
            "Requirement already satisfied: soupsieve>1.2 in c:\\users\\ale\\appdata\\roaming\\python\\python313\\site-packages (from beautifulsoup4>=4.11.1->yfinance) (2.7)\n",
            "Requirement already satisfied: typing-extensions>=4.0.0 in c:\\python313\\lib\\site-packages (from beautifulsoup4>=4.11.1->yfinance) (4.13.2)\n",
            "Requirement already satisfied: cffi>=1.12.0 in c:\\users\\ale\\appdata\\roaming\\python\\python313\\site-packages (from curl_cffi>=0.7->yfinance) (1.17.1)\n",
            "Requirement already satisfied: certifi>=2024.2.2 in c:\\users\\ale\\appdata\\roaming\\python\\python313\\site-packages (from curl_cffi>=0.7->yfinance) (2025.4.26)\n",
            "Requirement already satisfied: pycparser in c:\\users\\ale\\appdata\\roaming\\python\\python313\\site-packages (from cffi>=1.12.0->curl_cffi>=0.7->yfinance) (2.22)\n",
            "Requirement already satisfied: python-dateutil>=2.8.2 in c:\\users\\ale\\appdata\\roaming\\python\\python313\\site-packages (from pandas>=1.3.0->yfinance) (2.9.0.post0)\n",
            "Requirement already satisfied: tzdata>=2022.7 in c:\\users\\ale\\appdata\\roaming\\python\\python313\\site-packages (from pandas>=1.3.0->yfinance) (2025.1)\n",
            "Requirement already satisfied: six>=1.5 in c:\\users\\ale\\appdata\\roaming\\python\\python313\\site-packages (from python-dateutil>=2.8.2->pandas>=1.3.0->yfinance) (1.17.0)\n",
            "Requirement already satisfied: charset-normalizer<4,>=2 in c:\\users\\ale\\appdata\\roaming\\python\\python313\\site-packages (from requests>=2.31->yfinance) (3.4.2)\n",
            "Requirement already satisfied: idna<4,>=2.5 in c:\\users\\ale\\appdata\\roaming\\python\\python313\\site-packages (from requests>=2.31->yfinance) (2.10)\n",
            "Requirement already satisfied: urllib3<3,>=1.21.1 in c:\\users\\ale\\appdata\\roaming\\python\\python313\\site-packages (from requests>=2.31->yfinance) (2.4.0)\n"
          ]
        }
      ],
      "source": [
        "!pip install yfinance"
      ]
    },
    {
      "cell_type": "code",
      "execution_count": 50,
      "metadata": {
        "vscode": {
          "languageId": "shellscript"
        }
      },
      "outputs": [],
      "source": [
        "import yfinance as yf"
      ]
    },
    {
      "cell_type": "markdown",
      "metadata": {},
      "source": [
        "###### Discontinued: the original yahooFinacials module is no longer used as it is falling out of maintenance. It used to be installed with `!pip install yahoofinancials`"
      ]
    },
    {
      "cell_type": "markdown",
      "metadata": {},
      "source": [
        "Now, let us make sure that we have the `seaborn` module for visualisation; in case add a cell with this::\n",
        "\n",
        "```bash\n",
        "!pip install seaborn\n",
        "```\n",
        "\n",
        "However, the present notebook can be run without it, `matplotlib` suffices."
      ]
    },
    {
      "cell_type": "code",
      "execution_count": 51,
      "metadata": {
        "vscode": {
          "languageId": "shellscript"
        }
      },
      "outputs": [],
      "source": [
        "import seaborn as sns"
      ]
    },
    {
      "cell_type": "code",
      "execution_count": 52,
      "metadata": {
        "id": "p1L36Dr1tM8t"
      },
      "outputs": [],
      "source": [
        "import sys\n",
        "import time\n",
        "import math\n",
        "\n",
        "import pandas as pd\n",
        "\n",
        "import matplotlib.pyplot as plt\n",
        "\n",
        "import networkx as nx\n",
        "\n",
        "from networkx.drawing.nx_pydot import graphviz_layout\n",
        "\n",
        "from collections import Counter\n",
        "\n",
        "#from yahoofinancials import YahooFinancials\n",
        "\n",
        "#from yahoofinancials.etl import ManagedException\n"
      ]
    },
    {
      "cell_type": "markdown",
      "metadata": {
        "id": "jJMaikVKkyzZ"
      },
      "source": [
        "### Connecting to the Yahoo! Finance service\n",
        "\n",
        "What with Apple Inc. on May 19th 2017?"
      ]
    },
    {
      "cell_type": "code",
      "execution_count": 53,
      "metadata": {},
      "outputs": [],
      "source": [
        "TICKER = 'AAPL'\n",
        "START_DATE = '2017-05-19'\n",
        "END_DATE = '2017-05-20'"
      ]
    },
    {
      "cell_type": "code",
      "execution_count": 54,
      "metadata": {
        "colab": {
          "base_uri": "https://localhost:8080/"
        },
        "id": "nIEqyLsEkyza",
        "outputId": "40b3e54b-e7db-497d-8510-01bc0caab9e2"
      },
      "outputs": [
        {
          "name": "stderr",
          "output_type": "stream",
          "text": [
            "C:\\Users\\ale\\AppData\\Local\\Temp\\ipykernel_20848\\533378000.py:1: FutureWarning: YF.download() has changed argument auto_adjust default to True\n",
            "  apple = yf.download(TICKER, start=START_DATE, end=END_DATE)\n",
            "[*********************100%***********************]  1 of 1 completed"
          ]
        },
        {
          "name": "stdout",
          "output_type": "stream",
          "text": [
            "Price          Close       High        Low       Open     Volume\n",
            "Ticker          AAPL       AAPL       AAPL       AAPL       AAPL\n",
            "Date                                                            \n",
            "2017-05-19  35.65221  35.866505  35.552052  35.726749  107843200\n"
          ]
        },
        {
          "name": "stderr",
          "output_type": "stream",
          "text": [
            "\n"
          ]
        }
      ],
      "source": [
        "apple = yf.download(TICKER, start=START_DATE, end=END_DATE)\n",
        "\n",
        "print(apple)"
      ]
    },
    {
      "cell_type": "code",
      "execution_count": 55,
      "metadata": {},
      "outputs": [
        {
          "data": {
            "application/vnd.microsoft.datawrangler.viewer.v0+json": {
              "columns": [
                {
                  "name": "Date",
                  "rawType": "datetime64[ns]",
                  "type": "datetime"
                },
                {
                  "name": "('Close', 'AAPL')",
                  "rawType": "float64",
                  "type": "float"
                },
                {
                  "name": "('High', 'AAPL')",
                  "rawType": "float64",
                  "type": "float"
                },
                {
                  "name": "('Low', 'AAPL')",
                  "rawType": "float64",
                  "type": "float"
                },
                {
                  "name": "('Open', 'AAPL')",
                  "rawType": "float64",
                  "type": "float"
                },
                {
                  "name": "('Volume', 'AAPL')",
                  "rawType": "int64",
                  "type": "integer"
                }
              ],
              "ref": "0675fc21-c3b1-4699-a3c7-607425b1f9c7",
              "rows": [
                [
                  "2014-05-19 00:00:00",
                  "19.01042366027832",
                  "19.096578291492957",
                  "18.782142854860744",
                  "18.798493846852498",
                  "317755200"
                ]
              ],
              "shape": {
                "columns": 5,
                "rows": 1
              }
            },
            "text/html": [
              "<div>\n",
              "<style scoped>\n",
              "    .dataframe tbody tr th:only-of-type {\n",
              "        vertical-align: middle;\n",
              "    }\n",
              "\n",
              "    .dataframe tbody tr th {\n",
              "        vertical-align: top;\n",
              "    }\n",
              "\n",
              "    .dataframe thead tr th {\n",
              "        text-align: left;\n",
              "    }\n",
              "\n",
              "    .dataframe thead tr:last-of-type th {\n",
              "        text-align: right;\n",
              "    }\n",
              "</style>\n",
              "<table border=\"1\" class=\"dataframe\">\n",
              "  <thead>\n",
              "    <tr>\n",
              "      <th>Price</th>\n",
              "      <th>Close</th>\n",
              "      <th>High</th>\n",
              "      <th>Low</th>\n",
              "      <th>Open</th>\n",
              "      <th>Volume</th>\n",
              "    </tr>\n",
              "    <tr>\n",
              "      <th>Ticker</th>\n",
              "      <th>AAPL</th>\n",
              "      <th>AAPL</th>\n",
              "      <th>AAPL</th>\n",
              "      <th>AAPL</th>\n",
              "      <th>AAPL</th>\n",
              "    </tr>\n",
              "    <tr>\n",
              "      <th>Date</th>\n",
              "      <th></th>\n",
              "      <th></th>\n",
              "      <th></th>\n",
              "      <th></th>\n",
              "      <th></th>\n",
              "    </tr>\n",
              "  </thead>\n",
              "  <tbody>\n",
              "    <tr>\n",
              "      <th>2014-05-19</th>\n",
              "      <td>19.010424</td>\n",
              "      <td>19.096578</td>\n",
              "      <td>18.782143</td>\n",
              "      <td>18.798494</td>\n",
              "      <td>317755200</td>\n",
              "    </tr>\n",
              "  </tbody>\n",
              "</table>\n",
              "</div>"
            ],
            "text/plain": [
              "Price           Close       High        Low       Open     Volume\n",
              "Ticker           AAPL       AAPL       AAPL       AAPL       AAPL\n",
              "Date                                                             \n",
              "2014-05-19  19.010424  19.096578  18.782143  18.798494  317755200"
            ]
          },
          "execution_count": 55,
          "metadata": {},
          "output_type": "execute_result"
        }
      ],
      "source": [
        "#this data is structured as a pandas dataframe to benefits from its built in methods \n",
        "data.head()"
      ]
    },
    {
      "cell_type": "code",
      "execution_count": 56,
      "metadata": {},
      "outputs": [
        {
          "data": {
            "text/plain": [
              "DatetimeIndex(['2014-05-19'], dtype='datetime64[ns]', name='Date', freq=None)"
            ]
          },
          "execution_count": 56,
          "metadata": {},
          "output_type": "execute_result"
        }
      ],
      "source": [
        "#setting the Date as index gives access to pandas functions to sample time series data\n",
        "data.index"
      ]
    },
    {
      "cell_type": "markdown",
      "metadata": {
        "id": "Si1GfHKBkyza"
      },
      "source": [
        "#### Compute and plot transaction volumes \n",
        "\n",
        "Example: how was Microsoft traded in 2014?\n",
        "\n",
        "Change the settings below to study other stocks, e.g., NVDA."
      ]
    },
    {
      "cell_type": "code",
      "execution_count": 63,
      "metadata": {},
      "outputs": [],
      "source": [
        "TICKER = 'MSFT'\n",
        "START_DATE = '2014-01-01'\n",
        "END_DATE = '2014-12-31'"
      ]
    },
    {
      "cell_type": "code",
      "execution_count": 64,
      "metadata": {
        "colab": {
          "base_uri": "https://localhost:8080/"
        },
        "id": "8Fyduqdbkyzb",
        "outputId": "1d123e01-2028-4ee8-eb39-34d1777fba44"
      },
      "outputs": [
        {
          "name": "stderr",
          "output_type": "stream",
          "text": [
            "C:\\Users\\ale\\AppData\\Local\\Temp\\ipykernel_20848\\3075865119.py:2: FutureWarning: YF.download() has changed argument auto_adjust default to True\n",
            "  d = yf.download(TICKER, start = START_DATE, end = END_DATE)\n",
            "[*********************100%***********************]  1 of 1 completed\n"
          ]
        },
        {
          "ename": "KeyError",
          "evalue": "'Adj Close'",
          "output_type": "error",
          "traceback": [
            "\u001b[31m---------------------------------------------------------------------------\u001b[39m",
            "\u001b[31mKeyError\u001b[39m                                  Traceback (most recent call last)",
            "\u001b[36mFile \u001b[39m\u001b[32m~\\AppData\\Roaming\\Python\\Python313\\site-packages\\pandas\\core\\indexes\\base.py:3805\u001b[39m, in \u001b[36mIndex.get_loc\u001b[39m\u001b[34m(self, key)\u001b[39m\n\u001b[32m   3804\u001b[39m \u001b[38;5;28;01mtry\u001b[39;00m:\n\u001b[32m-> \u001b[39m\u001b[32m3805\u001b[39m     \u001b[38;5;28;01mreturn\u001b[39;00m \u001b[38;5;28;43mself\u001b[39;49m\u001b[43m.\u001b[49m\u001b[43m_engine\u001b[49m\u001b[43m.\u001b[49m\u001b[43mget_loc\u001b[49m\u001b[43m(\u001b[49m\u001b[43mcasted_key\u001b[49m\u001b[43m)\u001b[49m\n\u001b[32m   3806\u001b[39m \u001b[38;5;28;01mexcept\u001b[39;00m \u001b[38;5;167;01mKeyError\u001b[39;00m \u001b[38;5;28;01mas\u001b[39;00m err:\n",
            "\u001b[36mFile \u001b[39m\u001b[32mindex.pyx:167\u001b[39m, in \u001b[36mpandas._libs.index.IndexEngine.get_loc\u001b[39m\u001b[34m()\u001b[39m\n",
            "\u001b[36mFile \u001b[39m\u001b[32mindex.pyx:196\u001b[39m, in \u001b[36mpandas._libs.index.IndexEngine.get_loc\u001b[39m\u001b[34m()\u001b[39m\n",
            "\u001b[36mFile \u001b[39m\u001b[32mpandas\\\\_libs\\\\hashtable_class_helper.pxi:7081\u001b[39m, in \u001b[36mpandas._libs.hashtable.PyObjectHashTable.get_item\u001b[39m\u001b[34m()\u001b[39m\n",
            "\u001b[36mFile \u001b[39m\u001b[32mpandas\\\\_libs\\\\hashtable_class_helper.pxi:7089\u001b[39m, in \u001b[36mpandas._libs.hashtable.PyObjectHashTable.get_item\u001b[39m\u001b[34m()\u001b[39m\n",
            "\u001b[31mKeyError\u001b[39m: 'Adj Close'",
            "\nThe above exception was the direct cause of the following exception:\n",
            "\u001b[31mKeyError\u001b[39m                                  Traceback (most recent call last)",
            "\u001b[36mCell\u001b[39m\u001b[36m \u001b[39m\u001b[32mIn[64]\u001b[39m\u001b[32m, line 4\u001b[39m\n\u001b[32m      1\u001b[39m \u001b[38;5;66;03m# Now download the data for the entire 2019 year.\u001b[39;00m\n\u001b[32m      2\u001b[39m d = yf.download(TICKER, start = START_DATE, end = END_DATE)\n\u001b[32m----> \u001b[39m\u001b[32m4\u001b[39m d[\u001b[33m'\u001b[39m\u001b[33mTransaction_Volume\u001b[39m\u001b[33m'\u001b[39m] = d[\u001b[33m'\u001b[39m\u001b[33mVolume\u001b[39m\u001b[33m'\u001b[39m] * \u001b[43md\u001b[49m\u001b[43m[\u001b[49m\u001b[33;43m'\u001b[39;49m\u001b[33;43mAdj Close\u001b[39;49m\u001b[33;43m'\u001b[39;49m\u001b[43m]\u001b[49m\n\u001b[32m      6\u001b[39m \u001b[38;5;28mprint\u001b[39m(d)\n",
            "\u001b[36mFile \u001b[39m\u001b[32m~\\AppData\\Roaming\\Python\\Python313\\site-packages\\pandas\\core\\frame.py:4101\u001b[39m, in \u001b[36mDataFrame.__getitem__\u001b[39m\u001b[34m(self, key)\u001b[39m\n\u001b[32m   4099\u001b[39m \u001b[38;5;28;01mif\u001b[39;00m is_single_key:\n\u001b[32m   4100\u001b[39m     \u001b[38;5;28;01mif\u001b[39;00m \u001b[38;5;28mself\u001b[39m.columns.nlevels > \u001b[32m1\u001b[39m:\n\u001b[32m-> \u001b[39m\u001b[32m4101\u001b[39m         \u001b[38;5;28;01mreturn\u001b[39;00m \u001b[38;5;28;43mself\u001b[39;49m\u001b[43m.\u001b[49m\u001b[43m_getitem_multilevel\u001b[49m\u001b[43m(\u001b[49m\u001b[43mkey\u001b[49m\u001b[43m)\u001b[49m\n\u001b[32m   4102\u001b[39m     indexer = \u001b[38;5;28mself\u001b[39m.columns.get_loc(key)\n\u001b[32m   4103\u001b[39m     \u001b[38;5;28;01mif\u001b[39;00m is_integer(indexer):\n",
            "\u001b[36mFile \u001b[39m\u001b[32m~\\AppData\\Roaming\\Python\\Python313\\site-packages\\pandas\\core\\frame.py:4159\u001b[39m, in \u001b[36mDataFrame._getitem_multilevel\u001b[39m\u001b[34m(self, key)\u001b[39m\n\u001b[32m   4157\u001b[39m \u001b[38;5;28;01mdef\u001b[39;00m\u001b[38;5;250m \u001b[39m\u001b[34m_getitem_multilevel\u001b[39m(\u001b[38;5;28mself\u001b[39m, key):\n\u001b[32m   4158\u001b[39m     \u001b[38;5;66;03m# self.columns is a MultiIndex\u001b[39;00m\n\u001b[32m-> \u001b[39m\u001b[32m4159\u001b[39m     loc = \u001b[38;5;28;43mself\u001b[39;49m\u001b[43m.\u001b[49m\u001b[43mcolumns\u001b[49m\u001b[43m.\u001b[49m\u001b[43mget_loc\u001b[49m\u001b[43m(\u001b[49m\u001b[43mkey\u001b[49m\u001b[43m)\u001b[49m\n\u001b[32m   4160\u001b[39m     \u001b[38;5;28;01mif\u001b[39;00m \u001b[38;5;28misinstance\u001b[39m(loc, (\u001b[38;5;28mslice\u001b[39m, np.ndarray)):\n\u001b[32m   4161\u001b[39m         new_columns = \u001b[38;5;28mself\u001b[39m.columns[loc]\n",
            "\u001b[36mFile \u001b[39m\u001b[32m~\\AppData\\Roaming\\Python\\Python313\\site-packages\\pandas\\core\\indexes\\multi.py:3040\u001b[39m, in \u001b[36mMultiIndex.get_loc\u001b[39m\u001b[34m(self, key)\u001b[39m\n\u001b[32m   3037\u001b[39m     \u001b[38;5;28;01mreturn\u001b[39;00m mask\n\u001b[32m   3039\u001b[39m \u001b[38;5;28;01mif\u001b[39;00m \u001b[38;5;129;01mnot\u001b[39;00m \u001b[38;5;28misinstance\u001b[39m(key, \u001b[38;5;28mtuple\u001b[39m):\n\u001b[32m-> \u001b[39m\u001b[32m3040\u001b[39m     loc = \u001b[38;5;28;43mself\u001b[39;49m\u001b[43m.\u001b[49m\u001b[43m_get_level_indexer\u001b[49m\u001b[43m(\u001b[49m\u001b[43mkey\u001b[49m\u001b[43m,\u001b[49m\u001b[43m \u001b[49m\u001b[43mlevel\u001b[49m\u001b[43m=\u001b[49m\u001b[32;43m0\u001b[39;49m\u001b[43m)\u001b[49m\n\u001b[32m   3041\u001b[39m     \u001b[38;5;28;01mreturn\u001b[39;00m _maybe_to_slice(loc)\n\u001b[32m   3043\u001b[39m keylen = \u001b[38;5;28mlen\u001b[39m(key)\n",
            "\u001b[36mFile \u001b[39m\u001b[32m~\\AppData\\Roaming\\Python\\Python313\\site-packages\\pandas\\core\\indexes\\multi.py:3391\u001b[39m, in \u001b[36mMultiIndex._get_level_indexer\u001b[39m\u001b[34m(self, key, level, indexer)\u001b[39m\n\u001b[32m   3388\u001b[39m         \u001b[38;5;28;01mreturn\u001b[39;00m \u001b[38;5;28mslice\u001b[39m(i, j, step)\n\u001b[32m   3390\u001b[39m \u001b[38;5;28;01melse\u001b[39;00m:\n\u001b[32m-> \u001b[39m\u001b[32m3391\u001b[39m     idx = \u001b[38;5;28;43mself\u001b[39;49m\u001b[43m.\u001b[49m\u001b[43m_get_loc_single_level_index\u001b[49m\u001b[43m(\u001b[49m\u001b[43mlevel_index\u001b[49m\u001b[43m,\u001b[49m\u001b[43m \u001b[49m\u001b[43mkey\u001b[49m\u001b[43m)\u001b[49m\n\u001b[32m   3393\u001b[39m     \u001b[38;5;28;01mif\u001b[39;00m level > \u001b[32m0\u001b[39m \u001b[38;5;129;01mor\u001b[39;00m \u001b[38;5;28mself\u001b[39m._lexsort_depth == \u001b[32m0\u001b[39m:\n\u001b[32m   3394\u001b[39m         \u001b[38;5;66;03m# Desired level is not sorted\u001b[39;00m\n\u001b[32m   3395\u001b[39m         \u001b[38;5;28;01mif\u001b[39;00m \u001b[38;5;28misinstance\u001b[39m(idx, \u001b[38;5;28mslice\u001b[39m):\n\u001b[32m   3396\u001b[39m             \u001b[38;5;66;03m# test_get_loc_partial_timestamp_multiindex\u001b[39;00m\n",
            "\u001b[36mFile \u001b[39m\u001b[32m~\\AppData\\Roaming\\Python\\Python313\\site-packages\\pandas\\core\\indexes\\multi.py:2980\u001b[39m, in \u001b[36mMultiIndex._get_loc_single_level_index\u001b[39m\u001b[34m(self, level_index, key)\u001b[39m\n\u001b[32m   2978\u001b[39m     \u001b[38;5;28;01mreturn\u001b[39;00m -\u001b[32m1\u001b[39m\n\u001b[32m   2979\u001b[39m \u001b[38;5;28;01melse\u001b[39;00m:\n\u001b[32m-> \u001b[39m\u001b[32m2980\u001b[39m     \u001b[38;5;28;01mreturn\u001b[39;00m \u001b[43mlevel_index\u001b[49m\u001b[43m.\u001b[49m\u001b[43mget_loc\u001b[49m\u001b[43m(\u001b[49m\u001b[43mkey\u001b[49m\u001b[43m)\u001b[49m\n",
            "\u001b[36mFile \u001b[39m\u001b[32m~\\AppData\\Roaming\\Python\\Python313\\site-packages\\pandas\\core\\indexes\\base.py:3812\u001b[39m, in \u001b[36mIndex.get_loc\u001b[39m\u001b[34m(self, key)\u001b[39m\n\u001b[32m   3807\u001b[39m     \u001b[38;5;28;01mif\u001b[39;00m \u001b[38;5;28misinstance\u001b[39m(casted_key, \u001b[38;5;28mslice\u001b[39m) \u001b[38;5;129;01mor\u001b[39;00m (\n\u001b[32m   3808\u001b[39m         \u001b[38;5;28misinstance\u001b[39m(casted_key, abc.Iterable)\n\u001b[32m   3809\u001b[39m         \u001b[38;5;129;01mand\u001b[39;00m \u001b[38;5;28many\u001b[39m(\u001b[38;5;28misinstance\u001b[39m(x, \u001b[38;5;28mslice\u001b[39m) \u001b[38;5;28;01mfor\u001b[39;00m x \u001b[38;5;129;01min\u001b[39;00m casted_key)\n\u001b[32m   3810\u001b[39m     ):\n\u001b[32m   3811\u001b[39m         \u001b[38;5;28;01mraise\u001b[39;00m InvalidIndexError(key)\n\u001b[32m-> \u001b[39m\u001b[32m3812\u001b[39m     \u001b[38;5;28;01mraise\u001b[39;00m \u001b[38;5;167;01mKeyError\u001b[39;00m(key) \u001b[38;5;28;01mfrom\u001b[39;00m\u001b[38;5;250m \u001b[39m\u001b[34;01merr\u001b[39;00m\n\u001b[32m   3813\u001b[39m \u001b[38;5;28;01mexcept\u001b[39;00m \u001b[38;5;167;01mTypeError\u001b[39;00m:\n\u001b[32m   3814\u001b[39m     \u001b[38;5;66;03m# If we have a listlike key, _check_indexing_error will raise\u001b[39;00m\n\u001b[32m   3815\u001b[39m     \u001b[38;5;66;03m#  InvalidIndexError. Otherwise we fall through and re-raise\u001b[39;00m\n\u001b[32m   3816\u001b[39m     \u001b[38;5;66;03m#  the TypeError.\u001b[39;00m\n\u001b[32m   3817\u001b[39m     \u001b[38;5;28mself\u001b[39m._check_indexing_error(key)\n",
            "\u001b[31mKeyError\u001b[39m: 'Adj Close'"
          ]
        }
      ],
      "source": [
        "# Now download the data for the entire 2019 year.\n",
        "d = yf.download(TICKER, start = START_DATE, end = END_DATE)\n",
        "\n",
        "d['Transaction_Volume'] = d['Volume'] * d['Adj Close']\n",
        "\n",
        "print(d)"
      ]
    },
    {
      "cell_type": "code",
      "execution_count": null,
      "metadata": {
        "colab": {
          "base_uri": "https://localhost:8080/"
        },
        "id": "ue0WFHzptr3B",
        "outputId": "6bd8f5f4-d01b-483e-fe7d-da471fe1d9f0"
      },
      "outputs": [],
      "source": [
        "# Downloaded data are saved as a dataframe\n",
        "type(d)"
      ]
    },
    {
      "cell_type": "code",
      "execution_count": null,
      "metadata": {
        "colab": {
          "base_uri": "https://localhost:8080/",
          "height": 394
        },
        "id": "CR-ZPmPJkyzb",
        "outputId": "3195962f-b86a-4a57-d815-f82db34ecfc3"
      },
      "outputs": [],
      "source": [
        "# Use seaborn style defaults and set the default figure size\n",
        "sns.set_style(rc = {'figure.figsize': (12, 6)})\n",
        "\n",
        "d['Transaction_Volume'].plot(linewidth = 0.5);"
      ]
    },
    {
      "cell_type": "markdown",
      "metadata": {
        "id": "B7LQCF43kyzb"
      },
      "source": [
        "#### The NYSE tickers\n",
        "\n",
        "From the relative [nasdaq.com](http://www.nasdaq.com/screening/company-list.aspx) page we download all the information related to the market capitalization, sector and industry...\n",
        "\n",
        "Discontinued: the top-cap companies have been downloaded in the `data` section, use `!head companylist.csv` to visualise, OR SIMPLY USE THE Pandas version below."
      ]
    },
    {
      "cell_type": "markdown",
      "metadata": {
        "id": "ikO62_jBkyzc"
      },
      "source": [
        "### Get Stock Labels, Sector and Industries"
      ]
    },
    {
      "cell_type": "code",
      "execution_count": null,
      "metadata": {},
      "outputs": [],
      "source": [
        "DATAFILE = \"./data/list_stocks_50B_6_may_2016.txt\""
      ]
    },
    {
      "cell_type": "code",
      "execution_count": null,
      "metadata": {
        "id": "PUdNVkPqkyzd"
      },
      "outputs": [],
      "source": [
        "# Get stock data from the text file\n",
        "f = open(DATAFILE, 'r')\n",
        "\n",
        "list_stocks = []\n",
        "\n",
        "while True:\n",
        "    next_line = f.readline()\n",
        "    if not next_line: break\n",
        "    # print(next_line.split('\\t'))\n",
        "    list_stocks.append(tuple(next_line.split('\\t')[:-1]))\n",
        "\n",
        "f.close()\n",
        "\n",
        "# a huge dump of all stocks, uncomment only if needed\n",
        "for stock in list_stocks:\n",
        "    print(stock)\n"
      ]
    },
    {
      "cell_type": "code",
      "execution_count": null,
      "metadata": {},
      "outputs": [],
      "source": [
        "# Alternatively, you could use an easier to read DataFrame structure\n",
        "stocks = pd.read_csv(DATAFILE, sep = '\\t', names = ['Ticker', 'Name', 'Sector', 'Industry', 'Ukn']) "
      ]
    },
    {
      "cell_type": "code",
      "execution_count": null,
      "metadata": {},
      "outputs": [],
      "source": [
        "stocks.head()"
      ]
    },
    {
      "cell_type": "code",
      "execution_count": null,
      "metadata": {
        "id": "97o5Kd1R3DxC"
      },
      "outputs": [],
      "source": [
        "# This code must stay commented as yahoo financials has some api issues.\n",
        "# We have used the file with the required data above. \n",
        "\n",
        "# # get values\n",
        "# # May 6th 2016\n",
        "# # greater than 50B$\n",
        "# cap_threshold = 50_000_000_000\n",
        "# hfile = open(\"companylist.csv\", 'r')\n",
        "\n",
        "# list_stocks = []\n",
        "# nextline = hfile.readline()\n",
        "\n",
        "# while True:\n",
        "#     nextline = hfile.readline()\n",
        "#     if not nextline:\n",
        "#         break\n",
        "        \n",
        "#     line = nextline.split(',')\n",
        "#     sym = line[0][1:-1]\n",
        "\n",
        "#     # Skip entries with \"^\" in stock name\n",
        "#     if sym.find(\"^\") != -1:\n",
        "#         continue\n",
        "\n",
        "#     share = YahooFinancials(sym) # this cause an issue\n",
        "#     y_market_cap = None\n",
        "\n",
        "#     try:\n",
        "#         y_market_cap = share.get_market_cap()\n",
        "#     except:\n",
        "#         y_market_cap = None\n",
        "#         print(f\"No link for {sym}\")\n",
        "#     # y_market_cap1=y_m\n",
        "    \n",
        "#     if not y_market_cap:\n",
        "#         print(f\"No market cap found for {sym}\")\n",
        "#         continue\n",
        "    \n",
        "#     # We will exclude stocks with char ’^’ that will\n",
        "#     # give errors in the query process\n",
        "#     if y_market_cap > cap_threshold:\n",
        "#         print(sym, y_market_cap, line)\n",
        "#         stock_data = (line[0][1:-1], line[1][1:-1], line[5][1:-1], line[6][1:-1])\n",
        "#         list_stocks.append(stock_data)\n",
        "#     time.sleep(1)\n",
        "\n",
        "# hfile.close()\n",
        "# print(list_stocks[0])"
      ]
    },
    {
      "cell_type": "markdown",
      "metadata": {
        "id": "AcZ_p7s-kyze"
      },
      "source": [
        "#### Generate dictionaries for companies, sectors and colors"
      ]
    },
    {
      "cell_type": "code",
      "execution_count": null,
      "metadata": {
        "colab": {
          "base_uri": "https://localhost:8080/"
        },
        "id": "3HUgYqJLkyze",
        "outputId": "3a41551d-8f14-431d-aae7-357351142bd8"
      },
      "outputs": [],
      "source": [
        "dict_sectors = {}\n",
        "\n",
        "for s in list_stocks:\n",
        "    # print(s)\n",
        "    dict_sectors[s[0]] = s[2]\n",
        "\n",
        "list_ranking = []\n",
        "\n",
        "for s in set(dict_sectors.values()):\n",
        "    count = 0\n",
        "    \n",
        "    for key in dict_sectors:\n",
        "        if s in dict_sectors[key]:\n",
        "            count += 1\n",
        "    \n",
        "    list_ranking.append((count,s))\n",
        "    \n",
        "list_ranking.sort(reverse = True)\n",
        "\n",
        "# list_colors=['red','green','blue','black''cyan','magenta','yellow'] \n",
        "list_colors = ['0.0', '0.2', '0.4', '0.6', '0.7', '0.8', '0.9'] \n",
        "\n",
        "# 'white' is an extra color for 'n/a' and 'other' sectors\n",
        "dict_colors = {}\n",
        "\n",
        "# association color and more represented sectors\n",
        "for s in list_ranking:\n",
        "    if s[1] == 'n/a': \n",
        "        dict_colors[s[1]] = 'white'\n",
        "        continue\n",
        "    \n",
        "    if list_colors == []: \n",
        "        dict_colors[s[1]] = 'white'\n",
        "        continue\n",
        "    \n",
        "    dict_colors[s[1]] = list_colors.pop(0)\n",
        "\n",
        "print(list_ranking)"
      ]
    },
    {
      "cell_type": "code",
      "execution_count": null,
      "metadata": {},
      "outputs": [],
      "source": [
        "# Here you could refactor the sector dictionary like this:\n",
        "sd = {k:v for k,v in zip(stocks.Ticker, stocks.Sector)}\n",
        "\n",
        "sd"
      ]
    },
    {
      "cell_type": "markdown",
      "metadata": {
        "id": "KzbUTH-ekyze"
      },
      "source": [
        "### Retrieving historical data\n",
        "\n",
        "Ticker by ticker, we download the historical data from Yahoo! Finance.\n",
        "The cell below will take time to run. \n",
        "\n",
        "Example: `AEK` is not listed anymore, while `BABA` is in the NSYE top-cap only since Sep. 2014.\n"
      ]
    },
    {
      "cell_type": "code",
      "execution_count": null,
      "metadata": {
        "colab": {
          "base_uri": "https://localhost:8080/"
        },
        "id": "OgTyV3Xmkyzf",
        "outputId": "8bb1fd00-6682-45ce-b623-89a447cdb497"
      },
      "outputs": [],
      "source": [
        "dict_comp = {}\n",
        "\n",
        "for s in list_stocks:\n",
        "    print(s[0])\n",
        "    \n",
        "    #stock = yf.Ticker(s[0])\n",
        "    #diz_comp[s[0]]=stock.history(\"1mo\")\n",
        "    dict_comp[s[0]] = yf.download((s[0]), start = \"2013-05-01\", end = \"2014-05-31\")\n",
        "\n",
        "# create dictionaries of time series for each company"
      ]
    },
    {
      "cell_type": "code",
      "execution_count": null,
      "metadata": {},
      "outputs": [],
      "source": [
        "# this is a dict of DataFrames: let's look inside, for example the well-known 3M company\n",
        "\n",
        "dict_comp['MMM'][0:5]"
      ]
    },
    {
      "cell_type": "code",
      "execution_count": null,
      "metadata": {
        "colab": {
          "base_uri": "https://localhost:8080/"
        },
        "id": "GU6fyF4Akyzf",
        "outputId": "68b880d9-8d35-47a4-9365-4d96876ad938"
      },
      "outputs": [],
      "source": [
        "dict_historical = {} # this is a dict of tickers: Pd.Series of Closing Prices (how many days have the companies been traded?)\n",
        "\n",
        "for k in list(dict_comp.keys()):\n",
        "    tmp = dict_comp[k]\n",
        "    dict_historical[k] = tmp['Close']\n",
        "    \"\"\"\n",
        "    for e in diz_comp[k]:\n",
        "        print(e)\n",
        "        # string indices must be integers\n",
        "        #diz_historical[k][e['Date']]=e['Close'] \n",
        "        #print(e)\n",
        "        #diz_historical[k][e[0]]=e[4] \n",
        "    \"\"\"\n",
        "\n",
        "for k in list(dict_historical.keys()):\n",
        "    print(k, len(dict_historical[k]))"
      ]
    },
    {
      "cell_type": "code",
      "execution_count": null,
      "metadata": {},
      "outputs": [],
      "source": [
        "dict_historical['MMM']"
      ]
    },
    {
      "cell_type": "markdown",
      "metadata": {
        "id": "Llp0C4Dskyzf"
      },
      "source": [
        "###  Calculation of the logreturns\n",
        "\n",
        "Let's visualise a company"
      ]
    },
    {
      "cell_type": "code",
      "execution_count": null,
      "metadata": {},
      "outputs": [],
      "source": [
        "REF_COMPANY = 'MMM'"
      ]
    },
    {
      "cell_type": "code",
      "execution_count": null,
      "metadata": {
        "colab": {
          "base_uri": "https://localhost:8080/"
        },
        "id": "UnjlLCp6kyzg",
        "outputId": "abb801b0-6434-491b-ec65-4334caaa5207"
      },
      "outputs": [],
      "source": [
        "\n",
        "dict_returns = {}\n",
        "\n",
        "d = dict_historical[REF_COMPANY].keys()\n",
        "\n",
        "# d.sort()\n",
        "# print(len(d),d)\n",
        "\n",
        "for c in dict_historical:\n",
        "    \n",
        "    # check if the company has the whole set of dates\n",
        "    if len(dict_historical[c].keys()) < len(d):\n",
        "        continue\n",
        "    \n",
        "    dict_returns[c] = {}\n",
        "    for i in range(1, len(d)):\n",
        "        # price returns\n",
        "        return_t = math.log(float(dict_historical[c][d[i]]))\n",
        "        \n",
        "        return_t_1 = math.log(float(dict_historical[c][d[i-1]]))\n",
        "        \n",
        "        dict_returns[c][d[i]] = return_t - return_t_1\n",
        "\n",
        "print(dict_returns[REF_COMPANY])"
      ]
    },
    {
      "cell_type": "markdown",
      "metadata": {
        "id": "NSViZAE2kyzg"
      },
      "source": [
        "#### Basic Statistics and the Correlation Coefficient\n",
        "\n",
        "For fun's sake, we define our own aggretated stats, including Pearson's correlation coefficient.\n",
        "\n",
        "\\begin{equation*}\n",
        "  \\rho =\n",
        "  \\frac{ \\sum_{i=1}^{n}(x_i-\\bar{x})(y_i-\\bar{y}) }{%\n",
        "        \\sqrt{\\sum_{i=1}^{n}(x_i-\\bar{x})^2}\\sqrt{\\sum_{i=1}^{n}(y_i-\\bar{y})^2}}\n",
        "\\end{equation*}"
      ]
    },
    {
      "cell_type": "code",
      "execution_count": null,
      "metadata": {
        "id": "XyK4Zx6Ckyzg"
      },
      "outputs": [],
      "source": [
        "# mean\n",
        "def mean(X):\n",
        "    m = 0.0\n",
        "    for i in X:\n",
        "        m += i\n",
        "    return m / len(X)\n",
        "\n",
        "# covariance\n",
        "def covariance(X, Y):\n",
        "    c = 0.0\n",
        "    m_X = mean(X)\n",
        "    m_Y = mean(Y)\n",
        "    for i in range(len(X)):\n",
        "        c = c + (X[i] - m_X) * (Y[i] - m_Y)\n",
        "    return c / len(X)\n",
        "\n",
        "# pearson correlation coefficient\n",
        "def pearson(X, Y):\n",
        "    return covariance(X,Y) / (covariance(X,X)**0.5 * covariance(Y,Y)**0.5)"
      ]
    },
    {
      "cell_type": "markdown",
      "metadata": {
        "id": "SGYfSDT0kyzg"
      },
      "source": [
        "### Correlation of returns\n",
        "\n",
        "For an example, let's explore the correlation between the returns of two companies: 3M and Union Pacific."
      ]
    },
    {
      "cell_type": "code",
      "execution_count": null,
      "metadata": {},
      "outputs": [],
      "source": [
        "\n",
        "REF_COMPANY2 = \"UNP\""
      ]
    },
    {
      "cell_type": "code",
      "execution_count": null,
      "metadata": {
        "colab": {
          "base_uri": "https://localhost:8080/"
        },
        "id": "rzbYSoBJkyzh",
        "outputId": "89483a75-1934-49a1-d395-d79cf7108f38"
      },
      "outputs": [],
      "source": [
        "def stocks_corr_coeff(h1, h2):\n",
        "    \n",
        "    l1 = []\n",
        "    l2 = []\n",
        "    \n",
        "    intersec_dates = set(h1.keys()).intersection(set(h2.keys()))\n",
        "    \n",
        "    for d in intersec_dates:\n",
        "        l1.append(float(h1[d]))\n",
        "        l2.append(float(h2[d]))\n",
        "        \n",
        "    # correlation with the same company has to be 1!        \n",
        "    return pearson(l1, l2)\n"
      ]
    },
    {
      "cell_type": "code",
      "execution_count": null,
      "metadata": {},
      "outputs": [],
      "source": [
        "correl = stocks_corr_coeff(\n",
        "    dict_returns[REF_COMPANY],\n",
        "    dict_returns[REF_COMPANY2]\n",
        "    )\n",
        "\n",
        "print(correl)"
      ]
    },
    {
      "cell_type": "markdown",
      "metadata": {
        "id": "gX9zZYKVkyzh"
      },
      "source": [
        "### Build the correlation Network"
      ]
    },
    {
      "cell_type": "code",
      "execution_count": null,
      "metadata": {
        "colab": {
          "base_uri": "https://localhost:8080/",
          "height": 552
        },
        "id": "mDPe0ZhKkyzh",
        "outputId": "145f33c6-24fe-4be2-cfde-929d00f1101d"
      },
      "outputs": [],
      "source": [
        "corr_network = nx.Graph()\n",
        "\n",
        "list_of_comp = [keys for keys in dict_returns]\n",
        "\n",
        "print(list_of_comp)\n",
        "\n",
        "num_companies = len(dict_returns.keys())\n",
        "\n",
        "print(num_companies)\n",
        "\n",
        "for i1 in range(num_companies - 1):\n",
        "\n",
        "    for i2 in range(i1 + 1, num_companies):\n",
        "\n",
        "        stock1 = list_of_comp[i1]\n",
        "        \n",
        "        stock2 = list_of_comp[i2]\n",
        "\n",
        "        # metric distance\n",
        "        corr = stocks_corr_coeff(dict_returns[stock1], dict_returns[stock2])\n",
        "        \n",
        "        metric_distance = math.sqrt(2*(1.0 - corr))\n",
        "        # building the network\n",
        "        corr_network.add_edge(stock1, stock2, weight = metric_distance)\n",
        "\n",
        "print(\"number of nodes:\", corr_network.number_of_nodes())\n",
        "print(\"number of edges:\", corr_network.number_of_edges())\n",
        "\n",
        "nx.draw(corr_network, with_labels = True)"
      ]
    },
    {
      "cell_type": "markdown",
      "metadata": {
        "id": "lilPOW5dkyzh"
      },
      "source": [
        "### Extract the Minimum Spanning Tree with [Prim's algorithm](http://en.wikipedia.org/wiki/Prim%27s_algorithm)\n",
        "\n",
        "We arbitrarily root the MST in `MMM`."
      ]
    },
    {
      "cell_type": "code",
      "execution_count": null,
      "metadata": {},
      "outputs": [],
      "source": [
        "tree_seed = REF_COMPANY"
      ]
    },
    {
      "cell_type": "code",
      "execution_count": null,
      "metadata": {
        "id": "pBqFiavvkyzh"
      },
      "outputs": [],
      "source": [
        "N_new = []\n",
        "\n",
        "E_new = []\n",
        "\n",
        "N_new.append(tree_seed)\n",
        "\n",
        "while len(N_new) < corr_network.number_of_nodes():\n",
        "    \n",
        "    min_weight = 10_000_000.0\n",
        "    \n",
        "    for n in N_new:\n",
        "        for n_adj in corr_network.neighbors(n):\n",
        "            if not n_adj in N_new:\n",
        "                if corr_network[n][n_adj]['weight'] < min_weight:\n",
        "                    \n",
        "                    min_weight = corr_network[n][n_adj]['weight']\n",
        "                    \n",
        "                    min_weight_edge = (n,n_adj)\n",
        "                    \n",
        "                    n_adj_ext = n_adj\n",
        "                    \n",
        "    E_new.append(min_weight_edge)\n",
        "    N_new.append(n_adj_ext)\n",
        "\n",
        "# generate the tree from the edge list\n",
        "tree_graph = nx.Graph()\n",
        "\n",
        "tree_graph.add_edges_from(E_new)\n",
        "\n",
        "# setting the color attributes for the network nodes\n",
        "for n in tree_graph.nodes():\n",
        "    tree_graph.nodes[n]['color'] = dict_colors[dict_sectors[n]]"
      ]
    },
    {
      "cell_type": "code",
      "execution_count": null,
      "metadata": {},
      "outputs": [],
      "source": [
        "#this is a simpler representation if you have issues with graphviz\n",
        "\n",
        "nx.draw(tree_graph, with_labels = True)"
      ]
    },
    {
      "cell_type": "markdown",
      "metadata": {
        "id": "QpwaReWekyzh"
      },
      "source": [
        "#### Printing the Financial MST with Graphviz\n",
        "\n",
        "The cell below spans the full force of `Graphviz`; it might require further module installations such as `pydot` and `neato`.\n",
        "\n",
        "To avoid issues with the *very tricky* `pygraphviz` installation, the static output for the period studied in the textbook, i.e., the years running up to 31 May 2014.\n",
        "\n",
        "In the MST representation below we notice the emergence of a few hubs which are easy to interpret. For instance, one is around Honewell (`HON`), which is an industry/defense company, another is Wells Fargo (`WFC`) which is where a branch stems. Finally, BlackRock (`BLK`) is a big hub of financial tickers.\n",
        "\n",
        "The most intresting insights are *across industries:* for example Johnson & Johnson (`JNJ`) is connected both to pharma, e.g., Pfizer (`PFE`), and to retail, e.g., Colgate (`CL`)."
      ]
    },
    {
      "cell_type": "code",
      "execution_count": null,
      "metadata": {
        "colab": {
          "base_uri": "https://localhost:8080/",
          "height": 1000
        },
        "id": "TPNn4nKJkyzi",
        "outputId": "f4825742-959f-4ab1-bb42-7ebe1c6e11d5"
      },
      "outputs": [],
      "source": [
        "# Pygraphviz solution:\n",
        "# pos = nx.nx_agraph.graphviz_layout(tree_graph)\n",
        "\n",
        "# graphviz solution:\n",
        "pos = graphviz_layout(\n",
        "    tree_graph,\n",
        "    prog = 'dot'\n",
        "    )\n",
        "\n",
        "\n",
        "plt.figure(figsize = (20, 20))\n",
        "\n",
        "nx.draw_networkx_edges(\n",
        "    tree_graph,\n",
        "    pos,\n",
        "    width = 2, \n",
        "    edge_color = 'black', \n",
        "    alpha = 0.5, \n",
        "    style = 'solid'\n",
        "    )\n",
        "\n",
        "nx.draw_networkx_labels(tree_graph, pos)\n",
        "\n",
        "for n in tree_graph.nodes():\n",
        "    nx.draw_networkx_nodes(\n",
        "        tree_graph, pos, [n], node_size = 600, alpha = 0.5, \n",
        "        node_color=tree_graph.nodes[n]['color']\n",
        "        )\n",
        "\n",
        "plt.axis('off')\n",
        "\n",
        "#plt.savefig('MST_50B_new.png', dpi=600)\n"
      ]
    },
    {
      "cell_type": "markdown",
      "metadata": {},
      "source": [
        "![](./imgs/MSTFinancialNetwork.png)"
      ]
    }
  ],
  "metadata": {
    "colab": {
      "provenance": []
    },
    "kernelspec": {
      "display_name": "Python 3",
      "language": "python",
      "name": "python3"
    },
    "language_info": {
      "codemirror_mode": {
        "name": "ipython",
        "version": 3
      },
      "file_extension": ".py",
      "mimetype": "text/x-python",
      "name": "python",
      "nbconvert_exporter": "python",
      "pygments_lexer": "ipython3",
      "version": "3.13.5"
    }
  },
  "nbformat": 4,
  "nbformat_minor": 0
}
