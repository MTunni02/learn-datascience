{
 "cells": [
  {
   "cell_type": "markdown",
   "metadata": {},
   "source": [
    "#### Introduction to Random mumber generation with computers\n",
    "\n",
    "##### Von Neumann's [middle-square method](https://en.wikipedia.org/wiki/Middle-square_method) "
   ]
  },
  {
   "cell_type": "code",
   "execution_count": null,
   "metadata": {},
   "outputs": [],
   "source": [
    "\n",
    "# the seed must come from outside, be unrelated.\n",
    "# this is Alberto's street number\n",
    "seed = 47\n",
    "\n",
    "# let's generate a fixed quantity of samples\n",
    "\n",
    "SAMPLES = 100\n",
    "\n",
    "# initialise the seed\n",
    "# which won't be revealed\n",
    "trailer = seed\n",
    "\n",
    "for _ in range(SAMPLES): \n",
    "    \n",
    "    new_value = trailer**2\n",
    "    \n",
    "    # a string can be indexed\n",
    "    string_version = str(new_value)\n",
    "    \n",
    "    # print the central digits\n",
    "    print(string_version[1 : 3])\n",
    "\n",
    "    # Original: use the output as the new seed      \n",
    "    #trailer = int(string_version[1 : 3])\n",
    "    \n",
    "    # MOD: use the integer corresponding to the last 4 digits      \n",
    "    trailer = int(string_version[-4 : ])\n"
   ]
  },
  {
   "cell_type": "markdown",
   "metadata": {},
   "source": [
    "#### Issues with random\n",
    "\n",
    "We are using *deterministic* machinery to generate values that are valuable only because they are non-deterministic.\n",
    "\n",
    "The issue of *periodicity*: if a number is ever repeated, the output will be deterministic from there on"
   ]
  },
  {
   "cell_type": "markdown",
   "metadata": {},
   "source": [
    "### Random-number generation in Python \n",
    "\n",
    "```bash\n",
    "pip install random\n",
    "```\n",
    "\n",
    "Thanks to the *random* module we don't have to worry about bias in  data sampling!"
   ]
  },
  {
   "cell_type": "markdown",
   "metadata": {},
   "source": [
    "#### Computers play games\n",
    "\n",
    "A sequence is random when it seems impossible to predict the next number in the sequence.\n",
    "\n",
    "Randomness bring fun to some games, like the lottery or tombola.\n",
    "\n",
    "Fix N to be the largest possible integer. \n",
    "\n",
    "With [Lotto](https://en.wikipedia.org/wiki/Lottery) and [Tombola](https://en.wikipedia.org/wiki/Tombola_(game)) games this is often set to 90. \n",
    "\n",
    "Potential problem: a number could come out twice. Or never.\n",
    "\n",
    "See the relevant documentation to see how ``random`` supports tombola-like extractions without replacement."
   ]
  },
  {
   "cell_type": "code",
   "execution_count": null,
   "metadata": {},
   "outputs": [],
   "source": [
    "import random as rand\n",
    "\n",
    "N = 90\n",
    "\n",
    "for _ in range(SAMPLES):\n",
    "    print(int(rand.random()*N))"
   ]
  },
  {
   "cell_type": "markdown",
   "metadata": {},
   "source": [
    "## Visualising randomness and noise\n",
    "\n",
    "Please see this section only after having seen the ``matplolib`` notebook.\n",
    "\n",
    "The ``scikit-learn`` module is in use but only as a way to obtain the data; it can be studied later."
   ]
  },
  {
   "cell_type": "markdown",
   "metadata": {
    "collapsed": false
   },
   "source": [
    "#### The Olivetti faces benchmark\n",
    "\n",
    "The Olivetti faces benchmark is a set of 400 images of grayscale mugshots. \n",
    "\n",
    "They come as Numpy arrays of shape (400, 64, 64), where each value in the [0..255] range (0=black and 255=white). "
   ]
  },
  {
   "cell_type": "code",
   "execution_count": null,
   "metadata": {},
   "outputs": [],
   "source": [
    "import numpy as np\n",
    "\n",
    "from matplotlib import pyplot as plt"
   ]
  },
  {
   "cell_type": "code",
   "execution_count": null,
   "metadata": {
    "collapsed": false,
    "pycharm": {
     "name": "#%%\n"
    }
   },
   "outputs": [],
   "source": [
    "from sklearn.datasets import fetch_olivetti_faces"
   ]
  },
  {
   "cell_type": "code",
   "execution_count": null,
   "metadata": {
    "collapsed": false,
    "pycharm": {
     "name": "#%%\n"
    }
   },
   "outputs": [],
   "source": [
    "faces = fetch_olivetti_faces(shuffle=True, random_state=42)\n",
    "\n",
    "dir(faces)"
   ]
  },
  {
   "cell_type": "code",
   "execution_count": null,
   "metadata": {
    "collapsed": false,
    "pycharm": {
     "name": "#%%\n"
    }
   },
   "outputs": [],
   "source": [
    "olivetti_images = faces.images\n",
    "\n",
    "image = None"
   ]
  },
  {
   "cell_type": "markdown",
   "metadata": {
    "collapsed": false
   },
   "source": [
    "##### Explore the image dataset\n",
    "\n",
    "Let's create a ``matplotlib`` rendering of a random selection of the *Olivetti faces*\n"
   ]
  },
  {
   "cell_type": "code",
   "execution_count": 10,
   "metadata": {},
   "outputs": [],
   "source": [
    "ROWS = 4\n",
    "\n",
    "COLS = 3"
   ]
  },
  {
   "cell_type": "code",
   "execution_count": null,
   "metadata": {
    "collapsed": false,
    "pycharm": {
     "name": "#%%\n"
    }
   },
   "outputs": [],
   "source": [
    "fig, axes = plt.subplots(nrows=ROWS, ncols=COLS, figsize=(10, 14))\n",
    "\n",
    "for ax, img in zip(axes.flat, olivetti_images):\n",
    "    image = ax.imshow(img, cmap=\"gray\")\n",
    "    fig.suptitle(\"A selection of Olivetti Faces\", size=16)\n",
    "    ax.axis(\"off\")\n",
    "\n",
    "if image is not None:\n",
    "    fig.colorbar(image, ax=axes, orientation=\"horizontal\", shrink=0.99, aspect=40, pad=0.01)\n",
    "    \n",
    "plt.show()"
   ]
  },
  {
   "cell_type": "markdown",
   "metadata": {
    "collapsed": false
   },
   "source": [
    "#### Add noise by sampling a Gaussian distribution\n",
    "\n",
    "We visualise the effect of Gaussian noise by adding it to the original images and visualising them. \n",
    "\n",
    "How much noise can we add before the images become unrecognisable?\n",
    "\n",
    "Try changing ``STD`` (the $\\sigma$ of the distribution) and rerun to see how the images change."
   ]
  },
  {
   "cell_type": "code",
   "execution_count": 17,
   "metadata": {},
   "outputs": [],
   "source": [
    "MEAN = 0.0\n",
    "\n",
    "STD = 0.1"
   ]
  },
  {
   "cell_type": "code",
   "execution_count": null,
   "metadata": {
    "collapsed": false,
    "pycharm": {
     "name": "#%%\n"
    }
   },
   "outputs": [],
   "source": [
    "fig, axes = plt.subplots(nrows=ROWS, ncols=COLS, figsize=(10, 14))\n",
    "\n",
    "for ax, img in zip(axes.flat, olivetti_images):\n",
    "    image = img + np.random.normal(loc=MEAN, scale=STD, size=(64, 64))\n",
    "    image = ax.imshow(image, cmap=\"gray\")\n",
    "    fig.suptitle(\"Olivetti Faces\", size=16)\n",
    "    ax.axis(\"off\")\n",
    "\n",
    "if image is not None:\n",
    "    fig.colorbar(image, ax=axes, orientation=\"horizontal\", shrink=0.99, aspect=40, pad=0.01)\n",
    "    \n",
    "plt.show()"
   ]
  }
 ],
 "metadata": {
  "kernelspec": {
   "display_name": "Python 3",
   "language": "python",
   "name": "python3"
  },
  "language_info": {
   "codemirror_mode": {
    "name": "ipython",
    "version": 3
   },
   "file_extension": ".py",
   "mimetype": "text/x-python",
   "name": "python",
   "nbconvert_exporter": "python",
   "pygments_lexer": "ipython3",
   "version": "3.13.3"
  }
 },
 "nbformat": 4,
 "nbformat_minor": 2
}
